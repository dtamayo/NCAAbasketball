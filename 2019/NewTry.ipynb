{
 "cells": [
  {
   "cell_type": "code",
   "execution_count": 11,
   "metadata": {},
   "outputs": [
    {
     "data": {
      "text/html": [
       "<div>\n",
       "<style scoped>\n",
       "    .dataframe tbody tr th:only-of-type {\n",
       "        vertical-align: middle;\n",
       "    }\n",
       "\n",
       "    .dataframe tbody tr th {\n",
       "        vertical-align: top;\n",
       "    }\n",
       "\n",
       "    .dataframe thead th {\n",
       "        text-align: right;\n",
       "    }\n",
       "</style>\n",
       "<table border=\"1\" class=\"dataframe\">\n",
       "  <thead>\n",
       "    <tr style=\"text-align: right;\">\n",
       "      <th></th>\n",
       "      <th>Season</th>\n",
       "      <th>RankingDayNum</th>\n",
       "      <th>SystemName</th>\n",
       "      <th>TeamID</th>\n",
       "      <th>OrdinalRank</th>\n",
       "    </tr>\n",
       "  </thead>\n",
       "  <tbody>\n",
       "    <tr>\n",
       "      <th>3492315</th>\n",
       "      <td>2018</td>\n",
       "      <td>133</td>\n",
       "      <td>ZAM</td>\n",
       "      <td>1460</td>\n",
       "      <td>132</td>\n",
       "    </tr>\n",
       "    <tr>\n",
       "      <th>3492316</th>\n",
       "      <td>2018</td>\n",
       "      <td>133</td>\n",
       "      <td>ZAM</td>\n",
       "      <td>1461</td>\n",
       "      <td>95</td>\n",
       "    </tr>\n",
       "    <tr>\n",
       "      <th>3492317</th>\n",
       "      <td>2018</td>\n",
       "      <td>133</td>\n",
       "      <td>ZAM</td>\n",
       "      <td>1462</td>\n",
       "      <td>14</td>\n",
       "    </tr>\n",
       "    <tr>\n",
       "      <th>3492318</th>\n",
       "      <td>2018</td>\n",
       "      <td>133</td>\n",
       "      <td>ZAM</td>\n",
       "      <td>1463</td>\n",
       "      <td>216</td>\n",
       "    </tr>\n",
       "    <tr>\n",
       "      <th>3492319</th>\n",
       "      <td>2018</td>\n",
       "      <td>133</td>\n",
       "      <td>ZAM</td>\n",
       "      <td>1464</td>\n",
       "      <td>328</td>\n",
       "    </tr>\n",
       "  </tbody>\n",
       "</table>\n",
       "</div>"
      ],
      "text/plain": [
       "         Season  RankingDayNum SystemName  TeamID  OrdinalRank\n",
       "3492315    2018            133        ZAM    1460          132\n",
       "3492316    2018            133        ZAM    1461           95\n",
       "3492317    2018            133        ZAM    1462           14\n",
       "3492318    2018            133        ZAM    1463          216\n",
       "3492319    2018            133        ZAM    1464          328"
      ]
     },
     "execution_count": 11,
     "metadata": {},
     "output_type": "execute_result"
    }
   ],
   "source": [
    "import pandas as pd\n",
    "import numpy as np\n",
    "   \n",
    "tourney_df = pd.read_csv(\"data/MasseyOrdinals.csv\")\n",
    "tourney_df.tail()"
   ]
  },
  {
   "cell_type": "code",
   "execution_count": 6,
   "metadata": {},
   "outputs": [
    {
     "data": {
      "text/plain": [
       "Index(['Season', 'Daynum', 'Wteam', 'Wscore', 'Lteam', 'Lscore', 'Wloc',\n",
       "       'Numot', 'team0Win', 'team0',\n",
       "       ...\n",
       "       'WMR1', 'PPR1', 'MPI1', 'STS1', 'UPS1', 'SPR1', 'MvG1', 'TRK1', 'BWE1',\n",
       "       'tourneylike'],\n",
       "      dtype='object', length=277)"
      ]
     },
     "execution_count": 6,
     "metadata": {},
     "output_type": "execute_result"
    }
   ],
   "source": [
    "tourney_df.columns"
   ]
  },
  {
   "cell_type": "code",
   "execution_count": 2,
   "metadata": {},
   "outputs": [],
   "source": [
    "tourney_df = tourney_df.fillna(-1000000)"
   ]
  },
  {
   "cell_type": "markdown",
   "metadata": {},
   "source": [
    "# Choosing Features to Use for Model"
   ]
  },
  {
   "cell_type": "markdown",
   "metadata": {},
   "source": [
    "# Only execute one of following two cells\n",
    "\n",
    "Use first cell to use all the features available in the submission file.  After running through notebook once, can look at best features found by random forest and edit this."
   ]
  },
  {
   "cell_type": "code",
   "execution_count": 3,
   "metadata": {},
   "outputs": [],
   "source": [
    "systems = ['SAG', 'MOR', 'WLK', 'POM', 'DOL', 'RPI', 'DOK', 'PGH']\n",
    "teamfList = systems\n",
    "featureList = []\n",
    "for f in teamfList:\n",
    "    featureList.append(f+'0')\n",
    "    featureList.append(f+'1')\n",
    "featureList = ['ACU0', 'BBT0', 'BWE0', 'DOK0', 'KPK0', 'MAS0', 'MOR0', 'PGH0', 'PIG0', 'POM0', 'RTP0', 'SAG0', 'TRK0', 'TRP0', 'WIL0', 'DII0', 'BIH0', 'WLK0', '7OT0', 'BUR0', 'DOL0', 'NOL0', 'SFX0', 'BOB0', 'COL0', 'CRO0', 'EBP0', 'MSX0', 'RTR0', 'SP0', 'TPR0', 'BLS0', 'CNG0', 'RTH0', 'SPR0', 'WOL0', 'DCI0', 'KRA0', 'LMC0', 'REW0', 'SEL0', 'SPW0', 'WOB0', 'ARG0', 'DC0', 'STH0', 'RPI0', 'HKB0', 'ACU1', 'BBT1', 'BWE1', 'DOK1', 'KPK1', 'MAS1', 'MOR1', 'PGH1', 'PIG1', 'POM1', 'RTP1', 'SAG1', 'TRK1', 'TRP1', 'WIL1', 'DII1', 'BIH1', 'WLK1', '7OT1', 'BUR1', 'DOL1', 'NOL1', 'SFX1', 'BOB1', 'COL1', 'CRO1', 'EBP1', 'MSX1', 'RTR1', 'SP1', 'TPR1', 'BLS1', 'CNG1', 'RTH1', 'SPR1', 'WOL1', 'DCI1', 'KRA1', 'LMC1', 'REW1', 'SEL1', 'SPW1', 'WOB1', 'ARG1', 'DC1', 'STH1', 'RPI1', 'HKB1', 'tourneylike']"
   ]
  },
  {
   "cell_type": "code",
   "execution_count": 4,
   "metadata": {},
   "outputs": [
    {
     "name": "stdout",
     "output_type": "stream",
     "text": [
      "['ACU0', 'BBT0', 'BWE0', 'DOK0', 'KPK0', 'MAS0', 'MOR0', 'PGH0', 'PIG0', 'POM0', 'RTP0', 'SAG0', 'TRK0', 'TRP0', 'WIL0', 'DII0', 'BIH0', 'WLK0', '7OT0', 'BUR0', 'DOL0', 'NOL0', 'SFX0', 'BOB0', 'COL0', 'CRO0', 'EBP0', 'MSX0', 'RTR0', 'SP0', 'TPR0', 'BLS0', 'CNG0', 'RTH0', 'SPR0', 'WOL0', 'DCI0', 'KRA0', 'LMC0', 'REW0', 'SEL0', 'SPW0', 'WOB0', 'ARG0', 'DC0', 'STH0', 'RPI0', 'HKB0', 'ACU1', 'BBT1', 'BWE1', 'DOK1', 'KPK1', 'MAS1', 'MOR1', 'PGH1', 'PIG1', 'POM1', 'RTP1', 'SAG1', 'TRK1', 'TRP1', 'WIL1', 'DII1', 'BIH1', 'WLK1', '7OT1', 'BUR1', 'DOL1', 'NOL1', 'SFX1', 'BOB1', 'COL1', 'CRO1', 'EBP1', 'MSX1', 'RTR1', 'SP1', 'TPR1', 'BLS1', 'CNG1', 'RTH1', 'SPR1', 'WOL1', 'DCI1', 'KRA1', 'LMC1', 'REW1', 'SEL1', 'SPW1', 'WOB1', 'ARG1', 'DC1', 'STH1', 'RPI1', 'HKB1', 'tourneylike']\n"
     ]
    }
   ],
   "source": [
    "print(featureList)"
   ]
  },
  {
   "cell_type": "code",
   "execution_count": 5,
   "metadata": {},
   "outputs": [],
   "source": [
    "y = tourney_df['team0Win'].values # results\n",
    "X = tourney_df[featureList].values # features"
   ]
  },
  {
   "cell_type": "code",
   "execution_count": 6,
   "metadata": {},
   "outputs": [
    {
     "data": {
      "text/plain": [
       "(268, 277)"
      ]
     },
     "execution_count": 6,
     "metadata": {},
     "output_type": "execute_result"
    }
   ],
   "source": [
    "testyears = [2012,2013,2014,2015]\n",
    "mask = tourney_df['Season'] == testyears[0]\n",
    "for yr in testyears[1:]:\n",
    "    mask = mask | (tourney_df['Season'] == yr)\n",
    "mask = mask & (tourney_df['TourneyGame'] == 1)\n",
    "tourney_df[mask].shape"
   ]
  },
  {
   "cell_type": "code",
   "execution_count": 7,
   "metadata": {},
   "outputs": [],
   "source": [
    "df_test = tourney_df[mask]\n",
    "df_train = tourney_df[np.logical_not(mask)]"
   ]
  },
  {
   "cell_type": "code",
   "execution_count": 8,
   "metadata": {},
   "outputs": [],
   "source": [
    "y_train = df_train['team0Win'].values # results\n",
    "X_train = df_train[featureList].values # features\n",
    "y_test = df_test['team0Win'].values # results\n",
    "X_test = df_test[featureList].values # features"
   ]
  },
  {
   "cell_type": "code",
   "execution_count": 22,
   "metadata": {},
   "outputs": [
    {
     "data": {
      "text/plain": [
       "array([[-1.00000000e+06,  7.00000000e+00, -1.00000000e+06, ...,\n",
       "         2.00000000e+00,  1.00000000e+00,  1.14348551e+00],\n",
       "       [ 2.00000000e+00,  3.00000000e+00,  2.00000000e+00, ...,\n",
       "         6.00000000e+00,  7.00000000e+00,  1.13772183e+00],\n",
       "       [ 1.00000000e+00,  1.00000000e+00,  1.00000000e+00, ...,\n",
       "         4.00000000e+00,  2.00000000e+00,  1.13421161e+00],\n",
       "       ...,\n",
       "       [-1.00000000e+06,  2.19000000e+02, -1.00000000e+06, ...,\n",
       "         2.39000000e+02, -1.00000000e+06, -2.21273645e-01],\n",
       "       [-1.00000000e+06,  1.84000000e+02, -1.00000000e+06, ...,\n",
       "         1.89000000e+02,  1.87000000e+02, -2.46083508e-01],\n",
       "       [-1.00000000e+06,  2.22000000e+02, -1.00000000e+06, ...,\n",
       "         2.87000000e+02, -1.00000000e+06, -4.39167082e-01]])"
      ]
     },
     "execution_count": 22,
     "metadata": {},
     "output_type": "execute_result"
    }
   ],
   "source": [
    "X_test"
   ]
  },
  {
   "cell_type": "markdown",
   "metadata": {},
   "source": [
    "# Train our model!"
   ]
  },
  {
   "cell_type": "code",
   "execution_count": 9,
   "metadata": {},
   "outputs": [],
   "source": [
    "size=X_train.shape[0] #Number of training examples to use\n",
    "X_train_sample = X_train[0:size]\n",
    "y_train_sample = y_train[0:size]"
   ]
  },
  {
   "cell_type": "code",
   "execution_count": 24,
   "metadata": {},
   "outputs": [],
   "source": [
    "from hyperopt import hp, fmin, tpe, STATUS_OK, Trials\n",
    "from sklearn import metrics\n",
    "from sklearn.model_selection import cross_val_score\n",
    "import xgboost as xgb\n",
    "from xgboost.sklearn import XGBClassifier\n",
    "space ={\n",
    "        'max_depth': hp.randint('x_max_depth',  20),\n",
    "        'min_child_weight': hp.quniform ('x_min_child', 1, 10, 1),\n",
    "        'subsample': hp.uniform ('x_subsample', 0.8, 1),\n",
    "        'scale_pos_weight': hp.uniform(\"x_pos_weight\", 1, 15),\n",
    "        \"learning_rate\":hp.uniform(\"x_learning_rate\",0.0003,0.003),\n",
    "        'colsample_bytree': hp.uniform ('x_tree_colsample', 0.4,1),\n",
    "}\n",
    "\n",
    "dtrain = xgb.DMatrix(X_train, y_train)\n",
    "dtest = xgb.DMatrix(X_test, y_test)\n",
    "def objective(space):\n",
    "\n",
    "    clf = XGBClassifier(n_estimators = 100, \n",
    "                            max_depth = space['max_depth'], \n",
    "                            min_child_weight =space['min_child_weight'],\n",
    "                            subsample = space['subsample'],\n",
    "                            colsample_bytree =space['colsample_bytree'],\n",
    "                            learning_rate = space['learning_rate'], seed = 0)\n",
    "    \n",
    "    params = clf.get_xgb_params()\n",
    "    #dtest\n",
    "    score = xgb.cv(params, dtrain, nfold = 5, metrics = \"logloss\", early_stopping_rounds=10)\n",
    "    print(score)\n",
    "    #score = cross_val_score(clf, trainX, trainY, cv = 5, scoring=\"average_precision\")\n",
    "    \n",
    "    bst = xgb.train(params, dtrain)\n",
    "    preds = bst.predict(dtest)\n",
    "    test_score = metrics.log_loss(y_test, preds)\n",
    "    \n",
    "    print(\"HOLDOUT SCORE\", test_score)\n",
    "\n",
    "    return{'loss':1-test_score, 'status': STATUS_OK, \"holdout\":test_score }"
   ]
  },
  {
   "cell_type": "code",
   "execution_count": 21,
   "metadata": {},
   "outputs": [
    {
     "name": "stdout",
     "output_type": "stream",
     "text": [
      "HOLDOUT SCORE                                       \n",
      "0.6877941473651288                                  \n",
      "HOLDOUT SCORE                                                                \n",
      "0.6931380742966239                                                           \n",
      "HOLDOUT SCORE                                                                \n",
      "0.690360869489499                                                            \n",
      "HOLDOUT SCORE                                                                \n",
      "0.6923826997404667                                                           \n",
      "HOLDOUT SCORE                                                                \n",
      "0.6913291344891733                                                           \n",
      "HOLDOUT SCORE                                                                \n",
      "0.6931349136936131                                                           \n",
      "HOLDOUT SCORE                                                                \n",
      "0.6918034820414302                                                           \n",
      "HOLDOUT SCORE                                                                \n",
      "0.6885500416826846                                                           \n",
      "HOLDOUT SCORE                                                                \n",
      "0.6914344587877616                                                           \n",
      "HOLDOUT SCORE                                                                \n",
      "0.6904527749588241                                                           \n",
      "HOLDOUT SCORE                                                                 \n",
      "0.6878219902960222                                                            \n",
      "HOLDOUT SCORE                                                                 \n",
      "0.6885139784261362                                                            \n",
      "HOLDOUT SCORE                                                                 \n",
      "0.6891702433575445                                                            \n",
      "HOLDOUT SCORE                                                                 \n",
      "0.6886823344141689                                                            \n",
      "HOLDOUT SCORE                                                                 \n",
      "0.6893071570058367                                                            \n",
      "HOLDOUT SCORE                                                                 \n",
      "0.6898111629841933                                                            \n",
      "HOLDOUT SCORE                                                                 \n",
      "0.6897837806548646                                                            \n",
      "HOLDOUT SCORE                                                                 \n",
      "0.6898041692242693                                                            \n",
      "HOLDOUT SCORE                                                                 \n",
      "0.6919193098794169                                                            \n",
      "HOLDOUT SCORE                                                                 \n",
      "0.6918586270133061                                                            \n",
      "HOLDOUT SCORE                                                                 \n",
      "0.6931423422560763                                                            \n",
      "HOLDOUT SCORE                                                                 \n",
      "0.6931428491179623                                                            \n",
      "HOLDOUT SCORE                                                                 \n",
      "0.6923924466567253                                                            \n",
      "HOLDOUT SCORE                                                                 \n",
      "0.6916923189341132                                                            \n",
      "HOLDOUT SCORE                                                                 \n",
      "0.6925344111314461                                                            \n",
      "HOLDOUT SCORE                                                                 \n",
      "0.693145904968034                                                             \n",
      "HOLDOUT SCORE                                                                  \n",
      "0.6876285767822123                                                             \n",
      "HOLDOUT SCORE                                                                  \n",
      "0.6931457632957999                                                             \n",
      "HOLDOUT SCORE                                                                  \n",
      "0.6931458273485526                                                             \n",
      "HOLDOUT SCORE                                                                  \n",
      "0.6931454648277653                                                             \n",
      "HOLDOUT SCORE                                                                  \n",
      "0.6888208124619811                                                             \n",
      "HOLDOUT SCORE                                                                  \n",
      "0.6875587668436677                                                             \n",
      "HOLDOUT SCORE                                                                  \n",
      "0.6890731885362027                                                             \n",
      "HOLDOUT SCORE                                                                  \n",
      "0.689642199162227                                                              \n",
      "HOLDOUT SCORE                                                                  \n",
      "0.6920738842949938                                                             \n",
      "HOLDOUT SCORE                                                                  \n",
      "0.6931453718623118                                                             \n",
      "HOLDOUT SCORE                                                                  \n",
      "0.6931457116977492                                                             \n",
      "HOLDOUT SCORE                                                                  \n",
      "0.693146294622279                                                              \n",
      "HOLDOUT SCORE                                                                  \n",
      "0.6904818769266357                                                             \n",
      "HOLDOUT SCORE                                                                  \n",
      "0.6910833042504182                                                             \n",
      "HOLDOUT SCORE                                                                  \n",
      "0.6894704561624954                                                             \n",
      "HOLDOUT SCORE                                                                  \n",
      "0.6900848457172736                                                             \n",
      "HOLDOUT SCORE                                                                  \n",
      "0.6880786383329932                                                             \n",
      "HOLDOUT SCORE                                                                  \n",
      "0.6908160003263559                                                             \n",
      "HOLDOUT SCORE                                                                  \n",
      "0.6880431975891341                                                             \n",
      "HOLDOUT SCORE                                                                  \n",
      "0.6892690382786651                                                             \n",
      "HOLDOUT SCORE                                                                  \n",
      "0.6893053008104438                                                             \n",
      "HOLDOUT SCORE                                                                  \n",
      "0.6885386787688554                                                             \n",
      "HOLDOUT SCORE                                                                  \n",
      "0.6909460505442833                                                             \n",
      "HOLDOUT SCORE                                                                  \n",
      "0.6879002015982101                                                             \n",
      "100%|██████████| 50/50 [01:07<00:00,  1.38s/it, best loss: 0.30685370537772105]\n",
      "Optimization Time: %f seconds 67.46418595314026\n",
      "CPU times: user 1min 7s, sys: 457 ms, total: 1min 7s\n",
      "Wall time: 1min 7s\n"
     ]
    }
   ],
   "source": [
    "%%time\n",
    "trials = Trials()\n",
    "import time\n",
    "start = time.time()\n",
    "best = fmin(fn=objective, space = space, algo = tpe.suggest, max_evals = 50, trials = trials)\n",
    "end = time.time()\n",
    "print(\"Optimization Time: %f seconds\", (end  -start))"
   ]
  },
  {
   "cell_type": "code",
   "execution_count": 25,
   "metadata": {},
   "outputs": [
    {
     "data": {
      "text/plain": [
       "{'x_learning_rate': 0.002050596297567944,\n",
       " 'x_max_depth': 0,\n",
       " 'x_min_child': 8.0,\n",
       " 'x_pos_weight': 4.730737378579532,\n",
       " 'x_subsample': 0.836933526126366,\n",
       " 'x_tree_colsample': 0.5831213255266434}"
      ]
     },
     "execution_count": 25,
     "metadata": {},
     "output_type": "execute_result"
    }
   ],
   "source": [
    "best"
   ]
  },
  {
   "cell_type": "code",
   "execution_count": 26,
   "metadata": {},
   "outputs": [
    {
     "name": "stdout",
     "output_type": "stream",
     "text": [
      "[0]\ttrain-logloss:0.693179+5.15364e-06\ttest-logloss:0.693156+1.90641e-05\n",
      "[1]\ttrain-logloss:0.693164+1.0012e-05\ttest-logloss:0.693168+3.74091e-05\n",
      "[2]\ttrain-logloss:0.693183+1.06132e-05\ttest-logloss:0.693181+5.551e-05\n",
      "[3]\ttrain-logloss:0.693212+3.27084e-05\ttest-logloss:0.693195+7.49256e-05\n",
      "[4]\ttrain-logloss:0.6932+2.32241e-05\ttest-logloss:0.693217+9.78844e-05\n",
      "[5]\ttrain-logloss:0.693254+2.83238e-05\ttest-logloss:0.693234+0.000114052\n",
      "[6]\ttrain-logloss:0.693241+5.03929e-05\ttest-logloss:0.693255+0.000130534\n",
      "[7]\ttrain-logloss:0.693275+2.57527e-05\ttest-logloss:0.693277+0.000155688\n",
      "[8]\ttrain-logloss:0.693312+3.85456e-05\ttest-logloss:0.693304+0.000171146\n",
      "[9]\ttrain-logloss:0.693325+4.65334e-05\ttest-logloss:0.693326+0.000191458\n",
      "   train-logloss-mean  train-logloss-std  test-logloss-mean  test-logloss-std\n",
      "0            0.693179           0.000005           0.693156          0.000019\n",
      "1            0.693164           0.000010           0.693168          0.000037\n",
      "2            0.693183           0.000011           0.693181          0.000056\n",
      "3            0.693212           0.000033           0.693195          0.000075\n",
      "4            0.693200           0.000023           0.693217          0.000098\n",
      "5            0.693254           0.000028           0.693234          0.000114\n",
      "6            0.693241           0.000050           0.693255          0.000131\n",
      "7            0.693275           0.000026           0.693277          0.000156\n",
      "8            0.693312           0.000039           0.693304          0.000171\n",
      "9            0.693325           0.000047           0.693326          0.000191\n",
      "0.4962686567164179\n"
     ]
    }
   ],
   "source": [
    "best_xgbc = XGBClassifier(n_estimators=100, scale_pos_weight=best[\"x_pos_weight\"],\n",
    "                         learning_rate = best[\"x_learning_rate\"], \n",
    "                         max_depth = int(best[\"x_max_depth\"]), \n",
    "                         min_child_weight = best[\"x_min_child\"],\n",
    "                         subsample = best[\"x_subsample\"], \n",
    "                         colsample_bytree = best[\"x_tree_colsample\"])\n",
    "params = best_xgbc.get_xgb_params()\n",
    "score = xgb.cv(params, dtrain, nfold = 5, metrics = \"logloss\", verbose_eval=True)\n",
    "print(score)\n",
    "bst = xgb.train(params, dtrain)\n",
    "preds = bst.predict(dtest)\n",
    "score = metrics.average_precision_score(y_test, preds)\n",
    "print(score)"
   ]
  },
  {
   "cell_type": "code",
   "execution_count": 19,
   "metadata": {},
   "outputs": [
    {
     "name": "stdout",
     "output_type": "stream",
     "text": [
      "Log loss is 0.7304882416084632\n"
     ]
    }
   ],
   "source": [
    "best_xgbc.fit(X_train, y_train)\n",
    "y_pred = best_xgbc.predict_proba(X_test) # probability that team0 wins (what Kaggle calls team 1, and wants for submission)\n",
    "from sklearn import metrics\n",
    "test_score = metrics.log_loss(y_test, y_pred)\n",
    "print(\"Log loss is {0}\".format(test_score))"
   ]
  },
  {
   "cell_type": "code",
   "execution_count": 29,
   "metadata": {},
   "outputs": [],
   "source": [
    "from sklearn import svm\n",
    "from sklearn.model_selection import StratifiedShuffleSplit, GridSearchCV\n",
    "from sklearn.ensemble import RandomForestClassifier\n",
    "from sklearn.calibration import calibration_curve"
   ]
  },
  {
   "cell_type": "code",
   "execution_count": 33,
   "metadata": {},
   "outputs": [
    {
     "data": {
      "text/plain": [
       "GridSearchCV(cv=StratifiedShuffleSplit(n_splits=10, random_state=42, test_size=0.1,\n",
       "            train_size=None),\n",
       "       error_score='raise-deprecating',\n",
       "       estimator=RandomForestClassifier(bootstrap=True, class_weight=None, criterion='gini',\n",
       "            max_depth=None, max_features='auto', max_leaf_nodes=None,\n",
       "            min_impurity_decrease=0.0, min_impurity_split=None,\n",
       "            min_samples_leaf=1, min_samples_split=2,\n",
       "            min_weight_fraction_leaf=0.0, n_estimators=50, n_jobs=None,\n",
       "            oob_score=False, random_state=None, verbose=0,\n",
       "            warm_start=False),\n",
       "       fit_params=None, iid='warn', n_jobs=-1,\n",
       "       param_grid={'n_estimators': [1000], 'max_features': ['sqrt']},\n",
       "       pre_dispatch='2*n_jobs', refit=True, return_train_score='warn',\n",
       "       scoring='neg_log_loss', verbose=0)"
      ]
     },
     "execution_count": 33,
     "metadata": {},
     "output_type": "execute_result"
    }
   ],
   "source": [
    "cv_s = StratifiedShuffleSplit(n_splits=10 , test_size=0.1, random_state=42)\n",
    "rfc = RandomForestClassifier(max_features= 'auto' ,n_estimators=50) \n",
    "param_grid = { \n",
    "        'n_estimators': [1000],\n",
    "        'max_features': ['sqrt']}\n",
    "CV_rfc = GridSearchCV(n_jobs=-1, estimator=rfc, scoring=\"neg_log_loss\", param_grid=param_grid, cv=cv_s)\n",
    "CV_rfc.fit(X_train_sample, y_train_sample)"
   ]
  },
  {
   "cell_type": "code",
   "execution_count": 34,
   "metadata": {},
   "outputs": [
    {
     "name": "stdout",
     "output_type": "stream",
     "text": [
      "The best parameters are {{'max_features': 'sqrt', 'n_estimators': 1000}} with a score of -0.5866\n"
     ]
    }
   ],
   "source": [
    "print(\"The best parameters are {%s} with a score of %0.4f\" % (CV_rfc.best_params_, CV_rfc.best_score_))"
   ]
  },
  {
   "cell_type": "code",
   "execution_count": 105,
   "metadata": {},
   "outputs": [
    {
     "name": "stdout",
     "output_type": "stream",
     "text": [
      "Log loss is 0.5776264925658652\n"
     ]
    }
   ],
   "source": [
    "model = CV_rfc.best_estimator_\n",
    "y_pred = model.predict_proba(X_test) # probability that team0 wins (what Kaggle calls team 1, and wants for submission)\n",
    "from sklearn import metrics\n",
    "test_score = metrics.log_loss(y_test, y_pred)\n",
    "print(\"Log loss is {0}\".format(test_score))"
   ]
  },
  {
   "cell_type": "code",
   "execution_count": 89,
   "metadata": {},
   "outputs": [
    {
     "data": {
      "text/plain": [
       "0.68656716417910446"
      ]
     },
     "execution_count": 89,
     "metadata": {},
     "output_type": "execute_result"
    }
   ],
   "source": [
    "metrics.accuracy_score(y_test, model.predict(X_test))"
   ]
  },
  {
   "cell_type": "code",
   "execution_count": 29,
   "metadata": {
    "collapsed": true
   },
   "outputs": [],
   "source": [
    "importances = model.feature_importances_\n",
    "std = np.std([tree.feature_importances_ for tree in model.estimators_],\n",
    "             axis=0)\n",
    "indices = np.argsort(importances)[::-1]"
   ]
  },
  {
   "cell_type": "code",
   "execution_count": 30,
   "metadata": {},
   "outputs": [
    {
     "name": "stdout",
     "output_type": "stream",
     "text": [
      "Feature ranking:\n",
      "1. feature 7 POM1 (0.072302)\n",
      "2. feature 10 RPI0 (0.069910)\n",
      "3. feature 4 WLK0 (0.067345)\n",
      "4. feature 6 POM0 (0.066720)\n",
      "5. feature 5 WLK1 (0.064850)\n",
      "6. feature 0 SAG0 (0.064251)\n",
      "7. feature 12 DOK0 (0.063912)\n",
      "8. feature 13 DOK1 (0.063283)\n",
      "9. feature 3 MOR1 (0.063236)\n",
      "10. feature 2 MOR0 (0.062223)\n",
      "11. feature 11 RPI1 (0.060458)\n",
      "12. feature 1 SAG1 (0.060014)\n",
      "13. feature 9 DOL1 (0.059860)\n",
      "14. feature 8 DOL0 (0.056782)\n",
      "15. feature 14 PGH0 (0.052667)\n",
      "16. feature 15 PGH1 (0.052187)\n"
     ]
    }
   ],
   "source": [
    "# Print the feature ranking\n",
    "print(\"Feature ranking:\")\n",
    "\n",
    "for f in range(X.shape[1]):\n",
    "    print(\"%d. feature %d %s (%f)\" % (f + 1, indices[f], tourney_df[featureList].columns[indices[f]],importances[indices[f]]))"
   ]
  },
  {
   "cell_type": "code",
   "execution_count": 149,
   "metadata": {},
   "outputs": [
    {
     "data": {
      "image/png": "[encoded data removed]",
      "text/plain": [
       "<matplotlib.figure.Figure at 0x128f4eb10>"
      ]
     },
     "metadata": {},
     "output_type": "display_data"
    }
   ],
   "source": [
    "%matplotlib inline\n",
    "import matplotlib.pyplot as plt\n",
    "\n",
    "maxval = Nfeatures\n",
    "# Plot the feature importances of the forest\n",
    "plt.figure()\n",
    "plt.title(\"Feature importances\")\n",
    "plt.bar(range(X.shape[1])[:maxval], importances[indices][:maxval],\n",
    "       color=\"r\", yerr=std[indices][:maxval], align=\"center\")\n",
    "plt.xticks(range(X.shape[1])[:maxval], indices)\n",
    "plt.xlim([-1, maxval])\n",
    "plt.show()"
   ]
  },
  {
   "cell_type": "markdown",
   "metadata": {
    "collapsed": true
   },
   "source": [
    "# Write Submission"
   ]
  },
  {
   "cell_type": "code",
   "execution_count": 106,
   "metadata": {},
   "outputs": [],
   "source": [
    "def write_submission_file(model, featureList, submission_output_file): # see submission.ipynb for details\n",
    "    import pandas as pd\n",
    "    sample_df = pd.read_csv('data/2016SampleSubmissionWithFeatures.csv', index_col=0)\n",
    "    Xsample = sample_df[featureList].values\n",
    "    sample_df['Pred'] = model.predict_proba(Xsample)[:,1] # predict_proba returns [prob label is 0, prob label is 1], kaggle wants 2nd column\n",
    "    submission = sample_df[['Id', 'Pred']]\n",
    "    submission.to_csv(submission_output_file, encoding='ascii', index=False)\n",
    "submission_output_file = \"data/submissionRF6000.csv\"\n",
    "write_submission_file(model, featureList, submission_output_file)"
   ]
  },
  {
   "cell_type": "code",
   "execution_count": 107,
   "metadata": {},
   "outputs": [
    {
     "data": {
      "text/html": [
       "<div>\n",
       "<table border=\"1\" class=\"dataframe\">\n",
       "  <thead>\n",
       "    <tr style=\"text-align: right;\">\n",
       "      <th></th>\n",
       "      <th>Pred</th>\n",
       "    </tr>\n",
       "    <tr>\n",
       "      <th>Id</th>\n",
       "      <th></th>\n",
       "    </tr>\n",
       "  </thead>\n",
       "  <tbody>\n",
       "    <tr>\n",
       "      <th>2016_1112_1114</th>\n",
       "      <td>0.648</td>\n",
       "    </tr>\n",
       "    <tr>\n",
       "      <th>2016_1112_1122</th>\n",
       "      <td>0.780</td>\n",
       "    </tr>\n",
       "    <tr>\n",
       "      <th>2016_1112_1124</th>\n",
       "      <td>0.658</td>\n",
       "    </tr>\n",
       "    <tr>\n",
       "      <th>2016_1112_1138</th>\n",
       "      <td>0.773</td>\n",
       "    </tr>\n",
       "    <tr>\n",
       "      <th>2016_1112_1139</th>\n",
       "      <td>0.690</td>\n",
       "    </tr>\n",
       "  </tbody>\n",
       "</table>\n",
       "</div>"
      ],
      "text/plain": [
       "                 Pred\n",
       "Id                   \n",
       "2016_1112_1114  0.648\n",
       "2016_1112_1122  0.780\n",
       "2016_1112_1124  0.658\n",
       "2016_1112_1138  0.773\n",
       "2016_1112_1139  0.690"
      ]
     },
     "execution_count": 107,
     "metadata": {},
     "output_type": "execute_result"
    }
   ],
   "source": [
    "submission_df = pd.read_csv(submission_output_file, index_col=0)\n",
    "submission_df.head()"
   ]
  },
  {
   "cell_type": "code",
   "execution_count": null,
   "metadata": {
    "collapsed": true
   },
   "outputs": [],
   "source": []
  }
 ],
 "metadata": {
  "kernelspec": {
   "display_name": "Python 3",
   "language": "python",
   "name": "python3"
  },
  "language_info": {
   "codemirror_mode": {
    "name": "ipython",
    "version": 3
   },
   "file_extension": ".py",
   "mimetype": "text/x-python",
   "name": "python",
   "nbconvert_exporter": "python",
   "pygments_lexer": "ipython3",
   "version": "3.7.1"
  }
 },
 "nbformat": 4,
 "nbformat_minor": 1
}
