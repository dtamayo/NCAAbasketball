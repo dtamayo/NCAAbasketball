{
 "cells": [
  {
   "cell_type": "code",
   "execution_count": 1,
   "metadata": {},
   "outputs": [
    {
     "data": {
      "text/html": [
       "<div>\n",
       "<style scoped>\n",
       "    .dataframe tbody tr th:only-of-type {\n",
       "        vertical-align: middle;\n",
       "    }\n",
       "\n",
       "    .dataframe tbody tr th {\n",
       "        vertical-align: top;\n",
       "    }\n",
       "\n",
       "    .dataframe thead th {\n",
       "        text-align: right;\n",
       "    }\n",
       "</style>\n",
       "<table border=\"1\" class=\"dataframe\">\n",
       "  <thead>\n",
       "    <tr style=\"text-align: right;\">\n",
       "      <th></th>\n",
       "      <th>Unnamed: 0</th>\n",
       "      <th>Season</th>\n",
       "      <th>DayNum</th>\n",
       "      <th>WTeamID</th>\n",
       "      <th>WScore</th>\n",
       "      <th>LTeamID</th>\n",
       "      <th>LScore</th>\n",
       "      <th>WLoc</th>\n",
       "      <th>NumOT</th>\n",
       "      <th>team0Win</th>\n",
       "      <th>...</th>\n",
       "      <th>USA1</th>\n",
       "      <th>WIL1</th>\n",
       "      <th>WLK1</th>\n",
       "      <th>WMR1</th>\n",
       "      <th>WMV1</th>\n",
       "      <th>WOB1</th>\n",
       "      <th>WOL1</th>\n",
       "      <th>WTE1</th>\n",
       "      <th>YAG1</th>\n",
       "      <th>ZAM1</th>\n",
       "    </tr>\n",
       "  </thead>\n",
       "  <tbody>\n",
       "    <tr>\n",
       "      <th>83084</th>\n",
       "      <td>83084</td>\n",
       "      <td>2018</td>\n",
       "      <td>132</td>\n",
       "      <td>1153</td>\n",
       "      <td>56</td>\n",
       "      <td>1222</td>\n",
       "      <td>55</td>\n",
       "      <td>N</td>\n",
       "      <td>0</td>\n",
       "      <td>0</td>\n",
       "      <td>...</td>\n",
       "      <td>8.0</td>\n",
       "      <td>7.0</td>\n",
       "      <td>4.0</td>\n",
       "      <td>NaN</td>\n",
       "      <td>8.0</td>\n",
       "      <td>5.0</td>\n",
       "      <td>4.0</td>\n",
       "      <td>NaN</td>\n",
       "      <td>7.0</td>\n",
       "      <td>6.0</td>\n",
       "    </tr>\n",
       "    <tr>\n",
       "      <th>83085</th>\n",
       "      <td>83085</td>\n",
       "      <td>2018</td>\n",
       "      <td>132</td>\n",
       "      <td>1172</td>\n",
       "      <td>58</td>\n",
       "      <td>1348</td>\n",
       "      <td>57</td>\n",
       "      <td>N</td>\n",
       "      <td>0</td>\n",
       "      <td>0</td>\n",
       "      <td>...</td>\n",
       "      <td>NaN</td>\n",
       "      <td>91.0</td>\n",
       "      <td>60.0</td>\n",
       "      <td>NaN</td>\n",
       "      <td>74.0</td>\n",
       "      <td>94.0</td>\n",
       "      <td>91.0</td>\n",
       "      <td>NaN</td>\n",
       "      <td>44.0</td>\n",
       "      <td>39.0</td>\n",
       "    </tr>\n",
       "    <tr>\n",
       "      <th>83086</th>\n",
       "      <td>83086</td>\n",
       "      <td>2018</td>\n",
       "      <td>132</td>\n",
       "      <td>1209</td>\n",
       "      <td>74</td>\n",
       "      <td>1426</td>\n",
       "      <td>61</td>\n",
       "      <td>N</td>\n",
       "      <td>0</td>\n",
       "      <td>0</td>\n",
       "      <td>...</td>\n",
       "      <td>NaN</td>\n",
       "      <td>160.0</td>\n",
       "      <td>125.0</td>\n",
       "      <td>NaN</td>\n",
       "      <td>138.0</td>\n",
       "      <td>158.0</td>\n",
       "      <td>143.0</td>\n",
       "      <td>NaN</td>\n",
       "      <td>134.0</td>\n",
       "      <td>117.0</td>\n",
       "    </tr>\n",
       "    <tr>\n",
       "      <th>83087</th>\n",
       "      <td>83087</td>\n",
       "      <td>2018</td>\n",
       "      <td>132</td>\n",
       "      <td>1246</td>\n",
       "      <td>77</td>\n",
       "      <td>1397</td>\n",
       "      <td>72</td>\n",
       "      <td>N</td>\n",
       "      <td>0</td>\n",
       "      <td>1</td>\n",
       "      <td>...</td>\n",
       "      <td>12.0</td>\n",
       "      <td>8.0</td>\n",
       "      <td>12.0</td>\n",
       "      <td>NaN</td>\n",
       "      <td>10.0</td>\n",
       "      <td>9.0</td>\n",
       "      <td>12.0</td>\n",
       "      <td>NaN</td>\n",
       "      <td>18.0</td>\n",
       "      <td>13.0</td>\n",
       "    </tr>\n",
       "    <tr>\n",
       "      <th>83088</th>\n",
       "      <td>83088</td>\n",
       "      <td>2018</td>\n",
       "      <td>132</td>\n",
       "      <td>1335</td>\n",
       "      <td>68</td>\n",
       "      <td>1217</td>\n",
       "      <td>65</td>\n",
       "      <td>N</td>\n",
       "      <td>0</td>\n",
       "      <td>1</td>\n",
       "      <td>...</td>\n",
       "      <td>NaN</td>\n",
       "      <td>188.0</td>\n",
       "      <td>159.0</td>\n",
       "      <td>NaN</td>\n",
       "      <td>169.0</td>\n",
       "      <td>177.0</td>\n",
       "      <td>147.0</td>\n",
       "      <td>NaN</td>\n",
       "      <td>144.0</td>\n",
       "      <td>166.0</td>\n",
       "    </tr>\n",
       "  </tbody>\n",
       "</table>\n",
       "<p>5 rows × 345 columns</p>\n",
       "</div>"
      ],
      "text/plain": [
       "       Unnamed: 0  Season  DayNum  WTeamID  WScore  LTeamID  LScore WLoc  \\\n",
       "83084       83084    2018     132     1153      56     1222      55    N   \n",
       "83085       83085    2018     132     1172      58     1348      57    N   \n",
       "83086       83086    2018     132     1209      74     1426      61    N   \n",
       "83087       83087    2018     132     1246      77     1397      72    N   \n",
       "83088       83088    2018     132     1335      68     1217      65    N   \n",
       "\n",
       "       NumOT  team0Win  ...    USA1   WIL1   WLK1  WMR1   WMV1   WOB1   WOL1  \\\n",
       "83084      0         0  ...     8.0    7.0    4.0   NaN    8.0    5.0    4.0   \n",
       "83085      0         0  ...     NaN   91.0   60.0   NaN   74.0   94.0   91.0   \n",
       "83086      0         0  ...     NaN  160.0  125.0   NaN  138.0  158.0  143.0   \n",
       "83087      0         1  ...    12.0    8.0   12.0   NaN   10.0    9.0   12.0   \n",
       "83088      0         1  ...     NaN  188.0  159.0   NaN  169.0  177.0  147.0   \n",
       "\n",
       "       WTE1   YAG1   ZAM1  \n",
       "83084   NaN    7.0    6.0  \n",
       "83085   NaN   44.0   39.0  \n",
       "83086   NaN  134.0  117.0  \n",
       "83087   NaN   18.0   13.0  \n",
       "83088   NaN  144.0  166.0  \n",
       "\n",
       "[5 rows x 345 columns]"
      ]
     },
     "execution_count": 1,
     "metadata": {},
     "output_type": "execute_result"
    }
   ],
   "source": [
    "import pandas as pd\n",
    "import numpy as np\n",
    "   \n",
    "tourney_df = pd.read_csv(\"data/trainingdata.csv\")\n",
    "tourney_df.tail()"
   ]
  },
  {
   "cell_type": "code",
   "execution_count": 2,
   "metadata": {},
   "outputs": [
    {
     "data": {
      "text/plain": [
       "Index(['Unnamed: 0', 'Season', 'DayNum', 'WTeamID', 'WScore', 'LTeamID',\n",
       "       'LScore', 'WLoc', 'NumOT', 'team0Win',\n",
       "       ...\n",
       "       'USA1', 'WIL1', 'WLK1', 'WMR1', 'WMV1', 'WOB1', 'WOL1', 'WTE1', 'YAG1',\n",
       "       'ZAM1'],\n",
       "      dtype='object', length=345)"
      ]
     },
     "execution_count": 2,
     "metadata": {},
     "output_type": "execute_result"
    }
   ],
   "source": [
    "tourney_df.columns"
   ]
  },
  {
   "cell_type": "code",
   "execution_count": 3,
   "metadata": {},
   "outputs": [],
   "source": [
    "tourney_df = tourney_df.fillna(-1000000)"
   ]
  },
  {
   "cell_type": "markdown",
   "metadata": {},
   "source": [
    "# Choosing Features to Use for Model"
   ]
  },
  {
   "cell_type": "markdown",
   "metadata": {},
   "source": [
    "# Only execute one of following two cells\n",
    "\n",
    "Use first cell to use all the features available in the submission file.  After running through notebook once, can look at best features found by random forest and edit this."
   ]
  },
  {
   "cell_type": "code",
   "execution_count": 7,
   "metadata": {},
   "outputs": [],
   "source": [
    "systems = ['SAG', 'MOR', 'WLK', 'POM', 'DOL', 'RPI', 'DOK', 'PGH']\n",
    "teamfList = systems\n",
    "featureList = []\n",
    "for f in teamfList:\n",
    "    featureList.append(f+'0')\n",
    "    featureList.append(f+'1')\n",
    "featureList = ['ACU0', 'BBT0', 'BWE0', 'DOK0', 'KPK0', 'MAS0', 'MOR0', 'PGH0', 'PIG0', 'POM0', 'RTP0', 'SAG0', 'TRK0', 'TRP0', 'WIL0', 'DII0', 'BIH0', 'WLK0', '7OT0', 'BUR0', 'DOL0', 'NOL0', 'SFX0', 'BOB0', 'COL0', 'CRO0', 'EBP0', 'MSX0', 'RTR0', 'SP0', 'TPR0', 'BLS0', 'CNG0', 'RTH0', 'SPR0', 'WOL0', 'DCI0', 'KRA0', 'LMC0', 'REW0', 'SEL0', 'SPW0', 'WOB0', 'ARG0', 'DC0', 'STH0', 'RPI0', 'HKB0', 'ACU1', 'BBT1', 'BWE1', 'DOK1', 'KPK1', 'MAS1', 'MOR1', 'PGH1', 'PIG1', 'POM1', 'RTP1', 'SAG1', 'TRK1', 'TRP1', 'WIL1', 'DII1', 'BIH1', 'WLK1', '7OT1', 'BUR1', 'DOL1', 'NOL1', 'SFX1', 'BOB1', 'COL1', 'CRO1', 'EBP1', 'MSX1', 'RTR1', 'SP1', 'TPR1', 'BLS1', 'CNG1', 'RTH1', 'SPR1', 'WOL1', 'DCI1', 'KRA1', 'LMC1', 'REW1', 'SEL1', 'SPW1', 'WOB1', 'ARG1', 'DC1', 'STH1', 'RPI1', 'HKB1']#, 'tourneylike']"
   ]
  },
  {
   "cell_type": "code",
   "execution_count": 8,
   "metadata": {},
   "outputs": [
    {
     "name": "stdout",
     "output_type": "stream",
     "text": [
      "['ACU0', 'BBT0', 'BWE0', 'DOK0', 'KPK0', 'MAS0', 'MOR0', 'PGH0', 'PIG0', 'POM0', 'RTP0', 'SAG0', 'TRK0', 'TRP0', 'WIL0', 'DII0', 'BIH0', 'WLK0', '7OT0', 'BUR0', 'DOL0', 'NOL0', 'SFX0', 'BOB0', 'COL0', 'CRO0', 'EBP0', 'MSX0', 'RTR0', 'SP0', 'TPR0', 'BLS0', 'CNG0', 'RTH0', 'SPR0', 'WOL0', 'DCI0', 'KRA0', 'LMC0', 'REW0', 'SEL0', 'SPW0', 'WOB0', 'ARG0', 'DC0', 'STH0', 'RPI0', 'HKB0', 'ACU1', 'BBT1', 'BWE1', 'DOK1', 'KPK1', 'MAS1', 'MOR1', 'PGH1', 'PIG1', 'POM1', 'RTP1', 'SAG1', 'TRK1', 'TRP1', 'WIL1', 'DII1', 'BIH1', 'WLK1', '7OT1', 'BUR1', 'DOL1', 'NOL1', 'SFX1', 'BOB1', 'COL1', 'CRO1', 'EBP1', 'MSX1', 'RTR1', 'SP1', 'TPR1', 'BLS1', 'CNG1', 'RTH1', 'SPR1', 'WOL1', 'DCI1', 'KRA1', 'LMC1', 'REW1', 'SEL1', 'SPW1', 'WOB1', 'ARG1', 'DC1', 'STH1', 'RPI1', 'HKB1']\n"
     ]
    }
   ],
   "source": [
    "print(featureList)"
   ]
  },
  {
   "cell_type": "code",
   "execution_count": 9,
   "metadata": {},
   "outputs": [],
   "source": [
    "y = tourney_df['team0Win'].values # results\n",
    "X = tourney_df[featureList].values # features"
   ]
  },
  {
   "cell_type": "code",
   "execution_count": 10,
   "metadata": {},
   "outputs": [
    {
     "data": {
      "text/plain": [
       "(268, 345)"
      ]
     },
     "execution_count": 10,
     "metadata": {},
     "output_type": "execute_result"
    }
   ],
   "source": [
    "testyears = [2012,2013,2014,2015]\n",
    "mask = tourney_df['Season'] == testyears[0]\n",
    "for yr in testyears[1:]:\n",
    "    mask = mask | (tourney_df['Season'] == yr)\n",
    "mask = mask & (tourney_df['TourneyGame'] == 1)\n",
    "tourney_df[mask].shape"
   ]
  },
  {
   "cell_type": "code",
   "execution_count": 11,
   "metadata": {},
   "outputs": [],
   "source": [
    "df_test = tourney_df[mask]\n",
    "df_train = tourney_df[np.logical_not(mask)]"
   ]
  },
  {
   "cell_type": "code",
   "execution_count": 12,
   "metadata": {},
   "outputs": [],
   "source": [
    "y_train = df_train['team0Win'].values # results\n",
    "X_train = df_train[featureList].values # features\n",
    "y_test = df_test['team0Win'].values # results\n",
    "X_test = df_test[featureList].values # features"
   ]
  },
  {
   "cell_type": "code",
   "execution_count": 13,
   "metadata": {},
   "outputs": [
    {
     "data": {
      "text/plain": [
       "array([[-1.00e+06,  3.90e+01, -1.00e+06, ...,  4.20e+01,  4.50e+01,\n",
       "         4.00e+01],\n",
       "       [-1.00e+06,  1.84e+02, -1.00e+06, ...,  1.93e+02,  1.89e+02,\n",
       "         1.87e+02],\n",
       "       [-1.00e+06,  6.80e+01, -1.00e+06, ...,  3.10e+01,  3.70e+01,\n",
       "         3.50e+01],\n",
       "       ...,\n",
       "       [ 4.00e+00,  7.00e+00,  6.00e+00, ...,  2.20e+01,  2.30e+01,\n",
       "         2.30e+01],\n",
       "       [ 1.00e+00,  1.00e+00,  1.00e+00, ...,  3.00e+00,  4.00e+00,\n",
       "         2.00e+00],\n",
       "       [ 2.00e+00,  3.00e+00,  2.00e+00, ...,  5.00e+00,  6.00e+00,\n",
       "         7.00e+00]])"
      ]
     },
     "execution_count": 13,
     "metadata": {},
     "output_type": "execute_result"
    }
   ],
   "source": [
    "X_test"
   ]
  },
  {
   "cell_type": "markdown",
   "metadata": {},
   "source": [
    "# Train our model!"
   ]
  },
  {
   "cell_type": "code",
   "execution_count": 14,
   "metadata": {},
   "outputs": [],
   "source": [
    "size=X_train.shape[0] #Number of training examples to use\n",
    "X_train_sample = X_train[0:size]\n",
    "y_train_sample = y_train[0:size]"
   ]
  },
  {
   "cell_type": "code",
   "execution_count": 24,
   "metadata": {},
   "outputs": [],
   "source": [
    "from hyperopt import hp, fmin, tpe, STATUS_OK, Trials\n",
    "from sklearn import metrics\n",
    "from sklearn.model_selection import cross_val_score\n",
    "import xgboost as xgb\n",
    "from xgboost.sklearn import XGBClassifier\n",
    "space ={\n",
    "        'max_depth': hp.randint('x_max_depth',  20),\n",
    "        'min_child_weight': hp.quniform ('x_min_child', 1, 10, 1),\n",
    "        'subsample': hp.uniform ('x_subsample', 0.8, 1),\n",
    "        'scale_pos_weight': hp.uniform(\"x_pos_weight\", 1, 15),\n",
    "        \"learning_rate\":hp.uniform(\"x_learning_rate\",0.0003,0.003),\n",
    "        'colsample_bytree': hp.uniform ('x_tree_colsample', 0.4,1),\n",
    "}\n",
    "\n",
    "dtrain = xgb.DMatrix(X_train, y_train)\n",
    "dtest = xgb.DMatrix(X_test, y_test)\n",
    "def objective(space):\n",
    "\n",
    "    clf = XGBClassifier(n_estimators = 100, \n",
    "                            max_depth = space['max_depth'], \n",
    "                            min_child_weight =space['min_child_weight'],\n",
    "                            subsample = space['subsample'],\n",
    "                            colsample_bytree =space['colsample_bytree'],\n",
    "                            learning_rate = space['learning_rate'], seed = 0)\n",
    "    \n",
    "    params = clf.get_xgb_params()\n",
    "    #dtest\n",
    "    score = xgb.cv(params, dtrain, nfold = 5, metrics = \"logloss\", early_stopping_rounds=10)\n",
    "    print(score)\n",
    "    #score = cross_val_score(clf, trainX, trainY, cv = 5, scoring=\"average_precision\")\n",
    "    \n",
    "    bst = xgb.train(params, dtrain)\n",
    "    preds = bst.predict(dtest)\n",
    "    test_score = metrics.log_loss(y_test, preds)\n",
    "    \n",
    "    print(\"HOLDOUT SCORE\", test_score)\n",
    "\n",
    "    return{'loss':1-test_score, 'status': STATUS_OK, \"holdout\":test_score }"
   ]
  },
  {
   "cell_type": "code",
   "execution_count": 21,
   "metadata": {},
   "outputs": [
    {
     "name": "stdout",
     "output_type": "stream",
     "text": [
      "HOLDOUT SCORE                                       \n",
      "0.6877941473651288                                  \n",
      "HOLDOUT SCORE                                                                \n",
      "0.6931380742966239                                                           \n",
      "HOLDOUT SCORE                                                                \n",
      "0.690360869489499                                                            \n",
      "HOLDOUT SCORE                                                                \n",
      "0.6923826997404667                                                           \n",
      "HOLDOUT SCORE                                                                \n",
      "0.6913291344891733                                                           \n",
      "HOLDOUT SCORE                                                                \n",
      "0.6931349136936131                                                           \n",
      "HOLDOUT SCORE                                                                \n",
      "0.6918034820414302                                                           \n",
      "HOLDOUT SCORE                                                                \n",
      "0.6885500416826846                                                           \n",
      "HOLDOUT SCORE                                                                \n",
      "0.6914344587877616                                                           \n",
      "HOLDOUT SCORE                                                                \n",
      "0.6904527749588241                                                           \n",
      "HOLDOUT SCORE                                                                 \n",
      "0.6878219902960222                                                            \n",
      "HOLDOUT SCORE                                                                 \n",
      "0.6885139784261362                                                            \n",
      "HOLDOUT SCORE                                                                 \n",
      "0.6891702433575445                                                            \n",
      "HOLDOUT SCORE                                                                 \n",
      "0.6886823344141689                                                            \n",
      "HOLDOUT SCORE                                                                 \n",
      "0.6893071570058367                                                            \n",
      "HOLDOUT SCORE                                                                 \n",
      "0.6898111629841933                                                            \n",
      "HOLDOUT SCORE                                                                 \n",
      "0.6897837806548646                                                            \n",
      "HOLDOUT SCORE                                                                 \n",
      "0.6898041692242693                                                            \n",
      "HOLDOUT SCORE                                                                 \n",
      "0.6919193098794169                                                            \n",
      "HOLDOUT SCORE                                                                 \n",
      "0.6918586270133061                                                            \n",
      "HOLDOUT SCORE                                                                 \n",
      "0.6931423422560763                                                            \n",
      "HOLDOUT SCORE                                                                 \n",
      "0.6931428491179623                                                            \n",
      "HOLDOUT SCORE                                                                 \n",
      "0.6923924466567253                                                            \n",
      "HOLDOUT SCORE                                                                 \n",
      "0.6916923189341132                                                            \n",
      "HOLDOUT SCORE                                                                 \n",
      "0.6925344111314461                                                            \n",
      "HOLDOUT SCORE                                                                 \n",
      "0.693145904968034                                                             \n",
      "HOLDOUT SCORE                                                                  \n",
      "0.6876285767822123                                                             \n",
      "HOLDOUT SCORE                                                                  \n",
      "0.6931457632957999                                                             \n",
      "HOLDOUT SCORE                                                                  \n",
      "0.6931458273485526                                                             \n",
      "HOLDOUT SCORE                                                                  \n",
      "0.6931454648277653                                                             \n",
      "HOLDOUT SCORE                                                                  \n",
      "0.6888208124619811                                                             \n",
      "HOLDOUT SCORE                                                                  \n",
      "0.6875587668436677                                                             \n",
      "HOLDOUT SCORE                                                                  \n",
      "0.6890731885362027                                                             \n",
      "HOLDOUT SCORE                                                                  \n",
      "0.689642199162227                                                              \n",
      "HOLDOUT SCORE                                                                  \n",
      "0.6920738842949938                                                             \n",
      "HOLDOUT SCORE                                                                  \n",
      "0.6931453718623118                                                             \n",
      "HOLDOUT SCORE                                                                  \n",
      "0.6931457116977492                                                             \n",
      "HOLDOUT SCORE                                                                  \n",
      "0.693146294622279                                                              \n",
      "HOLDOUT SCORE                                                                  \n",
      "0.6904818769266357                                                             \n",
      "HOLDOUT SCORE                                                                  \n",
      "0.6910833042504182                                                             \n",
      "HOLDOUT SCORE                                                                  \n",
      "0.6894704561624954                                                             \n",
      "HOLDOUT SCORE                                                                  \n",
      "0.6900848457172736                                                             \n",
      "HOLDOUT SCORE                                                                  \n",
      "0.6880786383329932                                                             \n",
      "HOLDOUT SCORE                                                                  \n",
      "0.6908160003263559                                                             \n",
      "HOLDOUT SCORE                                                                  \n",
      "0.6880431975891341                                                             \n",
      "HOLDOUT SCORE                                                                  \n",
      "0.6892690382786651                                                             \n",
      "HOLDOUT SCORE                                                                  \n",
      "0.6893053008104438                                                             \n",
      "HOLDOUT SCORE                                                                  \n",
      "0.6885386787688554                                                             \n",
      "HOLDOUT SCORE                                                                  \n",
      "0.6909460505442833                                                             \n",
      "HOLDOUT SCORE                                                                  \n",
      "0.6879002015982101                                                             \n",
      "100%|██████████| 50/50 [01:07<00:00,  1.38s/it, best loss: 0.30685370537772105]\n",
      "Optimization Time: %f seconds 67.46418595314026\n",
      "CPU times: user 1min 7s, sys: 457 ms, total: 1min 7s\n",
      "Wall time: 1min 7s\n"
     ]
    }
   ],
   "source": [
    "%%time\n",
    "trials = Trials()\n",
    "import time\n",
    "start = time.time()\n",
    "best = fmin(fn=objective, space = space, algo = tpe.suggest, max_evals = 50, trials = trials)\n",
    "end = time.time()\n",
    "print(\"Optimization Time: %f seconds\", (end  -start))"
   ]
  },
  {
   "cell_type": "code",
   "execution_count": 25,
   "metadata": {},
   "outputs": [
    {
     "data": {
      "text/plain": [
       "{'x_learning_rate': 0.002050596297567944,\n",
       " 'x_max_depth': 0,\n",
       " 'x_min_child': 8.0,\n",
       " 'x_pos_weight': 4.730737378579532,\n",
       " 'x_subsample': 0.836933526126366,\n",
       " 'x_tree_colsample': 0.5831213255266434}"
      ]
     },
     "execution_count": 25,
     "metadata": {},
     "output_type": "execute_result"
    }
   ],
   "source": [
    "best"
   ]
  },
  {
   "cell_type": "code",
   "execution_count": 26,
   "metadata": {},
   "outputs": [
    {
     "name": "stdout",
     "output_type": "stream",
     "text": [
      "[0]\ttrain-logloss:0.693179+5.15364e-06\ttest-logloss:0.693156+1.90641e-05\n",
      "[1]\ttrain-logloss:0.693164+1.0012e-05\ttest-logloss:0.693168+3.74091e-05\n",
      "[2]\ttrain-logloss:0.693183+1.06132e-05\ttest-logloss:0.693181+5.551e-05\n",
      "[3]\ttrain-logloss:0.693212+3.27084e-05\ttest-logloss:0.693195+7.49256e-05\n",
      "[4]\ttrain-logloss:0.6932+2.32241e-05\ttest-logloss:0.693217+9.78844e-05\n",
      "[5]\ttrain-logloss:0.693254+2.83238e-05\ttest-logloss:0.693234+0.000114052\n",
      "[6]\ttrain-logloss:0.693241+5.03929e-05\ttest-logloss:0.693255+0.000130534\n",
      "[7]\ttrain-logloss:0.693275+2.57527e-05\ttest-logloss:0.693277+0.000155688\n",
      "[8]\ttrain-logloss:0.693312+3.85456e-05\ttest-logloss:0.693304+0.000171146\n",
      "[9]\ttrain-logloss:0.693325+4.65334e-05\ttest-logloss:0.693326+0.000191458\n",
      "   train-logloss-mean  train-logloss-std  test-logloss-mean  test-logloss-std\n",
      "0            0.693179           0.000005           0.693156          0.000019\n",
      "1            0.693164           0.000010           0.693168          0.000037\n",
      "2            0.693183           0.000011           0.693181          0.000056\n",
      "3            0.693212           0.000033           0.693195          0.000075\n",
      "4            0.693200           0.000023           0.693217          0.000098\n",
      "5            0.693254           0.000028           0.693234          0.000114\n",
      "6            0.693241           0.000050           0.693255          0.000131\n",
      "7            0.693275           0.000026           0.693277          0.000156\n",
      "8            0.693312           0.000039           0.693304          0.000171\n",
      "9            0.693325           0.000047           0.693326          0.000191\n",
      "0.4962686567164179\n"
     ]
    }
   ],
   "source": [
    "best_xgbc = XGBClassifier(n_estimators=100, scale_pos_weight=best[\"x_pos_weight\"],\n",
    "                         learning_rate = best[\"x_learning_rate\"], \n",
    "                         max_depth = int(best[\"x_max_depth\"]), \n",
    "                         min_child_weight = best[\"x_min_child\"],\n",
    "                         subsample = best[\"x_subsample\"], \n",
    "                         colsample_bytree = best[\"x_tree_colsample\"])\n",
    "params = best_xgbc.get_xgb_params()\n",
    "score = xgb.cv(params, dtrain, nfold = 5, metrics = \"logloss\", verbose_eval=True)\n",
    "print(score)\n",
    "bst = xgb.train(params, dtrain)\n",
    "preds = bst.predict(dtest)\n",
    "score = metrics.average_precision_score(y_test, preds)\n",
    "print(score)"
   ]
  },
  {
   "cell_type": "code",
   "execution_count": 19,
   "metadata": {},
   "outputs": [
    {
     "name": "stdout",
     "output_type": "stream",
     "text": [
      "Log loss is 0.7304882416084632\n"
     ]
    }
   ],
   "source": [
    "best_xgbc.fit(X_train, y_train)\n",
    "y_pred = best_xgbc.predict_proba(X_test) # probability that team0 wins (what Kaggle calls team 1, and wants for submission)\n",
    "from sklearn import metrics\n",
    "test_score = metrics.log_loss(y_test, y_pred)\n",
    "print(\"Log loss is {0}\".format(test_score))"
   ]
  },
  {
   "cell_type": "code",
   "execution_count": 15,
   "metadata": {},
   "outputs": [],
   "source": [
    "from sklearn import svm\n",
    "from sklearn.model_selection import StratifiedShuffleSplit, GridSearchCV\n",
    "from sklearn.ensemble import RandomForestClassifier\n",
    "from sklearn.calibration import calibration_curve"
   ]
  },
  {
   "cell_type": "code",
   "execution_count": 16,
   "metadata": {},
   "outputs": [
    {
     "data": {
      "text/plain": [
       "GridSearchCV(cv=StratifiedShuffleSplit(n_splits=10, random_state=42, test_size=0.1,\n",
       "            train_size=None),\n",
       "       error_score='raise-deprecating',\n",
       "       estimator=RandomForestClassifier(bootstrap=True, class_weight=None, criterion='gini',\n",
       "            max_depth=None, max_features='auto', max_leaf_nodes=None,\n",
       "            min_impurity_decrease=0.0, min_impurity_split=None,\n",
       "            min_samples_leaf=1, min_samples_split=2,\n",
       "            min_weight_fraction_leaf=0.0, n_estimators=50, n_jobs=None,\n",
       "            oob_score=False, random_state=None, verbose=0,\n",
       "            warm_start=False),\n",
       "       fit_params=None, iid='warn', n_jobs=-1,\n",
       "       param_grid={'n_estimators': [1000], 'max_features': ['sqrt']},\n",
       "       pre_dispatch='2*n_jobs', refit=True, return_train_score='warn',\n",
       "       scoring='neg_log_loss', verbose=0)"
      ]
     },
     "execution_count": 16,
     "metadata": {},
     "output_type": "execute_result"
    }
   ],
   "source": [
    "%%time\n",
    "cv_s = StratifiedShuffleSplit(n_splits=10 , test_size=0.1, random_state=42)\n",
    "rfc = RandomForestClassifier(max_features= 'auto' ,n_estimators=50) \n",
    "param_grid = { \n",
    "        'n_estimators': [1000],\n",
    "        'max_features': ['sqrt']}\n",
    "CV_rfc = GridSearchCV(n_jobs=-1, estimator=rfc, scoring=\"neg_log_loss\", param_grid=param_grid, cv=cv_s)\n",
    "CV_rfc.fit(X_train_sample, y_train_sample)"
   ]
  },
  {
   "cell_type": "code",
   "execution_count": 17,
   "metadata": {},
   "outputs": [
    {
     "name": "stdout",
     "output_type": "stream",
     "text": [
      "The best parameters are {{'max_features': 'sqrt', 'n_estimators': 1000}} with a score of -0.5978\n"
     ]
    }
   ],
   "source": [
    "print(\"The best parameters are {%s} with a score of %0.4f\" % (CV_rfc.best_params_, CV_rfc.best_score_))"
   ]
  },
  {
   "cell_type": "code",
   "execution_count": 18,
   "metadata": {},
   "outputs": [
    {
     "name": "stdout",
     "output_type": "stream",
     "text": [
      "Log loss is 0.5795399735865063\n"
     ]
    }
   ],
   "source": [
    "model = CV_rfc.best_estimator_\n",
    "y_pred = model.predict_proba(X_test) # probability that team0 wins (what Kaggle calls team 1, and wants for submission)\n",
    "from sklearn import metrics\n",
    "test_score = metrics.log_loss(y_test, y_pred)\n",
    "print(\"Log loss is {0}\".format(test_score))"
   ]
  },
  {
   "cell_type": "code",
   "execution_count": 19,
   "metadata": {},
   "outputs": [
    {
     "data": {
      "text/plain": [
       "0.6865671641791045"
      ]
     },
     "execution_count": 19,
     "metadata": {},
     "output_type": "execute_result"
    }
   ],
   "source": [
    "metrics.accuracy_score(y_test, model.predict(X_test))"
   ]
  },
  {
   "cell_type": "code",
   "execution_count": 20,
   "metadata": {},
   "outputs": [],
   "source": [
    "importances = model.feature_importances_\n",
    "std = np.std([tree.feature_importances_ for tree in model.estimators_],\n",
    "             axis=0)\n",
    "indices = np.argsort(importances)[::-1]"
   ]
  },
  {
   "cell_type": "code",
   "execution_count": 21,
   "metadata": {},
   "outputs": [
    {
     "name": "stdout",
     "output_type": "stream",
     "text": [
      "Feature ranking:\n",
      "1. feature 11 SAG0 (0.030772)\n",
      "2. feature 59 SAG1 (0.030672)\n",
      "3. feature 6 MOR0 (0.029774)\n",
      "4. feature 54 MOR1 (0.029697)\n",
      "5. feature 9 POM0 (0.027799)\n",
      "6. feature 57 POM1 (0.027265)\n",
      "7. feature 8 PIG0 (0.027136)\n",
      "8. feature 65 WLK1 (0.026877)\n",
      "9. feature 17 WLK0 (0.026195)\n",
      "10. feature 56 PIG1 (0.025386)\n",
      "11. feature 3 DOK0 (0.023761)\n",
      "12. feature 51 DOK1 (0.022906)\n",
      "13. feature 40 SEL0 (0.019032)\n",
      "14. feature 88 SEL1 (0.018973)\n",
      "15. feature 16 BIH0 (0.018854)\n",
      "16. feature 64 BIH1 (0.018619)\n",
      "17. feature 53 MAS1 (0.017296)\n",
      "18. feature 41 SPW0 (0.016471)\n",
      "19. feature 89 SPW1 (0.016222)\n",
      "20. feature 5 MAS0 (0.016110)\n",
      "21. feature 52 KPK1 (0.013874)\n",
      "22. feature 55 PGH1 (0.013564)\n",
      "23. feature 72 COL1 (0.013561)\n",
      "24. feature 4 KPK0 (0.013507)\n",
      "25. feature 24 COL0 (0.013412)\n",
      "26. feature 7 PGH0 (0.013243)\n",
      "27. feature 68 DOL1 (0.012379)\n",
      "28. feature 20 DOL0 (0.012337)\n",
      "29. feature 62 WIL1 (0.011588)\n",
      "30. feature 14 WIL0 (0.011550)\n",
      "31. feature 32 CNG0 (0.011475)\n",
      "32. feature 80 CNG1 (0.011421)\n",
      "33. feature 94 RPI1 (0.011410)\n",
      "34. feature 95 HKB1 (0.011355)\n",
      "35. feature 47 HKB0 (0.011307)\n",
      "36. feature 46 RPI0 (0.011023)\n",
      "37. feature 39 REW0 (0.010534)\n",
      "38. feature 87 REW1 (0.010250)\n",
      "39. feature 81 RTH1 (0.010167)\n",
      "40. feature 33 RTH0 (0.010057)\n",
      "41. feature 58 RTP1 (0.009932)\n",
      "42. feature 10 RTP0 (0.009804)\n",
      "43. feature 35 WOL0 (0.009200)\n",
      "44. feature 83 WOL1 (0.008944)\n",
      "45. feature 71 BOB1 (0.008619)\n",
      "46. feature 23 BOB0 (0.008559)\n",
      "47. feature 90 WOB1 (0.008551)\n",
      "48. feature 42 WOB0 (0.008452)\n",
      "49. feature 13 TRP0 (0.007469)\n",
      "50. feature 61 TRP1 (0.007043)\n",
      "51. feature 93 STH1 (0.006902)\n",
      "52. feature 45 STH0 (0.006843)\n",
      "53. feature 63 DII1 (0.006078)\n",
      "54. feature 49 BBT1 (0.005943)\n",
      "55. feature 0 ACU0 (0.005940)\n",
      "56. feature 15 DII0 (0.005913)\n",
      "57. feature 48 ACU1 (0.005902)\n",
      "58. feature 1 BBT0 (0.005736)\n",
      "59. feature 76 RTR1 (0.005623)\n",
      "60. feature 28 RTR0 (0.005623)\n",
      "61. feature 73 CRO1 (0.005341)\n",
      "62. feature 92 DC1 (0.005302)\n",
      "63. feature 85 KRA1 (0.005287)\n",
      "64. feature 25 CRO0 (0.005280)\n",
      "65. feature 36 DCI0 (0.005258)\n",
      "66. feature 37 KRA0 (0.005250)\n",
      "67. feature 44 DC0 (0.005244)\n",
      "68. feature 84 DCI1 (0.005227)\n",
      "69. feature 69 NOL1 (0.004860)\n",
      "70. feature 60 TRK1 (0.004831)\n",
      "71. feature 21 NOL0 (0.004722)\n",
      "72. feature 86 LMC1 (0.004582)\n",
      "73. feature 67 BUR1 (0.004581)\n",
      "74. feature 12 TRK0 (0.004565)\n",
      "75. feature 19 BUR0 (0.004495)\n",
      "76. feature 38 LMC0 (0.004364)\n",
      "77. feature 74 EBP1 (0.004152)\n",
      "78. feature 91 ARG1 (0.004007)\n",
      "79. feature 50 BWE1 (0.003906)\n",
      "80. feature 43 ARG0 (0.003897)\n",
      "81. feature 2 BWE0 (0.003888)\n",
      "82. feature 26 EBP0 (0.003825)\n",
      "83. feature 79 BLS1 (0.003716)\n",
      "84. feature 31 BLS0 (0.003696)\n",
      "85. feature 18 7OT0 (0.003581)\n",
      "86. feature 66 7OT1 (0.003526)\n",
      "87. feature 30 TPR0 (0.003523)\n",
      "88. feature 78 TPR1 (0.003410)\n",
      "89. feature 29 SP0 (0.003214)\n",
      "90. feature 77 SP1 (0.003141)\n",
      "91. feature 27 MSX0 (0.002768)\n",
      "92. feature 75 MSX1 (0.002721)\n",
      "93. feature 22 SFX0 (0.002633)\n",
      "94. feature 70 SFX1 (0.002563)\n",
      "95. feature 82 SPR1 (0.001904)\n",
      "96. feature 34 SPR0 (0.001830)\n"
     ]
    }
   ],
   "source": [
    "# Print the feature ranking\n",
    "print(\"Feature ranking:\")\n",
    "\n",
    "for f in range(X.shape[1]):\n",
    "    print(\"%d. feature %d %s (%f)\" % (f + 1, indices[f], tourney_df[featureList].columns[indices[f]],importances[indices[f]]))"
   ]
  },
  {
   "cell_type": "code",
   "execution_count": 30,
   "metadata": {},
   "outputs": [
    {
     "name": "stdout",
     "output_type": "stream",
     "text": [
      "Feature ranking:\n",
      "1. feature 7 POM1 (0.072302)\n",
      "2. feature 10 RPI0 (0.069910)\n",
      "3. feature 4 WLK0 (0.067345)\n",
      "4. feature 6 POM0 (0.066720)\n",
      "5. feature 5 WLK1 (0.064850)\n",
      "6. feature 0 SAG0 (0.064251)\n",
      "7. feature 12 DOK0 (0.063912)\n",
      "8. feature 13 DOK1 (0.063283)\n",
      "9. feature 3 MOR1 (0.063236)\n",
      "10. feature 2 MOR0 (0.062223)\n",
      "11. feature 11 RPI1 (0.060458)\n",
      "12. feature 1 SAG1 (0.060014)\n",
      "13. feature 9 DOL1 (0.059860)\n",
      "14. feature 8 DOL0 (0.056782)\n",
      "15. feature 14 PGH0 (0.052667)\n",
      "16. feature 15 PGH1 (0.052187)\n"
     ]
    }
   ],
   "source": [
    "# Print the feature ranking\n",
    "print(\"Feature ranking:\")\n",
    "\n",
    "for f in range(X.shape[1]):\n",
    "    print(\"%d. feature %d %s (%f)\" % (f + 1, indices[f], tourney_df[featureList].columns[indices[f]],importances[indices[f]]))"
   ]
  },
  {
   "cell_type": "code",
   "execution_count": 24,
   "metadata": {},
   "outputs": [
    {
     "data": {
      "image/png": "[encoded data removed]",
      "text/plain": [
       "<Figure size 432x288 with 1 Axes>"
      ]
     },
     "metadata": {
      "needs_background": "light"
     },
     "output_type": "display_data"
    }
   ],
   "source": [
    "%matplotlib inline\n",
    "import matplotlib.pyplot as plt\n",
    "\n",
    "maxval = len(featureList)\n",
    "# Plot the feature importances of the forest\n",
    "plt.figure()\n",
    "plt.title(\"Feature importances\")\n",
    "plt.bar(range(X.shape[1])[:maxval], importances[indices][:maxval],\n",
    "       color=\"r\", yerr=std[indices][:maxval], align=\"center\")\n",
    "plt.xticks(range(X.shape[1])[:maxval], indices)\n",
    "plt.xlim([-1, maxval])\n",
    "plt.show()"
   ]
  },
  {
   "cell_type": "code",
   "execution_count": 149,
   "metadata": {},
   "outputs": [
    {
     "data": {
      "image/png": "[encoded data removed]",
      "text/plain": [
       "<matplotlib.figure.Figure at 0x128f4eb10>"
      ]
     },
     "metadata": {},
     "output_type": "display_data"
    }
   ],
   "source": [
    "%matplotlib inline\n",
    "import matplotlib.pyplot as plt\n",
    "\n",
    "maxval = Nfeatures\n",
    "# Plot the feature importances of the forest\n",
    "plt.figure()\n",
    "plt.title(\"Feature importances\")\n",
    "plt.bar(range(X.shape[1])[:maxval], importances[indices][:maxval],\n",
    "       color=\"r\", yerr=std[indices][:maxval], align=\"center\")\n",
    "plt.xticks(range(X.shape[1])[:maxval], indices)\n",
    "plt.xlim([-1, maxval])\n",
    "plt.show()"
   ]
  },
  {
   "cell_type": "markdown",
   "metadata": {
    "collapsed": true
   },
   "source": [
    "# Write Submission"
   ]
  },
  {
   "cell_type": "code",
   "execution_count": 25,
   "metadata": {},
   "outputs": [
    {
     "ename": "FileNotFoundError",
     "evalue": "File b'data/2016SampleSubmissionWithFeatures.csv' does not exist",
     "output_type": "error",
     "traceback": [
      "\u001b[0;31m---------------------------------------------------------------------------\u001b[0m",
      "\u001b[0;31mFileNotFoundError\u001b[0m                         Traceback (most recent call last)",
      "\u001b[0;32m<ipython-input-25-019e8cfeab90>\u001b[0m in \u001b[0;36m<module>\u001b[0;34m\u001b[0m\n\u001b[1;32m      7\u001b[0m     \u001b[0msubmission\u001b[0m\u001b[0;34m.\u001b[0m\u001b[0mto_csv\u001b[0m\u001b[0;34m(\u001b[0m\u001b[0msubmission_output_file\u001b[0m\u001b[0;34m,\u001b[0m \u001b[0mencoding\u001b[0m\u001b[0;34m=\u001b[0m\u001b[0;34m'ascii'\u001b[0m\u001b[0;34m,\u001b[0m \u001b[0mindex\u001b[0m\u001b[0;34m=\u001b[0m\u001b[0;32mFalse\u001b[0m\u001b[0;34m)\u001b[0m\u001b[0;34m\u001b[0m\u001b[0;34m\u001b[0m\u001b[0m\n\u001b[1;32m      8\u001b[0m \u001b[0msubmission_output_file\u001b[0m \u001b[0;34m=\u001b[0m \u001b[0;34m\"data/submissionRF6000.csv\"\u001b[0m\u001b[0;34m\u001b[0m\u001b[0;34m\u001b[0m\u001b[0m\n\u001b[0;32m----> 9\u001b[0;31m \u001b[0mwrite_submission_file\u001b[0m\u001b[0;34m(\u001b[0m\u001b[0mmodel\u001b[0m\u001b[0;34m,\u001b[0m \u001b[0mfeatureList\u001b[0m\u001b[0;34m,\u001b[0m \u001b[0msubmission_output_file\u001b[0m\u001b[0;34m)\u001b[0m\u001b[0;34m\u001b[0m\u001b[0;34m\u001b[0m\u001b[0m\n\u001b[0m",
      "\u001b[0;32m<ipython-input-25-019e8cfeab90>\u001b[0m in \u001b[0;36mwrite_submission_file\u001b[0;34m(model, featureList, submission_output_file)\u001b[0m\n\u001b[1;32m      1\u001b[0m \u001b[0;32mdef\u001b[0m \u001b[0mwrite_submission_file\u001b[0m\u001b[0;34m(\u001b[0m\u001b[0mmodel\u001b[0m\u001b[0;34m,\u001b[0m \u001b[0mfeatureList\u001b[0m\u001b[0;34m,\u001b[0m \u001b[0msubmission_output_file\u001b[0m\u001b[0;34m)\u001b[0m\u001b[0;34m:\u001b[0m \u001b[0;31m# see submission.ipynb for details\u001b[0m\u001b[0;34m\u001b[0m\u001b[0;34m\u001b[0m\u001b[0m\n\u001b[1;32m      2\u001b[0m     \u001b[0;32mimport\u001b[0m \u001b[0mpandas\u001b[0m \u001b[0;32mas\u001b[0m \u001b[0mpd\u001b[0m\u001b[0;34m\u001b[0m\u001b[0;34m\u001b[0m\u001b[0m\n\u001b[0;32m----> 3\u001b[0;31m     \u001b[0msample_df\u001b[0m \u001b[0;34m=\u001b[0m \u001b[0mpd\u001b[0m\u001b[0;34m.\u001b[0m\u001b[0mread_csv\u001b[0m\u001b[0;34m(\u001b[0m\u001b[0;34m'data/2016SampleSubmissionWithFeatures.csv'\u001b[0m\u001b[0;34m,\u001b[0m \u001b[0mindex_col\u001b[0m\u001b[0;34m=\u001b[0m\u001b[0;36m0\u001b[0m\u001b[0;34m)\u001b[0m\u001b[0;34m\u001b[0m\u001b[0;34m\u001b[0m\u001b[0m\n\u001b[0m\u001b[1;32m      4\u001b[0m     \u001b[0mXsample\u001b[0m \u001b[0;34m=\u001b[0m \u001b[0msample_df\u001b[0m\u001b[0;34m[\u001b[0m\u001b[0mfeatureList\u001b[0m\u001b[0;34m]\u001b[0m\u001b[0;34m.\u001b[0m\u001b[0mvalues\u001b[0m\u001b[0;34m\u001b[0m\u001b[0;34m\u001b[0m\u001b[0m\n\u001b[1;32m      5\u001b[0m     \u001b[0msample_df\u001b[0m\u001b[0;34m[\u001b[0m\u001b[0;34m'Pred'\u001b[0m\u001b[0;34m]\u001b[0m \u001b[0;34m=\u001b[0m \u001b[0mmodel\u001b[0m\u001b[0;34m.\u001b[0m\u001b[0mpredict_proba\u001b[0m\u001b[0;34m(\u001b[0m\u001b[0mXsample\u001b[0m\u001b[0;34m)\u001b[0m\u001b[0;34m[\u001b[0m\u001b[0;34m:\u001b[0m\u001b[0;34m,\u001b[0m\u001b[0;36m1\u001b[0m\u001b[0;34m]\u001b[0m \u001b[0;31m# predict_proba returns [prob label is 0, prob label is 1], kaggle wants 2nd column\u001b[0m\u001b[0;34m\u001b[0m\u001b[0;34m\u001b[0m\u001b[0m\n",
      "\u001b[0;32m~/miniconda3/envs/p3/lib/python3.7/site-packages/pandas/io/parsers.py\u001b[0m in \u001b[0;36mparser_f\u001b[0;34m(filepath_or_buffer, sep, delimiter, header, names, index_col, usecols, squeeze, prefix, mangle_dupe_cols, dtype, engine, converters, true_values, false_values, skipinitialspace, skiprows, nrows, na_values, keep_default_na, na_filter, verbose, skip_blank_lines, parse_dates, infer_datetime_format, keep_date_col, date_parser, dayfirst, iterator, chunksize, compression, thousands, decimal, lineterminator, quotechar, quoting, escapechar, comment, encoding, dialect, tupleize_cols, error_bad_lines, warn_bad_lines, skipfooter, doublequote, delim_whitespace, low_memory, memory_map, float_precision)\u001b[0m\n\u001b[1;32m    676\u001b[0m                     skip_blank_lines=skip_blank_lines)\n\u001b[1;32m    677\u001b[0m \u001b[0;34m\u001b[0m\u001b[0m\n\u001b[0;32m--> 678\u001b[0;31m         \u001b[0;32mreturn\u001b[0m \u001b[0m_read\u001b[0m\u001b[0;34m(\u001b[0m\u001b[0mfilepath_or_buffer\u001b[0m\u001b[0;34m,\u001b[0m \u001b[0mkwds\u001b[0m\u001b[0;34m)\u001b[0m\u001b[0;34m\u001b[0m\u001b[0;34m\u001b[0m\u001b[0m\n\u001b[0m\u001b[1;32m    679\u001b[0m \u001b[0;34m\u001b[0m\u001b[0m\n\u001b[1;32m    680\u001b[0m     \u001b[0mparser_f\u001b[0m\u001b[0;34m.\u001b[0m\u001b[0m__name__\u001b[0m \u001b[0;34m=\u001b[0m \u001b[0mname\u001b[0m\u001b[0;34m\u001b[0m\u001b[0;34m\u001b[0m\u001b[0m\n",
      "\u001b[0;32m~/miniconda3/envs/p3/lib/python3.7/site-packages/pandas/io/parsers.py\u001b[0m in \u001b[0;36m_read\u001b[0;34m(filepath_or_buffer, kwds)\u001b[0m\n\u001b[1;32m    438\u001b[0m \u001b[0;34m\u001b[0m\u001b[0m\n\u001b[1;32m    439\u001b[0m     \u001b[0;31m# Create the parser.\u001b[0m\u001b[0;34m\u001b[0m\u001b[0;34m\u001b[0m\u001b[0;34m\u001b[0m\u001b[0m\n\u001b[0;32m--> 440\u001b[0;31m     \u001b[0mparser\u001b[0m \u001b[0;34m=\u001b[0m \u001b[0mTextFileReader\u001b[0m\u001b[0;34m(\u001b[0m\u001b[0mfilepath_or_buffer\u001b[0m\u001b[0;34m,\u001b[0m \u001b[0;34m**\u001b[0m\u001b[0mkwds\u001b[0m\u001b[0;34m)\u001b[0m\u001b[0;34m\u001b[0m\u001b[0;34m\u001b[0m\u001b[0m\n\u001b[0m\u001b[1;32m    441\u001b[0m \u001b[0;34m\u001b[0m\u001b[0m\n\u001b[1;32m    442\u001b[0m     \u001b[0;32mif\u001b[0m \u001b[0mchunksize\u001b[0m \u001b[0;32mor\u001b[0m \u001b[0miterator\u001b[0m\u001b[0;34m:\u001b[0m\u001b[0;34m\u001b[0m\u001b[0;34m\u001b[0m\u001b[0m\n",
      "\u001b[0;32m~/miniconda3/envs/p3/lib/python3.7/site-packages/pandas/io/parsers.py\u001b[0m in \u001b[0;36m__init__\u001b[0;34m(self, f, engine, **kwds)\u001b[0m\n\u001b[1;32m    785\u001b[0m             \u001b[0mself\u001b[0m\u001b[0;34m.\u001b[0m\u001b[0moptions\u001b[0m\u001b[0;34m[\u001b[0m\u001b[0;34m'has_index_names'\u001b[0m\u001b[0;34m]\u001b[0m \u001b[0;34m=\u001b[0m \u001b[0mkwds\u001b[0m\u001b[0;34m[\u001b[0m\u001b[0;34m'has_index_names'\u001b[0m\u001b[0;34m]\u001b[0m\u001b[0;34m\u001b[0m\u001b[0;34m\u001b[0m\u001b[0m\n\u001b[1;32m    786\u001b[0m \u001b[0;34m\u001b[0m\u001b[0m\n\u001b[0;32m--> 787\u001b[0;31m         \u001b[0mself\u001b[0m\u001b[0;34m.\u001b[0m\u001b[0m_make_engine\u001b[0m\u001b[0;34m(\u001b[0m\u001b[0mself\u001b[0m\u001b[0;34m.\u001b[0m\u001b[0mengine\u001b[0m\u001b[0;34m)\u001b[0m\u001b[0;34m\u001b[0m\u001b[0;34m\u001b[0m\u001b[0m\n\u001b[0m\u001b[1;32m    788\u001b[0m \u001b[0;34m\u001b[0m\u001b[0m\n\u001b[1;32m    789\u001b[0m     \u001b[0;32mdef\u001b[0m \u001b[0mclose\u001b[0m\u001b[0;34m(\u001b[0m\u001b[0mself\u001b[0m\u001b[0;34m)\u001b[0m\u001b[0;34m:\u001b[0m\u001b[0;34m\u001b[0m\u001b[0;34m\u001b[0m\u001b[0m\n",
      "\u001b[0;32m~/miniconda3/envs/p3/lib/python3.7/site-packages/pandas/io/parsers.py\u001b[0m in \u001b[0;36m_make_engine\u001b[0;34m(self, engine)\u001b[0m\n\u001b[1;32m   1012\u001b[0m     \u001b[0;32mdef\u001b[0m \u001b[0m_make_engine\u001b[0m\u001b[0;34m(\u001b[0m\u001b[0mself\u001b[0m\u001b[0;34m,\u001b[0m \u001b[0mengine\u001b[0m\u001b[0;34m=\u001b[0m\u001b[0;34m'c'\u001b[0m\u001b[0;34m)\u001b[0m\u001b[0;34m:\u001b[0m\u001b[0;34m\u001b[0m\u001b[0;34m\u001b[0m\u001b[0m\n\u001b[1;32m   1013\u001b[0m         \u001b[0;32mif\u001b[0m \u001b[0mengine\u001b[0m \u001b[0;34m==\u001b[0m \u001b[0;34m'c'\u001b[0m\u001b[0;34m:\u001b[0m\u001b[0;34m\u001b[0m\u001b[0;34m\u001b[0m\u001b[0m\n\u001b[0;32m-> 1014\u001b[0;31m             \u001b[0mself\u001b[0m\u001b[0;34m.\u001b[0m\u001b[0m_engine\u001b[0m \u001b[0;34m=\u001b[0m \u001b[0mCParserWrapper\u001b[0m\u001b[0;34m(\u001b[0m\u001b[0mself\u001b[0m\u001b[0;34m.\u001b[0m\u001b[0mf\u001b[0m\u001b[0;34m,\u001b[0m \u001b[0;34m**\u001b[0m\u001b[0mself\u001b[0m\u001b[0;34m.\u001b[0m\u001b[0moptions\u001b[0m\u001b[0;34m)\u001b[0m\u001b[0;34m\u001b[0m\u001b[0;34m\u001b[0m\u001b[0m\n\u001b[0m\u001b[1;32m   1015\u001b[0m         \u001b[0;32melse\u001b[0m\u001b[0;34m:\u001b[0m\u001b[0;34m\u001b[0m\u001b[0;34m\u001b[0m\u001b[0m\n\u001b[1;32m   1016\u001b[0m             \u001b[0;32mif\u001b[0m \u001b[0mengine\u001b[0m \u001b[0;34m==\u001b[0m \u001b[0;34m'python'\u001b[0m\u001b[0;34m:\u001b[0m\u001b[0;34m\u001b[0m\u001b[0;34m\u001b[0m\u001b[0m\n",
      "\u001b[0;32m~/miniconda3/envs/p3/lib/python3.7/site-packages/pandas/io/parsers.py\u001b[0m in \u001b[0;36m__init__\u001b[0;34m(self, src, **kwds)\u001b[0m\n\u001b[1;32m   1706\u001b[0m         \u001b[0mkwds\u001b[0m\u001b[0;34m[\u001b[0m\u001b[0;34m'usecols'\u001b[0m\u001b[0;34m]\u001b[0m \u001b[0;34m=\u001b[0m \u001b[0mself\u001b[0m\u001b[0;34m.\u001b[0m\u001b[0musecols\u001b[0m\u001b[0;34m\u001b[0m\u001b[0;34m\u001b[0m\u001b[0m\n\u001b[1;32m   1707\u001b[0m \u001b[0;34m\u001b[0m\u001b[0m\n\u001b[0;32m-> 1708\u001b[0;31m         \u001b[0mself\u001b[0m\u001b[0;34m.\u001b[0m\u001b[0m_reader\u001b[0m \u001b[0;34m=\u001b[0m \u001b[0mparsers\u001b[0m\u001b[0;34m.\u001b[0m\u001b[0mTextReader\u001b[0m\u001b[0;34m(\u001b[0m\u001b[0msrc\u001b[0m\u001b[0;34m,\u001b[0m \u001b[0;34m**\u001b[0m\u001b[0mkwds\u001b[0m\u001b[0;34m)\u001b[0m\u001b[0;34m\u001b[0m\u001b[0;34m\u001b[0m\u001b[0m\n\u001b[0m\u001b[1;32m   1709\u001b[0m \u001b[0;34m\u001b[0m\u001b[0m\n\u001b[1;32m   1710\u001b[0m         \u001b[0mpassed_names\u001b[0m \u001b[0;34m=\u001b[0m \u001b[0mself\u001b[0m\u001b[0;34m.\u001b[0m\u001b[0mnames\u001b[0m \u001b[0;32mis\u001b[0m \u001b[0;32mNone\u001b[0m\u001b[0;34m\u001b[0m\u001b[0;34m\u001b[0m\u001b[0m\n",
      "\u001b[0;32mpandas/_libs/parsers.pyx\u001b[0m in \u001b[0;36mpandas._libs.parsers.TextReader.__cinit__\u001b[0;34m()\u001b[0m\n",
      "\u001b[0;32mpandas/_libs/parsers.pyx\u001b[0m in \u001b[0;36mpandas._libs.parsers.TextReader._setup_parser_source\u001b[0;34m()\u001b[0m\n",
      "\u001b[0;31mFileNotFoundError\u001b[0m: File b'data/2016SampleSubmissionWithFeatures.csv' does not exist"
     ]
    }
   ],
   "source": [
    "def write_submission_file(model, featureList, submission_output_file): # see submission.ipynb for details\n",
    "    import pandas as pd\n",
    "    sample_df = pd.read_csv('data/2016SampleSubmissionWithFeatures.csv', index_col=0)\n",
    "    Xsample = sample_df[featureList].values\n",
    "    sample_df['Pred'] = model.predict_proba(Xsample)[:,1] # predict_proba returns [prob label is 0, prob label is 1], kaggle wants 2nd column\n",
    "    submission = sample_df[['Id', 'Pred']]\n",
    "    submission.to_csv(submission_output_file, encoding='ascii', index=False)\n",
    "submission_output_file = \"data/submissionRF6000.csv\"\n",
    "write_submission_file(model, featureList, submission_output_file)"
   ]
  },
  {
   "cell_type": "code",
   "execution_count": 107,
   "metadata": {},
   "outputs": [
    {
     "data": {
      "text/html": [
       "<div>\n",
       "<table border=\"1\" class=\"dataframe\">\n",
       "  <thead>\n",
       "    <tr style=\"text-align: right;\">\n",
       "      <th></th>\n",
       "      <th>Pred</th>\n",
       "    </tr>\n",
       "    <tr>\n",
       "      <th>Id</th>\n",
       "      <th></th>\n",
       "    </tr>\n",
       "  </thead>\n",
       "  <tbody>\n",
       "    <tr>\n",
       "      <th>2016_1112_1114</th>\n",
       "      <td>0.648</td>\n",
       "    </tr>\n",
       "    <tr>\n",
       "      <th>2016_1112_1122</th>\n",
       "      <td>0.780</td>\n",
       "    </tr>\n",
       "    <tr>\n",
       "      <th>2016_1112_1124</th>\n",
       "      <td>0.658</td>\n",
       "    </tr>\n",
       "    <tr>\n",
       "      <th>2016_1112_1138</th>\n",
       "      <td>0.773</td>\n",
       "    </tr>\n",
       "    <tr>\n",
       "      <th>2016_1112_1139</th>\n",
       "      <td>0.690</td>\n",
       "    </tr>\n",
       "  </tbody>\n",
       "</table>\n",
       "</div>"
      ],
      "text/plain": [
       "                 Pred\n",
       "Id                   \n",
       "2016_1112_1114  0.648\n",
       "2016_1112_1122  0.780\n",
       "2016_1112_1124  0.658\n",
       "2016_1112_1138  0.773\n",
       "2016_1112_1139  0.690"
      ]
     },
     "execution_count": 107,
     "metadata": {},
     "output_type": "execute_result"
    }
   ],
   "source": [
    "submission_df = pd.read_csv(submission_output_file, index_col=0)\n",
    "submission_df.head()"
   ]
  },
  {
   "cell_type": "code",
   "execution_count": null,
   "metadata": {
    "collapsed": true
   },
   "outputs": [],
   "source": []
  }
 ],
 "metadata": {
  "kernelspec": {
   "display_name": "Python 3",
   "language": "python",
   "name": "python3"
  },
  "language_info": {
   "codemirror_mode": {
    "name": "ipython",
    "version": 3
   },
   "file_extension": ".py",
   "mimetype": "text/x-python",
   "name": "python",
   "nbconvert_exporter": "python",
   "pygments_lexer": "ipython3",
   "version": "3.7.2"
  }
 },
 "nbformat": 4,
 "nbformat_minor": 1
}
