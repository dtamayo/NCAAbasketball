{
 "cells": [
  {
   "cell_type": "code",
   "execution_count": 3,
   "metadata": {
    "collapsed": true
   },
   "outputs": [],
   "source": [
    "import pandas as pd\n",
    "import numpy as np\n",
    "\n",
    "class FeatureFileGenerator(object):\n",
    "    def __init__(self):\n",
    "        np.random.seed(0) # seed so we always get same answer\n",
    "    \n",
    "    def new_file(self, filename):\n",
    "        t_df = pd.read_csv('data/TourneyCompactResults.csv')\n",
    "        t_df = self.randomize_teams(t_df)\n",
    "        t_df['TourneyGame'] = np.full(t_df.shape[0], 1)\n",
    "                \n",
    "        s_df = pd.read_csv('data/RegularSeasonCompactResults.csv')\n",
    "        s_df = self.randomize_teams(s_df)\n",
    "        s_df['TourneyGame'] = np.full(s_df.shape[0], 0)\n",
    "        \n",
    "        df = pd.concat([t_df, s_df], ignore_index=True)\n",
    "        df.to_csv(filename, encoding='ascii')\n",
    "        \n",
    "    def randomize_teams(self, df):\n",
    "        df = df[df['Season'] > 2002]\n",
    "        \n",
    "        Ngames = df.shape[0]\n",
    "        df['team0Win'] = np.random.randint(2,size=Ngames)\n",
    "        \n",
    "        for feature in [self.team0, self.team1]:\n",
    "            df[feature.__name__] = df.apply(feature, axis=1)\n",
    "        \n",
    "        return df\n",
    "\n",
    "    def team0(self, game):\n",
    "        if game['team0Win'] == 1:\n",
    "            return game['Wteam']\n",
    "        else:\n",
    "            return game['Lteam']\n",
    "\n",
    "    def team1(self, game):\n",
    "        if game['team0Win'] == 1:\n",
    "            return game['Lteam']\n",
    "        else:\n",
    "            return game['Wteam']"
   ]
  },
  {
   "cell_type": "code",
   "execution_count": 4,
   "metadata": {
    "collapsed": false
   },
   "outputs": [],
   "source": [
    "import ipyparallel as ipp\n",
    "c = ipp.Client()\n",
    "view = c.direct_view()"
   ]
  },
  {
   "cell_type": "code",
   "execution_count": 5,
   "metadata": {
    "collapsed": true
   },
   "outputs": [],
   "source": [
    "%%px --local\n",
    "\n",
    "import numpy as np\n",
    "import pandas as pd\n",
    "\n",
    "class FeatureAdder(object):\n",
    "    def __init__(self, df):\n",
    "        self.df = df\n",
    "        \n",
    "    def feature01(self, feature):\n",
    "        def mod(game):\n",
    "            f0 = team_features_df.loc[(team_features_df['Team_Id'] == game['team0']) & in_season[game['Season']], feature.__name__].values[0]\n",
    "            f1 = team_features_df.loc[(team_features_df['Team_Id'] == game['team1']) & in_season[game['Season']], feature.__name__].values[0]\n",
    "            return pd.Series({feature.__name__+'0':f0, feature.__name__+'1':f1})\n",
    "        return mod\n",
    "     \n",
    "    def massey(self):\n",
    "        self.massey_init()\n",
    "        self.df = pd.concat([self.df, self.df.apply(self.massey_game, axis=1)], axis=1)\n",
    "\n",
    "    def massey_init(self):\n",
    "        self.massey_df = pd.read_csv('data/massey_ordinals_2003-2015.csv')\n",
    "        \n",
    "        # Create dictionaries for boolean masks\n",
    "\n",
    "        self.massey_seasons = self.massey_df['season'].unique()\n",
    "        self.in_massey_season = dict(zip(self.massey_seasons, [self.massey_df['season'] == i for i in self.massey_seasons]))\n",
    "\n",
    "        self.massey_day_nums = self.massey_df['rating_day_num'].unique()\n",
    "        self.is_massey_day_num = dict(zip(self.massey_day_nums, [self.massey_df['rating_day_num'] == i for i in self.massey_day_nums]))\n",
    "\n",
    "        self.massey_teams = self.massey_df['team'].unique()\n",
    "        self.is_massey_team = dict(zip(self.massey_teams, [self.massey_df['team'] == i for i in self.massey_teams]))\n",
    "\n",
    "        self.massey_systems = self.massey_df['sys_name'].unique()\n",
    "        self.is_massey_system = dict(zip(self.massey_systems, [self.massey_df['sys_name'] == i for i in self.massey_systems]))\n",
    "\n",
    "    def massey_game(self, game): # add here any features specific to a game, i.e., how do teams interact       \n",
    "        try:\n",
    "            daynum = game['Daynum']\n",
    "        except:\n",
    "            daynum = 134 # submission file games don't have daynum, but are all after day 133 (last day before tourney)\n",
    "\n",
    "        latest_day = np.max(self.massey_day_nums[self.massey_day_nums < daynum]) # only take ordinals from dates that happened before the game, and take latest one of those\n",
    "        ordinals0 = [self.getOrdinal(game['Season'], self.massey_systems[i], latest_day, game['team0']) for i in range(len(self.massey_systems))]\n",
    "        ordinals1 = [self.getOrdinal(game['Season'], self.massey_systems[i], latest_day, game['team1']) for i in range(len(self.massey_systems))]\n",
    "        f0 = pd.Series(ordinals0, index=[self.massey_systems[i]+'0' for i in range(len(self.massey_systems))])   \n",
    "        f1 = pd.Series(ordinals1, index=[self.massey_systems[i]+'1' for i in range(len(self.massey_systems))])   \n",
    "        return pd.concat([f0,f1])\n",
    "    \n",
    "    def getOrdinal(self, season, system, day, team):\n",
    "        try:\n",
    "            ordinal = np.float64(self.massey_df.loc[self.in_massey_season[season] & self.is_massey_system[system] & self.is_massey_day_num[day] & self.is_massey_team[team], 'orank'].values[0])\n",
    "        except IndexError:\n",
    "            ordinal = np.nan\n",
    "        return ordinal\n",
    "\n",
    "def add_features(df):\n",
    "    dfa = FeatureAdder(df)\n",
    "    dfa.massey()\n",
    "    return dfa.df"
   ]
  },
  {
   "cell_type": "code",
   "execution_count": 93,
   "metadata": {
    "collapsed": false
   },
   "outputs": [
    {
     "name": "stderr",
     "output_type": "stream",
     "text": [
      "/Users/dtamayo/miniconda2/envs/p3/lib/python3.5/site-packages/ipykernel/__main__.py:24: SettingWithCopyWarning: \n",
      "A value is trying to be set on a copy of a slice from a DataFrame.\n",
      "Try using .loc[row_indexer,col_indexer] = value instead\n",
      "\n",
      "See the caveats in the documentation: http://pandas.pydata.org/pandas-docs/stable/indexing.html#indexing-view-versus-copy\n",
      "/Users/dtamayo/miniconda2/envs/p3/lib/python3.5/site-packages/ipykernel/__main__.py:27: SettingWithCopyWarning: \n",
      "A value is trying to be set on a copy of a slice from a DataFrame.\n",
      "Try using .loc[row_indexer,col_indexer] = value instead\n",
      "\n",
      "See the caveats in the documentation: http://pandas.pydata.org/pandas-docs/stable/indexing.html#indexing-view-versus-copy\n",
      "/Users/dtamayo/miniconda2/envs/p3/lib/python3.5/site-packages/numpy/core/numeric.py:294: FutureWarning: in the future, full(847, 1) will return an array of dtype('int64')\n",
      "  format(shape, fill_value, array(fill_value).dtype), FutureWarning)\n",
      "/Users/dtamayo/miniconda2/envs/p3/lib/python3.5/site-packages/numpy/core/numeric.py:294: FutureWarning: in the future, full(65872, 0) will return an array of dtype('int64')\n",
      "  format(shape, fill_value, array(fill_value).dtype), FutureWarning)\n"
     ]
    }
   ],
   "source": [
    "f = FeatureFileGenerator()\n",
    "f.new_file('data/fulldata.csv')"
   ]
  },
  {
   "cell_type": "code",
   "execution_count": 6,
   "metadata": {
    "collapsed": false
   },
   "outputs": [],
   "source": [
    "df = pd.read_csv('data/fulldata.csv', index_col=0)"
   ]
  },
  {
   "cell_type": "code",
   "execution_count": 15,
   "metadata": {
    "collapsed": false
   },
   "outputs": [
    {
     "data": {
      "text/plain": [
       "(66719, 12)"
      ]
     },
     "execution_count": 15,
     "metadata": {},
     "output_type": "execute_result"
    }
   ],
   "source": [
    "df.shape"
   ]
  },
  {
   "cell_type": "code",
   "execution_count": 19,
   "metadata": {
    "collapsed": true
   },
   "outputs": [],
   "source": [
    "testdf = np.array_split(df,30000)[-1]"
   ]
  },
  {
   "cell_type": "code",
   "execution_count": 20,
   "metadata": {
    "collapsed": false
   },
   "outputs": [
    {
     "data": {
      "text/html": [
       "<div>\n",
       "<table border=\"1\" class=\"dataframe\">\n",
       "  <thead>\n",
       "    <tr style=\"text-align: right;\">\n",
       "      <th></th>\n",
       "      <th>Season</th>\n",
       "      <th>Daynum</th>\n",
       "      <th>Wteam</th>\n",
       "      <th>Wscore</th>\n",
       "      <th>Lteam</th>\n",
       "      <th>Lscore</th>\n",
       "      <th>Wloc</th>\n",
       "      <th>Numot</th>\n",
       "      <th>team0Win</th>\n",
       "      <th>team0</th>\n",
       "      <th>team1</th>\n",
       "      <th>TourneyGame</th>\n",
       "    </tr>\n",
       "  </thead>\n",
       "  <tbody>\n",
       "    <tr>\n",
       "      <th>66717</th>\n",
       "      <td>2015</td>\n",
       "      <td>132</td>\n",
       "      <td>1433</td>\n",
       "      <td>71</td>\n",
       "      <td>1173</td>\n",
       "      <td>65</td>\n",
       "      <td>N</td>\n",
       "      <td>0</td>\n",
       "      <td>1</td>\n",
       "      <td>1433</td>\n",
       "      <td>1173</td>\n",
       "      <td>0.0</td>\n",
       "    </tr>\n",
       "    <tr>\n",
       "      <th>66718</th>\n",
       "      <td>2015</td>\n",
       "      <td>132</td>\n",
       "      <td>1458</td>\n",
       "      <td>80</td>\n",
       "      <td>1277</td>\n",
       "      <td>69</td>\n",
       "      <td>N</td>\n",
       "      <td>1</td>\n",
       "      <td>0</td>\n",
       "      <td>1277</td>\n",
       "      <td>1458</td>\n",
       "      <td>0.0</td>\n",
       "    </tr>\n",
       "  </tbody>\n",
       "</table>\n",
       "</div>"
      ],
      "text/plain": [
       "       Season  Daynum  Wteam  Wscore  Lteam  Lscore Wloc  Numot  team0Win  \\\n",
       "66717    2015     132   1433      71   1173      65    N      0         1   \n",
       "66718    2015     132   1458      80   1277      69    N      1         0   \n",
       "\n",
       "       team0  team1  TourneyGame  \n",
       "66717   1433   1173          0.0  \n",
       "66718   1277   1458          0.0  "
      ]
     },
     "execution_count": 20,
     "metadata": {},
     "output_type": "execute_result"
    }
   ],
   "source": [
    "testdf.head()"
   ]
  },
  {
   "cell_type": "code",
   "execution_count": 21,
   "metadata": {
    "collapsed": false
   },
   "outputs": [
    {
     "data": {
      "text/plain": [
       "['/Users/dtamayo/Documents/NCAAbasketball',\n",
       " '/Users/dtamayo/Documents/NCAAbasketball']"
      ]
     },
     "execution_count": 21,
     "metadata": {},
     "output_type": "execute_result"
    }
   ],
   "source": [
    "Ncores=2\n",
    "dfsplit = np.array_split(testdf,Ncores)\n",
    "        \n",
    "import os\n",
    "view.map_sync(os.chdir, [os.getcwd()]*Ncores)\n",
    "c[:].apply_sync(os.getcwd)"
   ]
  },
  {
   "cell_type": "code",
   "execution_count": 22,
   "metadata": {
    "collapsed": false
   },
   "outputs": [],
   "source": [
    "dfs = view.map_sync(add_features, dfsplit)"
   ]
  },
  {
   "cell_type": "code",
   "execution_count": 14,
   "metadata": {
    "collapsed": false
   },
   "outputs": [
    {
     "data": {
      "text/html": [
       "<div>\n",
       "<table border=\"1\" class=\"dataframe\">\n",
       "  <thead>\n",
       "    <tr style=\"text-align: right;\">\n",
       "      <th></th>\n",
       "      <th>Season</th>\n",
       "      <th>Daynum</th>\n",
       "      <th>Wteam</th>\n",
       "      <th>Wscore</th>\n",
       "      <th>Lteam</th>\n",
       "      <th>Lscore</th>\n",
       "      <th>Wloc</th>\n",
       "      <th>Numot</th>\n",
       "      <th>team0Win</th>\n",
       "      <th>team0</th>\n",
       "      <th>...</th>\n",
       "      <th>STF1</th>\n",
       "      <th>WMR1</th>\n",
       "      <th>PPR1</th>\n",
       "      <th>MPI1</th>\n",
       "      <th>STS1</th>\n",
       "      <th>UPS1</th>\n",
       "      <th>SPR1</th>\n",
       "      <th>MvG1</th>\n",
       "      <th>TRK1</th>\n",
       "      <th>BWE1</th>\n",
       "    </tr>\n",
       "  </thead>\n",
       "  <tbody>\n",
       "    <tr>\n",
       "      <th>2</th>\n",
       "      <td>2003</td>\n",
       "      <td>136</td>\n",
       "      <td>1113</td>\n",
       "      <td>84</td>\n",
       "      <td>1272</td>\n",
       "      <td>71</td>\n",
       "      <td>N</td>\n",
       "      <td>0</td>\n",
       "      <td>1</td>\n",
       "      <td>1113</td>\n",
       "      <td>...</td>\n",
       "      <td>NaN</td>\n",
       "      <td>NaN</td>\n",
       "      <td>NaN</td>\n",
       "      <td>NaN</td>\n",
       "      <td>NaN</td>\n",
       "      <td>NaN</td>\n",
       "      <td>NaN</td>\n",
       "      <td>NaN</td>\n",
       "      <td>NaN</td>\n",
       "      <td>NaN</td>\n",
       "    </tr>\n",
       "    <tr>\n",
       "      <th>3</th>\n",
       "      <td>2003</td>\n",
       "      <td>136</td>\n",
       "      <td>1141</td>\n",
       "      <td>79</td>\n",
       "      <td>1166</td>\n",
       "      <td>73</td>\n",
       "      <td>N</td>\n",
       "      <td>0</td>\n",
       "      <td>0</td>\n",
       "      <td>1166</td>\n",
       "      <td>...</td>\n",
       "      <td>NaN</td>\n",
       "      <td>NaN</td>\n",
       "      <td>NaN</td>\n",
       "      <td>NaN</td>\n",
       "      <td>NaN</td>\n",
       "      <td>NaN</td>\n",
       "      <td>NaN</td>\n",
       "      <td>NaN</td>\n",
       "      <td>NaN</td>\n",
       "      <td>NaN</td>\n",
       "    </tr>\n",
       "    <tr>\n",
       "      <th>4</th>\n",
       "      <td>2003</td>\n",
       "      <td>136</td>\n",
       "      <td>1143</td>\n",
       "      <td>76</td>\n",
       "      <td>1301</td>\n",
       "      <td>74</td>\n",
       "      <td>N</td>\n",
       "      <td>1</td>\n",
       "      <td>1</td>\n",
       "      <td>1143</td>\n",
       "      <td>...</td>\n",
       "      <td>NaN</td>\n",
       "      <td>NaN</td>\n",
       "      <td>NaN</td>\n",
       "      <td>NaN</td>\n",
       "      <td>NaN</td>\n",
       "      <td>NaN</td>\n",
       "      <td>NaN</td>\n",
       "      <td>NaN</td>\n",
       "      <td>NaN</td>\n",
       "      <td>NaN</td>\n",
       "    </tr>\n",
       "    <tr>\n",
       "      <th>5</th>\n",
       "      <td>2003</td>\n",
       "      <td>136</td>\n",
       "      <td>1163</td>\n",
       "      <td>58</td>\n",
       "      <td>1140</td>\n",
       "      <td>53</td>\n",
       "      <td>N</td>\n",
       "      <td>0</td>\n",
       "      <td>1</td>\n",
       "      <td>1163</td>\n",
       "      <td>...</td>\n",
       "      <td>NaN</td>\n",
       "      <td>NaN</td>\n",
       "      <td>NaN</td>\n",
       "      <td>NaN</td>\n",
       "      <td>NaN</td>\n",
       "      <td>NaN</td>\n",
       "      <td>NaN</td>\n",
       "      <td>NaN</td>\n",
       "      <td>NaN</td>\n",
       "      <td>NaN</td>\n",
       "    </tr>\n",
       "    <tr>\n",
       "      <th>6</th>\n",
       "      <td>2003</td>\n",
       "      <td>136</td>\n",
       "      <td>1181</td>\n",
       "      <td>67</td>\n",
       "      <td>1161</td>\n",
       "      <td>57</td>\n",
       "      <td>N</td>\n",
       "      <td>0</td>\n",
       "      <td>1</td>\n",
       "      <td>1181</td>\n",
       "      <td>...</td>\n",
       "      <td>NaN</td>\n",
       "      <td>NaN</td>\n",
       "      <td>NaN</td>\n",
       "      <td>NaN</td>\n",
       "      <td>NaN</td>\n",
       "      <td>NaN</td>\n",
       "      <td>NaN</td>\n",
       "      <td>NaN</td>\n",
       "      <td>NaN</td>\n",
       "      <td>NaN</td>\n",
       "    </tr>\n",
       "  </tbody>\n",
       "</table>\n",
       "<p>5 rows × 276 columns</p>\n",
       "</div>"
      ],
      "text/plain": [
       "   Season  Daynum  Wteam  Wscore  Lteam  Lscore Wloc  Numot  team0Win  team0  \\\n",
       "2    2003     136   1113      84   1272      71    N      0         1   1113   \n",
       "3    2003     136   1141      79   1166      73    N      0         0   1166   \n",
       "4    2003     136   1143      76   1301      74    N      1         1   1143   \n",
       "5    2003     136   1163      58   1140      53    N      0         1   1163   \n",
       "6    2003     136   1181      67   1161      57    N      0         1   1181   \n",
       "\n",
       "   ...   STF1  WMR1  PPR1  MPI1  STS1  UPS1  SPR1  MvG1  TRK1  BWE1  \n",
       "2  ...    NaN   NaN   NaN   NaN   NaN   NaN   NaN   NaN   NaN   NaN  \n",
       "3  ...    NaN   NaN   NaN   NaN   NaN   NaN   NaN   NaN   NaN   NaN  \n",
       "4  ...    NaN   NaN   NaN   NaN   NaN   NaN   NaN   NaN   NaN   NaN  \n",
       "5  ...    NaN   NaN   NaN   NaN   NaN   NaN   NaN   NaN   NaN   NaN  \n",
       "6  ...    NaN   NaN   NaN   NaN   NaN   NaN   NaN   NaN   NaN   NaN  \n",
       "\n",
       "[5 rows x 276 columns]"
      ]
     },
     "execution_count": 14,
     "metadata": {},
     "output_type": "execute_result"
    }
   ],
   "source": [
    "dfnew = pd.concat([df for df in dfs])\n",
    "dfnew.tail()"
   ]
  },
  {
   "cell_type": "code",
   "execution_count": 101,
   "metadata": {
    "collapsed": true
   },
   "outputs": [],
   "source": [
    "dfnew = pd.concat([df for df in dfs])\n",
    "dfnew.to_csv('data/test.csv', encoding='ascii')"
   ]
  }
 ],
 "metadata": {
  "kernelspec": {
   "display_name": "Python 3",
   "language": "python",
   "name": "python3"
  },
  "language_info": {
   "codemirror_mode": {
    "name": "ipython",
    "version": 3
   },
   "file_extension": ".py",
   "mimetype": "text/x-python",
   "name": "python",
   "nbconvert_exporter": "python",
   "pygments_lexer": "ipython3",
   "version": "3.5.1"
  }
 },
 "nbformat": 4,
 "nbformat_minor": 0
}
