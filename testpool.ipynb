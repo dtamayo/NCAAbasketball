{
 "cells": [
  {
   "cell_type": "code",
   "execution_count": 1,
   "metadata": {},
   "outputs": [],
   "source": [
    "import numpy as np\n",
    "import pandas as pd\n",
    "import matplotlib.pyplot as plt\n",
    "from calcutta import Syndicate, Calcutta\n",
    "\n",
    "try:\n",
    "    plt.style.use('paper')\n",
    "except:\n",
    "    print(\"plot style not found\")"
   ]
  },
  {
   "cell_type": "code",
   "execution_count": 2,
   "metadata": {},
   "outputs": [],
   "source": [
    "year='2015'\n",
    "poolactual = 944.\n",
    "poolestimate =944.\n",
    "draftfull = pd.read_pickle(year+'/draftfull.pkl')\n",
    "simtourneys = np.load(year+'/simtourneys.npy')\n",
    "bracketfile = year+'/bracket.pkl'\n",
    "calcutta = Calcutta(['Medlen', 'Duke', 'Robbie', 'Raj', 'Prasad'], poolestimate=poolestimate., bracketfile=year+'/bracket.pkl', simtourneysfile=year+'/simtourneys.npy')"
   ]
  },
  {
   "cell_type": "code",
   "execution_count": 3,
   "metadata": {},
   "outputs": [
    {
     "data": {
      "text/html": [
       "<div>\n",
       "<style scoped>\n",
       "    .dataframe tbody tr th:only-of-type {\n",
       "        vertical-align: middle;\n",
       "    }\n",
       "\n",
       "    .dataframe tbody tr th {\n",
       "        vertical-align: top;\n",
       "    }\n",
       "\n",
       "    .dataframe thead th {\n",
       "        text-align: right;\n",
       "    }\n",
       "</style>\n",
       "<table border=\"1\" class=\"dataframe\">\n",
       "  <thead>\n",
       "    <tr style=\"text-align: right;\">\n",
       "      <th></th>\n",
       "      <th>Team</th>\n",
       "      <th>Mason Team</th>\n",
       "      <th>TeamID</th>\n",
       "      <th>Seed</th>\n",
       "      <th>Fraction Owned</th>\n",
       "      <th>Amount</th>\n",
       "      <th>Syndicate</th>\n",
       "    </tr>\n",
       "  </thead>\n",
       "  <tbody>\n",
       "    <tr>\n",
       "      <th>0</th>\n",
       "      <td>Villanova</td>\n",
       "      <td>Villanova</td>\n",
       "      <td>1437</td>\n",
       "      <td>1</td>\n",
       "      <td>1.0</td>\n",
       "      <td>35.0</td>\n",
       "      <td>Duke</td>\n",
       "    </tr>\n",
       "    <tr>\n",
       "      <th>1</th>\n",
       "      <td>SF Austin</td>\n",
       "      <td>Stephen F. Austin</td>\n",
       "      <td>1372</td>\n",
       "      <td>12</td>\n",
       "      <td>1.0</td>\n",
       "      <td>2.0</td>\n",
       "      <td>Duke</td>\n",
       "    </tr>\n",
       "    <tr>\n",
       "      <th>2</th>\n",
       "      <td>Arizona</td>\n",
       "      <td>Arizona</td>\n",
       "      <td>1112</td>\n",
       "      <td>2</td>\n",
       "      <td>1.0</td>\n",
       "      <td>45.0</td>\n",
       "      <td>Duke</td>\n",
       "    </tr>\n",
       "    <tr>\n",
       "      <th>3</th>\n",
       "      <td>Ohio St</td>\n",
       "      <td>Ohio State</td>\n",
       "      <td>1326</td>\n",
       "      <td>10</td>\n",
       "      <td>1.0</td>\n",
       "      <td>7.0</td>\n",
       "      <td>Duke</td>\n",
       "    </tr>\n",
       "    <tr>\n",
       "      <th>4</th>\n",
       "      <td>Davidson</td>\n",
       "      <td>Davidson</td>\n",
       "      <td>1172</td>\n",
       "      <td>10</td>\n",
       "      <td>1.0</td>\n",
       "      <td>4.0</td>\n",
       "      <td>Medlen</td>\n",
       "    </tr>\n",
       "  </tbody>\n",
       "</table>\n",
       "</div>"
      ],
      "text/plain": [
       "        Team         Mason Team TeamID Seed  Fraction Owned  Amount Syndicate\n",
       "0  Villanova          Villanova   1437    1             1.0    35.0      Duke\n",
       "1  SF Austin  Stephen F. Austin   1372   12             1.0     2.0      Duke\n",
       "2    Arizona            Arizona   1112    2             1.0    45.0      Duke\n",
       "3    Ohio St         Ohio State   1326   10             1.0     7.0      Duke\n",
       "4   Davidson           Davidson   1172   10             1.0     4.0    Medlen"
      ]
     },
     "execution_count": 3,
     "metadata": {},
     "output_type": "execute_result"
    }
   ],
   "source": [
    "draftfull.head()"
   ]
  },
  {
   "cell_type": "code",
   "execution_count": null,
   "metadata": {},
   "outputs": [],
   "source": [
    "pools = []\n",
    "for i, row in draftfull.iterrows():\n",
    "    pools.append(calcutta.poolestimate)\n",
    "    calcutta.buy(row['Team'], row['Syndicate'], row['Amount'], plot=False)"
   ]
  },
  {
   "cell_type": "code",
   "execution_count": null,
   "metadata": {},
   "outputs": [],
   "source": [
    "fig, ax = plt.subplots()\n",
    "ax.plot(range(len(pools)), (np.array(pools)-poolactual)/poolactual, '.')"
   ]
  }
 ],
 "metadata": {
  "kernelspec": {
   "display_name": "Python 3",
   "language": "python",
   "name": "python3"
  },
  "language_info": {
   "codemirror_mode": {
    "name": "ipython",
    "version": 3
   },
   "file_extension": ".py",
   "mimetype": "text/x-python",
   "name": "python",
   "nbconvert_exporter": "python",
   "pygments_lexer": "ipython3",
   "version": "3.7.2"
  }
 },
 "nbformat": 4,
 "nbformat_minor": 2
}
