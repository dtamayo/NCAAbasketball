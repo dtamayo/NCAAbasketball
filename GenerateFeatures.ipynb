{
 "cells": [
  {
   "cell_type": "markdown",
   "metadata": {},
   "source": [
    "# Input Filenames Here\n",
    "\n",
    "`season_data_file` is the data file from which to create features (could be only fraction of regular season in future). `team_features_output_file` is the filename where the features for each team will be saved."
   ]
  },
  {
   "cell_type": "code",
   "execution_count": 1,
   "metadata": {
    "collapsed": false
   },
   "outputs": [],
   "source": [
    "season_data_file = 'data/RegularSeasonDetailedResults.csv' \n",
    "team_features_output_file = 'data/team_features.csv'"
   ]
  },
  {
   "cell_type": "code",
   "execution_count": 2,
   "metadata": {
    "collapsed": false
   },
   "outputs": [],
   "source": [
    "import pandas as pd\n",
    "import numpy as np\n",
    "\n",
    "season_df = pd.read_csv(season_data_file)\n",
    "teams_df = pd.read_csv('data/Teams.csv')\n",
    "team_name = dict(zip(teams_df['Team_Id'].values, teams_df['Team_Name'].values))\n",
    "team_id = dict(zip(teams_df['Team_Name'].values, teams_df['Team_Id'].values))\n",
    "\n",
    "# Create dictionaries for boolean masks\n",
    "seasons = season_df['Season'].unique()\n",
    "in_season = dict(zip(seasons, [season_df['Season'] == i for i in seasons]))\n",
    "\n",
    "team_ids = teams_df['Team_Id'].unique()\n",
    "is_winner = dict(zip(team_ids, [season_df['Wteam'] == i for i in team_ids]))\n",
    "is_loser = dict(zip(team_ids, [season_df['Lteam'] == i for i in team_ids]))\n",
    "did_play = dict(zip(team_ids, [(season_df['Wteam'] == i) | (season_df['Lteam'] == i) for i in team_ids]))# winner or loser\n",
    "\n",
    "is_valid = season_df['Wteam'] != 0\n",
    "\n",
    "def avg(feature): # pass string for feature (without W or L to get a function back that calculates average for the season)\n",
    "    def avg_feat(team):\n",
    "        f = pd.concat([season_df.loc[is_winner[team['Team_Id']] & in_season[team['Season']] & is_valid, 'W'+feature], season_df.loc[is_loser[team['Team_Id']] & in_season[team['Season']] & is_valid, 'L'+feature]])\n",
    "        return np.round(f.mean(), decimals=2)\n",
    "    avg_feat.__name__ = 'avg_'+feature\n",
    "    return avg_feat\n",
    "\n",
    "def std(feature): # pass string for feature (without W or L to get a function back that calculates stdev for the season)\n",
    "    def std_feat(team):\n",
    "        f = pd.concat([season_df.loc[is_winner[team['Team_Id']] & in_season[team['Season']] & is_valid, 'W'+feature], season_df.loc[is_loser[team['Team_Id']] & in_season[team['Season']] & is_valid, 'L'+feature]])\n",
    "        return np.round(f.std(), decimals=2)\n",
    "    std_feat.__name__ = 'std_'+feature\n",
    "    return std_feat\n"
   ]
  },
  {
   "cell_type": "markdown",
   "metadata": {},
   "source": [
    "# ADD NEW TEAM FEATURES HERE (at bottom of cell below)\n",
    "\n",
    "Add your new features specific to a team here, see tutorial at bottom of notebook.  You can create features that generate simple averages or standard deviations of features in the detailed data using the avg and std functions above.  What you add here to `teamfList` are the features that will be appended to the data file."
   ]
  },
  {
   "cell_type": "code",
   "execution_count": 6,
   "metadata": {
    "collapsed": false
   },
   "outputs": [
    {
     "data": {
      "text/html": [
       "<div>\n",
       "<table border=\"1\" class=\"dataframe\">\n",
       "  <thead>\n",
       "    <tr style=\"text-align: right;\">\n",
       "      <th></th>\n",
       "      <th>Unnamed: 0</th>\n",
       "      <th>Team_Id</th>\n",
       "      <th>Season</th>\n",
       "      <th>team_name</th>\n",
       "      <th>wins</th>\n",
       "      <th>avg_fgm</th>\n",
       "      <th>std_fgm</th>\n",
       "      <th>avg_fga</th>\n",
       "      <th>std_fga</th>\n",
       "      <th>avg_fgm3</th>\n",
       "      <th>...</th>\n",
       "      <th>avg_ast</th>\n",
       "      <th>std_ast</th>\n",
       "      <th>avg_to</th>\n",
       "      <th>std_to</th>\n",
       "      <th>avg_stl</th>\n",
       "      <th>std_stl</th>\n",
       "      <th>avg_blk</th>\n",
       "      <th>std_blk</th>\n",
       "      <th>avg_pf</th>\n",
       "      <th>std_pf</th>\n",
       "    </tr>\n",
       "  </thead>\n",
       "  <tbody>\n",
       "    <tr>\n",
       "      <th>4727</th>\n",
       "      <td>4727</td>\n",
       "      <td>1464</td>\n",
       "      <td>2011</td>\n",
       "      <td>Youngstown St</td>\n",
       "      <td>7</td>\n",
       "      <td>24.71</td>\n",
       "      <td>3.79</td>\n",
       "      <td>59.75</td>\n",
       "      <td>6.74</td>\n",
       "      <td>7.86</td>\n",
       "      <td>...</td>\n",
       "      <td>14.71</td>\n",
       "      <td>3.98</td>\n",
       "      <td>12.14</td>\n",
       "      <td>3.51</td>\n",
       "      <td>6.21</td>\n",
       "      <td>2.13</td>\n",
       "      <td>4.82</td>\n",
       "      <td>2.63</td>\n",
       "      <td>20.18</td>\n",
       "      <td>5.22</td>\n",
       "    </tr>\n",
       "    <tr>\n",
       "      <th>4728</th>\n",
       "      <td>4728</td>\n",
       "      <td>1464</td>\n",
       "      <td>2012</td>\n",
       "      <td>Youngstown St</td>\n",
       "      <td>14</td>\n",
       "      <td>23.79</td>\n",
       "      <td>3.54</td>\n",
       "      <td>55.31</td>\n",
       "      <td>6.39</td>\n",
       "      <td>8.52</td>\n",
       "      <td>...</td>\n",
       "      <td>12.69</td>\n",
       "      <td>3.78</td>\n",
       "      <td>11.38</td>\n",
       "      <td>3.96</td>\n",
       "      <td>6.28</td>\n",
       "      <td>2.53</td>\n",
       "      <td>5.31</td>\n",
       "      <td>2.42</td>\n",
       "      <td>16.55</td>\n",
       "      <td>4.49</td>\n",
       "    </tr>\n",
       "    <tr>\n",
       "      <th>4729</th>\n",
       "      <td>4729</td>\n",
       "      <td>1464</td>\n",
       "      <td>2013</td>\n",
       "      <td>Youngstown St</td>\n",
       "      <td>14</td>\n",
       "      <td>23.90</td>\n",
       "      <td>4.05</td>\n",
       "      <td>56.34</td>\n",
       "      <td>8.07</td>\n",
       "      <td>6.66</td>\n",
       "      <td>...</td>\n",
       "      <td>13.21</td>\n",
       "      <td>3.43</td>\n",
       "      <td>11.72</td>\n",
       "      <td>4.16</td>\n",
       "      <td>6.34</td>\n",
       "      <td>2.86</td>\n",
       "      <td>5.31</td>\n",
       "      <td>2.12</td>\n",
       "      <td>17.72</td>\n",
       "      <td>4.15</td>\n",
       "    </tr>\n",
       "    <tr>\n",
       "      <th>4730</th>\n",
       "      <td>4730</td>\n",
       "      <td>1464</td>\n",
       "      <td>2014</td>\n",
       "      <td>Youngstown St</td>\n",
       "      <td>12</td>\n",
       "      <td>25.38</td>\n",
       "      <td>4.09</td>\n",
       "      <td>55.90</td>\n",
       "      <td>7.67</td>\n",
       "      <td>7.59</td>\n",
       "      <td>...</td>\n",
       "      <td>15.00</td>\n",
       "      <td>3.94</td>\n",
       "      <td>11.28</td>\n",
       "      <td>3.02</td>\n",
       "      <td>6.38</td>\n",
       "      <td>2.78</td>\n",
       "      <td>2.48</td>\n",
       "      <td>1.72</td>\n",
       "      <td>19.03</td>\n",
       "      <td>4.34</td>\n",
       "    </tr>\n",
       "    <tr>\n",
       "      <th>4731</th>\n",
       "      <td>4731</td>\n",
       "      <td>1464</td>\n",
       "      <td>2015</td>\n",
       "      <td>Youngstown St</td>\n",
       "      <td>8</td>\n",
       "      <td>25.03</td>\n",
       "      <td>3.80</td>\n",
       "      <td>56.66</td>\n",
       "      <td>7.12</td>\n",
       "      <td>6.62</td>\n",
       "      <td>...</td>\n",
       "      <td>14.00</td>\n",
       "      <td>3.51</td>\n",
       "      <td>11.72</td>\n",
       "      <td>3.27</td>\n",
       "      <td>5.90</td>\n",
       "      <td>2.76</td>\n",
       "      <td>1.93</td>\n",
       "      <td>1.67</td>\n",
       "      <td>18.62</td>\n",
       "      <td>5.52</td>\n",
       "    </tr>\n",
       "  </tbody>\n",
       "</table>\n",
       "<p>5 rows × 31 columns</p>\n",
       "</div>"
      ],
      "text/plain": [
       "      Unnamed: 0  Team_Id  Season      team_name  wins  avg_fgm  std_fgm  \\\n",
       "4727        4727     1464    2011  Youngstown St     7    24.71     3.79   \n",
       "4728        4728     1464    2012  Youngstown St    14    23.79     3.54   \n",
       "4729        4729     1464    2013  Youngstown St    14    23.90     4.05   \n",
       "4730        4730     1464    2014  Youngstown St    12    25.38     4.09   \n",
       "4731        4731     1464    2015  Youngstown St     8    25.03     3.80   \n",
       "\n",
       "      avg_fga  std_fga  avg_fgm3   ...    avg_ast  std_ast  avg_to  std_to  \\\n",
       "4727    59.75     6.74      7.86   ...      14.71     3.98   12.14    3.51   \n",
       "4728    55.31     6.39      8.52   ...      12.69     3.78   11.38    3.96   \n",
       "4729    56.34     8.07      6.66   ...      13.21     3.43   11.72    4.16   \n",
       "4730    55.90     7.67      7.59   ...      15.00     3.94   11.28    3.02   \n",
       "4731    56.66     7.12      6.62   ...      14.00     3.51   11.72    3.27   \n",
       "\n",
       "      avg_stl  std_stl  avg_blk  std_blk  avg_pf  std_pf  \n",
       "4727     6.21     2.13     4.82     2.63   20.18    5.22  \n",
       "4728     6.28     2.53     5.31     2.42   16.55    4.49  \n",
       "4729     6.34     2.86     5.31     2.12   17.72    4.15  \n",
       "4730     6.38     2.78     2.48     1.72   19.03    4.34  \n",
       "4731     5.90     2.76     1.93     1.67   18.62    5.52  \n",
       "\n",
       "[5 rows x 31 columns]"
      ]
     },
     "execution_count": 6,
     "metadata": {},
     "output_type": "execute_result"
    }
   ],
   "source": [
    "team_features_df = pd.read_csv(team_features_output_file)\n",
    "team_features_df.tail()"
   ]
  },
  {
   "cell_type": "code",
   "execution_count": 23,
   "metadata": {
    "collapsed": true
   },
   "outputs": [],
   "source": [
    "def wins(team):  \n",
    "    return season_df.loc[is_winner[team['Team_Id']] & in_season[team['Season']] & is_valid].shape[0]\n",
    "\n",
    "def ftr(team):\n",
    "    fta = pd.concat([season_df.loc[is_winner[team['Team_Id']] & in_season[team['Season']] & is_valid, 'Wfta'], season_df.loc[is_loser[team['Team_Id']] & in_season[team['Season']] & is_valid, 'Lfta']])\n",
    "    fga = pd.concat([season_df.loc[is_winner[team['Team_Id']] & in_season[team['Season']] & is_valid, 'Wfga'], season_df.loc[is_loser[team['Team_Id']] & in_season[team['Season']] & is_valid, 'Lfga']])\n",
    "    ftr = fta/fga\n",
    "    return np.round(ftr.mean(), decimals=2)"
   ]
  },
  {
   "cell_type": "code",
   "execution_count": 8,
   "metadata": {
    "collapsed": false
   },
   "outputs": [
    {
     "data": {
      "text/html": [
       "<div>\n",
       "<table border=\"1\" class=\"dataframe\">\n",
       "  <thead>\n",
       "    <tr style=\"text-align: right;\">\n",
       "      <th></th>\n",
       "      <th>Season</th>\n",
       "      <th>Daynum</th>\n",
       "      <th>Wteam</th>\n",
       "      <th>Wscore</th>\n",
       "      <th>Lteam</th>\n",
       "      <th>Lscore</th>\n",
       "      <th>Wloc</th>\n",
       "      <th>Numot</th>\n",
       "      <th>Wfgm</th>\n",
       "      <th>Wfga</th>\n",
       "      <th>...</th>\n",
       "      <th>Lfga3</th>\n",
       "      <th>Lftm</th>\n",
       "      <th>Lfta</th>\n",
       "      <th>Lor</th>\n",
       "      <th>Ldr</th>\n",
       "      <th>Last</th>\n",
       "      <th>Lto</th>\n",
       "      <th>Lstl</th>\n",
       "      <th>Lblk</th>\n",
       "      <th>Lpf</th>\n",
       "    </tr>\n",
       "  </thead>\n",
       "  <tbody>\n",
       "    <tr>\n",
       "      <th>0</th>\n",
       "      <td>2003</td>\n",
       "      <td>10</td>\n",
       "      <td>1104</td>\n",
       "      <td>68</td>\n",
       "      <td>1328</td>\n",
       "      <td>62</td>\n",
       "      <td>N</td>\n",
       "      <td>0</td>\n",
       "      <td>27</td>\n",
       "      <td>58</td>\n",
       "      <td>...</td>\n",
       "      <td>10</td>\n",
       "      <td>16</td>\n",
       "      <td>22</td>\n",
       "      <td>10</td>\n",
       "      <td>22</td>\n",
       "      <td>8</td>\n",
       "      <td>18</td>\n",
       "      <td>9</td>\n",
       "      <td>2</td>\n",
       "      <td>20</td>\n",
       "    </tr>\n",
       "    <tr>\n",
       "      <th>1</th>\n",
       "      <td>2003</td>\n",
       "      <td>10</td>\n",
       "      <td>1272</td>\n",
       "      <td>70</td>\n",
       "      <td>1393</td>\n",
       "      <td>63</td>\n",
       "      <td>N</td>\n",
       "      <td>0</td>\n",
       "      <td>26</td>\n",
       "      <td>62</td>\n",
       "      <td>...</td>\n",
       "      <td>24</td>\n",
       "      <td>9</td>\n",
       "      <td>20</td>\n",
       "      <td>20</td>\n",
       "      <td>25</td>\n",
       "      <td>7</td>\n",
       "      <td>12</td>\n",
       "      <td>8</td>\n",
       "      <td>6</td>\n",
       "      <td>16</td>\n",
       "    </tr>\n",
       "    <tr>\n",
       "      <th>2</th>\n",
       "      <td>2003</td>\n",
       "      <td>11</td>\n",
       "      <td>1266</td>\n",
       "      <td>73</td>\n",
       "      <td>1437</td>\n",
       "      <td>61</td>\n",
       "      <td>N</td>\n",
       "      <td>0</td>\n",
       "      <td>24</td>\n",
       "      <td>58</td>\n",
       "      <td>...</td>\n",
       "      <td>26</td>\n",
       "      <td>14</td>\n",
       "      <td>23</td>\n",
       "      <td>31</td>\n",
       "      <td>22</td>\n",
       "      <td>9</td>\n",
       "      <td>12</td>\n",
       "      <td>2</td>\n",
       "      <td>5</td>\n",
       "      <td>23</td>\n",
       "    </tr>\n",
       "    <tr>\n",
       "      <th>3</th>\n",
       "      <td>2003</td>\n",
       "      <td>11</td>\n",
       "      <td>1296</td>\n",
       "      <td>56</td>\n",
       "      <td>1457</td>\n",
       "      <td>50</td>\n",
       "      <td>N</td>\n",
       "      <td>0</td>\n",
       "      <td>18</td>\n",
       "      <td>38</td>\n",
       "      <td>...</td>\n",
       "      <td>22</td>\n",
       "      <td>8</td>\n",
       "      <td>15</td>\n",
       "      <td>17</td>\n",
       "      <td>20</td>\n",
       "      <td>9</td>\n",
       "      <td>19</td>\n",
       "      <td>4</td>\n",
       "      <td>3</td>\n",
       "      <td>23</td>\n",
       "    </tr>\n",
       "    <tr>\n",
       "      <th>4</th>\n",
       "      <td>2003</td>\n",
       "      <td>11</td>\n",
       "      <td>1400</td>\n",
       "      <td>77</td>\n",
       "      <td>1208</td>\n",
       "      <td>71</td>\n",
       "      <td>N</td>\n",
       "      <td>0</td>\n",
       "      <td>30</td>\n",
       "      <td>61</td>\n",
       "      <td>...</td>\n",
       "      <td>16</td>\n",
       "      <td>17</td>\n",
       "      <td>27</td>\n",
       "      <td>21</td>\n",
       "      <td>15</td>\n",
       "      <td>12</td>\n",
       "      <td>10</td>\n",
       "      <td>7</td>\n",
       "      <td>1</td>\n",
       "      <td>14</td>\n",
       "    </tr>\n",
       "  </tbody>\n",
       "</table>\n",
       "<p>5 rows × 34 columns</p>\n",
       "</div>"
      ],
      "text/plain": [
       "   Season  Daynum  Wteam  Wscore  Lteam  Lscore Wloc  Numot  Wfgm  Wfga ...   \\\n",
       "0    2003      10   1104      68   1328      62    N      0    27    58 ...    \n",
       "1    2003      10   1272      70   1393      63    N      0    26    62 ...    \n",
       "2    2003      11   1266      73   1437      61    N      0    24    58 ...    \n",
       "3    2003      11   1296      56   1457      50    N      0    18    38 ...    \n",
       "4    2003      11   1400      77   1208      71    N      0    30    61 ...    \n",
       "\n",
       "   Lfga3  Lftm  Lfta  Lor  Ldr  Last  Lto  Lstl  Lblk  Lpf  \n",
       "0     10    16    22   10   22     8   18     9     2   20  \n",
       "1     24     9    20   20   25     7   12     8     6   16  \n",
       "2     26    14    23   31   22     9   12     2     5   23  \n",
       "3     22     8    15   17   20     9   19     4     3   23  \n",
       "4     16    17    27   21   15    12   10     7     1   14  \n",
       "\n",
       "[5 rows x 34 columns]"
      ]
     },
     "execution_count": 8,
     "metadata": {},
     "output_type": "execute_result"
    }
   ],
   "source": [
    "season_df.head()"
   ]
  },
  {
   "cell_type": "code",
   "execution_count": 9,
   "metadata": {
    "collapsed": false
   },
   "outputs": [
    {
     "data": {
      "text/html": [
       "<div>\n",
       "<table border=\"1\" class=\"dataframe\">\n",
       "  <thead>\n",
       "    <tr style=\"text-align: right;\">\n",
       "      <th></th>\n",
       "      <th>Team_Id</th>\n",
       "      <th>Team_Name</th>\n",
       "    </tr>\n",
       "  </thead>\n",
       "  <tbody>\n",
       "    <tr>\n",
       "      <th>0</th>\n",
       "      <td>1101</td>\n",
       "      <td>Abilene Chr</td>\n",
       "    </tr>\n",
       "    <tr>\n",
       "      <th>1</th>\n",
       "      <td>1102</td>\n",
       "      <td>Air Force</td>\n",
       "    </tr>\n",
       "    <tr>\n",
       "      <th>2</th>\n",
       "      <td>1103</td>\n",
       "      <td>Akron</td>\n",
       "    </tr>\n",
       "    <tr>\n",
       "      <th>3</th>\n",
       "      <td>1104</td>\n",
       "      <td>Alabama</td>\n",
       "    </tr>\n",
       "    <tr>\n",
       "      <th>4</th>\n",
       "      <td>1105</td>\n",
       "      <td>Alabama A&amp;M</td>\n",
       "    </tr>\n",
       "  </tbody>\n",
       "</table>\n",
       "</div>"
      ],
      "text/plain": [
       "   Team_Id    Team_Name\n",
       "0     1101  Abilene Chr\n",
       "1     1102    Air Force\n",
       "2     1103        Akron\n",
       "3     1104      Alabama\n",
       "4     1105  Alabama A&M"
      ]
     },
     "execution_count": 9,
     "metadata": {},
     "output_type": "execute_result"
    }
   ],
   "source": [
    "teams_df.head()"
   ]
  },
  {
   "cell_type": "code",
   "execution_count": 22,
   "metadata": {
    "collapsed": false
   },
   "outputs": [
    {
     "data": {
      "text/plain": [
       "45       17\n",
       "485      14\n",
       "821      31\n",
       "1574     20\n",
       "2089     34\n",
       "2194     14\n",
       "2333     21\n",
       "2494     16\n",
       "2804     28\n",
       "2947     19\n",
       "3047     24\n",
       "3113     28\n",
       "3357     19\n",
       "3673     27\n",
       "3976     18\n",
       "4962     25\n",
       "5386     10\n",
       "6259     30\n",
       "6583     35\n",
       "6887     13\n",
       "7519     23\n",
       "7614     19\n",
       "7685     29\n",
       "7921     15\n",
       "8133     21\n",
       "8304     29\n",
       "8610     12\n",
       "8916     33\n",
       "9006     34\n",
       "9266     14\n",
       "         ..\n",
       "49141    16\n",
       "49224    24\n",
       "50118    13\n",
       "50285    16\n",
       "50382    12\n",
       "51016    18\n",
       "52005    29\n",
       "52241    32\n",
       "52552    24\n",
       "52961    25\n",
       "53203     4\n",
       "53283    28\n",
       "54235    19\n",
       "54382    18\n",
       "54473    16\n",
       "55990    31\n",
       "56333    28\n",
       "56544    18\n",
       "58165    18\n",
       "58574    13\n",
       "58899    24\n",
       "59221    22\n",
       "59388    22\n",
       "59782    18\n",
       "59882    30\n",
       "61616    20\n",
       "61784    19\n",
       "63586    13\n",
       "64820     4\n",
       "64897     7\n",
       "Name: Wfta, dtype: int64"
      ]
     },
     "execution_count": 22,
     "metadata": {},
     "output_type": "execute_result"
    }
   ],
   "source": [
    "season_df.loc[is_winner[ex['Team_Id']], 'Wfta']"
   ]
  },
  {
   "cell_type": "code",
   "execution_count": 17,
   "metadata": {
    "collapsed": false
   },
   "outputs": [
    {
     "name": "stdout",
     "output_type": "stream",
     "text": [
      "1148\n",
      "2006\n"
     ]
    }
   ],
   "source": [
    "print(ex['Team_Id'])\n",
    "print(ex['Season'])"
   ]
  },
  {
   "cell_type": "code",
   "execution_count": 16,
   "metadata": {
    "collapsed": false
   },
   "outputs": [
    {
     "name": "stdout",
     "output_type": "stream",
     "text": [
      "Unnamed: 0             614\n",
      "Team_Id               1148\n",
      "Season                2006\n",
      "team_name     Central Conn\n",
      "wins                    18\n",
      "avg_fgm              24.86\n",
      "std_fgm               4.73\n",
      "avg_fga                 56\n",
      "std_fga               8.48\n",
      "avg_fgm3              7.93\n",
      "std_fgm3              2.53\n",
      "avg_fga3             20.62\n",
      "std_fga3              5.45\n",
      "avg_ftm              14.83\n",
      "std_ftm                6.3\n",
      "avg_fta              20.55\n",
      "std_fta               7.68\n",
      "avg_or                13.1\n",
      "std_or                4.05\n",
      "avg_dr               21.17\n",
      "std_dr                4.13\n",
      "avg_ast              14.76\n",
      "std_ast               3.83\n",
      "avg_to               12.83\n",
      "std_to                3.27\n",
      "avg_stl               6.59\n",
      "std_stl                2.6\n",
      "avg_blk               2.34\n",
      "std_blk               1.32\n",
      "avg_pf               15.45\n",
      "std_pf                3.91\n",
      "Name: 614, dtype: object\n"
     ]
    }
   ],
   "source": [
    "ex = team_features_df.loc[614]\n",
    "print(ex)"
   ]
  },
  {
   "cell_type": "markdown",
   "metadata": {},
   "source": [
    "# Append your new function to teamfList below!"
   ]
  },
  {
   "cell_type": "code",
   "execution_count": 38,
   "metadata": {
    "collapsed": false
   },
   "outputs": [
    {
     "name": "stdout",
     "output_type": "stream",
     "text": [
      "Team Features added = ['wins', 'avg_fgm', 'std_fgm', 'avg_fga', 'std_fga', 'avg_fgm3', 'std_fgm3', 'avg_fga3', 'std_fga3', 'avg_ftm', 'std_ftm', 'avg_fta', 'std_fta', 'avg_or', 'std_or', 'avg_dr', 'std_dr', 'avg_ast', 'std_ast', 'avg_to', 'std_to', 'avg_stl', 'std_stl', 'avg_blk', 'std_blk', 'avg_pf', 'std_pf']\n"
     ]
    }
   ],
   "source": [
    "teamfList = []\n",
    "teamfList.append(ftr)\n",
    "#teamfList.append(wins)\n",
    "#for f in ['fgm', 'fga', 'fgm3', 'fga3', 'ftm', 'fta', 'or', 'dr', 'ast', 'to', 'stl', 'blk', 'pf']:\n",
    "#    teamfList.append(avg(f))\n",
    "#    teamfList.append(std(f))\n",
    "print(\"Team Features added = {0}\".format([f.__name__ for f in teamfList]))"
   ]
  },
  {
   "cell_type": "code",
   "execution_count": 32,
   "metadata": {
    "collapsed": false
   },
   "outputs": [
    {
     "data": {
      "text/html": [
       "<div>\n",
       "<table border=\"1\" class=\"dataframe\">\n",
       "  <thead>\n",
       "    <tr style=\"text-align: right;\">\n",
       "      <th></th>\n",
       "      <th>Unnamed: 0</th>\n",
       "      <th>Team_Id</th>\n",
       "      <th>Season</th>\n",
       "      <th>team_name</th>\n",
       "      <th>wins</th>\n",
       "      <th>avg_fgm</th>\n",
       "      <th>std_fgm</th>\n",
       "      <th>avg_fga</th>\n",
       "      <th>std_fga</th>\n",
       "      <th>avg_fgm3</th>\n",
       "      <th>...</th>\n",
       "      <th>std_ast</th>\n",
       "      <th>avg_to</th>\n",
       "      <th>std_to</th>\n",
       "      <th>avg_stl</th>\n",
       "      <th>std_stl</th>\n",
       "      <th>avg_blk</th>\n",
       "      <th>std_blk</th>\n",
       "      <th>avg_pf</th>\n",
       "      <th>std_pf</th>\n",
       "      <th>ftr</th>\n",
       "    </tr>\n",
       "  </thead>\n",
       "  <tbody>\n",
       "    <tr>\n",
       "      <th>4727</th>\n",
       "      <td>4727</td>\n",
       "      <td>1464</td>\n",
       "      <td>2011</td>\n",
       "      <td>Youngstown St</td>\n",
       "      <td>7</td>\n",
       "      <td>24.71</td>\n",
       "      <td>3.79</td>\n",
       "      <td>59.75</td>\n",
       "      <td>6.74</td>\n",
       "      <td>7.86</td>\n",
       "      <td>...</td>\n",
       "      <td>3.98</td>\n",
       "      <td>12.14</td>\n",
       "      <td>3.51</td>\n",
       "      <td>6.21</td>\n",
       "      <td>2.13</td>\n",
       "      <td>4.82</td>\n",
       "      <td>2.63</td>\n",
       "      <td>20.18</td>\n",
       "      <td>5.22</td>\n",
       "      <td>0.30</td>\n",
       "    </tr>\n",
       "    <tr>\n",
       "      <th>4728</th>\n",
       "      <td>4728</td>\n",
       "      <td>1464</td>\n",
       "      <td>2012</td>\n",
       "      <td>Youngstown St</td>\n",
       "      <td>14</td>\n",
       "      <td>23.79</td>\n",
       "      <td>3.54</td>\n",
       "      <td>55.31</td>\n",
       "      <td>6.39</td>\n",
       "      <td>8.52</td>\n",
       "      <td>...</td>\n",
       "      <td>3.78</td>\n",
       "      <td>11.38</td>\n",
       "      <td>3.96</td>\n",
       "      <td>6.28</td>\n",
       "      <td>2.53</td>\n",
       "      <td>5.31</td>\n",
       "      <td>2.42</td>\n",
       "      <td>16.55</td>\n",
       "      <td>4.49</td>\n",
       "      <td>0.31</td>\n",
       "    </tr>\n",
       "    <tr>\n",
       "      <th>4729</th>\n",
       "      <td>4729</td>\n",
       "      <td>1464</td>\n",
       "      <td>2013</td>\n",
       "      <td>Youngstown St</td>\n",
       "      <td>14</td>\n",
       "      <td>23.90</td>\n",
       "      <td>4.05</td>\n",
       "      <td>56.34</td>\n",
       "      <td>8.07</td>\n",
       "      <td>6.66</td>\n",
       "      <td>...</td>\n",
       "      <td>3.43</td>\n",
       "      <td>11.72</td>\n",
       "      <td>4.16</td>\n",
       "      <td>6.34</td>\n",
       "      <td>2.86</td>\n",
       "      <td>5.31</td>\n",
       "      <td>2.12</td>\n",
       "      <td>17.72</td>\n",
       "      <td>4.15</td>\n",
       "      <td>0.37</td>\n",
       "    </tr>\n",
       "    <tr>\n",
       "      <th>4730</th>\n",
       "      <td>4730</td>\n",
       "      <td>1464</td>\n",
       "      <td>2014</td>\n",
       "      <td>Youngstown St</td>\n",
       "      <td>12</td>\n",
       "      <td>25.38</td>\n",
       "      <td>4.09</td>\n",
       "      <td>55.90</td>\n",
       "      <td>7.67</td>\n",
       "      <td>7.59</td>\n",
       "      <td>...</td>\n",
       "      <td>3.94</td>\n",
       "      <td>11.28</td>\n",
       "      <td>3.02</td>\n",
       "      <td>6.38</td>\n",
       "      <td>2.78</td>\n",
       "      <td>2.48</td>\n",
       "      <td>1.72</td>\n",
       "      <td>19.03</td>\n",
       "      <td>4.34</td>\n",
       "      <td>0.41</td>\n",
       "    </tr>\n",
       "    <tr>\n",
       "      <th>4731</th>\n",
       "      <td>4731</td>\n",
       "      <td>1464</td>\n",
       "      <td>2015</td>\n",
       "      <td>Youngstown St</td>\n",
       "      <td>8</td>\n",
       "      <td>25.03</td>\n",
       "      <td>3.80</td>\n",
       "      <td>56.66</td>\n",
       "      <td>7.12</td>\n",
       "      <td>6.62</td>\n",
       "      <td>...</td>\n",
       "      <td>3.51</td>\n",
       "      <td>11.72</td>\n",
       "      <td>3.27</td>\n",
       "      <td>5.90</td>\n",
       "      <td>2.76</td>\n",
       "      <td>1.93</td>\n",
       "      <td>1.67</td>\n",
       "      <td>18.62</td>\n",
       "      <td>5.52</td>\n",
       "      <td>0.37</td>\n",
       "    </tr>\n",
       "  </tbody>\n",
       "</table>\n",
       "<p>5 rows × 32 columns</p>\n",
       "</div>"
      ],
      "text/plain": [
       "      Unnamed: 0  Team_Id  Season      team_name  wins  avg_fgm  std_fgm  \\\n",
       "4727        4727     1464    2011  Youngstown St     7    24.71     3.79   \n",
       "4728        4728     1464    2012  Youngstown St    14    23.79     3.54   \n",
       "4729        4729     1464    2013  Youngstown St    14    23.90     4.05   \n",
       "4730        4730     1464    2014  Youngstown St    12    25.38     4.09   \n",
       "4731        4731     1464    2015  Youngstown St     8    25.03     3.80   \n",
       "\n",
       "      avg_fga  std_fga  avg_fgm3  ...   std_ast  avg_to  std_to  avg_stl  \\\n",
       "4727    59.75     6.74      7.86  ...      3.98   12.14    3.51     6.21   \n",
       "4728    55.31     6.39      8.52  ...      3.78   11.38    3.96     6.28   \n",
       "4729    56.34     8.07      6.66  ...      3.43   11.72    4.16     6.34   \n",
       "4730    55.90     7.67      7.59  ...      3.94   11.28    3.02     6.38   \n",
       "4731    56.66     7.12      6.62  ...      3.51   11.72    3.27     5.90   \n",
       "\n",
       "      std_stl  avg_blk  std_blk  avg_pf  std_pf   ftr  \n",
       "4727     2.13     4.82     2.63   20.18    5.22  0.30  \n",
       "4728     2.53     5.31     2.42   16.55    4.49  0.31  \n",
       "4729     2.86     5.31     2.12   17.72    4.15  0.37  \n",
       "4730     2.78     2.48     1.72   19.03    4.34  0.41  \n",
       "4731     2.76     1.93     1.67   18.62    5.52  0.37  \n",
       "\n",
       "[5 rows x 32 columns]"
      ]
     },
     "execution_count": 32,
     "metadata": {},
     "output_type": "execute_result"
    }
   ],
   "source": [
    "#USE THESE TWO LINES TO REGENERATE ALL THE TEAM FEATURES\n",
    "#team_features_df = pd.DataFrame([[team_ID, season] for team_ID in team_ids for season in seasons], columns = ['Team_Id', 'Season'])\n",
    "#team_features_df['team_name'] = team_features_df['Team_Id'].map(team_name)\n",
    "\n",
    "#USE THIS LINE TO ADD TO THE EXISTING TEAM FEATURES\n",
    "team_features_df = pd.read_csv(team_features_output_file)\n",
    "\n",
    "for feature in teamfList:\n",
    "    team_features_df[feature.__name__] = team_features_df.apply(feature, axis=1)\n",
    "\n",
    "team_features_df = team_features_df.replace(np.nan, 0)\n",
    "team_features_df.to_csv(team_features_output_file, encoding='ascii')\n",
    "team_features_df.tail()"
   ]
  },
  {
   "cell_type": "markdown",
   "metadata": {},
   "source": [
    "# Input Filenames for Generating Features for the Games\n",
    "\n",
    "`training_data_file` is the data file we want to use as training data (could include part of regular season in addition to tourney in future). `team_features_input_file` is the input file we want to use for the team features (generated above--default is `team_features_output_file`, i.e. what was used for output above).  `training_data_output_file` is the filename for the training data with all the games."
   ]
  },
  {
   "cell_type": "code",
   "execution_count": 33,
   "metadata": {
    "collapsed": true
   },
   "outputs": [],
   "source": [
    "training_data_file = 'data/TourneyDetailedResults.csv'\n",
    "team_features_input_file = team_features_output_file\n",
    "training_data_output_file = 'data/data.csv'"
   ]
  },
  {
   "cell_type": "markdown",
   "metadata": {},
   "source": [
    "# Randomizing the Winning Team and Adding Features\n",
    "\n",
    "We first randomly chooses the winner to be team 1 or team 0.  The result is stored in `tourney_df('Winner')` and the ID corresponding to team0 and team1 are in `tourney_df('team0')` and `tourney_df('team1')`, respectively.  We also add all the features in `data/team_features.csv` for team0 and team1."
   ]
  },
  {
   "cell_type": "code",
   "execution_count": 34,
   "metadata": {
    "collapsed": false
   },
   "outputs": [
    {
     "name": "stdout",
     "output_type": "stream",
     "text": [
      "847 tournament games in the dataset\n"
     ]
    }
   ],
   "source": [
    "tourney_df = pd.read_csv(training_data_file)\n",
    "\n",
    "Ngames = tourney_df.shape[0]\n",
    "print(\"{0} tournament games in the dataset\".format(Ngames))\n",
    "\n",
    "np.random.seed(0) # seed so we always get same answer\n",
    "tourney_df['team0Win'] = np.random.randint(2,size=Ngames)\n",
    "\n",
    "def team0(game):\n",
    "    if game['team0Win'] == 1:\n",
    "        return game['Wteam']\n",
    "    else:\n",
    "        return game['Lteam']\n",
    "\n",
    "def team1(game):\n",
    "    if game['team0Win'] == 1:\n",
    "        return game['Lteam']\n",
    "    else:\n",
    "        return game['Wteam']\n",
    "\n",
    "team_features_df = pd.read_csv(team_features_input_file, index_col=0)\n",
    "seasons = tourney_df['Season'].unique()\n",
    "in_season = dict(zip(seasons, [team_features_df['Season'] == i for i in seasons]))\n",
    "\n",
    "def feature01(feature):\n",
    "    def mod(game):\n",
    "        f0 = team_features_df.loc[(team_features_df['Team_Id'] == game['team0']) & in_season[game['Season']], feature.__name__].values[0]\n",
    "        f1 = team_features_df.loc[(team_features_df['Team_Id'] == game['team1']) & in_season[game['Season']], feature.__name__].values[0]\n",
    "        return pd.Series({feature.__name__+'0':f0, feature.__name__+'1':f1})\n",
    "    return mod"
   ]
  },
  {
   "cell_type": "code",
   "execution_count": 40,
   "metadata": {
    "collapsed": false
   },
   "outputs": [
    {
     "data": {
      "text/html": [
       "<div>\n",
       "<table border=\"1\" class=\"dataframe\">\n",
       "  <thead>\n",
       "    <tr style=\"text-align: right;\">\n",
       "      <th></th>\n",
       "      <th>Season</th>\n",
       "      <th>Daynum</th>\n",
       "      <th>Wteam</th>\n",
       "      <th>Wscore</th>\n",
       "      <th>Lteam</th>\n",
       "      <th>Lscore</th>\n",
       "      <th>Wloc</th>\n",
       "      <th>Numot</th>\n",
       "      <th>Wfgm</th>\n",
       "      <th>Wfga</th>\n",
       "      <th>...</th>\n",
       "      <th>avg_blk0</th>\n",
       "      <th>avg_blk1</th>\n",
       "      <th>std_blk0</th>\n",
       "      <th>std_blk1</th>\n",
       "      <th>avg_pf0</th>\n",
       "      <th>avg_pf1</th>\n",
       "      <th>std_pf0</th>\n",
       "      <th>std_pf1</th>\n",
       "      <th>ftr0</th>\n",
       "      <th>ftr1</th>\n",
       "    </tr>\n",
       "  </thead>\n",
       "  <tbody>\n",
       "    <tr>\n",
       "      <th>0</th>\n",
       "      <td>2003</td>\n",
       "      <td>134</td>\n",
       "      <td>1421</td>\n",
       "      <td>92</td>\n",
       "      <td>1411</td>\n",
       "      <td>84</td>\n",
       "      <td>N</td>\n",
       "      <td>1</td>\n",
       "      <td>32</td>\n",
       "      <td>69</td>\n",
       "      <td>...</td>\n",
       "      <td>2.23</td>\n",
       "      <td>3.00</td>\n",
       "      <td>1.72</td>\n",
       "      <td>1.65</td>\n",
       "      <td>18.30</td>\n",
       "      <td>19.10</td>\n",
       "      <td>4.56</td>\n",
       "      <td>3.69</td>\n",
       "      <td>0.53</td>\n",
       "      <td>0.38</td>\n",
       "    </tr>\n",
       "    <tr>\n",
       "      <th>1</th>\n",
       "      <td>2003</td>\n",
       "      <td>136</td>\n",
       "      <td>1112</td>\n",
       "      <td>80</td>\n",
       "      <td>1436</td>\n",
       "      <td>51</td>\n",
       "      <td>N</td>\n",
       "      <td>0</td>\n",
       "      <td>31</td>\n",
       "      <td>66</td>\n",
       "      <td>...</td>\n",
       "      <td>4.21</td>\n",
       "      <td>2.97</td>\n",
       "      <td>2.01</td>\n",
       "      <td>1.72</td>\n",
       "      <td>17.75</td>\n",
       "      <td>15.90</td>\n",
       "      <td>2.99</td>\n",
       "      <td>4.05</td>\n",
       "      <td>0.39</td>\n",
       "      <td>0.36</td>\n",
       "    </tr>\n",
       "    <tr>\n",
       "      <th>2</th>\n",
       "      <td>2003</td>\n",
       "      <td>136</td>\n",
       "      <td>1113</td>\n",
       "      <td>84</td>\n",
       "      <td>1272</td>\n",
       "      <td>71</td>\n",
       "      <td>N</td>\n",
       "      <td>0</td>\n",
       "      <td>31</td>\n",
       "      <td>59</td>\n",
       "      <td>...</td>\n",
       "      <td>4.24</td>\n",
       "      <td>5.07</td>\n",
       "      <td>2.94</td>\n",
       "      <td>3.16</td>\n",
       "      <td>19.41</td>\n",
       "      <td>18.76</td>\n",
       "      <td>3.25</td>\n",
       "      <td>4.34</td>\n",
       "      <td>0.47</td>\n",
       "      <td>0.40</td>\n",
       "    </tr>\n",
       "    <tr>\n",
       "      <th>3</th>\n",
       "      <td>2003</td>\n",
       "      <td>136</td>\n",
       "      <td>1141</td>\n",
       "      <td>79</td>\n",
       "      <td>1166</td>\n",
       "      <td>73</td>\n",
       "      <td>N</td>\n",
       "      <td>0</td>\n",
       "      <td>29</td>\n",
       "      <td>53</td>\n",
       "      <td>...</td>\n",
       "      <td>4.45</td>\n",
       "      <td>4.00</td>\n",
       "      <td>2.22</td>\n",
       "      <td>2.35</td>\n",
       "      <td>17.27</td>\n",
       "      <td>20.97</td>\n",
       "      <td>3.12</td>\n",
       "      <td>4.81</td>\n",
       "      <td>0.35</td>\n",
       "      <td>0.48</td>\n",
       "    </tr>\n",
       "    <tr>\n",
       "      <th>4</th>\n",
       "      <td>2003</td>\n",
       "      <td>136</td>\n",
       "      <td>1143</td>\n",
       "      <td>76</td>\n",
       "      <td>1301</td>\n",
       "      <td>74</td>\n",
       "      <td>N</td>\n",
       "      <td>1</td>\n",
       "      <td>27</td>\n",
       "      <td>64</td>\n",
       "      <td>...</td>\n",
       "      <td>2.79</td>\n",
       "      <td>3.07</td>\n",
       "      <td>1.63</td>\n",
       "      <td>2.49</td>\n",
       "      <td>17.10</td>\n",
       "      <td>18.67</td>\n",
       "      <td>3.74</td>\n",
       "      <td>4.21</td>\n",
       "      <td>0.35</td>\n",
       "      <td>0.39</td>\n",
       "    </tr>\n",
       "  </tbody>\n",
       "</table>\n",
       "<p>5 rows × 95 columns</p>\n",
       "</div>"
      ],
      "text/plain": [
       "   Season  Daynum  Wteam  Wscore  Lteam  Lscore Wloc  Numot  Wfgm  Wfga  ...   \\\n",
       "0    2003     134   1421      92   1411      84    N      1    32    69  ...    \n",
       "1    2003     136   1112      80   1436      51    N      0    31    66  ...    \n",
       "2    2003     136   1113      84   1272      71    N      0    31    59  ...    \n",
       "3    2003     136   1141      79   1166      73    N      0    29    53  ...    \n",
       "4    2003     136   1143      76   1301      74    N      1    27    64  ...    \n",
       "\n",
       "   avg_blk0  avg_blk1  std_blk0  std_blk1  avg_pf0  avg_pf1  std_pf0  std_pf1  \\\n",
       "0      2.23      3.00      1.72      1.65    18.30    19.10     4.56     3.69   \n",
       "1      4.21      2.97      2.01      1.72    17.75    15.90     2.99     4.05   \n",
       "2      4.24      5.07      2.94      3.16    19.41    18.76     3.25     4.34   \n",
       "3      4.45      4.00      2.22      2.35    17.27    20.97     3.12     4.81   \n",
       "4      2.79      3.07      1.63      2.49    17.10    18.67     3.74     4.21   \n",
       "\n",
       "   ftr0  ftr1  \n",
       "0  0.53  0.38  \n",
       "1  0.39  0.36  \n",
       "2  0.47  0.40  \n",
       "3  0.35  0.48  \n",
       "4  0.35  0.39  \n",
       "\n",
       "[5 rows x 95 columns]"
      ]
     },
     "execution_count": 40,
     "metadata": {},
     "output_type": "execute_result"
    }
   ],
   "source": [
    "# UNCOMMENT THESE LINES IF YOU WANT TO REGENERATE THE TRAINING DATA FILE FROM SCRATCH\n",
    "#for feature in [team0, team1]:\n",
    "#    tourney_df[feature.__name__] = tourney_df.apply(feature, axis=1)\n",
    "\n",
    "# first add all the features for individual teams\n",
    "for feature in teamfList:\n",
    "    tourney_df = pd.concat([tourney_df, tourney_df.apply(feature01(feature), axis=1)], axis=1)\n",
    "    \n",
    "tourney_df.head()"
   ]
  },
  {
   "cell_type": "markdown",
   "metadata": {},
   "source": [
    "# Add game features here\n",
    "\n",
    "In addition to having features for each team separately, e.g., avg field goals made, we might try features for how two teams relate to one another, i.e., a feature that requires knowledge of the specific two teams in a game.  Add them in the cell below and update gamefList in the cell below that:"
   ]
  },
  {
   "cell_type": "code",
   "execution_count": 41,
   "metadata": {
    "collapsed": true
   },
   "outputs": [],
   "source": [
    "def gamefeature(game): # add here any features specific to a game, i.e., how to teams interact\n",
    "    pass"
   ]
  },
  {
   "cell_type": "markdown",
   "metadata": {},
   "source": [
    "# Append your new function to gamefList below!"
   ]
  },
  {
   "cell_type": "code",
   "execution_count": 42,
   "metadata": {
    "collapsed": false
   },
   "outputs": [
    {
     "name": "stdout",
     "output_type": "stream",
     "text": [
      "Game features added = []\n"
     ]
    }
   ],
   "source": [
    "gamefList=[] # features specific to a pair of teams (rather than to an individual team, e.g., seed difference, but not e.g. team seed)\n",
    "#gamefList.append(gamefeature)\n",
    "print(\"Game features added = {0}\".format([f.__name__ for f in gamefList]))"
   ]
  },
  {
   "cell_type": "code",
   "execution_count": 43,
   "metadata": {
    "collapsed": false
   },
   "outputs": [
    {
     "data": {
      "text/html": [
       "<div>\n",
       "<table border=\"1\" class=\"dataframe\">\n",
       "  <thead>\n",
       "    <tr style=\"text-align: right;\">\n",
       "      <th></th>\n",
       "      <th>Season</th>\n",
       "      <th>Daynum</th>\n",
       "      <th>Wteam</th>\n",
       "      <th>Wscore</th>\n",
       "      <th>Lteam</th>\n",
       "      <th>Lscore</th>\n",
       "      <th>Wloc</th>\n",
       "      <th>Numot</th>\n",
       "      <th>Wfgm</th>\n",
       "      <th>Wfga</th>\n",
       "      <th>...</th>\n",
       "      <th>avg_blk0</th>\n",
       "      <th>avg_blk1</th>\n",
       "      <th>std_blk0</th>\n",
       "      <th>std_blk1</th>\n",
       "      <th>avg_pf0</th>\n",
       "      <th>avg_pf1</th>\n",
       "      <th>std_pf0</th>\n",
       "      <th>std_pf1</th>\n",
       "      <th>ftr0</th>\n",
       "      <th>ftr1</th>\n",
       "    </tr>\n",
       "  </thead>\n",
       "  <tbody>\n",
       "    <tr>\n",
       "      <th>0</th>\n",
       "      <td>2003</td>\n",
       "      <td>134</td>\n",
       "      <td>1421</td>\n",
       "      <td>92</td>\n",
       "      <td>1411</td>\n",
       "      <td>84</td>\n",
       "      <td>N</td>\n",
       "      <td>1</td>\n",
       "      <td>32</td>\n",
       "      <td>69</td>\n",
       "      <td>...</td>\n",
       "      <td>2.23</td>\n",
       "      <td>3.00</td>\n",
       "      <td>1.72</td>\n",
       "      <td>1.65</td>\n",
       "      <td>18.30</td>\n",
       "      <td>19.10</td>\n",
       "      <td>4.56</td>\n",
       "      <td>3.69</td>\n",
       "      <td>0.53</td>\n",
       "      <td>0.38</td>\n",
       "    </tr>\n",
       "    <tr>\n",
       "      <th>1</th>\n",
       "      <td>2003</td>\n",
       "      <td>136</td>\n",
       "      <td>1112</td>\n",
       "      <td>80</td>\n",
       "      <td>1436</td>\n",
       "      <td>51</td>\n",
       "      <td>N</td>\n",
       "      <td>0</td>\n",
       "      <td>31</td>\n",
       "      <td>66</td>\n",
       "      <td>...</td>\n",
       "      <td>4.21</td>\n",
       "      <td>2.97</td>\n",
       "      <td>2.01</td>\n",
       "      <td>1.72</td>\n",
       "      <td>17.75</td>\n",
       "      <td>15.90</td>\n",
       "      <td>2.99</td>\n",
       "      <td>4.05</td>\n",
       "      <td>0.39</td>\n",
       "      <td>0.36</td>\n",
       "    </tr>\n",
       "    <tr>\n",
       "      <th>2</th>\n",
       "      <td>2003</td>\n",
       "      <td>136</td>\n",
       "      <td>1113</td>\n",
       "      <td>84</td>\n",
       "      <td>1272</td>\n",
       "      <td>71</td>\n",
       "      <td>N</td>\n",
       "      <td>0</td>\n",
       "      <td>31</td>\n",
       "      <td>59</td>\n",
       "      <td>...</td>\n",
       "      <td>4.24</td>\n",
       "      <td>5.07</td>\n",
       "      <td>2.94</td>\n",
       "      <td>3.16</td>\n",
       "      <td>19.41</td>\n",
       "      <td>18.76</td>\n",
       "      <td>3.25</td>\n",
       "      <td>4.34</td>\n",
       "      <td>0.47</td>\n",
       "      <td>0.40</td>\n",
       "    </tr>\n",
       "    <tr>\n",
       "      <th>3</th>\n",
       "      <td>2003</td>\n",
       "      <td>136</td>\n",
       "      <td>1141</td>\n",
       "      <td>79</td>\n",
       "      <td>1166</td>\n",
       "      <td>73</td>\n",
       "      <td>N</td>\n",
       "      <td>0</td>\n",
       "      <td>29</td>\n",
       "      <td>53</td>\n",
       "      <td>...</td>\n",
       "      <td>4.45</td>\n",
       "      <td>4.00</td>\n",
       "      <td>2.22</td>\n",
       "      <td>2.35</td>\n",
       "      <td>17.27</td>\n",
       "      <td>20.97</td>\n",
       "      <td>3.12</td>\n",
       "      <td>4.81</td>\n",
       "      <td>0.35</td>\n",
       "      <td>0.48</td>\n",
       "    </tr>\n",
       "    <tr>\n",
       "      <th>4</th>\n",
       "      <td>2003</td>\n",
       "      <td>136</td>\n",
       "      <td>1143</td>\n",
       "      <td>76</td>\n",
       "      <td>1301</td>\n",
       "      <td>74</td>\n",
       "      <td>N</td>\n",
       "      <td>1</td>\n",
       "      <td>27</td>\n",
       "      <td>64</td>\n",
       "      <td>...</td>\n",
       "      <td>2.79</td>\n",
       "      <td>3.07</td>\n",
       "      <td>1.63</td>\n",
       "      <td>2.49</td>\n",
       "      <td>17.10</td>\n",
       "      <td>18.67</td>\n",
       "      <td>3.74</td>\n",
       "      <td>4.21</td>\n",
       "      <td>0.35</td>\n",
       "      <td>0.39</td>\n",
       "    </tr>\n",
       "  </tbody>\n",
       "</table>\n",
       "<p>5 rows × 95 columns</p>\n",
       "</div>"
      ],
      "text/plain": [
       "   Season  Daynum  Wteam  Wscore  Lteam  Lscore Wloc  Numot  Wfgm  Wfga  ...   \\\n",
       "0    2003     134   1421      92   1411      84    N      1    32    69  ...    \n",
       "1    2003     136   1112      80   1436      51    N      0    31    66  ...    \n",
       "2    2003     136   1113      84   1272      71    N      0    31    59  ...    \n",
       "3    2003     136   1141      79   1166      73    N      0    29    53  ...    \n",
       "4    2003     136   1143      76   1301      74    N      1    27    64  ...    \n",
       "\n",
       "   avg_blk0  avg_blk1  std_blk0  std_blk1  avg_pf0  avg_pf1  std_pf0  std_pf1  \\\n",
       "0      2.23      3.00      1.72      1.65    18.30    19.10     4.56     3.69   \n",
       "1      4.21      2.97      2.01      1.72    17.75    15.90     2.99     4.05   \n",
       "2      4.24      5.07      2.94      3.16    19.41    18.76     3.25     4.34   \n",
       "3      4.45      4.00      2.22      2.35    17.27    20.97     3.12     4.81   \n",
       "4      2.79      3.07      1.63      2.49    17.10    18.67     3.74     4.21   \n",
       "\n",
       "   ftr0  ftr1  \n",
       "0  0.53  0.38  \n",
       "1  0.39  0.36  \n",
       "2  0.47  0.40  \n",
       "3  0.35  0.48  \n",
       "4  0.35  0.39  \n",
       "\n",
       "[5 rows x 95 columns]"
      ]
     },
     "execution_count": 43,
     "metadata": {},
     "output_type": "execute_result"
    }
   ],
   "source": [
    "# now add features specific to a game (pair of teams)\n",
    "for feature in gamefList:\n",
    "    tourney_df[feature.__name__] = tourney_df.apply(feature, axis=1)\n",
    "    \n",
    "tourney_df.to_csv(training_data_output_file, encoding='ascii')\n",
    "tourney_df.head()"
   ]
  },
  {
   "cell_type": "markdown",
   "metadata": {},
   "source": [
    "# Generate Features for Submission Data\n",
    "\n",
    "The cells below take the games Kaggle wants us to submit, and generates the corresponding features for them like we do above for the training data.  `submission_data_output_file` is the name of the output file to write the submission data for our model to load and predict."
   ]
  },
  {
   "cell_type": "code",
   "execution_count": 44,
   "metadata": {
    "collapsed": true
   },
   "outputs": [],
   "source": [
    "import pandas as pd\n",
    "import numpy as np\n",
    "submission_data_with_features_file = 'data/SampleSubmissionWithFeatures.csv'"
   ]
  },
  {
   "cell_type": "code",
   "execution_count": 45,
   "metadata": {
    "collapsed": false
   },
   "outputs": [
    {
     "name": "stdout",
     "output_type": "stream",
     "text": [
      "Adding following Team Features to data/SampleSubmissionWithFeatures.csv: ['ftr']\n",
      "Adding following Game Features to data/SampleSubmissionWithFeatures.csv: []\n"
     ]
    }
   ],
   "source": [
    "print(\"Adding following Team Features to {0}: {1}\".format(submission_data_with_features_file, [f.__name__ for f in teamfList]))\n",
    "print(\"Adding following Game Features to {0}: {1}\".format(submission_data_with_features_file, [f.__name__ for f in gamefList]))"
   ]
  },
  {
   "cell_type": "code",
   "execution_count": 47,
   "metadata": {
    "collapsed": false
   },
   "outputs": [
    {
     "data": {
      "text/html": [
       "<div>\n",
       "<table border=\"1\" class=\"dataframe\">\n",
       "  <thead>\n",
       "    <tr style=\"text-align: right;\">\n",
       "      <th></th>\n",
       "      <th>Unnamed: 0</th>\n",
       "      <th>Id</th>\n",
       "      <th>Pred</th>\n",
       "      <th>Season</th>\n",
       "      <th>team0</th>\n",
       "      <th>team1</th>\n",
       "      <th>wins0</th>\n",
       "      <th>wins1</th>\n",
       "      <th>avg_fgm0</th>\n",
       "      <th>avg_fgm1</th>\n",
       "      <th>...</th>\n",
       "      <th>avg_blk0</th>\n",
       "      <th>avg_blk1</th>\n",
       "      <th>std_blk0</th>\n",
       "      <th>std_blk1</th>\n",
       "      <th>avg_pf0</th>\n",
       "      <th>avg_pf1</th>\n",
       "      <th>std_pf0</th>\n",
       "      <th>std_pf1</th>\n",
       "      <th>ftr0</th>\n",
       "      <th>ftr1</th>\n",
       "    </tr>\n",
       "  </thead>\n",
       "  <tbody>\n",
       "    <tr>\n",
       "      <th>0</th>\n",
       "      <td>0</td>\n",
       "      <td>2012_1104_1124</td>\n",
       "      <td>0.5</td>\n",
       "      <td>2012</td>\n",
       "      <td>1104</td>\n",
       "      <td>1124</td>\n",
       "      <td>21</td>\n",
       "      <td>26</td>\n",
       "      <td>23.62</td>\n",
       "      <td>26.09</td>\n",
       "      <td>...</td>\n",
       "      <td>4.16</td>\n",
       "      <td>4.64</td>\n",
       "      <td>2.68</td>\n",
       "      <td>2.98</td>\n",
       "      <td>18.41</td>\n",
       "      <td>17.64</td>\n",
       "      <td>4.01</td>\n",
       "      <td>4.30</td>\n",
       "      <td>0.38</td>\n",
       "      <td>0.37</td>\n",
       "    </tr>\n",
       "    <tr>\n",
       "      <th>1</th>\n",
       "      <td>1</td>\n",
       "      <td>2012_1104_1125</td>\n",
       "      <td>0.5</td>\n",
       "      <td>2012</td>\n",
       "      <td>1104</td>\n",
       "      <td>1125</td>\n",
       "      <td>21</td>\n",
       "      <td>26</td>\n",
       "      <td>23.62</td>\n",
       "      <td>27.91</td>\n",
       "      <td>...</td>\n",
       "      <td>4.16</td>\n",
       "      <td>2.24</td>\n",
       "      <td>2.68</td>\n",
       "      <td>1.68</td>\n",
       "      <td>18.41</td>\n",
       "      <td>18.27</td>\n",
       "      <td>4.01</td>\n",
       "      <td>4.01</td>\n",
       "      <td>0.38</td>\n",
       "      <td>0.40</td>\n",
       "    </tr>\n",
       "    <tr>\n",
       "      <th>2</th>\n",
       "      <td>2</td>\n",
       "      <td>2012_1104_1140</td>\n",
       "      <td>0.5</td>\n",
       "      <td>2012</td>\n",
       "      <td>1104</td>\n",
       "      <td>1140</td>\n",
       "      <td>21</td>\n",
       "      <td>23</td>\n",
       "      <td>23.62</td>\n",
       "      <td>27.97</td>\n",
       "      <td>...</td>\n",
       "      <td>4.16</td>\n",
       "      <td>4.19</td>\n",
       "      <td>2.68</td>\n",
       "      <td>1.72</td>\n",
       "      <td>18.41</td>\n",
       "      <td>18.45</td>\n",
       "      <td>4.01</td>\n",
       "      <td>4.44</td>\n",
       "      <td>0.38</td>\n",
       "      <td>0.38</td>\n",
       "    </tr>\n",
       "    <tr>\n",
       "      <th>3</th>\n",
       "      <td>3</td>\n",
       "      <td>2012_1104_1143</td>\n",
       "      <td>0.5</td>\n",
       "      <td>2012</td>\n",
       "      <td>1104</td>\n",
       "      <td>1143</td>\n",
       "      <td>21</td>\n",
       "      <td>24</td>\n",
       "      <td>23.62</td>\n",
       "      <td>26.42</td>\n",
       "      <td>...</td>\n",
       "      <td>4.16</td>\n",
       "      <td>3.15</td>\n",
       "      <td>2.68</td>\n",
       "      <td>1.39</td>\n",
       "      <td>18.41</td>\n",
       "      <td>14.39</td>\n",
       "      <td>4.01</td>\n",
       "      <td>3.69</td>\n",
       "      <td>0.38</td>\n",
       "      <td>0.35</td>\n",
       "    </tr>\n",
       "    <tr>\n",
       "      <th>4</th>\n",
       "      <td>4</td>\n",
       "      <td>2012_1104_1153</td>\n",
       "      <td>0.5</td>\n",
       "      <td>2012</td>\n",
       "      <td>1104</td>\n",
       "      <td>1153</td>\n",
       "      <td>21</td>\n",
       "      <td>24</td>\n",
       "      <td>23.62</td>\n",
       "      <td>25.06</td>\n",
       "      <td>...</td>\n",
       "      <td>4.16</td>\n",
       "      <td>4.59</td>\n",
       "      <td>2.68</td>\n",
       "      <td>2.74</td>\n",
       "      <td>18.41</td>\n",
       "      <td>15.15</td>\n",
       "      <td>4.01</td>\n",
       "      <td>3.21</td>\n",
       "      <td>0.38</td>\n",
       "      <td>0.30</td>\n",
       "    </tr>\n",
       "  </tbody>\n",
       "</table>\n",
       "<p>5 rows × 62 columns</p>\n",
       "</div>"
      ],
      "text/plain": [
       "   Unnamed: 0              Id  Pred  Season  team0  team1  wins0  wins1  \\\n",
       "0           0  2012_1104_1124   0.5    2012   1104   1124     21     26   \n",
       "1           1  2012_1104_1125   0.5    2012   1104   1125     21     26   \n",
       "2           2  2012_1104_1140   0.5    2012   1104   1140     21     23   \n",
       "3           3  2012_1104_1143   0.5    2012   1104   1143     21     24   \n",
       "4           4  2012_1104_1153   0.5    2012   1104   1153     21     24   \n",
       "\n",
       "   avg_fgm0  avg_fgm1  ...   avg_blk0  avg_blk1  std_blk0  std_blk1  avg_pf0  \\\n",
       "0     23.62     26.09  ...       4.16      4.64      2.68      2.98    18.41   \n",
       "1     23.62     27.91  ...       4.16      2.24      2.68      1.68    18.41   \n",
       "2     23.62     27.97  ...       4.16      4.19      2.68      1.72    18.41   \n",
       "3     23.62     26.42  ...       4.16      3.15      2.68      1.39    18.41   \n",
       "4     23.62     25.06  ...       4.16      4.59      2.68      2.74    18.41   \n",
       "\n",
       "   avg_pf1  std_pf0  std_pf1  ftr0  ftr1  \n",
       "0    17.64     4.01     4.30  0.38  0.37  \n",
       "1    18.27     4.01     4.01  0.38  0.40  \n",
       "2    18.45     4.01     4.44  0.38  0.38  \n",
       "3    14.39     4.01     3.69  0.38  0.35  \n",
       "4    15.15     4.01     3.21  0.38  0.30  \n",
       "\n",
       "[5 rows x 62 columns]"
      ]
     },
     "execution_count": 47,
     "metadata": {},
     "output_type": "execute_result"
    }
   ],
   "source": [
    "sample_df = pd.read_csv(submission_data_with_features_file) #should be SampleSubmission.csv if generating from scratch\n",
    "\n",
    "def get_season(Id):\n",
    "    return np.int64(Id.split(\"_\")[0])\n",
    "def get_team0(Id):\n",
    "    return np.int64(Id.split(\"_\")[1])\n",
    "def get_team1(Id):\n",
    "    return np.int64(Id.split(\"_\")[2])\n",
    "\n",
    "# UNCOMMENT THESE LINES IF YOU WANT TO REGENERATE THE SUBMISSION FEATURES FROM SCRATCH\n",
    "#sample_df['Season'] = sample_df['Id'].apply(get_season)\n",
    "#sample_df['team0'] = sample_df['Id'].apply(get_team0)\n",
    "#sample_df['team1'] = sample_df['Id'].apply(get_team1)\n",
    "\n",
    "# first add all the features for individual teams\n",
    "for feature in teamfList:\n",
    "    sample_df = pd.concat([sample_df, sample_df.apply(feature01(feature), axis=1)], axis=1)\n",
    "    \n",
    "# now add features specific to a game (pair of teams)\n",
    "for feature in gamefList:\n",
    "    tourney_df[feature.__name__] = tourney_df.apply(feature, axis=1)\n",
    "    \n",
    "sample_df.to_csv(submission_data_with_features_file, encoding='ascii')\n",
    "sample_df.head()"
   ]
  },
  {
   "cell_type": "markdown",
   "metadata": {},
   "source": [
    "# Tutorial for adding a new feature\n",
    "\n",
    "All functions to populate a feature should take a game, i.e., a row of `tourney_df`,  "
   ]
  },
  {
   "cell_type": "code",
   "execution_count": 11,
   "metadata": {
    "collapsed": false
   },
   "outputs": [
    {
     "name": "stdout",
     "output_type": "stream",
     "text": [
      "Season       2003\n",
      "Daynum        134\n",
      "Wteam        1421\n",
      "Wscore         92\n",
      "Lteam        1411\n",
      "Lscore         84\n",
      "Wloc            N\n",
      "Numot           1\n",
      "Wfgm           32\n",
      "Wfga           69\n",
      "Wfgm3          11\n",
      "Wfga3          29\n",
      "Wftm           17\n",
      "Wfta           26\n",
      "Wor            14\n",
      "Wdr            30\n",
      "Wast           17\n",
      "Wto            12\n",
      "Wstl            5\n",
      "Wblk            3\n",
      "Wpf            22\n",
      "Lfgm           29\n",
      "Lfga           67\n",
      "Lfgm3          12\n",
      "Lfga3          31\n",
      "Lftm           14\n",
      "Lfta           31\n",
      "Lor            17\n",
      "Ldr            28\n",
      "Last           16\n",
      "            ...  \n",
      "std_fta0      8.2\n",
      "std_fta1     9.02\n",
      "avg_or0     13.17\n",
      "avg_or1     12.28\n",
      "std_or0      4.86\n",
      "std_or1      3.73\n",
      "avg_dr0      24.8\n",
      "avg_dr1     23.17\n",
      "std_dr0      5.55\n",
      "std_dr1      5.44\n",
      "avg_ast0     14.2\n",
      "avg_ast1    13.03\n",
      "std_ast0      4.4\n",
      "std_ast1     4.79\n",
      "avg_to0     15.23\n",
      "avg_to1     16.21\n",
      "std_to0      4.03\n",
      "std_to1         5\n",
      "avg_stl0     6.43\n",
      "avg_stl1     7.07\n",
      "std_stl0     2.31\n",
      "std_stl1     3.14\n",
      "avg_blk0     2.23\n",
      "avg_blk1        3\n",
      "std_blk0     1.72\n",
      "std_blk1     1.65\n",
      "avg_pf0      18.3\n",
      "avg_pf1      19.1\n",
      "std_pf0      4.56\n",
      "std_pf1      3.69\n",
      "Name: 0, dtype: object\n"
     ]
    }
   ],
   "source": [
    "game = tourney_df.loc[0]\n",
    "print(game)"
   ]
  },
  {
   "cell_type": "markdown",
   "metadata": {},
   "source": [
    "If it's a feature specific to a team, name it 0 or 1, and access team0's and/or team1's ID using the corresponding column.  `team_name` is a dictionary that takes a team ID and returns the name, and `team_id` is a dictionary that takes a team name and returns the ID.  You can use these to match up data you find elsewhere.\n",
    "\n",
    "The function should return the value for your new feature.  As a simple example, to make a feature with the team's name, "
   ]
  },
  {
   "cell_type": "code",
   "execution_count": 18,
   "metadata": {
    "collapsed": false
   },
   "outputs": [
    {
     "name": "stdout",
     "output_type": "stream",
     "text": [
      "1411\n"
     ]
    },
    {
     "data": {
      "text/plain": [
       "'TX Southern'"
      ]
     },
     "execution_count": 18,
     "metadata": {},
     "output_type": "execute_result"
    }
   ],
   "source": [
    "def name0(game):\n",
    "    ID = game['team0']\n",
    "    \n",
    "    # Examples of using the dictionaries\n",
    "    name = team_name[ID] \n",
    "    print(team_id[name]) \n",
    "    \n",
    "    return name\n",
    "\n",
    "name0(tourney_df.loc[0])"
   ]
  },
  {
   "cell_type": "markdown",
   "metadata": {},
   "source": [
    "# More Realistic Example\n",
    "\n",
    "I had to look at different pandas examples/tutorials, but this might get you started.  For `wins0`, I wanted to be able to return the number of games `team0` won in the regular season.  What we actually have is a list of games, each of which have a winning team.  So we need to find all the games where `team0` was the winner, and add them all up.  So we start with the column that has all the IDs of the winning teams for each game."
   ]
  },
  {
   "cell_type": "code",
   "execution_count": 19,
   "metadata": {
    "collapsed": false
   },
   "outputs": [
    {
     "name": "stdout",
     "output_type": "stream",
     "text": [
      "0    1104\n",
      "1    1272\n",
      "2    1266\n",
      "3    1296\n",
      "4    1400\n",
      "Name: Wteam, dtype: int64\n"
     ]
    }
   ],
   "source": [
    "wteam = season_df['Wteam']\n",
    "print(wteam.head())"
   ]
  },
  {
   "cell_type": "markdown",
   "metadata": {},
   "source": [
    "Now we make a boolean array that has the same length as `wteam` above, with `True` if the winning team is `team0` (which we take to be 1106 in this example):"
   ]
  },
  {
   "cell_type": "code",
   "execution_count": 20,
   "metadata": {
    "collapsed": false
   },
   "outputs": [
    {
     "name": "stdout",
     "output_type": "stream",
     "text": [
      "0    False\n",
      "1    False\n",
      "2    False\n",
      "3    False\n",
      "4    False\n",
      "Name: Wteam, dtype: bool\n"
     ]
    }
   ],
   "source": [
    "games_where_1106_won = season_df['Wteam'] == 1106\n",
    "print(games_where_1106_won.head())"
   ]
  },
  {
   "cell_type": "code",
   "execution_count": 21,
   "metadata": {
    "collapsed": false
   },
   "outputs": [
    {
     "name": "stdout",
     "output_type": "stream",
     "text": [
      "613     1106\n",
      "1095    1106\n",
      "1584    1106\n",
      "1714    1106\n",
      "1873    1106\n",
      "Name: Wteam, dtype: int64\n"
     ]
    }
   ],
   "source": [
    "games_1106_won = wteam[games_where_1106_won]\n",
    "print(games_1106_won.head())"
   ]
  },
  {
   "cell_type": "markdown",
   "metadata": {},
   "source": [
    "But this has games for all seasons mixed together, so we have to choose the right season.  Say the game for which we're trying to make the feature happend in 2012.  Then we need another mask like we used above to separate the games where 1106 won, but this time for the season:"
   ]
  },
  {
   "cell_type": "code",
   "execution_count": 22,
   "metadata": {
    "collapsed": false
   },
   "outputs": [
    {
     "name": "stdout",
     "output_type": "stream",
     "text": [
      "0    False\n",
      "1    False\n",
      "2    False\n",
      "3    False\n",
      "4    False\n",
      "Name: Season, dtype: bool\n"
     ]
    }
   ],
   "source": [
    "in_2012 = season_df['Season'] == 2012\n",
    "print(in_2012.head())"
   ]
  },
  {
   "cell_type": "markdown",
   "metadata": {},
   "source": [
    "We can put boolean masks together like this:"
   ]
  },
  {
   "cell_type": "code",
   "execution_count": 23,
   "metadata": {
    "collapsed": false
   },
   "outputs": [
    {
     "name": "stdout",
     "output_type": "stream",
     "text": [
      "45628    1106\n",
      "46766    1106\n",
      "46845    1106\n",
      "47078    1106\n",
      "47248    1106\n",
      "Name: Wteam, dtype: int64\n"
     ]
    }
   ],
   "source": [
    "games_1106_won_in_2012 = wteam[games_where_1106_won & in_2012]\n",
    "print(games_1106_won_in_2012.head())"
   ]
  },
  {
   "cell_type": "markdown",
   "metadata": {},
   "source": [
    "For convenience, I've made a dictionary `in_season` that takes a year, and gives you the corresponding boolean mask for that year.  Using that notation, and finally also using the `is_valid` mask, which ensures that the game is valid (WTeam != 0), we have "
   ]
  },
  {
   "cell_type": "code",
   "execution_count": 24,
   "metadata": {
    "collapsed": false
   },
   "outputs": [
    {
     "name": "stdout",
     "output_type": "stream",
     "text": [
      "45628    1106\n",
      "46766    1106\n",
      "46845    1106\n",
      "47078    1106\n",
      "47248    1106\n",
      "Name: Wteam, dtype: int64\n"
     ]
    }
   ],
   "source": [
    "games_1106_won_in_2012 = wteam[games_where_1106_won & in_season[2012] & is_valid]\n",
    "print(games_1106_won_in_2012.head())"
   ]
  },
  {
   "cell_type": "markdown",
   "metadata": {},
   "source": [
    "We can now get the length of the final array of filtered values using `shape`, and taking `[0]`, which gives the number of rows.  A minor final detail is that all these new variables make copies of slices of the dataframes, so it's slightly more efficient to do things without making copies with the `loc` function, which explains the one-liners in the wins0 and wins1 functions above: "
   ]
  },
  {
   "cell_type": "code",
   "execution_count": 25,
   "metadata": {
    "collapsed": false
   },
   "outputs": [
    {
     "name": "stdout",
     "output_type": "stream",
     "text": [
      "10\n",
      "10\n"
     ]
    }
   ],
   "source": [
    "print(games_1106_won_in_2012.shape[0])\n",
    "print(season_df.loc[(season_df['Wteam'] == 1106) & in_season[2012] & is_valid].shape[0])"
   ]
  },
  {
   "cell_type": "markdown",
   "metadata": {},
   "source": [
    "# Additional Features\n",
    "\n",
    "Someother features to consider on the historic record of one Seed versus another. And the spread betting record. Here is an example of generate feature from data/TourneySeedBetting.csv\n",
    "\n",
    "**TBD: find resource for 2016 league**"
   ]
  },
  {
   "cell_type": "code",
   "execution_count": 26,
   "metadata": {
    "collapsed": false
   },
   "outputs": [
    {
     "data": {
      "text/html": [
       "<div>\n",
       "<table border=\"1\" class=\"dataframe\">\n",
       "  <thead>\n",
       "    <tr style=\"text-align: right;\">\n",
       "      <th></th>\n",
       "      <th>Season</th>\n",
       "      <th>Daynum</th>\n",
       "      <th>Wteam</th>\n",
       "      <th>Wscore</th>\n",
       "      <th>Lteam</th>\n",
       "      <th>Lscore</th>\n",
       "      <th>Wloc</th>\n",
       "      <th>Numot</th>\n",
       "      <th>Wseed</th>\n",
       "      <th>Lseed</th>\n",
       "      <th>meanProb</th>\n",
       "      <th>numProb</th>\n",
       "      <th>spreadbet</th>\n",
       "    </tr>\n",
       "  </thead>\n",
       "  <tbody>\n",
       "    <tr>\n",
       "      <th>0</th>\n",
       "      <td>2011</td>\n",
       "      <td>134</td>\n",
       "      <td>1155</td>\n",
       "      <td>70</td>\n",
       "      <td>1412</td>\n",
       "      <td>52</td>\n",
       "      <td>N</td>\n",
       "      <td>0</td>\n",
       "      <td>12</td>\n",
       "      <td>12</td>\n",
       "      <td>0.50</td>\n",
       "      <td>1</td>\n",
       "      <td>0</td>\n",
       "    </tr>\n",
       "    <tr>\n",
       "      <th>1</th>\n",
       "      <td>2011</td>\n",
       "      <td>134</td>\n",
       "      <td>1421</td>\n",
       "      <td>81</td>\n",
       "      <td>1114</td>\n",
       "      <td>77</td>\n",
       "      <td>N</td>\n",
       "      <td>1</td>\n",
       "      <td>16</td>\n",
       "      <td>16</td>\n",
       "      <td>0.50</td>\n",
       "      <td>1</td>\n",
       "      <td>0</td>\n",
       "    </tr>\n",
       "    <tr>\n",
       "      <th>2</th>\n",
       "      <td>2011</td>\n",
       "      <td>135</td>\n",
       "      <td>1427</td>\n",
       "      <td>70</td>\n",
       "      <td>1106</td>\n",
       "      <td>61</td>\n",
       "      <td>N</td>\n",
       "      <td>0</td>\n",
       "      <td>16</td>\n",
       "      <td>16</td>\n",
       "      <td>0.50</td>\n",
       "      <td>1</td>\n",
       "      <td>0</td>\n",
       "    </tr>\n",
       "    <tr>\n",
       "      <th>3</th>\n",
       "      <td>2011</td>\n",
       "      <td>135</td>\n",
       "      <td>1433</td>\n",
       "      <td>59</td>\n",
       "      <td>1425</td>\n",
       "      <td>46</td>\n",
       "      <td>N</td>\n",
       "      <td>0</td>\n",
       "      <td>11</td>\n",
       "      <td>11</td>\n",
       "      <td>0.50</td>\n",
       "      <td>1</td>\n",
       "      <td>0</td>\n",
       "    </tr>\n",
       "    <tr>\n",
       "      <th>4</th>\n",
       "      <td>2011</td>\n",
       "      <td>136</td>\n",
       "      <td>1139</td>\n",
       "      <td>60</td>\n",
       "      <td>1330</td>\n",
       "      <td>58</td>\n",
       "      <td>N</td>\n",
       "      <td>0</td>\n",
       "      <td>8</td>\n",
       "      <td>9</td>\n",
       "      <td>0.51</td>\n",
       "      <td>124</td>\n",
       "      <td>1</td>\n",
       "    </tr>\n",
       "  </tbody>\n",
       "</table>\n",
       "</div>"
      ],
      "text/plain": [
       "   Season  Daynum  Wteam  Wscore  Lteam  Lscore Wloc  Numot  Wseed  Lseed  \\\n",
       "0    2011     134   1155      70   1412      52    N      0     12     12   \n",
       "1    2011     134   1421      81   1114      77    N      1     16     16   \n",
       "2    2011     135   1427      70   1106      61    N      0     16     16   \n",
       "3    2011     135   1433      59   1425      46    N      0     11     11   \n",
       "4    2011     136   1139      60   1330      58    N      0      8      9   \n",
       "\n",
       "   meanProb  numProb  spreadbet  \n",
       "0      0.50        1          0  \n",
       "1      0.50        1          0  \n",
       "2      0.50        1          0  \n",
       "3      0.50        1          0  \n",
       "4      0.51      124          1  "
      ]
     },
     "execution_count": 26,
     "metadata": {},
     "output_type": "execute_result"
    }
   ],
   "source": [
    "tourney_seeddf = pd.read_csv('data/TourneySeedBetting.csv')\n",
    "tourney_seeddf.head()\n",
    "\n",
    "### Wseed gives the Seed for the winning team, Lseed gives the Seed for the losing team. \n",
    "### meanProb gives the Probability of the team with the smaller seed wins, numProb \n",
    "### gives the number of games this probability was calculated based on\n",
    "### spreadbet give the spreadbetting from covers on the winning team versus losing team."
   ]
  },
  {
   "cell_type": "code",
   "execution_count": 27,
   "metadata": {
    "collapsed": true
   },
   "outputs": [],
   "source": [
    "def meanprob(game):\n",
    "    return tourney_seeddf[(tourney_seeddf['Wteam'] == game['Wteam']) & (tourney_seeddf['Lteam']==game['Lteam']) & (tourney_seeddf['Season']==game['Season'])]['meanProb']"
   ]
  },
  {
   "cell_type": "code",
   "execution_count": 28,
   "metadata": {
    "collapsed": false
   },
   "outputs": [
    {
     "name": "stdout",
     "output_type": "stream",
     "text": [
      "Season    2011\n",
      "Daynum     134\n",
      "Wteam     1155\n",
      "Wscore      70\n",
      "Lteam     1412\n",
      "Name: 512, dtype: object\n"
     ]
    },
    {
     "data": {
      "text/plain": [
       "0    0.5\n",
       "Name: meanProb, dtype: float64"
      ]
     },
     "execution_count": 28,
     "metadata": {},
     "output_type": "execute_result"
    }
   ],
   "source": [
    "game = tourney_df[tourney_df['Season']==2011].iloc[0]\n",
    "print game.head()\n",
    "meanprob(game)"
   ]
  },
  {
   "cell_type": "code",
   "execution_count": null,
   "metadata": {
    "collapsed": true
   },
   "outputs": [],
   "source": []
  }
 ],
 "metadata": {
  "kernelspec": {
   "display_name": "Python 2",
   "language": "python",
   "name": "python2"
  },
  "language_info": {
   "codemirror_mode": {
    "name": "ipython",
    "version": 2
   },
   "file_extension": ".py",
   "mimetype": "text/x-python",
   "name": "python",
   "nbconvert_exporter": "python",
   "pygments_lexer": "ipython2",
   "version": "2.7.11"
  }
 },
 "nbformat": 4,
 "nbformat_minor": 0
}
