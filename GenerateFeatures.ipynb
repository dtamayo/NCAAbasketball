{
 "cells": [
  {
   "cell_type": "code",
   "execution_count": 1,
   "metadata": {
    "collapsed": false
   },
   "outputs": [
    {
     "name": "stdout",
     "output_type": "stream",
     "text": [
      "847 tournament games in the dataset\n"
     ]
    }
   ],
   "source": [
    "import pandas as pd\n",
    "import numpy as np\n",
    "tourney_df = pd.read_csv('data/TourneyDetailedResults.csv')\n",
    "teams_df = pd.read_csv('data/Teams.csv')\n",
    "reg_season_df = pd.read_csv('data/RegularSeasonCompactResults.csv')\n",
    "team_name = dict(zip(teams_df['Team_Id'].values, teams_df['Team_Name'].values))\n",
    "team_id = dict(zip(teams_df['Team_Name'].values, teams_df['Team_Id'].values))\n",
    "tourney_df['Wteam_name'] = tourney_df['Wteam'].map(team_name)\n",
    "tourney_df['Lteam_name'] = tourney_df['Lteam'].map(team_name)\n",
    "Ngames = tourney_df.shape[0]\n",
    "print(\"{0} tournament games in the dataset\".format(Ngames))"
   ]
  },
  {
   "cell_type": "markdown",
   "metadata": {},
   "source": [
    "# Randomizing the Winning Team\n",
    "\n",
    "We first randomly chooses the winner to be team 1 or team 0.  The result is stored in `tourney_df('Winner')` and the ID corresponding to team0 and team1 are in `tourney_df('team0')` and `tourney_df('team1')`, respectively:"
   ]
  },
  {
   "cell_type": "code",
   "execution_count": 2,
   "metadata": {
    "collapsed": false
   },
   "outputs": [
    {
     "data": {
      "text/html": [
       "<div>\n",
       "<table border=\"1\" class=\"dataframe\">\n",
       "  <thead>\n",
       "    <tr style=\"text-align: right;\">\n",
       "      <th></th>\n",
       "      <th>Season</th>\n",
       "      <th>Daynum</th>\n",
       "      <th>Wteam</th>\n",
       "      <th>Wscore</th>\n",
       "      <th>Lteam</th>\n",
       "      <th>Lscore</th>\n",
       "      <th>Wloc</th>\n",
       "      <th>Numot</th>\n",
       "      <th>Wfgm</th>\n",
       "      <th>Wfga</th>\n",
       "      <th>...</th>\n",
       "      <th>Last</th>\n",
       "      <th>Lto</th>\n",
       "      <th>Lstl</th>\n",
       "      <th>Lblk</th>\n",
       "      <th>Lpf</th>\n",
       "      <th>Wteam_name</th>\n",
       "      <th>Lteam_name</th>\n",
       "      <th>Winner</th>\n",
       "      <th>team0</th>\n",
       "      <th>team1</th>\n",
       "    </tr>\n",
       "  </thead>\n",
       "  <tbody>\n",
       "    <tr>\n",
       "      <th>0</th>\n",
       "      <td>2003</td>\n",
       "      <td>134</td>\n",
       "      <td>1421</td>\n",
       "      <td>92</td>\n",
       "      <td>1411</td>\n",
       "      <td>84</td>\n",
       "      <td>N</td>\n",
       "      <td>1</td>\n",
       "      <td>32</td>\n",
       "      <td>69</td>\n",
       "      <td>...</td>\n",
       "      <td>16</td>\n",
       "      <td>15</td>\n",
       "      <td>5</td>\n",
       "      <td>0</td>\n",
       "      <td>22</td>\n",
       "      <td>UNC Asheville</td>\n",
       "      <td>TX Southern</td>\n",
       "      <td>0</td>\n",
       "      <td>1421</td>\n",
       "      <td>1411</td>\n",
       "    </tr>\n",
       "    <tr>\n",
       "      <th>1</th>\n",
       "      <td>2003</td>\n",
       "      <td>136</td>\n",
       "      <td>1112</td>\n",
       "      <td>80</td>\n",
       "      <td>1436</td>\n",
       "      <td>51</td>\n",
       "      <td>N</td>\n",
       "      <td>0</td>\n",
       "      <td>31</td>\n",
       "      <td>66</td>\n",
       "      <td>...</td>\n",
       "      <td>12</td>\n",
       "      <td>17</td>\n",
       "      <td>10</td>\n",
       "      <td>3</td>\n",
       "      <td>15</td>\n",
       "      <td>Arizona</td>\n",
       "      <td>Vermont</td>\n",
       "      <td>1</td>\n",
       "      <td>1436</td>\n",
       "      <td>1112</td>\n",
       "    </tr>\n",
       "    <tr>\n",
       "      <th>2</th>\n",
       "      <td>2003</td>\n",
       "      <td>136</td>\n",
       "      <td>1113</td>\n",
       "      <td>84</td>\n",
       "      <td>1272</td>\n",
       "      <td>71</td>\n",
       "      <td>N</td>\n",
       "      <td>0</td>\n",
       "      <td>31</td>\n",
       "      <td>59</td>\n",
       "      <td>...</td>\n",
       "      <td>11</td>\n",
       "      <td>12</td>\n",
       "      <td>2</td>\n",
       "      <td>5</td>\n",
       "      <td>18</td>\n",
       "      <td>Arizona St</td>\n",
       "      <td>Memphis</td>\n",
       "      <td>1</td>\n",
       "      <td>1272</td>\n",
       "      <td>1113</td>\n",
       "    </tr>\n",
       "    <tr>\n",
       "      <th>3</th>\n",
       "      <td>2003</td>\n",
       "      <td>136</td>\n",
       "      <td>1141</td>\n",
       "      <td>79</td>\n",
       "      <td>1166</td>\n",
       "      <td>73</td>\n",
       "      <td>N</td>\n",
       "      <td>0</td>\n",
       "      <td>29</td>\n",
       "      <td>53</td>\n",
       "      <td>...</td>\n",
       "      <td>20</td>\n",
       "      <td>21</td>\n",
       "      <td>6</td>\n",
       "      <td>6</td>\n",
       "      <td>21</td>\n",
       "      <td>C Michigan</td>\n",
       "      <td>Creighton</td>\n",
       "      <td>0</td>\n",
       "      <td>1141</td>\n",
       "      <td>1166</td>\n",
       "    </tr>\n",
       "    <tr>\n",
       "      <th>4</th>\n",
       "      <td>2003</td>\n",
       "      <td>136</td>\n",
       "      <td>1143</td>\n",
       "      <td>76</td>\n",
       "      <td>1301</td>\n",
       "      <td>74</td>\n",
       "      <td>N</td>\n",
       "      <td>1</td>\n",
       "      <td>27</td>\n",
       "      <td>64</td>\n",
       "      <td>...</td>\n",
       "      <td>16</td>\n",
       "      <td>14</td>\n",
       "      <td>5</td>\n",
       "      <td>8</td>\n",
       "      <td>19</td>\n",
       "      <td>California</td>\n",
       "      <td>NC State</td>\n",
       "      <td>1</td>\n",
       "      <td>1301</td>\n",
       "      <td>1143</td>\n",
       "    </tr>\n",
       "  </tbody>\n",
       "</table>\n",
       "<p>5 rows × 39 columns</p>\n",
       "</div>"
      ],
      "text/plain": [
       "   Season  Daynum  Wteam  Wscore  Lteam  Lscore Wloc  Numot  Wfgm  Wfga  \\\n",
       "0    2003     134   1421      92   1411      84    N      1    32    69   \n",
       "1    2003     136   1112      80   1436      51    N      0    31    66   \n",
       "2    2003     136   1113      84   1272      71    N      0    31    59   \n",
       "3    2003     136   1141      79   1166      73    N      0    29    53   \n",
       "4    2003     136   1143      76   1301      74    N      1    27    64   \n",
       "\n",
       "   ...    Last  Lto  Lstl  Lblk  Lpf     Wteam_name   Lteam_name  Winner  \\\n",
       "0  ...      16   15     5     0   22  UNC Asheville  TX Southern       0   \n",
       "1  ...      12   17    10     3   15        Arizona      Vermont       1   \n",
       "2  ...      11   12     2     5   18     Arizona St      Memphis       1   \n",
       "3  ...      20   21     6     6   21     C Michigan    Creighton       0   \n",
       "4  ...      16   14     5     8   19     California     NC State       1   \n",
       "\n",
       "   team0  team1  \n",
       "0   1421   1411  \n",
       "1   1436   1112  \n",
       "2   1272   1113  \n",
       "3   1141   1166  \n",
       "4   1301   1143  \n",
       "\n",
       "[5 rows x 39 columns]"
      ]
     },
     "execution_count": 2,
     "metadata": {},
     "output_type": "execute_result"
    }
   ],
   "source": [
    "np.random.seed(0) # seed so we always get same answer\n",
    "tourney_df['Winner'] = np.random.randint(2,size=Ngames)\n",
    "\n",
    "def team0(game):\n",
    "    if game['Winner'] == 1:\n",
    "        team0 = game['Lteam']\n",
    "        team1 = game['Wteam']\n",
    "    else:\n",
    "        team0 = game['Wteam']\n",
    "        team1 = game['Lteam']    \n",
    "    return team0\n",
    "\n",
    "def team1(game):\n",
    "    if game['Winner'] == 1:\n",
    "        team0 = game['Lteam']\n",
    "        team1 = game['Wteam']\n",
    "    else:\n",
    "        team0 = game['Wteam']\n",
    "        team1 = game['Lteam'] \n",
    "    return team1\n",
    "\n",
    "for feature in [team0, team1]:\n",
    "    tourney_df[feature.__name__] = tourney_df.apply(feature, axis=1)\n",
    "\n",
    "tourney_df.head()"
   ]
  },
  {
   "cell_type": "markdown",
   "metadata": {},
   "source": [
    "# ADD NEW FEATURES HERE (at bottom of cell below)\n",
    "\n",
    "Add your new features here, see tutorial below"
   ]
  },
  {
   "cell_type": "code",
   "execution_count": 3,
   "metadata": {
    "collapsed": false
   },
   "outputs": [],
   "source": [
    "seasons = tourney_df['Season'].unique()\n",
    "in_reg_season = dict(zip(seasons, [reg_season_df['Season'] == i for i in seasons]))\n",
    "is_valid = reg_season_df['Wteam'] != 0\n",
    "\n",
    "def wins0(game):  \n",
    "    return reg_season_df.loc[(reg_season_df['Wteam'] == game['team0']) & in_reg_season[game['Season']] & is_valid].shape[0]\n",
    "    \n",
    "def wins1(game):  \n",
    "    return reg_season_df.loc[(reg_season_df['Wteam'] == game['team1']) & in_reg_season[game['Season']] & is_valid].shape[0]    "
   ]
  },
  {
   "cell_type": "code",
   "execution_count": 4,
   "metadata": {
    "collapsed": false
   },
   "outputs": [
    {
     "data": {
      "text/html": [
       "<div>\n",
       "<table border=\"1\" class=\"dataframe\">\n",
       "  <thead>\n",
       "    <tr style=\"text-align: right;\">\n",
       "      <th></th>\n",
       "      <th>Season</th>\n",
       "      <th>Daynum</th>\n",
       "      <th>Wteam</th>\n",
       "      <th>Wscore</th>\n",
       "      <th>Lteam</th>\n",
       "      <th>Lscore</th>\n",
       "      <th>Wloc</th>\n",
       "      <th>Numot</th>\n",
       "      <th>Wfgm</th>\n",
       "      <th>Wfga</th>\n",
       "      <th>...</th>\n",
       "      <th>Lstl</th>\n",
       "      <th>Lblk</th>\n",
       "      <th>Lpf</th>\n",
       "      <th>Wteam_name</th>\n",
       "      <th>Lteam_name</th>\n",
       "      <th>Winner</th>\n",
       "      <th>team0</th>\n",
       "      <th>team1</th>\n",
       "      <th>wins0</th>\n",
       "      <th>wins1</th>\n",
       "    </tr>\n",
       "  </thead>\n",
       "  <tbody>\n",
       "    <tr>\n",
       "      <th>0</th>\n",
       "      <td>2003</td>\n",
       "      <td>134</td>\n",
       "      <td>1421</td>\n",
       "      <td>92</td>\n",
       "      <td>1411</td>\n",
       "      <td>84</td>\n",
       "      <td>N</td>\n",
       "      <td>1</td>\n",
       "      <td>32</td>\n",
       "      <td>69</td>\n",
       "      <td>...</td>\n",
       "      <td>5</td>\n",
       "      <td>0</td>\n",
       "      <td>22</td>\n",
       "      <td>UNC Asheville</td>\n",
       "      <td>TX Southern</td>\n",
       "      <td>0</td>\n",
       "      <td>1421</td>\n",
       "      <td>1411</td>\n",
       "      <td>13</td>\n",
       "      <td>18</td>\n",
       "    </tr>\n",
       "    <tr>\n",
       "      <th>1</th>\n",
       "      <td>2003</td>\n",
       "      <td>136</td>\n",
       "      <td>1112</td>\n",
       "      <td>80</td>\n",
       "      <td>1436</td>\n",
       "      <td>51</td>\n",
       "      <td>N</td>\n",
       "      <td>0</td>\n",
       "      <td>31</td>\n",
       "      <td>66</td>\n",
       "      <td>...</td>\n",
       "      <td>10</td>\n",
       "      <td>3</td>\n",
       "      <td>15</td>\n",
       "      <td>Arizona</td>\n",
       "      <td>Vermont</td>\n",
       "      <td>1</td>\n",
       "      <td>1436</td>\n",
       "      <td>1112</td>\n",
       "      <td>19</td>\n",
       "      <td>25</td>\n",
       "    </tr>\n",
       "    <tr>\n",
       "      <th>2</th>\n",
       "      <td>2003</td>\n",
       "      <td>136</td>\n",
       "      <td>1113</td>\n",
       "      <td>84</td>\n",
       "      <td>1272</td>\n",
       "      <td>71</td>\n",
       "      <td>N</td>\n",
       "      <td>0</td>\n",
       "      <td>31</td>\n",
       "      <td>59</td>\n",
       "      <td>...</td>\n",
       "      <td>2</td>\n",
       "      <td>5</td>\n",
       "      <td>18</td>\n",
       "      <td>Arizona St</td>\n",
       "      <td>Memphis</td>\n",
       "      <td>1</td>\n",
       "      <td>1272</td>\n",
       "      <td>1113</td>\n",
       "      <td>23</td>\n",
       "      <td>18</td>\n",
       "    </tr>\n",
       "    <tr>\n",
       "      <th>3</th>\n",
       "      <td>2003</td>\n",
       "      <td>136</td>\n",
       "      <td>1141</td>\n",
       "      <td>79</td>\n",
       "      <td>1166</td>\n",
       "      <td>73</td>\n",
       "      <td>N</td>\n",
       "      <td>0</td>\n",
       "      <td>29</td>\n",
       "      <td>53</td>\n",
       "      <td>...</td>\n",
       "      <td>6</td>\n",
       "      <td>6</td>\n",
       "      <td>21</td>\n",
       "      <td>C Michigan</td>\n",
       "      <td>Creighton</td>\n",
       "      <td>0</td>\n",
       "      <td>1141</td>\n",
       "      <td>1166</td>\n",
       "      <td>23</td>\n",
       "      <td>29</td>\n",
       "    </tr>\n",
       "    <tr>\n",
       "      <th>4</th>\n",
       "      <td>2003</td>\n",
       "      <td>136</td>\n",
       "      <td>1143</td>\n",
       "      <td>76</td>\n",
       "      <td>1301</td>\n",
       "      <td>74</td>\n",
       "      <td>N</td>\n",
       "      <td>1</td>\n",
       "      <td>27</td>\n",
       "      <td>64</td>\n",
       "      <td>...</td>\n",
       "      <td>5</td>\n",
       "      <td>8</td>\n",
       "      <td>19</td>\n",
       "      <td>California</td>\n",
       "      <td>NC State</td>\n",
       "      <td>1</td>\n",
       "      <td>1301</td>\n",
       "      <td>1143</td>\n",
       "      <td>18</td>\n",
       "      <td>21</td>\n",
       "    </tr>\n",
       "  </tbody>\n",
       "</table>\n",
       "<p>5 rows × 41 columns</p>\n",
       "</div>"
      ],
      "text/plain": [
       "   Season  Daynum  Wteam  Wscore  Lteam  Lscore Wloc  Numot  Wfgm  Wfga  \\\n",
       "0    2003     134   1421      92   1411      84    N      1    32    69   \n",
       "1    2003     136   1112      80   1436      51    N      0    31    66   \n",
       "2    2003     136   1113      84   1272      71    N      0    31    59   \n",
       "3    2003     136   1141      79   1166      73    N      0    29    53   \n",
       "4    2003     136   1143      76   1301      74    N      1    27    64   \n",
       "\n",
       "   ...    Lstl  Lblk  Lpf     Wteam_name   Lteam_name  Winner  team0  team1  \\\n",
       "0  ...       5     0   22  UNC Asheville  TX Southern       0   1421   1411   \n",
       "1  ...      10     3   15        Arizona      Vermont       1   1436   1112   \n",
       "2  ...       2     5   18     Arizona St      Memphis       1   1272   1113   \n",
       "3  ...       6     6   21     C Michigan    Creighton       0   1141   1166   \n",
       "4  ...       5     8   19     California     NC State       1   1301   1143   \n",
       "\n",
       "   wins0  wins1  \n",
       "0     13     18  \n",
       "1     19     25  \n",
       "2     23     18  \n",
       "3     23     29  \n",
       "4     18     21  \n",
       "\n",
       "[5 rows x 41 columns]"
      ]
     },
     "execution_count": 4,
     "metadata": {},
     "output_type": "execute_result"
    }
   ],
   "source": [
    "fList = [wins0, wins1]\n",
    "for feature in fList:\n",
    "    tourney_df[feature.__name__] = tourney_df.apply(feature, axis=1)\n",
    "tourney_df.head()"
   ]
  },
  {
   "cell_type": "markdown",
   "metadata": {},
   "source": [
    "# Save the new data with features so we avoid regenerating"
   ]
  },
  {
   "cell_type": "code",
   "execution_count": 5,
   "metadata": {
    "collapsed": false
   },
   "outputs": [],
   "source": [
    "tourney_df.to_csv(\"data/data.csv\", encoding='ascii')"
   ]
  },
  {
   "cell_type": "markdown",
   "metadata": {},
   "source": [
    "# Generate Features for Submission Data\n",
    "\n",
    "The cells below take the games Kaggle wants us to submit, and generates the corresponding features for them like we do above for the training data."
   ]
  },
  {
   "cell_type": "code",
   "execution_count": 6,
   "metadata": {
    "collapsed": false
   },
   "outputs": [
    {
     "data": {
      "text/html": [
       "<div>\n",
       "<table border=\"1\" class=\"dataframe\">\n",
       "  <thead>\n",
       "    <tr style=\"text-align: right;\">\n",
       "      <th></th>\n",
       "      <th>Id</th>\n",
       "      <th>Pred</th>\n",
       "    </tr>\n",
       "  </thead>\n",
       "  <tbody>\n",
       "    <tr>\n",
       "      <th>0</th>\n",
       "      <td>2012_1104_1124</td>\n",
       "      <td>0.5</td>\n",
       "    </tr>\n",
       "    <tr>\n",
       "      <th>1</th>\n",
       "      <td>2012_1104_1125</td>\n",
       "      <td>0.5</td>\n",
       "    </tr>\n",
       "    <tr>\n",
       "      <th>2</th>\n",
       "      <td>2012_1104_1140</td>\n",
       "      <td>0.5</td>\n",
       "    </tr>\n",
       "    <tr>\n",
       "      <th>3</th>\n",
       "      <td>2012_1104_1143</td>\n",
       "      <td>0.5</td>\n",
       "    </tr>\n",
       "    <tr>\n",
       "      <th>4</th>\n",
       "      <td>2012_1104_1153</td>\n",
       "      <td>0.5</td>\n",
       "    </tr>\n",
       "  </tbody>\n",
       "</table>\n",
       "</div>"
      ],
      "text/plain": [
       "               Id  Pred\n",
       "0  2012_1104_1124   0.5\n",
       "1  2012_1104_1125   0.5\n",
       "2  2012_1104_1140   0.5\n",
       "3  2012_1104_1143   0.5\n",
       "4  2012_1104_1153   0.5"
      ]
     },
     "execution_count": 6,
     "metadata": {},
     "output_type": "execute_result"
    }
   ],
   "source": [
    "sample = pd.read_csv('data/SampleSubmission.csv')\n",
    "sample.head()"
   ]
  },
  {
   "cell_type": "code",
   "execution_count": 7,
   "metadata": {
    "collapsed": false
   },
   "outputs": [
    {
     "data": {
      "text/html": [
       "<div>\n",
       "<table border=\"1\" class=\"dataframe\">\n",
       "  <thead>\n",
       "    <tr style=\"text-align: right;\">\n",
       "      <th></th>\n",
       "      <th>Id</th>\n",
       "      <th>Pred</th>\n",
       "      <th>Season</th>\n",
       "      <th>team0</th>\n",
       "      <th>team1</th>\n",
       "      <th>wins0</th>\n",
       "      <th>wins1</th>\n",
       "    </tr>\n",
       "  </thead>\n",
       "  <tbody>\n",
       "    <tr>\n",
       "      <th>0</th>\n",
       "      <td>2012_1104_1124</td>\n",
       "      <td>0.5</td>\n",
       "      <td>2012</td>\n",
       "      <td>1104</td>\n",
       "      <td>1124</td>\n",
       "      <td>21</td>\n",
       "      <td>26</td>\n",
       "    </tr>\n",
       "    <tr>\n",
       "      <th>1</th>\n",
       "      <td>2012_1104_1125</td>\n",
       "      <td>0.5</td>\n",
       "      <td>2012</td>\n",
       "      <td>1104</td>\n",
       "      <td>1125</td>\n",
       "      <td>21</td>\n",
       "      <td>26</td>\n",
       "    </tr>\n",
       "    <tr>\n",
       "      <th>2</th>\n",
       "      <td>2012_1104_1140</td>\n",
       "      <td>0.5</td>\n",
       "      <td>2012</td>\n",
       "      <td>1104</td>\n",
       "      <td>1140</td>\n",
       "      <td>21</td>\n",
       "      <td>23</td>\n",
       "    </tr>\n",
       "    <tr>\n",
       "      <th>3</th>\n",
       "      <td>2012_1104_1143</td>\n",
       "      <td>0.5</td>\n",
       "      <td>2012</td>\n",
       "      <td>1104</td>\n",
       "      <td>1143</td>\n",
       "      <td>21</td>\n",
       "      <td>24</td>\n",
       "    </tr>\n",
       "    <tr>\n",
       "      <th>4</th>\n",
       "      <td>2012_1104_1153</td>\n",
       "      <td>0.5</td>\n",
       "      <td>2012</td>\n",
       "      <td>1104</td>\n",
       "      <td>1153</td>\n",
       "      <td>21</td>\n",
       "      <td>24</td>\n",
       "    </tr>\n",
       "  </tbody>\n",
       "</table>\n",
       "</div>"
      ],
      "text/plain": [
       "               Id  Pred  Season  team0  team1  wins0  wins1\n",
       "0  2012_1104_1124   0.5    2012   1104   1124     21     26\n",
       "1  2012_1104_1125   0.5    2012   1104   1125     21     26\n",
       "2  2012_1104_1140   0.5    2012   1104   1140     21     23\n",
       "3  2012_1104_1143   0.5    2012   1104   1143     21     24\n",
       "4  2012_1104_1153   0.5    2012   1104   1153     21     24"
      ]
     },
     "execution_count": 7,
     "metadata": {},
     "output_type": "execute_result"
    }
   ],
   "source": [
    "def get_season(Id):\n",
    "    return np.int64(Id.split(\"_\")[0])\n",
    "def get_team0(Id):\n",
    "    return np.int64(Id.split(\"_\")[1])\n",
    "def get_team1(Id):\n",
    "    return np.int64(Id.split(\"_\")[2])\n",
    "\n",
    "sample['Season'] = sample['Id'].apply(get_season)\n",
    "sample['team0'] = sample['Id'].apply(get_team0)\n",
    "sample['team1'] = sample['Id'].apply(get_team1)\n",
    "\n",
    "for feature in fList:\n",
    "    sample[feature.__name__] = sample.apply(feature, axis=1)\n",
    "    \n",
    "sample.head()"
   ]
  },
  {
   "cell_type": "code",
   "execution_count": 8,
   "metadata": {
    "collapsed": true
   },
   "outputs": [],
   "source": [
    "sample.to_csv(\"data/sample.csv\", encoding='ascii')"
   ]
  },
  {
   "cell_type": "markdown",
   "metadata": {},
   "source": [
    "# Tutorial for adding a new feature\n",
    "\n",
    "All functions to populate a feature should take a game, i.e., a row of `tourney_df`,  "
   ]
  },
  {
   "cell_type": "code",
   "execution_count": 9,
   "metadata": {
    "collapsed": false
   },
   "outputs": [
    {
     "name": "stdout",
     "output_type": "stream",
     "text": [
      "Season                 2003\n",
      "Daynum                  134\n",
      "Wteam                  1421\n",
      "Wscore                   92\n",
      "Lteam                  1411\n",
      "Lscore                   84\n",
      "Wloc                      N\n",
      "Numot                     1\n",
      "Wfgm                     32\n",
      "Wfga                     69\n",
      "Wfgm3                    11\n",
      "Wfga3                    29\n",
      "Wftm                     17\n",
      "Wfta                     26\n",
      "Wor                      14\n",
      "Wdr                      30\n",
      "Wast                     17\n",
      "Wto                      12\n",
      "Wstl                      5\n",
      "Wblk                      3\n",
      "Wpf                      22\n",
      "Lfgm                     29\n",
      "Lfga                     67\n",
      "Lfgm3                    12\n",
      "Lfga3                    31\n",
      "Lftm                     14\n",
      "Lfta                     31\n",
      "Lor                      17\n",
      "Ldr                      28\n",
      "Last                     16\n",
      "Lto                      15\n",
      "Lstl                      5\n",
      "Lblk                      0\n",
      "Lpf                      22\n",
      "Wteam_name    UNC Asheville\n",
      "Lteam_name      TX Southern\n",
      "Winner                    0\n",
      "team0                  1421\n",
      "team1                  1411\n",
      "wins0                    13\n",
      "wins1                    18\n",
      "Name: 0, dtype: object\n"
     ]
    }
   ],
   "source": [
    "game = tourney_df.loc[0]\n",
    "print(game)"
   ]
  },
  {
   "cell_type": "markdown",
   "metadata": {},
   "source": [
    "If it's a feature specific to a team, name it 0 or 1, and access team0's and/or team1's ID using the corresponding column.  `team_name` is a dictionary that takes a team ID and returns the name, and `team_id` is a dictionary that takes a team name and returns the ID.  You can use these to match up data you find elsewhere.\n",
    "\n",
    "The function should return the value for your new feature.  As a simple example, to make a feature with the team's name, "
   ]
  },
  {
   "cell_type": "code",
   "execution_count": 10,
   "metadata": {
    "collapsed": false
   },
   "outputs": [
    {
     "name": "stdout",
     "output_type": "stream",
     "text": [
      "1421\n"
     ]
    },
    {
     "data": {
      "text/plain": [
       "'UNC Asheville'"
      ]
     },
     "execution_count": 10,
     "metadata": {},
     "output_type": "execute_result"
    }
   ],
   "source": [
    "def name0(game):\n",
    "    ID = game['team0']\n",
    "    \n",
    "    # Examples of using the dictionaries\n",
    "    name = team_name[ID] \n",
    "    print(team_id[name]) \n",
    "    \n",
    "    return name\n",
    "\n",
    "name0(tourney_df.loc[0])"
   ]
  },
  {
   "cell_type": "markdown",
   "metadata": {},
   "source": [
    "# More Realistic Example\n",
    "\n",
    "I had to look at different pandas examples/tutorials, but this might get you started.  For `wins0`, I wanted to be able to return the number of games `team0` won in the regular season.  What we actually have is a list of games, each of which have a winning team.  So we need to find all the games where `team0` was the winner, and add them all up.  So we start with the column that has all the IDs of the winning teams for each game."
   ]
  },
  {
   "cell_type": "code",
   "execution_count": 11,
   "metadata": {
    "collapsed": false
   },
   "outputs": [
    {
     "name": "stdout",
     "output_type": "stream",
     "text": [
      "0    1228\n",
      "1    1106\n",
      "2    1112\n",
      "3    1165\n",
      "4    1192\n",
      "Name: Wteam, dtype: int64\n"
     ]
    }
   ],
   "source": [
    "wteam = reg_season_df['Wteam']\n",
    "print(wteam.head())"
   ]
  },
  {
   "cell_type": "markdown",
   "metadata": {},
   "source": [
    "Now we make a boolean array that has the same length as `wteam` above, with `True` if the winning team is `team0` (which we take to be 1106 in this example):"
   ]
  },
  {
   "cell_type": "code",
   "execution_count": 12,
   "metadata": {
    "collapsed": false
   },
   "outputs": [
    {
     "name": "stdout",
     "output_type": "stream",
     "text": [
      "0    False\n",
      "1     True\n",
      "2    False\n",
      "3    False\n",
      "4    False\n",
      "Name: Wteam, dtype: bool\n"
     ]
    }
   ],
   "source": [
    "games_where_1106_won = reg_season_df['Wteam'] == 1106\n",
    "print(games_where_1106_won.head())"
   ]
  },
  {
   "cell_type": "code",
   "execution_count": 13,
   "metadata": {
    "collapsed": false
   },
   "outputs": [
    {
     "name": "stdout",
     "output_type": "stream",
     "text": [
      "1       1106\n",
      "175     1106\n",
      "1459    1106\n",
      "1732    1106\n",
      "2311    1106\n",
      "Name: Wteam, dtype: int64\n"
     ]
    }
   ],
   "source": [
    "games_1106_won = wteam[games_where_1106_won]\n",
    "print(games_1106_won.head())"
   ]
  },
  {
   "cell_type": "markdown",
   "metadata": {},
   "source": [
    "But this has games for all seasons mixed together, so we have to choose the right season.  Say the game for which we're trying to make the feature happend in 2012.  Then we need another mask like we used above to separate the games where 1106 won, but this time for the season:"
   ]
  },
  {
   "cell_type": "code",
   "execution_count": 14,
   "metadata": {
    "collapsed": false
   },
   "outputs": [
    {
     "name": "stdout",
     "output_type": "stream",
     "text": [
      "0    False\n",
      "1    False\n",
      "2    False\n",
      "3    False\n",
      "4    False\n",
      "Name: Season, dtype: bool\n"
     ]
    }
   ],
   "source": [
    "in_2012 = reg_season_df['Season'] == 2012\n",
    "print(in_2012.head())"
   ]
  },
  {
   "cell_type": "markdown",
   "metadata": {},
   "source": [
    "We can put boolean masks together like this:"
   ]
  },
  {
   "cell_type": "code",
   "execution_count": 15,
   "metadata": {
    "collapsed": false
   },
   "outputs": [
    {
     "name": "stdout",
     "output_type": "stream",
     "text": [
      "119676    1106\n",
      "120814    1106\n",
      "120893    1106\n",
      "121126    1106\n",
      "121296    1106\n",
      "Name: Wteam, dtype: int64\n"
     ]
    }
   ],
   "source": [
    "games_1106_won_in_2012 = wteam[games_where_1106_won & in_2012]\n",
    "print(games_1106_won_in_2012.head())"
   ]
  },
  {
   "cell_type": "markdown",
   "metadata": {},
   "source": [
    "For convenience, I've made a dictionary `in_reg_season` that takes a year, and gives you the corresponding boolean mask for that year.  Using that notation, and finally also using the `is_valid` mask, which ensures that the game is valid (WTeam != 0), we have "
   ]
  },
  {
   "cell_type": "code",
   "execution_count": 16,
   "metadata": {
    "collapsed": false
   },
   "outputs": [
    {
     "name": "stdout",
     "output_type": "stream",
     "text": [
      "119676    1106\n",
      "120814    1106\n",
      "120893    1106\n",
      "121126    1106\n",
      "121296    1106\n",
      "Name: Wteam, dtype: int64\n"
     ]
    }
   ],
   "source": [
    "games_1106_won_in_2012 = wteam[games_where_1106_won & in_reg_season[2012] & is_valid]\n",
    "print(games_1106_won_in_2012.head())"
   ]
  },
  {
   "cell_type": "markdown",
   "metadata": {},
   "source": [
    "We can now get the length of the final array of filtered values using `shape`, and taking `[0]`, which gives the number of rows.  A minor final detail is that all these new variables make copies of slices of the dataframes, so it's slightly more efficient to do things without making copies with the `loc` function, which explains the one-liners in the wins0 and wins1 functions above: "
   ]
  },
  {
   "cell_type": "code",
   "execution_count": 17,
   "metadata": {
    "collapsed": false
   },
   "outputs": [
    {
     "name": "stdout",
     "output_type": "stream",
     "text": [
      "10\n",
      "10\n"
     ]
    }
   ],
   "source": [
    "print(games_1106_won_in_2012.shape[0])\n",
    "print(reg_season_df.loc[(reg_season_df['Wteam'] == 1106) & in_reg_season[2012] & is_valid].shape[0])"
   ]
  }
 ],
 "metadata": {
  "kernelspec": {
   "display_name": "Python 3",
   "language": "python",
   "name": "python3"
  },
  "language_info": {
   "codemirror_mode": {
    "name": "ipython",
    "version": 3
   },
   "file_extension": ".py",
   "mimetype": "text/x-python",
   "name": "python",
   "nbconvert_exporter": "python",
   "pygments_lexer": "ipython3",
   "version": "3.5.1"
  }
 },
 "nbformat": 4,
 "nbformat_minor": 0
}
