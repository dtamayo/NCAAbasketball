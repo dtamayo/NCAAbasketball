{
 "cells": [
  {
   "cell_type": "markdown",
   "metadata": {},
   "source": [
    "# Input Filenames Here\n",
    "\n",
    "`season_data_file` is the data file from which to create features (could be only fraction of regular season in future). `team_features_output_file` is the filename where the features for each team will be saved."
   ]
  },
  {
   "cell_type": "code",
   "execution_count": 27,
   "metadata": {},
   "outputs": [],
   "source": [
    "season_data_file = 'data/RegularSeasonDetailedResults.csv' \n",
    "team_features_output_file = 'data/team_features.csv'"
   ]
  },
  {
   "cell_type": "code",
   "execution_count": 28,
   "metadata": {},
   "outputs": [],
   "source": [
    "import pandas as pd\n",
    "import numpy as np\n",
    "\n",
    "season_df = pd.read_csv(season_data_file)\n",
    "teams_df = pd.read_csv('data/Teams.csv')\n",
    "team_name = dict(zip(teams_df['Team_Id'].values, teams_df['Team_Name'].values))\n",
    "team_id = dict(zip(teams_df['Team_Name'].values, teams_df['Team_Id'].values))\n",
    "\n",
    "# Create dictionaries for boolean masks\n",
    "seasons = season_df['Season'].unique()\n",
    "in_season = dict(zip(seasons, [season_df['Season'] == i for i in seasons]))\n",
    "\n",
    "team_ids = teams_df['Team_Id'].unique()\n",
    "is_winner = dict(zip(team_ids, [season_df['Wteam'] == i for i in team_ids]))\n",
    "is_loser = dict(zip(team_ids, [season_df['Lteam'] == i for i in team_ids]))\n",
    "did_play = dict(zip(team_ids, [(season_df['Wteam'] == i) | (season_df['Lteam'] == i) for i in team_ids]))# winner or loser\n",
    "\n",
    "is_valid = season_df['Wteam'] != 0\n",
    "\n",
    "def avg(feature): # pass string for feature (without W or L to get a function back that calculates average for the season)\n",
    "    def avg_feat(team):\n",
    "        f = pd.concat([season_df.loc[is_winner[team['Team_Id']] & in_season[team['Season']] & is_valid, 'W'+feature], season_df.loc[is_loser[team['Team_Id']] & in_season[team['Season']] & is_valid, 'L'+feature]])\n",
    "        return np.round(f.mean(), decimals=2)\n",
    "    avg_feat.__name__ = 'avg_'+feature\n",
    "    return avg_feat\n",
    "\n",
    "def std(feature): # pass string for feature (without W or L to get a function back that calculates stdev for the season)\n",
    "    def std_feat(team):\n",
    "        f = pd.concat([season_df.loc[is_winner[team['Team_Id']] & in_season[team['Season']] & is_valid, 'W'+feature], season_df.loc[is_loser[team['Team_Id']] & in_season[team['Season']] & is_valid, 'L'+feature]])\n",
    "        return np.round(f.std(), decimals=2)\n",
    "    std_feat.__name__ = 'std_'+feature\n",
    "    return std_feat\n"
   ]
  },
  {
   "cell_type": "markdown",
   "metadata": {},
   "source": [
    "# ADD NEW TEAM FEATURES HERE (at bottom of cell below)\n",
    "\n",
    "Add your new features specific to a team here, see tutorial at bottom of notebook.  You can create features that generate simple averages or standard deviations of features in the detailed data using the avg and std functions above.  What you add here to `teamfList` are the features that will be appended to the data file."
   ]
  },
  {
   "cell_type": "code",
   "execution_count": 29,
   "metadata": {
    "collapsed": true
   },
   "outputs": [],
   "source": [
    "def wins(team):  \n",
    "    return season_df.loc[is_winner[team['Team_Id']] & in_season[team['Season']] & is_valid].shape[0]\n",
    "\n",
    "# Four factors\n",
    "def efg(team):\n",
    "    fgm = pd.concat([season_df.loc[is_winner[team['Team_Id']] & in_season[team['Season']] & is_valid, 'Wfgm'], season_df.loc[is_loser[team['Team_Id']] & in_season[team['Season']] & is_valid, 'Lfgm']])\n",
    "    fgm3 = pd.concat([season_df.loc[is_winner[team['Team_Id']] & in_season[team['Season']] & is_valid, 'Wfgm3'], season_df.loc[is_loser[team['Team_Id']] & in_season[team['Season']] & is_valid, 'Lfgm3']])\n",
    "    fga = pd.concat([season_df.loc[is_winner[team['Team_Id']] & in_season[team['Season']] & is_valid, 'Wfga'], season_df.loc[is_loser[team['Team_Id']] & in_season[team['Season']] & is_valid, 'Lfga']])\n",
    "    efg = (fgm+0.5*fgm3)/fga\n",
    "    return np.round(efg.mean(), decimals=2)\n",
    "\n",
    "def to_p(team):\n",
    "    to = pd.concat([season_df.loc[is_winner[team['Team_Id']] & in_season[team['Season']] & is_valid, 'Wto'], season_df.loc[is_loser[team['Team_Id']] & in_season[team['Season']] & is_valid, 'Lto']])\n",
    "    fga = pd.concat([season_df.loc[is_winner[team['Team_Id']] & in_season[team['Season']] & is_valid, 'Wfga'], season_df.loc[is_loser[team['Team_Id']] & in_season[team['Season']] & is_valid, 'Lfga']])\n",
    "    o_r = pd.concat([season_df.loc[is_winner[team['Team_Id']] & in_season[team['Season']] & is_valid, 'Wor'], season_df.loc[is_loser[team['Team_Id']] & in_season[team['Season']] & is_valid, 'Lor']])\n",
    "    fta = pd.concat([season_df.loc[is_winner[team['Team_Id']] & in_season[team['Season']] & is_valid, 'Wfta'], season_df.loc[is_loser[team['Team_Id']] & in_season[team['Season']] & is_valid, 'Lfta']])\n",
    "    possessions = 0.96*(fga-o_r-to+0.475*fta)\n",
    "    to_p = to/possessions\n",
    "    return np.round(to_p.mean(), decimals=2)\n",
    "\n",
    "def orp(team):\n",
    "    o_r = pd.concat([season_df.loc[is_winner[team['Team_Id']] & in_season[team['Season']] & is_valid, 'Wor'], season_df.loc[is_loser[team['Team_Id']] & in_season[team['Season']] & is_valid, 'Lor']])\n",
    "    dr_op = pd.concat([season_df.loc[is_winner[team['Team_Id']] & in_season[team['Season']] & is_valid, 'Ldr'], season_df.loc[is_loser[team['Team_Id']] & in_season[team['Season']] & is_valid, 'Wdr']])\n",
    "    orp = o_r/(o_r + dr_op)\n",
    "    return np.round(orp.mean(), decimals=2)\n",
    "\n",
    "def ftr(team):\n",
    "    fta = pd.concat([season_df.loc[is_winner[team['Team_Id']] & in_season[team['Season']] & is_valid, 'Wfta'], season_df.loc[is_loser[team['Team_Id']] & in_season[team['Season']] & is_valid, 'Lfta']])\n",
    "    fga = pd.concat([season_df.loc[is_winner[team['Team_Id']] & in_season[team['Season']] & is_valid, 'Wfga'], season_df.loc[is_loser[team['Team_Id']] & in_season[team['Season']] & is_valid, 'Lfga']])\n",
    "    ftr = fta/fga\n",
    "    return np.round(ftr.mean(), decimals=2)"
   ]
  },
  {
   "cell_type": "markdown",
   "metadata": {},
   "source": [
    "# Append your new function to teamfList below!"
   ]
  },
  {
   "cell_type": "code",
   "execution_count": 30,
   "metadata": {},
   "outputs": [
    {
     "name": "stdout",
     "output_type": "stream",
     "text": [
      "Team Features that will be added = []\n"
     ]
    }
   ],
   "source": [
    "teamfList = []\n",
    "#teamfList.append(to_p)\n",
    "#teamfList.append(orp)\n",
    "#teamfList.append(wins)\n",
    "#for f in ['fgm', 'fga', 'fgm3', 'fga3', 'ftm', 'fta', 'or', 'dr', 'ast', 'to', 'stl', 'blk', 'pf']:\n",
    "#    teamfList.append(avg(f))\n",
    "#    teamfList.append(std(f))\n",
    "print(\"Team Features that will be added = {0}\".format([f.__name__ for f in teamfList]))"
   ]
  },
  {
   "cell_type": "code",
   "execution_count": 31,
   "metadata": {},
   "outputs": [
    {
     "data": {
      "text/html": [
       "<div>\n",
       "<table border=\"1\" class=\"dataframe\">\n",
       "  <thead>\n",
       "    <tr style=\"text-align: right;\">\n",
       "      <th></th>\n",
       "      <th>Team_Id</th>\n",
       "      <th>Season</th>\n",
       "      <th>team_name</th>\n",
       "      <th>wins</th>\n",
       "      <th>avg_fgm</th>\n",
       "      <th>std_fgm</th>\n",
       "      <th>avg_fga</th>\n",
       "      <th>std_fga</th>\n",
       "      <th>avg_fgm3</th>\n",
       "      <th>std_fgm3</th>\n",
       "      <th>...</th>\n",
       "      <th>avg_stl</th>\n",
       "      <th>std_stl</th>\n",
       "      <th>avg_blk</th>\n",
       "      <th>std_blk</th>\n",
       "      <th>avg_pf</th>\n",
       "      <th>std_pf</th>\n",
       "      <th>ftr</th>\n",
       "      <th>efg</th>\n",
       "      <th>to_p</th>\n",
       "      <th>orp</th>\n",
       "    </tr>\n",
       "  </thead>\n",
       "  <tbody>\n",
       "    <tr>\n",
       "      <th>4727</th>\n",
       "      <td>1464</td>\n",
       "      <td>2011</td>\n",
       "      <td>Youngstown St</td>\n",
       "      <td>7</td>\n",
       "      <td>24.71</td>\n",
       "      <td>3.79</td>\n",
       "      <td>59.75</td>\n",
       "      <td>6.74</td>\n",
       "      <td>7.86</td>\n",
       "      <td>2.95</td>\n",
       "      <td>...</td>\n",
       "      <td>6.21</td>\n",
       "      <td>2.13</td>\n",
       "      <td>4.82</td>\n",
       "      <td>2.63</td>\n",
       "      <td>20.18</td>\n",
       "      <td>5.22</td>\n",
       "      <td>0.30</td>\n",
       "      <td>0.48</td>\n",
       "      <td>0.29</td>\n",
       "      <td>0.26</td>\n",
       "    </tr>\n",
       "    <tr>\n",
       "      <th>4728</th>\n",
       "      <td>1464</td>\n",
       "      <td>2012</td>\n",
       "      <td>Youngstown St</td>\n",
       "      <td>14</td>\n",
       "      <td>23.79</td>\n",
       "      <td>3.54</td>\n",
       "      <td>55.31</td>\n",
       "      <td>6.39</td>\n",
       "      <td>8.52</td>\n",
       "      <td>3.00</td>\n",
       "      <td>...</td>\n",
       "      <td>6.28</td>\n",
       "      <td>2.53</td>\n",
       "      <td>5.31</td>\n",
       "      <td>2.42</td>\n",
       "      <td>16.55</td>\n",
       "      <td>4.49</td>\n",
       "      <td>0.31</td>\n",
       "      <td>0.51</td>\n",
       "      <td>0.30</td>\n",
       "      <td>0.28</td>\n",
       "    </tr>\n",
       "    <tr>\n",
       "      <th>4729</th>\n",
       "      <td>1464</td>\n",
       "      <td>2013</td>\n",
       "      <td>Youngstown St</td>\n",
       "      <td>14</td>\n",
       "      <td>23.90</td>\n",
       "      <td>4.05</td>\n",
       "      <td>56.34</td>\n",
       "      <td>8.07</td>\n",
       "      <td>6.66</td>\n",
       "      <td>2.64</td>\n",
       "      <td>...</td>\n",
       "      <td>6.34</td>\n",
       "      <td>2.86</td>\n",
       "      <td>5.31</td>\n",
       "      <td>2.12</td>\n",
       "      <td>17.72</td>\n",
       "      <td>4.15</td>\n",
       "      <td>0.37</td>\n",
       "      <td>0.49</td>\n",
       "      <td>0.30</td>\n",
       "      <td>0.26</td>\n",
       "    </tr>\n",
       "    <tr>\n",
       "      <th>4730</th>\n",
       "      <td>1464</td>\n",
       "      <td>2014</td>\n",
       "      <td>Youngstown St</td>\n",
       "      <td>12</td>\n",
       "      <td>25.38</td>\n",
       "      <td>4.09</td>\n",
       "      <td>55.90</td>\n",
       "      <td>7.67</td>\n",
       "      <td>7.59</td>\n",
       "      <td>2.35</td>\n",
       "      <td>...</td>\n",
       "      <td>6.38</td>\n",
       "      <td>2.78</td>\n",
       "      <td>2.48</td>\n",
       "      <td>1.72</td>\n",
       "      <td>19.03</td>\n",
       "      <td>4.34</td>\n",
       "      <td>0.41</td>\n",
       "      <td>0.52</td>\n",
       "      <td>0.26</td>\n",
       "      <td>0.24</td>\n",
       "    </tr>\n",
       "    <tr>\n",
       "      <th>4731</th>\n",
       "      <td>1464</td>\n",
       "      <td>2015</td>\n",
       "      <td>Youngstown St</td>\n",
       "      <td>8</td>\n",
       "      <td>25.03</td>\n",
       "      <td>3.80</td>\n",
       "      <td>56.66</td>\n",
       "      <td>7.12</td>\n",
       "      <td>6.62</td>\n",
       "      <td>2.16</td>\n",
       "      <td>...</td>\n",
       "      <td>5.90</td>\n",
       "      <td>2.76</td>\n",
       "      <td>1.93</td>\n",
       "      <td>1.67</td>\n",
       "      <td>18.62</td>\n",
       "      <td>5.52</td>\n",
       "      <td>0.37</td>\n",
       "      <td>0.51</td>\n",
       "      <td>0.28</td>\n",
       "      <td>0.24</td>\n",
       "    </tr>\n",
       "  </tbody>\n",
       "</table>\n",
       "<p>5 rows × 34 columns</p>\n",
       "</div>"
      ],
      "text/plain": [
       "      Team_Id  Season      team_name  wins  avg_fgm  std_fgm  avg_fga  \\\n",
       "4727     1464    2011  Youngstown St     7    24.71     3.79    59.75   \n",
       "4728     1464    2012  Youngstown St    14    23.79     3.54    55.31   \n",
       "4729     1464    2013  Youngstown St    14    23.90     4.05    56.34   \n",
       "4730     1464    2014  Youngstown St    12    25.38     4.09    55.90   \n",
       "4731     1464    2015  Youngstown St     8    25.03     3.80    56.66   \n",
       "\n",
       "      std_fga  avg_fgm3  std_fgm3  ...   avg_stl  std_stl  avg_blk  std_blk  \\\n",
       "4727     6.74      7.86      2.95  ...      6.21     2.13     4.82     2.63   \n",
       "4728     6.39      8.52      3.00  ...      6.28     2.53     5.31     2.42   \n",
       "4729     8.07      6.66      2.64  ...      6.34     2.86     5.31     2.12   \n",
       "4730     7.67      7.59      2.35  ...      6.38     2.78     2.48     1.72   \n",
       "4731     7.12      6.62      2.16  ...      5.90     2.76     1.93     1.67   \n",
       "\n",
       "      avg_pf  std_pf   ftr   efg  to_p   orp  \n",
       "4727   20.18    5.22  0.30  0.48  0.29  0.26  \n",
       "4728   16.55    4.49  0.31  0.51  0.30  0.28  \n",
       "4729   17.72    4.15  0.37  0.49  0.30  0.26  \n",
       "4730   19.03    4.34  0.41  0.52  0.26  0.24  \n",
       "4731   18.62    5.52  0.37  0.51  0.28  0.24  \n",
       "\n",
       "[5 rows x 34 columns]"
      ]
     },
     "execution_count": 31,
     "metadata": {},
     "output_type": "execute_result"
    }
   ],
   "source": [
    "#USE THESE TWO LINES TO REGENERATE ALL THE TEAM FEATURES\n",
    "#team_features_df = pd.DataFrame([[team_ID, season] for team_ID in team_ids for season in seasons], columns = ['Team_Id', 'Season'])\n",
    "#team_features_df['team_name'] = team_features_df['Team_Id'].map(team_name)\n",
    "\n",
    "#USE THIS LINE TO ADD TO THE EXISTING TEAM FEATURES\n",
    "team_features_df = pd.read_csv(team_features_output_file, index_col=0)\n",
    "\n",
    "for feature in teamfList:\n",
    "    team_features_df[feature.__name__] = team_features_df.apply(feature, axis=1)\n",
    "\n",
    "team_features_df = team_features_df.replace(np.nan, 0)\n",
    "team_features_df.to_csv(team_features_output_file, encoding='ascii')\n",
    "team_features_df.tail()"
   ]
  },
  {
   "cell_type": "markdown",
   "metadata": {},
   "source": [
    "# Input Filenames for Generating Features for the Games\n",
    "\n",
    "`training_data_file` is the data file we want to use as training data (could include part of regular season in addition to tourney in future). `team_features_input_file` is the input file we want to use for the team features (generated above--default is `team_features_output_file`, i.e. what was used for output above).  `training_data_output_file` is the filename for the training data with all the games."
   ]
  },
  {
   "cell_type": "code",
   "execution_count": 32,
   "metadata": {},
   "outputs": [],
   "source": [
    "training_data_file = 'data/data.csv' # use data/TourneyDetailedResults.csv to regenerate features\n",
    "team_features_input_file = team_features_output_file\n",
    "training_data_output_file = 'data/data.csv'"
   ]
  },
  {
   "cell_type": "markdown",
   "metadata": {},
   "source": [
    "# Randomizing the Winning Team and Adding Features\n",
    "\n",
    "We first randomly chooses the winner to be team 1 or team 0.  The result is stored in `tourney_df('Winner')` and the ID corresponding to team0 and team1 are in `tourney_df('team0')` and `tourney_df('team1')`, respectively.  We also add all the features in `data/team_features.csv` for team0 and team1."
   ]
  },
  {
   "cell_type": "code",
   "execution_count": 33,
   "metadata": {},
   "outputs": [
    {
     "name": "stdout",
     "output_type": "stream",
     "text": [
      "847 tournament games in the dataset\n"
     ]
    }
   ],
   "source": [
    "tourney_df = pd.read_csv(training_data_file, index_col=0) # take off index_col if regenerating with TourneyDetailedResults\n",
    "\n",
    "Ngames = tourney_df.shape[0]\n",
    "print(\"{0} tournament games in the dataset\".format(Ngames))\n",
    "\n",
    "np.random.seed(0) # seed so we always get same answer\n",
    "tourney_df['team0Win'] = np.random.randint(2,size=Ngames)\n",
    "\n",
    "def team0(game):\n",
    "    if game['team0Win'] == 1:\n",
    "        return game['Wteam']\n",
    "    else:\n",
    "        return game['Lteam']\n",
    "\n",
    "def team1(game):\n",
    "    if game['team0Win'] == 1:\n",
    "        return game['Lteam']\n",
    "    else:\n",
    "        return game['Wteam']\n",
    "\n",
    "team_features_df = pd.read_csv(team_features_input_file, index_col=0)\n",
    "seasons = tourney_df['Season'].unique()\n",
    "in_season = dict(zip(seasons, [team_features_df['Season'] == i for i in seasons]))\n",
    "\n",
    "def feature01(feature):\n",
    "    def mod(game):\n",
    "        f0 = team_features_df.loc[(team_features_df['Team_Id'] == game['team0']) & in_season[game['Season']], feature.__name__].values[0]\n",
    "        f1 = team_features_df.loc[(team_features_df['Team_Id'] == game['team1']) & in_season[game['Season']], feature.__name__].values[0]\n",
    "        return pd.Series({feature.__name__+'0':f0, feature.__name__+'1':f1})\n",
    "    return mod"
   ]
  },
  {
   "cell_type": "code",
   "execution_count": 39,
   "metadata": {},
   "outputs": [
    {
     "name": "stdout",
     "output_type": "stream",
     "text": [
      "Index([u'Season', u'Daynum', u'Wteam', u'Wscore', u'Lteam', u'Lscore', u'Wloc',\n",
      "       u'Numot', u'Wfgm', u'Wfga', u'Wfgm3', u'Wfga3', u'Wftm', u'Wfta',\n",
      "       u'Wor', u'Wdr', u'Wast', u'Wto', u'Wstl', u'Wblk', u'Wpf', u'Lfgm',\n",
      "       u'Lfga', u'Lfgm3', u'Lfga3', u'Lftm', u'Lfta', u'Lor', u'Ldr', u'Last',\n",
      "       u'Lto', u'Lstl', u'Lblk', u'Lpf', u'team0Win', u'team0', u'team1',\n",
      "       u'wins0', u'wins1', u'avg_fgm0'],\n",
      "      dtype='object')\n"
     ]
    }
   ],
   "source": [
    "print(tourney_df.columns[0:40])"
   ]
  },
  {
   "cell_type": "code",
   "execution_count": 51,
   "metadata": {},
   "outputs": [
    {
     "data": {
      "text/html": [
       "<div>\n",
       "<table border=\"1\" class=\"dataframe\">\n",
       "  <thead>\n",
       "    <tr style=\"text-align: right;\">\n",
       "      <th></th>\n",
       "      <th>Season</th>\n",
       "      <th>Daynum</th>\n",
       "      <th>Wteam</th>\n",
       "      <th>Wscore</th>\n",
       "      <th>Lteam</th>\n",
       "      <th>Lscore</th>\n",
       "      <th>Wloc</th>\n",
       "      <th>Numot</th>\n",
       "      <th>Wfgm</th>\n",
       "      <th>Wfga</th>\n",
       "      <th>...</th>\n",
       "      <th>SAG1</th>\n",
       "      <th>MOR1</th>\n",
       "      <th>BOB1</th>\n",
       "      <th>WOL1</th>\n",
       "      <th>WLK1</th>\n",
       "      <th>POM1</th>\n",
       "      <th>DOL1</th>\n",
       "      <th>COL1</th>\n",
       "      <th>RTH1</th>\n",
       "      <th>RPI1</th>\n",
       "    </tr>\n",
       "  </thead>\n",
       "  <tbody>\n",
       "    <tr>\n",
       "      <th>0</th>\n",
       "      <td>2003</td>\n",
       "      <td>134</td>\n",
       "      <td>1421</td>\n",
       "      <td>92</td>\n",
       "      <td>1411</td>\n",
       "      <td>84</td>\n",
       "      <td>N</td>\n",
       "      <td>1</td>\n",
       "      <td>32</td>\n",
       "      <td>69</td>\n",
       "      <td>...</td>\n",
       "      <td>251</td>\n",
       "      <td>277</td>\n",
       "      <td>236</td>\n",
       "      <td>220</td>\n",
       "      <td>237</td>\n",
       "      <td>273</td>\n",
       "      <td>258</td>\n",
       "      <td>213</td>\n",
       "      <td>250</td>\n",
       "      <td>186</td>\n",
       "    </tr>\n",
       "    <tr>\n",
       "      <th>1</th>\n",
       "      <td>2003</td>\n",
       "      <td>136</td>\n",
       "      <td>1112</td>\n",
       "      <td>80</td>\n",
       "      <td>1436</td>\n",
       "      <td>51</td>\n",
       "      <td>N</td>\n",
       "      <td>0</td>\n",
       "      <td>31</td>\n",
       "      <td>66</td>\n",
       "      <td>...</td>\n",
       "      <td>158</td>\n",
       "      <td>187</td>\n",
       "      <td>158</td>\n",
       "      <td>177</td>\n",
       "      <td>153</td>\n",
       "      <td>144</td>\n",
       "      <td>156</td>\n",
       "      <td>144</td>\n",
       "      <td>182</td>\n",
       "      <td>144</td>\n",
       "    </tr>\n",
       "    <tr>\n",
       "      <th>2</th>\n",
       "      <td>2003</td>\n",
       "      <td>136</td>\n",
       "      <td>1113</td>\n",
       "      <td>84</td>\n",
       "      <td>1272</td>\n",
       "      <td>71</td>\n",
       "      <td>N</td>\n",
       "      <td>0</td>\n",
       "      <td>31</td>\n",
       "      <td>59</td>\n",
       "      <td>...</td>\n",
       "      <td>24</td>\n",
       "      <td>23</td>\n",
       "      <td>22</td>\n",
       "      <td>19</td>\n",
       "      <td>21</td>\n",
       "      <td>20</td>\n",
       "      <td>21</td>\n",
       "      <td>19</td>\n",
       "      <td>19</td>\n",
       "      <td>26</td>\n",
       "    </tr>\n",
       "    <tr>\n",
       "      <th>3</th>\n",
       "      <td>2003</td>\n",
       "      <td>136</td>\n",
       "      <td>1141</td>\n",
       "      <td>79</td>\n",
       "      <td>1166</td>\n",
       "      <td>73</td>\n",
       "      <td>N</td>\n",
       "      <td>0</td>\n",
       "      <td>29</td>\n",
       "      <td>53</td>\n",
       "      <td>...</td>\n",
       "      <td>48</td>\n",
       "      <td>50</td>\n",
       "      <td>49</td>\n",
       "      <td>49</td>\n",
       "      <td>32</td>\n",
       "      <td>50</td>\n",
       "      <td>37</td>\n",
       "      <td>35</td>\n",
       "      <td>55</td>\n",
       "      <td>44</td>\n",
       "    </tr>\n",
       "    <tr>\n",
       "      <th>4</th>\n",
       "      <td>2003</td>\n",
       "      <td>136</td>\n",
       "      <td>1143</td>\n",
       "      <td>76</td>\n",
       "      <td>1301</td>\n",
       "      <td>74</td>\n",
       "      <td>N</td>\n",
       "      <td>1</td>\n",
       "      <td>27</td>\n",
       "      <td>64</td>\n",
       "      <td>...</td>\n",
       "      <td>46</td>\n",
       "      <td>31</td>\n",
       "      <td>47</td>\n",
       "      <td>47</td>\n",
       "      <td>51</td>\n",
       "      <td>48</td>\n",
       "      <td>49</td>\n",
       "      <td>56</td>\n",
       "      <td>42</td>\n",
       "      <td>53</td>\n",
       "    </tr>\n",
       "  </tbody>\n",
       "</table>\n",
       "<p>5 rows × 119 columns</p>\n",
       "</div>"
      ],
      "text/plain": [
       "   Season  Daynum  Wteam  Wscore  Lteam  Lscore Wloc  Numot  Wfgm  Wfga  ...   \\\n",
       "0    2003     134   1421      92   1411      84    N      1    32    69  ...    \n",
       "1    2003     136   1112      80   1436      51    N      0    31    66  ...    \n",
       "2    2003     136   1113      84   1272      71    N      0    31    59  ...    \n",
       "3    2003     136   1141      79   1166      73    N      0    29    53  ...    \n",
       "4    2003     136   1143      76   1301      74    N      1    27    64  ...    \n",
       "\n",
       "   SAG1  MOR1  BOB1  WOL1  WLK1  POM1  DOL1  COL1  RTH1  RPI1  \n",
       "0   251   277   236   220   237   273   258   213   250   186  \n",
       "1   158   187   158   177   153   144   156   144   182   144  \n",
       "2    24    23    22    19    21    20    21    19    19    26  \n",
       "3    48    50    49    49    32    50    37    35    55    44  \n",
       "4    46    31    47    47    51    48    49    56    42    53  \n",
       "\n",
       "[5 rows x 119 columns]"
      ]
     },
     "execution_count": 51,
     "metadata": {},
     "output_type": "execute_result"
    }
   ],
   "source": [
    "# UNCOMMENT THESE LINES IF YOU WANT TO REGENERATE THE TRAINING DATA FILE FROM SCRATCH\n",
    "#for feature in [team0, team1]:\n",
    "#    tourney_df[feature.__name__] = tourney_df.apply(feature, axis=1)\n",
    "\n",
    "# first add all the features for individual teams\n",
    "for feature in teamfList:\n",
    "    tourney_df = pd.concat([tourney_df, tourney_df.apply(feature01(feature), axis=1)], axis=1)\n",
    "    \n",
    "tourney_df.head()"
   ]
  },
  {
   "cell_type": "markdown",
   "metadata": {},
   "source": [
    "# Add game features here\n",
    "\n",
    "In addition to having features for each team separately, e.g., avg field goals made, we might try features for how two teams relate to one another, i.e., a feature that requires knowledge of the specific two teams in a game.  Add them in the cell below and update gamefList in the cell below that:"
   ]
  },
  {
   "cell_type": "code",
   "execution_count": 52,
   "metadata": {
    "collapsed": true
   },
   "outputs": [],
   "source": [
    "systems = ['SAG', 'MOR', 'BOB', 'WOL', 'WLK', 'POM', 'DOL', 'COL', 'RTH', 'RPI']\n",
    "\n",
    "def ratings(df):\n",
    "    for system in systems:\n",
    "        for i in ['0', '1']:\n",
    "            df[system+'_rating'+i] = 100.-4*np.log(1.+df[system+i])-df[system+i]/22.\n",
    "            \n",
    "def diffs(df):\n",
    "    for system in systems:\n",
    "        df['d'+system] = df[system+'0'] - df[system+'1']\n",
    "        df['d'+system+'_rating'] = df[system+'_rating0'] - df[system+'_rating1']"
   ]
  },
  {
   "cell_type": "code",
   "execution_count": 37,
   "metadata": {},
   "outputs": [],
   "source": [
    "massey_df = pd.read_csv('data/massey_ordinals_2003-2015.csv')# Create dictionaries for boolean masks\n",
    "\n",
    "seasons = massey_df['season'].unique()\n",
    "in_massey_season = dict(zip(seasons, [massey_df['season'] == i for i in seasons]))\n",
    "\n",
    "massey_day_nums = massey_df['rating_day_num'].unique()\n",
    "is_massey_day_num = dict(zip(massey_day_nums, [massey_df['rating_day_num'] == i for i in massey_day_nums]))\n",
    "\n",
    "massey_teams = massey_df['team'].unique()\n",
    "is_massey_team = dict(zip(massey_teams, [massey_df['team'] == i for i in massey_teams]))\n",
    "\n",
    "massey_systems = massey_df['sys_name'].unique()\n",
    "is_massey_system = dict(zip(massey_systems, [massey_df['sys_name'] == i for i in massey_systems]))\n",
    "\n",
    "def massey(game): # add here any features specific to a game, i.e., how to teams interact\n",
    "    try:\n",
    "        daynum = game['Daynum']\n",
    "    except:\n",
    "        daynum = 134 # submission file games don't have daynum, but are all after day 133 (last day before tourney)\n",
    "        \n",
    "    latest_day = np.max(massey_day_nums[massey_day_nums < daynum]) # only take ordinals from dates that happened before the game, and take latest one of those\n",
    "    ordinals0 = [np.float64(massey_df.loc[in_massey_season[game['Season']] & is_massey_system[systems[i]] & is_massey_day_num[latest_day] & is_massey_team[game['team0']], 'orank'].values[0]) for i in range(len(systems))]\n",
    "    ordinals1 = [np.float64(massey_df.loc[in_massey_season[game['Season']] & is_massey_system[systems[i]] & is_massey_day_num[latest_day] & is_massey_team[game['team1']], 'orank'].values[0]) for i in range(len(systems))]    \n",
    "    f0 = pd.Series(ordinals0, index=[systems[i]+'0' for i in range(len(systems))])\n",
    "    f1 = pd.Series(ordinals1, index=[systems[i]+'1' for i in range(len(systems))])\n",
    "    return pd.concat([f0,f1])"
   ]
  },
  {
   "cell_type": "markdown",
   "metadata": {},
   "source": [
    "# Append your new function to gamefList below!"
   ]
  },
  {
   "cell_type": "code",
   "execution_count": 22,
   "metadata": {},
   "outputs": [
    {
     "name": "stdout",
     "output_type": "stream",
     "text": [
      "Game features added = []\n"
     ]
    }
   ],
   "source": [
    "gamefList=[] # features specific to a pair of teams (rather than to an individual team, e.g., seed difference, but not e.g. team seed)\n",
    "#gamefList.append(massey)\n",
    "print(\"Game features to add = {0}\".format([f.__name__ for f in gamefList]))"
   ]
  },
  {
   "cell_type": "code",
   "execution_count": 53,
   "metadata": {},
   "outputs": [
    {
     "data": {
      "text/html": [
       "<div>\n",
       "<table border=\"1\" class=\"dataframe\">\n",
       "  <thead>\n",
       "    <tr style=\"text-align: right;\">\n",
       "      <th></th>\n",
       "      <th>Season</th>\n",
       "      <th>Daynum</th>\n",
       "      <th>Wteam</th>\n",
       "      <th>Wscore</th>\n",
       "      <th>Lteam</th>\n",
       "      <th>Lscore</th>\n",
       "      <th>Wloc</th>\n",
       "      <th>Numot</th>\n",
       "      <th>Wfgm</th>\n",
       "      <th>Wfga</th>\n",
       "      <th>...</th>\n",
       "      <th>dPOM</th>\n",
       "      <th>dPOM_rating</th>\n",
       "      <th>dDOL</th>\n",
       "      <th>dDOL_rating</th>\n",
       "      <th>dCOL</th>\n",
       "      <th>dCOL_rating</th>\n",
       "      <th>dRTH</th>\n",
       "      <th>dRTH_rating</th>\n",
       "      <th>dRPI</th>\n",
       "      <th>dRPI_rating</th>\n",
       "    </tr>\n",
       "  </thead>\n",
       "  <tbody>\n",
       "    <tr>\n",
       "      <th>0</th>\n",
       "      <td>2003</td>\n",
       "      <td>134</td>\n",
       "      <td>1421</td>\n",
       "      <td>92</td>\n",
       "      <td>1411</td>\n",
       "      <td>84</td>\n",
       "      <td>N</td>\n",
       "      <td>1</td>\n",
       "      <td>32</td>\n",
       "      <td>69</td>\n",
       "      <td>...</td>\n",
       "      <td>-5</td>\n",
       "      <td>0.300940</td>\n",
       "      <td>-19</td>\n",
       "      <td>1.168393</td>\n",
       "      <td>-1</td>\n",
       "      <td>0.064190</td>\n",
       "      <td>6</td>\n",
       "      <td>-0.367220</td>\n",
       "      <td>31</td>\n",
       "      <td>-2.022637</td>\n",
       "    </tr>\n",
       "    <tr>\n",
       "      <th>1</th>\n",
       "      <td>2003</td>\n",
       "      <td>136</td>\n",
       "      <td>1112</td>\n",
       "      <td>80</td>\n",
       "      <td>1436</td>\n",
       "      <td>51</td>\n",
       "      <td>N</td>\n",
       "      <td>0</td>\n",
       "      <td>31</td>\n",
       "      <td>66</td>\n",
       "      <td>...</td>\n",
       "      <td>-141</td>\n",
       "      <td>20.770848</td>\n",
       "      <td>-154</td>\n",
       "      <td>22.830534</td>\n",
       "      <td>-142</td>\n",
       "      <td>21.967031</td>\n",
       "      <td>-180</td>\n",
       "      <td>24.625314</td>\n",
       "      <td>-142</td>\n",
       "      <td>21.967031</td>\n",
       "    </tr>\n",
       "    <tr>\n",
       "      <th>2</th>\n",
       "      <td>2003</td>\n",
       "      <td>136</td>\n",
       "      <td>1113</td>\n",
       "      <td>84</td>\n",
       "      <td>1272</td>\n",
       "      <td>71</td>\n",
       "      <td>N</td>\n",
       "      <td>0</td>\n",
       "      <td>31</td>\n",
       "      <td>59</td>\n",
       "      <td>...</td>\n",
       "      <td>12</td>\n",
       "      <td>-2.353395</td>\n",
       "      <td>27</td>\n",
       "      <td>-4.430384</td>\n",
       "      <td>19</td>\n",
       "      <td>-3.534954</td>\n",
       "      <td>16</td>\n",
       "      <td>-3.078419</td>\n",
       "      <td>6</td>\n",
       "      <td>-1.075410</td>\n",
       "    </tr>\n",
       "    <tr>\n",
       "      <th>3</th>\n",
       "      <td>2003</td>\n",
       "      <td>136</td>\n",
       "      <td>1141</td>\n",
       "      <td>79</td>\n",
       "      <td>1166</td>\n",
       "      <td>73</td>\n",
       "      <td>N</td>\n",
       "      <td>0</td>\n",
       "      <td>29</td>\n",
       "      <td>53</td>\n",
       "      <td>...</td>\n",
       "      <td>-23</td>\n",
       "      <td>3.443939</td>\n",
       "      <td>-19</td>\n",
       "      <td>3.636225</td>\n",
       "      <td>-17</td>\n",
       "      <td>3.329047</td>\n",
       "      <td>-33</td>\n",
       "      <td>5.059430</td>\n",
       "      <td>-21</td>\n",
       "      <td>3.468980</td>\n",
       "    </tr>\n",
       "    <tr>\n",
       "      <th>4</th>\n",
       "      <td>2003</td>\n",
       "      <td>136</td>\n",
       "      <td>1143</td>\n",
       "      <td>76</td>\n",
       "      <td>1301</td>\n",
       "      <td>74</td>\n",
       "      <td>N</td>\n",
       "      <td>1</td>\n",
       "      <td>27</td>\n",
       "      <td>64</td>\n",
       "      <td>...</td>\n",
       "      <td>-8</td>\n",
       "      <td>1.076629</td>\n",
       "      <td>-24</td>\n",
       "      <td>3.706615</td>\n",
       "      <td>-28</td>\n",
       "      <td>3.975749</td>\n",
       "      <td>-12</td>\n",
       "      <td>1.854306</td>\n",
       "      <td>-20</td>\n",
       "      <td>2.759585</td>\n",
       "    </tr>\n",
       "  </tbody>\n",
       "</table>\n",
       "<p>5 rows × 159 columns</p>\n",
       "</div>"
      ],
      "text/plain": [
       "   Season  Daynum  Wteam  Wscore  Lteam  Lscore Wloc  Numot  Wfgm  Wfga  \\\n",
       "0    2003     134   1421      92   1411      84    N      1    32    69   \n",
       "1    2003     136   1112      80   1436      51    N      0    31    66   \n",
       "2    2003     136   1113      84   1272      71    N      0    31    59   \n",
       "3    2003     136   1141      79   1166      73    N      0    29    53   \n",
       "4    2003     136   1143      76   1301      74    N      1    27    64   \n",
       "\n",
       "      ...       dPOM  dPOM_rating  dDOL  dDOL_rating  dCOL  dCOL_rating  dRTH  \\\n",
       "0     ...         -5     0.300940   -19     1.168393    -1     0.064190     6   \n",
       "1     ...       -141    20.770848  -154    22.830534  -142    21.967031  -180   \n",
       "2     ...         12    -2.353395    27    -4.430384    19    -3.534954    16   \n",
       "3     ...        -23     3.443939   -19     3.636225   -17     3.329047   -33   \n",
       "4     ...         -8     1.076629   -24     3.706615   -28     3.975749   -12   \n",
       "\n",
       "   dRTH_rating  dRPI  dRPI_rating  \n",
       "0    -0.367220    31    -2.022637  \n",
       "1    24.625314  -142    21.967031  \n",
       "2    -3.078419     6    -1.075410  \n",
       "3     5.059430   -21     3.468980  \n",
       "4     1.854306   -20     2.759585  \n",
       "\n",
       "[5 rows x 159 columns]"
      ]
     },
     "execution_count": 53,
     "metadata": {},
     "output_type": "execute_result"
    }
   ],
   "source": [
    "# now add features specific to a game (pair of teams)\n",
    "for feature in gamefList:\n",
    "    tourney_df = pd.concat([tourney_df, tourney_df.apply(feature, axis=1)], axis=1)\n",
    "\n",
    "#ratings(tourney_df)\n",
    "#diffs(tourney_df)\n",
    "\n",
    "tourney_df.to_csv(training_data_output_file, encoding='ascii')\n",
    "tourney_df.head()"
   ]
  },
  {
   "cell_type": "markdown",
   "metadata": {},
   "source": [
    "# Generate Features for Submission Data\n",
    "\n",
    "The cells below take the games Kaggle wants us to submit, and generates the corresponding features for them like we do above for the training data.  `submission_data_output_file` is the name of the output file to write the submission data for our model to load and predict."
   ]
  },
  {
   "cell_type": "code",
   "execution_count": 32,
   "metadata": {
    "collapsed": true
   },
   "outputs": [],
   "source": [
    "import pandas as pd\n",
    "import numpy as np\n",
    "submission_data_with_features_file = 'data/2016SampleSubmissionWithFeatures.csv'"
   ]
  },
  {
   "cell_type": "code",
   "execution_count": 33,
   "metadata": {
    "collapsed": true
   },
   "outputs": [],
   "source": [
    "def tourneylike(game):\n",
    "    sag0 = np.float(game['SAG0'])\n",
    "    sag1 = np.float(game['SAG1'])\n",
    "    if np.isnan(sag0) or np.isnan(sag1):\n",
    "        return -999\n",
    "    day = 134.\n",
    "    return day/133. - sag0/347 - sag1/347"
   ]
  },
  {
   "cell_type": "code",
   "execution_count": 34,
   "metadata": {
    "collapsed": true
   },
   "outputs": [],
   "source": [
    "teamfList = []\n",
    "gamefList = []"
   ]
  },
  {
   "cell_type": "code",
   "execution_count": 35,
   "metadata": {},
   "outputs": [
    {
     "name": "stdout",
     "output_type": "stream",
     "text": [
      "Adding following Team Features to data/2016SampleSubmissionWithFeatures.csv: []\n",
      "Adding following Game Features to data/2016SampleSubmissionWithFeatures.csv: []\n"
     ]
    }
   ],
   "source": [
    "print(\"Adding following Team Features to {0}: {1}\".format(submission_data_with_features_file, [f.__name__ for f in teamfList]))\n",
    "print(\"Adding following Game Features to {0}: {1}\".format(submission_data_with_features_file, [f.__name__ for f in gamefList]))"
   ]
  },
  {
   "cell_type": "code",
   "execution_count": 36,
   "metadata": {
    "collapsed": true
   },
   "outputs": [],
   "source": [
    "import numpy as np\n",
    "import pandas as pd\n",
    "\n",
    "class FeatureAdder(object):\n",
    "    def __init__(self, df):\n",
    "        self.df = df\n",
    "        \n",
    "    def feature01(self, feature):\n",
    "        def mod(game):\n",
    "            f0 = team_features_df.loc[(team_features_df['Team_Id'] == game['team0']) & in_season[game['Season']], feature.__name__].values[0]\n",
    "            f1 = team_features_df.loc[(team_features_df['Team_Id'] == game['team1']) & in_season[game['Season']], feature.__name__].values[0]\n",
    "            return pd.Series({feature.__name__+'0':f0, feature.__name__+'1':f1})\n",
    "        return mod\n",
    "     \n",
    "    def massey(self):\n",
    "        self.massey_init()\n",
    "        self.df = pd.concat([self.df, self.df.apply(self.massey_game, axis=1)], axis=1)\n",
    "\n",
    "    def massey_init(self):\n",
    "        self.massey_df = pd.read_csv('data/MasseyOrdinals2016ThruDay133_58systems.csv')\n",
    "        \n",
    "        # Create dictionaries for boolean masks\n",
    "\n",
    "        self.massey_seasons = self.massey_df['season'].unique()\n",
    "        self.in_massey_season = dict(zip(self.massey_seasons, [self.massey_df['season'] == i for i in self.massey_seasons]))\n",
    "\n",
    "        self.massey_day_nums = self.massey_df['rating_day_num'].unique()\n",
    "        self.is_massey_day_num = dict(zip(self.massey_day_nums, [self.massey_df['rating_day_num'] == i for i in self.massey_day_nums]))\n",
    "\n",
    "        self.massey_teams = self.massey_df['team'].unique()\n",
    "        self.is_massey_team = dict(zip(self.massey_teams, [self.massey_df['team'] == i for i in self.massey_teams]))\n",
    "\n",
    "        self.massey_systems = self.massey_df['sys_name'].unique()\n",
    "        self.is_massey_system = dict(zip(self.massey_systems, [self.massey_df['sys_name'] == i for i in self.massey_systems]))\n",
    "\n",
    "    def massey_game(self, game): # add here any features specific to a game, i.e., how do teams interact       \n",
    "        try:\n",
    "            daynum = game['Daynum']\n",
    "        except:\n",
    "            daynum = 134 # submission file games don't have daynum, but are all after day 133 (last day before tourney)\n",
    "\n",
    "        latest_day = np.max(self.massey_day_nums[self.massey_day_nums < daynum]) # only take ordinals from dates that happened before the game, and take latest one of those\n",
    "        ordinals0 = [self.getOrdinal(game['Season'], self.massey_systems[i], latest_day, game['team0']) for i in range(len(self.massey_systems))]\n",
    "        ordinals1 = [self.getOrdinal(game['Season'], self.massey_systems[i], latest_day, game['team1']) for i in range(len(self.massey_systems))]\n",
    "        f0 = pd.Series(ordinals0, index=[self.massey_systems[i]+'0' for i in range(len(self.massey_systems))])   \n",
    "        f1 = pd.Series(ordinals1, index=[self.massey_systems[i]+'1' for i in range(len(self.massey_systems))])   \n",
    "        return pd.concat([f0,f1])\n",
    "    \n",
    "    def getOrdinal(self, season, system, day, team):\n",
    "        try:\n",
    "            ordinal = np.float64(self.massey_df.loc[self.in_massey_season[season] & self.is_massey_system[system] & self.is_massey_day_num[day] & self.is_massey_team[team], 'orank'].values[0])\n",
    "        except IndexError:\n",
    "            ordinal = np.nan\n",
    "        return ordinal\n",
    "\n",
    "def add_features(df):\n",
    "    dfa = FeatureAdder(df)\n",
    "    dfa.massey()\n",
    "    return dfa.df"
   ]
  },
  {
   "cell_type": "code",
   "execution_count": 10,
   "metadata": {},
   "outputs": [],
   "source": [
    "sample_df = pd.read_csv(submission_data_with_features_file, index_col=0) #should be SampleSubmission.csv if generating from scratch (remove index_col=0 in that case)"
   ]
  },
  {
   "cell_type": "code",
   "execution_count": 16,
   "metadata": {
    "collapsed": true
   },
   "outputs": [],
   "source": [
    "dfnew = add_features(sample_df)"
   ]
  },
  {
   "cell_type": "code",
   "execution_count": 18,
   "metadata": {},
   "outputs": [],
   "source": [
    "dfnew.to_csv(submission_data_with_features_file)"
   ]
  },
  {
   "cell_type": "code",
   "execution_count": 12,
   "metadata": {},
   "outputs": [
    {
     "data": {
      "text/html": [
       "<div>\n",
       "<table border=\"1\" class=\"dataframe\">\n",
       "  <thead>\n",
       "    <tr style=\"text-align: right;\">\n",
       "      <th></th>\n",
       "      <th>season</th>\n",
       "      <th>rating_day_num</th>\n",
       "      <th>sys_name</th>\n",
       "      <th>team</th>\n",
       "      <th>orank</th>\n",
       "    </tr>\n",
       "  </thead>\n",
       "  <tbody>\n",
       "    <tr>\n",
       "      <th>0</th>\n",
       "      <td>2016</td>\n",
       "      <td>16</td>\n",
       "      <td>ACU</td>\n",
       "      <td>1101</td>\n",
       "      <td>340</td>\n",
       "    </tr>\n",
       "    <tr>\n",
       "      <th>1</th>\n",
       "      <td>2016</td>\n",
       "      <td>16</td>\n",
       "      <td>ACU</td>\n",
       "      <td>1102</td>\n",
       "      <td>233</td>\n",
       "    </tr>\n",
       "    <tr>\n",
       "      <th>2</th>\n",
       "      <td>2016</td>\n",
       "      <td>16</td>\n",
       "      <td>ACU</td>\n",
       "      <td>1103</td>\n",
       "      <td>71</td>\n",
       "    </tr>\n",
       "    <tr>\n",
       "      <th>3</th>\n",
       "      <td>2016</td>\n",
       "      <td>16</td>\n",
       "      <td>ACU</td>\n",
       "      <td>1104</td>\n",
       "      <td>111</td>\n",
       "    </tr>\n",
       "    <tr>\n",
       "      <th>4</th>\n",
       "      <td>2016</td>\n",
       "      <td>16</td>\n",
       "      <td>ACU</td>\n",
       "      <td>1105</td>\n",
       "      <td>303</td>\n",
       "    </tr>\n",
       "  </tbody>\n",
       "</table>\n",
       "</div>"
      ],
      "text/plain": [
       "   season  rating_day_num sys_name  team  orank\n",
       "0    2016              16      ACU  1101    340\n",
       "1    2016              16      ACU  1102    233\n",
       "2    2016              16      ACU  1103     71\n",
       "3    2016              16      ACU  1104    111\n",
       "4    2016              16      ACU  1105    303"
      ]
     },
     "execution_count": 12,
     "metadata": {},
     "output_type": "execute_result"
    }
   ],
   "source": [
    "df = pd.read_csv('data/MasseyOrdinals2016ThruDay133_58systems.csv')\n",
    "df.head()"
   ]
  },
  {
   "cell_type": "code",
   "execution_count": 37,
   "metadata": {},
   "outputs": [
    {
     "data": {
      "text/html": [
       "<div>\n",
       "<table border=\"1\" class=\"dataframe\">\n",
       "  <thead>\n",
       "    <tr style=\"text-align: right;\">\n",
       "      <th></th>\n",
       "      <th>Id</th>\n",
       "      <th>Pred</th>\n",
       "      <th>Season</th>\n",
       "      <th>team0</th>\n",
       "      <th>team1</th>\n",
       "      <th>ACU0</th>\n",
       "      <th>AP0</th>\n",
       "      <th>BBT0</th>\n",
       "      <th>BWE0</th>\n",
       "      <th>CPA0</th>\n",
       "      <th>...</th>\n",
       "      <th>WOB1</th>\n",
       "      <th>ARG1</th>\n",
       "      <th>FAS1</th>\n",
       "      <th>MCL1</th>\n",
       "      <th>DC1</th>\n",
       "      <th>STH1</th>\n",
       "      <th>CTL1</th>\n",
       "      <th>RPI1</th>\n",
       "      <th>HKB1</th>\n",
       "      <th>tourneylike</th>\n",
       "    </tr>\n",
       "  </thead>\n",
       "  <tbody>\n",
       "    <tr>\n",
       "      <th>0</th>\n",
       "      <td>2016_1112_1114</td>\n",
       "      <td>0.5</td>\n",
       "      <td>2016</td>\n",
       "      <td>1112</td>\n",
       "      <td>1114</td>\n",
       "      <td>19.0</td>\n",
       "      <td>17.0</td>\n",
       "      <td>14.0</td>\n",
       "      <td>14.0</td>\n",
       "      <td>NaN</td>\n",
       "      <td>...</td>\n",
       "      <td>49.0</td>\n",
       "      <td>36.0</td>\n",
       "      <td>53.0</td>\n",
       "      <td>88.0</td>\n",
       "      <td>54.0</td>\n",
       "      <td>49.0</td>\n",
       "      <td>NaN</td>\n",
       "      <td>46.0</td>\n",
       "      <td>55.0</td>\n",
       "      <td>0.768326</td>\n",
       "    </tr>\n",
       "    <tr>\n",
       "      <th>1</th>\n",
       "      <td>2016_1112_1122</td>\n",
       "      <td>0.5</td>\n",
       "      <td>2016</td>\n",
       "      <td>1112</td>\n",
       "      <td>1122</td>\n",
       "      <td>19.0</td>\n",
       "      <td>17.0</td>\n",
       "      <td>14.0</td>\n",
       "      <td>14.0</td>\n",
       "      <td>NaN</td>\n",
       "      <td>...</td>\n",
       "      <td>204.0</td>\n",
       "      <td>197.0</td>\n",
       "      <td>209.0</td>\n",
       "      <td>186.0</td>\n",
       "      <td>187.0</td>\n",
       "      <td>209.0</td>\n",
       "      <td>NaN</td>\n",
       "      <td>189.0</td>\n",
       "      <td>220.0</td>\n",
       "      <td>0.344695</td>\n",
       "    </tr>\n",
       "    <tr>\n",
       "      <th>2</th>\n",
       "      <td>2016_1112_1124</td>\n",
       "      <td>0.5</td>\n",
       "      <td>2016</td>\n",
       "      <td>1112</td>\n",
       "      <td>1124</td>\n",
       "      <td>19.0</td>\n",
       "      <td>17.0</td>\n",
       "      <td>14.0</td>\n",
       "      <td>14.0</td>\n",
       "      <td>NaN</td>\n",
       "      <td>...</td>\n",
       "      <td>18.0</td>\n",
       "      <td>25.0</td>\n",
       "      <td>23.0</td>\n",
       "      <td>23.0</td>\n",
       "      <td>18.0</td>\n",
       "      <td>25.0</td>\n",
       "      <td>NaN</td>\n",
       "      <td>25.0</td>\n",
       "      <td>23.0</td>\n",
       "      <td>0.903772</td>\n",
       "    </tr>\n",
       "    <tr>\n",
       "      <th>3</th>\n",
       "      <td>2016_1112_1138</td>\n",
       "      <td>0.5</td>\n",
       "      <td>2016</td>\n",
       "      <td>1112</td>\n",
       "      <td>1138</td>\n",
       "      <td>19.0</td>\n",
       "      <td>17.0</td>\n",
       "      <td>14.0</td>\n",
       "      <td>14.0</td>\n",
       "      <td>NaN</td>\n",
       "      <td>...</td>\n",
       "      <td>108.0</td>\n",
       "      <td>123.0</td>\n",
       "      <td>118.0</td>\n",
       "      <td>98.0</td>\n",
       "      <td>102.0</td>\n",
       "      <td>130.0</td>\n",
       "      <td>NaN</td>\n",
       "      <td>91.0</td>\n",
       "      <td>134.0</td>\n",
       "      <td>0.589651</td>\n",
       "    </tr>\n",
       "    <tr>\n",
       "      <th>4</th>\n",
       "      <td>2016_1112_1139</td>\n",
       "      <td>0.5</td>\n",
       "      <td>2016</td>\n",
       "      <td>1112</td>\n",
       "      <td>1139</td>\n",
       "      <td>19.0</td>\n",
       "      <td>17.0</td>\n",
       "      <td>14.0</td>\n",
       "      <td>14.0</td>\n",
       "      <td>NaN</td>\n",
       "      <td>...</td>\n",
       "      <td>32.0</td>\n",
       "      <td>32.0</td>\n",
       "      <td>27.0</td>\n",
       "      <td>30.0</td>\n",
       "      <td>36.0</td>\n",
       "      <td>35.0</td>\n",
       "      <td>NaN</td>\n",
       "      <td>56.0</td>\n",
       "      <td>31.0</td>\n",
       "      <td>0.886481</td>\n",
       "    </tr>\n",
       "  </tbody>\n",
       "</table>\n",
       "<p>5 rows × 140 columns</p>\n",
       "</div>"
      ],
      "text/plain": [
       "               Id  Pred  Season  team0  team1  ACU0   AP0  BBT0  BWE0  CPA0  \\\n",
       "0  2016_1112_1114   0.5    2016   1112   1114  19.0  17.0  14.0  14.0   NaN   \n",
       "1  2016_1112_1122   0.5    2016   1112   1122  19.0  17.0  14.0  14.0   NaN   \n",
       "2  2016_1112_1124   0.5    2016   1112   1124  19.0  17.0  14.0  14.0   NaN   \n",
       "3  2016_1112_1138   0.5    2016   1112   1138  19.0  17.0  14.0  14.0   NaN   \n",
       "4  2016_1112_1139   0.5    2016   1112   1139  19.0  17.0  14.0  14.0   NaN   \n",
       "\n",
       "      ...        WOB1   ARG1   FAS1   MCL1    DC1   STH1  CTL1   RPI1   HKB1  \\\n",
       "0     ...        49.0   36.0   53.0   88.0   54.0   49.0   NaN   46.0   55.0   \n",
       "1     ...       204.0  197.0  209.0  186.0  187.0  209.0   NaN  189.0  220.0   \n",
       "2     ...        18.0   25.0   23.0   23.0   18.0   25.0   NaN   25.0   23.0   \n",
       "3     ...       108.0  123.0  118.0   98.0  102.0  130.0   NaN   91.0  134.0   \n",
       "4     ...        32.0   32.0   27.0   30.0   36.0   35.0   NaN   56.0   31.0   \n",
       "\n",
       "   tourneylike  \n",
       "0     0.768326  \n",
       "1     0.344695  \n",
       "2     0.903772  \n",
       "3     0.589651  \n",
       "4     0.886481  \n",
       "\n",
       "[5 rows x 140 columns]"
      ]
     },
     "execution_count": 37,
     "metadata": {},
     "output_type": "execute_result"
    }
   ],
   "source": [
    "sample_df = pd.read_csv(submission_data_with_features_file, index_col=0) #should be SampleSubmission.csv if generating from scratch (remove index_col=0 in that case)\n",
    "\n",
    "def get_season(Id):\n",
    "    return np.int64(Id.split(\"_\")[0])\n",
    "def get_team0(Id):\n",
    "    return np.int64(Id.split(\"_\")[1])\n",
    "def get_team1(Id):\n",
    "    return np.int64(Id.split(\"_\")[2])\n",
    "\n",
    "# UNCOMMENT THESE LINES IF YOU WANT TO REGENERATE THE SUBMISSION FEATURES FROM SCRATCH\n",
    "#sample_df['Season'] = sample_df['Id'].apply(get_season)\n",
    "#sample_df['team0'] = sample_df['Id'].apply(get_team0)\n",
    "#sample_df['team1'] = sample_df['Id'].apply(get_team1)\n",
    "\n",
    "# first add all the features for individual teams\n",
    "for feature in teamfList:\n",
    "    sample_df = pd.concat([sample_df, sample_df.apply(feature01(feature), axis=1)], axis=1)\n",
    "    \n",
    "# now add features specific to a game (pair of teams)\n",
    "for feature in gamefList:\n",
    "    #sample_df = pd.concat([sample_df, sample_df.apply(feature, axis=1)], axis=1)\n",
    "    sample_df[feature.__name__] = sample_df.apply(feature, axis=1)\n",
    "#ratings(sample_df)\n",
    "#diffs(sample_df)\n",
    "\n",
    "sample_df.to_csv(submission_data_with_features_file, encoding='ascii')\n",
    "sample_df.head()"
   ]
  },
  {
   "cell_type": "markdown",
   "metadata": {},
   "source": [
    "# Tutorial for adding a new feature\n",
    "\n",
    "All functions to populate a feature should take a game, i.e., a row of `tourney_df`,  "
   ]
  },
  {
   "cell_type": "code",
   "execution_count": 11,
   "metadata": {},
   "outputs": [
    {
     "name": "stdout",
     "output_type": "stream",
     "text": [
      "Season       2003\n",
      "Daynum        134\n",
      "Wteam        1421\n",
      "Wscore         92\n",
      "Lteam        1411\n",
      "Lscore         84\n",
      "Wloc            N\n",
      "Numot           1\n",
      "Wfgm           32\n",
      "Wfga           69\n",
      "Wfgm3          11\n",
      "Wfga3          29\n",
      "Wftm           17\n",
      "Wfta           26\n",
      "Wor            14\n",
      "Wdr            30\n",
      "Wast           17\n",
      "Wto            12\n",
      "Wstl            5\n",
      "Wblk            3\n",
      "Wpf            22\n",
      "Lfgm           29\n",
      "Lfga           67\n",
      "Lfgm3          12\n",
      "Lfga3          31\n",
      "Lftm           14\n",
      "Lfta           31\n",
      "Lor            17\n",
      "Ldr            28\n",
      "Last           16\n",
      "            ...  \n",
      "std_fta0      8.2\n",
      "std_fta1     9.02\n",
      "avg_or0     13.17\n",
      "avg_or1     12.28\n",
      "std_or0      4.86\n",
      "std_or1      3.73\n",
      "avg_dr0      24.8\n",
      "avg_dr1     23.17\n",
      "std_dr0      5.55\n",
      "std_dr1      5.44\n",
      "avg_ast0     14.2\n",
      "avg_ast1    13.03\n",
      "std_ast0      4.4\n",
      "std_ast1     4.79\n",
      "avg_to0     15.23\n",
      "avg_to1     16.21\n",
      "std_to0      4.03\n",
      "std_to1         5\n",
      "avg_stl0     6.43\n",
      "avg_stl1     7.07\n",
      "std_stl0     2.31\n",
      "std_stl1     3.14\n",
      "avg_blk0     2.23\n",
      "avg_blk1        3\n",
      "std_blk0     1.72\n",
      "std_blk1     1.65\n",
      "avg_pf0      18.3\n",
      "avg_pf1      19.1\n",
      "std_pf0      4.56\n",
      "std_pf1      3.69\n",
      "Name: 0, dtype: object\n"
     ]
    }
   ],
   "source": [
    "game = tourney_df.loc[0]\n",
    "print(game)"
   ]
  },
  {
   "cell_type": "markdown",
   "metadata": {},
   "source": [
    "If it's a feature specific to a team, name it 0 or 1, and access team0's and/or team1's ID using the corresponding column.  `team_name` is a dictionary that takes a team ID and returns the name, and `team_id` is a dictionary that takes a team name and returns the ID.  You can use these to match up data you find elsewhere.\n",
    "\n",
    "The function should return the value for your new feature.  As a simple example, to make a feature with the team's name, "
   ]
  },
  {
   "cell_type": "code",
   "execution_count": 18,
   "metadata": {},
   "outputs": [
    {
     "name": "stdout",
     "output_type": "stream",
     "text": [
      "1411\n"
     ]
    },
    {
     "data": {
      "text/plain": [
       "'TX Southern'"
      ]
     },
     "execution_count": 18,
     "metadata": {},
     "output_type": "execute_result"
    }
   ],
   "source": [
    "def name0(game):\n",
    "    ID = game['team0']\n",
    "    \n",
    "    # Examples of using the dictionaries\n",
    "    name = team_name[ID] \n",
    "    print(team_id[name]) \n",
    "    \n",
    "    return name\n",
    "\n",
    "name0(tourney_df.loc[0])"
   ]
  },
  {
   "cell_type": "markdown",
   "metadata": {},
   "source": [
    "# More Realistic Example\n",
    "\n",
    "I had to look at different pandas examples/tutorials, but this might get you started.  For `wins0`, I wanted to be able to return the number of games `team0` won in the regular season.  What we actually have is a list of games, each of which have a winning team.  So we need to find all the games where `team0` was the winner, and add them all up.  So we start with the column that has all the IDs of the winning teams for each game."
   ]
  },
  {
   "cell_type": "code",
   "execution_count": 19,
   "metadata": {},
   "outputs": [
    {
     "name": "stdout",
     "output_type": "stream",
     "text": [
      "0    1104\n",
      "1    1272\n",
      "2    1266\n",
      "3    1296\n",
      "4    1400\n",
      "Name: Wteam, dtype: int64\n"
     ]
    }
   ],
   "source": [
    "wteam = season_df['Wteam']\n",
    "print(wteam.head())"
   ]
  },
  {
   "cell_type": "markdown",
   "metadata": {},
   "source": [
    "Now we make a boolean array that has the same length as `wteam` above, with `True` if the winning team is `team0` (which we take to be 1106 in this example):"
   ]
  },
  {
   "cell_type": "code",
   "execution_count": 20,
   "metadata": {},
   "outputs": [
    {
     "name": "stdout",
     "output_type": "stream",
     "text": [
      "0    False\n",
      "1    False\n",
      "2    False\n",
      "3    False\n",
      "4    False\n",
      "Name: Wteam, dtype: bool\n"
     ]
    }
   ],
   "source": [
    "games_where_1106_won = season_df['Wteam'] == 1106\n",
    "print(games_where_1106_won.head())"
   ]
  },
  {
   "cell_type": "code",
   "execution_count": 21,
   "metadata": {},
   "outputs": [
    {
     "name": "stdout",
     "output_type": "stream",
     "text": [
      "613     1106\n",
      "1095    1106\n",
      "1584    1106\n",
      "1714    1106\n",
      "1873    1106\n",
      "Name: Wteam, dtype: int64\n"
     ]
    }
   ],
   "source": [
    "games_1106_won = wteam[games_where_1106_won]\n",
    "print(games_1106_won.head())"
   ]
  },
  {
   "cell_type": "markdown",
   "metadata": {},
   "source": [
    "But this has games for all seasons mixed together, so we have to choose the right season.  Say the game for which we're trying to make the feature happend in 2012.  Then we need another mask like we used above to separate the games where 1106 won, but this time for the season:"
   ]
  },
  {
   "cell_type": "code",
   "execution_count": 22,
   "metadata": {},
   "outputs": [
    {
     "name": "stdout",
     "output_type": "stream",
     "text": [
      "0    False\n",
      "1    False\n",
      "2    False\n",
      "3    False\n",
      "4    False\n",
      "Name: Season, dtype: bool\n"
     ]
    }
   ],
   "source": [
    "in_2012 = season_df['Season'] == 2012\n",
    "print(in_2012.head())"
   ]
  },
  {
   "cell_type": "markdown",
   "metadata": {},
   "source": [
    "We can put boolean masks together like this:"
   ]
  },
  {
   "cell_type": "code",
   "execution_count": 23,
   "metadata": {},
   "outputs": [
    {
     "name": "stdout",
     "output_type": "stream",
     "text": [
      "45628    1106\n",
      "46766    1106\n",
      "46845    1106\n",
      "47078    1106\n",
      "47248    1106\n",
      "Name: Wteam, dtype: int64\n"
     ]
    }
   ],
   "source": [
    "games_1106_won_in_2012 = wteam[games_where_1106_won & in_2012]\n",
    "print(games_1106_won_in_2012.head())"
   ]
  },
  {
   "cell_type": "markdown",
   "metadata": {},
   "source": [
    "For convenience, I've made a dictionary `in_season` that takes a year, and gives you the corresponding boolean mask for that year.  Using that notation, and finally also using the `is_valid` mask, which ensures that the game is valid (WTeam != 0), we have "
   ]
  },
  {
   "cell_type": "code",
   "execution_count": 24,
   "metadata": {},
   "outputs": [
    {
     "name": "stdout",
     "output_type": "stream",
     "text": [
      "45628    1106\n",
      "46766    1106\n",
      "46845    1106\n",
      "47078    1106\n",
      "47248    1106\n",
      "Name: Wteam, dtype: int64\n"
     ]
    }
   ],
   "source": [
    "games_1106_won_in_2012 = wteam[games_where_1106_won & in_season[2012] & is_valid]\n",
    "print(games_1106_won_in_2012.head())"
   ]
  },
  {
   "cell_type": "markdown",
   "metadata": {},
   "source": [
    "We can now get the length of the final array of filtered values using `shape`, and taking `[0]`, which gives the number of rows.  A minor final detail is that all these new variables make copies of slices of the dataframes, so it's slightly more efficient to do things without making copies with the `loc` function, which explains the one-liners in the wins0 and wins1 functions above: "
   ]
  },
  {
   "cell_type": "code",
   "execution_count": 25,
   "metadata": {},
   "outputs": [
    {
     "name": "stdout",
     "output_type": "stream",
     "text": [
      "10\n",
      "10\n"
     ]
    }
   ],
   "source": [
    "print(games_1106_won_in_2012.shape[0])\n",
    "print(season_df.loc[(season_df['Wteam'] == 1106) & in_season[2012] & is_valid].shape[0])"
   ]
  },
  {
   "cell_type": "markdown",
   "metadata": {},
   "source": [
    "# Additional Features\n",
    "\n",
    "Someother features to consider on the historic record of one Seed versus another. And the spread betting record. Here is an example of generate feature from data/TourneySeedBetting.csv\n",
    "\n",
    "**TBD: find resource for 2016 league**"
   ]
  },
  {
   "cell_type": "code",
   "execution_count": 26,
   "metadata": {},
   "outputs": [
    {
     "data": {
      "text/html": [
       "<div>\n",
       "<table border=\"1\" class=\"dataframe\">\n",
       "  <thead>\n",
       "    <tr style=\"text-align: right;\">\n",
       "      <th></th>\n",
       "      <th>Season</th>\n",
       "      <th>Daynum</th>\n",
       "      <th>Wteam</th>\n",
       "      <th>Wscore</th>\n",
       "      <th>Lteam</th>\n",
       "      <th>Lscore</th>\n",
       "      <th>Wloc</th>\n",
       "      <th>Numot</th>\n",
       "      <th>Wseed</th>\n",
       "      <th>Lseed</th>\n",
       "      <th>meanProb</th>\n",
       "      <th>numProb</th>\n",
       "      <th>spreadbet</th>\n",
       "    </tr>\n",
       "  </thead>\n",
       "  <tbody>\n",
       "    <tr>\n",
       "      <th>0</th>\n",
       "      <td>2011</td>\n",
       "      <td>134</td>\n",
       "      <td>1155</td>\n",
       "      <td>70</td>\n",
       "      <td>1412</td>\n",
       "      <td>52</td>\n",
       "      <td>N</td>\n",
       "      <td>0</td>\n",
       "      <td>12</td>\n",
       "      <td>12</td>\n",
       "      <td>0.50</td>\n",
       "      <td>1</td>\n",
       "      <td>0</td>\n",
       "    </tr>\n",
       "    <tr>\n",
       "      <th>1</th>\n",
       "      <td>2011</td>\n",
       "      <td>134</td>\n",
       "      <td>1421</td>\n",
       "      <td>81</td>\n",
       "      <td>1114</td>\n",
       "      <td>77</td>\n",
       "      <td>N</td>\n",
       "      <td>1</td>\n",
       "      <td>16</td>\n",
       "      <td>16</td>\n",
       "      <td>0.50</td>\n",
       "      <td>1</td>\n",
       "      <td>0</td>\n",
       "    </tr>\n",
       "    <tr>\n",
       "      <th>2</th>\n",
       "      <td>2011</td>\n",
       "      <td>135</td>\n",
       "      <td>1427</td>\n",
       "      <td>70</td>\n",
       "      <td>1106</td>\n",
       "      <td>61</td>\n",
       "      <td>N</td>\n",
       "      <td>0</td>\n",
       "      <td>16</td>\n",
       "      <td>16</td>\n",
       "      <td>0.50</td>\n",
       "      <td>1</td>\n",
       "      <td>0</td>\n",
       "    </tr>\n",
       "    <tr>\n",
       "      <th>3</th>\n",
       "      <td>2011</td>\n",
       "      <td>135</td>\n",
       "      <td>1433</td>\n",
       "      <td>59</td>\n",
       "      <td>1425</td>\n",
       "      <td>46</td>\n",
       "      <td>N</td>\n",
       "      <td>0</td>\n",
       "      <td>11</td>\n",
       "      <td>11</td>\n",
       "      <td>0.50</td>\n",
       "      <td>1</td>\n",
       "      <td>0</td>\n",
       "    </tr>\n",
       "    <tr>\n",
       "      <th>4</th>\n",
       "      <td>2011</td>\n",
       "      <td>136</td>\n",
       "      <td>1139</td>\n",
       "      <td>60</td>\n",
       "      <td>1330</td>\n",
       "      <td>58</td>\n",
       "      <td>N</td>\n",
       "      <td>0</td>\n",
       "      <td>8</td>\n",
       "      <td>9</td>\n",
       "      <td>0.51</td>\n",
       "      <td>124</td>\n",
       "      <td>1</td>\n",
       "    </tr>\n",
       "  </tbody>\n",
       "</table>\n",
       "</div>"
      ],
      "text/plain": [
       "   Season  Daynum  Wteam  Wscore  Lteam  Lscore Wloc  Numot  Wseed  Lseed  \\\n",
       "0    2011     134   1155      70   1412      52    N      0     12     12   \n",
       "1    2011     134   1421      81   1114      77    N      1     16     16   \n",
       "2    2011     135   1427      70   1106      61    N      0     16     16   \n",
       "3    2011     135   1433      59   1425      46    N      0     11     11   \n",
       "4    2011     136   1139      60   1330      58    N      0      8      9   \n",
       "\n",
       "   meanProb  numProb  spreadbet  \n",
       "0      0.50        1          0  \n",
       "1      0.50        1          0  \n",
       "2      0.50        1          0  \n",
       "3      0.50        1          0  \n",
       "4      0.51      124          1  "
      ]
     },
     "execution_count": 26,
     "metadata": {},
     "output_type": "execute_result"
    }
   ],
   "source": [
    "tourney_seeddf = pd.read_csv('data/TourneySeedBetting.csv')\n",
    "tourney_seeddf.head()\n",
    "\n",
    "### Wseed gives the Seed for the winning team, Lseed gives the Seed for the losing team. \n",
    "### meanProb gives the Probability of the team with the smaller seed wins, numProb \n",
    "### gives the number of games this probability was calculated based on\n",
    "### spreadbet give the spreadbetting from covers on the winning team versus losing team."
   ]
  },
  {
   "cell_type": "markdown",
   "metadata": {},
   "source": [
    "Here is an example to generate **meanprob** feature in the table. Since we randomize the teams in the traning set, we need to reasign the meanprob based on which team has a smaller seed. \n",
    "**TBD**: get a meanprob feature table for the 2016 games. "
   ]
  },
  {
   "cell_type": "code",
   "execution_count": 27,
   "metadata": {
    "collapsed": true
   },
   "outputs": [],
   "source": [
    "def meanprob(game):\n",
    "    \n",
    "    game_seeddf=tourney_seeddf[(tourney_seeddf['Wteam'] == game['Wteam']) & (tourney_seeddf['Lteam']==game['Lteam']) & (tourney_seeddf['Season']==game['Season'])]\n",
    "    prob=game_seeddf['meanProb'].iloc[0]\n",
    "    Wseed=game_seeddf['Wseed'].iloc[0]\n",
    "    Lseed=game_seeddf['Lseed'].iloc[0]\n",
    "    \n",
    "    #this does not need to be rescaled because it is already between 0 and 1 \n",
    "    if game['team0']==0:\n",
    "        if Wseed < Lseed:\n",
    "            return 1-prob\n",
    "        else:\n",
    "            return prob\n",
    "    else:\n",
    "        if Wseed < Lseed:\n",
    "            return prob\n",
    "        else:\n",
    "            return 1-prob\n"
   ]
  },
  {
   "cell_type": "markdown",
   "metadata": {},
   "source": [
    "Example for generate the **spreadbet** feature. "
   ]
  },
  {
   "cell_type": "code",
   "execution_count": 1,
   "metadata": {
    "collapsed": true
   },
   "outputs": [],
   "source": [
    "def spreadbet(game):\n",
    "    \n",
    "    points=tourney_seeddf[(tourney_seeddf['Wteam'] == game['Wteam']) & (tourney_seeddf['Lteam']==game['Lteam']) & (tourney_seeddf['Season']==game['Season'])]['spreadbet'].iloc[0]\n",
    "    #The spreadbets in original table was defined as the bets of the Wteam versus Lteam. \n",
    "    #We rescale spreadbet by dividing everynumber by 10.\n",
    "    if game['team0']==game['Wteam']:\n",
    "        return (points)/10.\n",
    "    else:\n",
    "        return -(points)/10."
   ]
  },
  {
   "cell_type": "code",
   "execution_count": 2,
   "metadata": {},
   "outputs": [
    {
     "ename": "NameError",
     "evalue": "name 'tourney_df' is not defined",
     "output_type": "error",
     "traceback": [
      "\u001b[0;31m---------------------------------------------------------------------------\u001b[0m",
      "\u001b[0;31mNameError\u001b[0m                                 Traceback (most recent call last)",
      "\u001b[0;32m<ipython-input-2-663f3aafe01d>\u001b[0m in \u001b[0;36m<module>\u001b[0;34m()\u001b[0m\n\u001b[0;32m----> 1\u001b[0;31m \u001b[0mgame\u001b[0m \u001b[0;34m=\u001b[0m \u001b[0mtourney_df\u001b[0m\u001b[0;34m[\u001b[0m\u001b[0mtourney_df\u001b[0m\u001b[0;34m[\u001b[0m\u001b[0;34m'Season'\u001b[0m\u001b[0;34m]\u001b[0m\u001b[0;34m==\u001b[0m\u001b[0;36m2011\u001b[0m\u001b[0;34m]\u001b[0m\u001b[0;34m.\u001b[0m\u001b[0miloc\u001b[0m\u001b[0;34m[\u001b[0m\u001b[0;36m0\u001b[0m\u001b[0;34m]\u001b[0m\u001b[0;34m\u001b[0m\u001b[0m\n\u001b[0m\u001b[1;32m      2\u001b[0m \u001b[0;32mprint\u001b[0m \u001b[0mgame\u001b[0m\u001b[0;34m.\u001b[0m\u001b[0mhead\u001b[0m\u001b[0;34m(\u001b[0m\u001b[0;34m)\u001b[0m\u001b[0;34m\u001b[0m\u001b[0m\n\u001b[1;32m      3\u001b[0m \u001b[0mmeanprob\u001b[0m\u001b[0;34m(\u001b[0m\u001b[0mgame\u001b[0m\u001b[0;34m)\u001b[0m\u001b[0;34m\u001b[0m\u001b[0m\n",
      "\u001b[0;31mNameError\u001b[0m: name 'tourney_df' is not defined"
     ]
    }
   ],
   "source": [
    "game = tourney_df[tourney_df['Season']==2011].iloc[0]\n",
    "print game.head()\n",
    "meanprob(game)"
   ]
  },
  {
   "cell_type": "code",
   "execution_count": null,
   "metadata": {
    "collapsed": true
   },
   "outputs": [],
   "source": []
  }
 ],
 "metadata": {
  "kernelspec": {
   "display_name": "Python 3",
   "language": "python",
   "name": "python3"
  },
  "language_info": {
   "codemirror_mode": {
    "name": "ipython",
    "version": 3
   },
   "file_extension": ".py",
   "mimetype": "text/x-python",
   "name": "python",
   "nbconvert_exporter": "python",
   "pygments_lexer": "ipython3",
   "version": "3.7.2"
  }
 },
 "nbformat": 4,
 "nbformat_minor": 1
}
