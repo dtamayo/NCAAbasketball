{
 "cells": [
  {
   "cell_type": "markdown",
   "metadata": {},
   "source": [
    "# Input Filenames Here\n",
    "\n",
    "`season_data_file` is the data file from which to create features (could be only fraction of regular season in future). `team_features_output_file` is the filename where the features for each team will be saved."
   ]
  },
  {
   "cell_type": "code",
   "execution_count": 1,
   "metadata": {
    "collapsed": false
   },
   "outputs": [],
   "source": [
    "season_data_file = 'data/RegularSeasonDetailedResults.csv' \n",
    "team_features_output_file = 'data/team_features.csv'"
   ]
  },
  {
   "cell_type": "code",
   "execution_count": 2,
   "metadata": {
    "collapsed": false
   },
   "outputs": [],
   "source": [
    "import pandas as pd\n",
    "import numpy as np\n",
    "\n",
    "season_df = pd.read_csv(season_data_file)\n",
    "teams_df = pd.read_csv('data/Teams.csv')\n",
    "team_name = dict(zip(teams_df['Team_Id'].values, teams_df['Team_Name'].values))\n",
    "team_id = dict(zip(teams_df['Team_Name'].values, teams_df['Team_Id'].values))\n",
    "\n",
    "# Create dictionaries for boolean masks\n",
    "seasons = season_df['Season'].unique()\n",
    "in_season = dict(zip(seasons, [season_df['Season'] == i for i in seasons]))\n",
    "\n",
    "team_ids = teams_df['Team_Id'].unique()\n",
    "is_winner = dict(zip(team_ids, [season_df['Wteam'] == i for i in team_ids]))\n",
    "is_loser = dict(zip(team_ids, [season_df['Lteam'] == i for i in team_ids]))\n",
    "did_play = dict(zip(team_ids, [(season_df['Wteam'] == i) | (season_df['Lteam'] == i) for i in team_ids]))# winner or loser\n",
    "\n",
    "is_valid = season_df['Wteam'] != 0\n",
    "\n",
    "def avg(feature): # pass string for feature (without W or L to get a function back that calculates average for the season)\n",
    "    def avg_feat(team):\n",
    "        f = pd.concat([season_df.loc[is_winner[team['Team_Id']] & in_season[team['Season']] & is_valid, 'W'+feature], season_df.loc[is_loser[team['Team_Id']] & in_season[team['Season']] & is_valid, 'L'+feature]])\n",
    "        return np.round(f.mean(), decimals=2)\n",
    "    avg_feat.__name__ = 'avg_'+feature\n",
    "    return avg_feat\n",
    "\n",
    "def std(feature): # pass string for feature (without W or L to get a function back that calculates stdev for the season)\n",
    "    def std_feat(team):\n",
    "        f = pd.concat([season_df.loc[is_winner[team['Team_Id']] & in_season[team['Season']] & is_valid, 'W'+feature], season_df.loc[is_loser[team['Team_Id']] & in_season[team['Season']] & is_valid, 'L'+feature]])\n",
    "        return np.round(f.std(), decimals=2)\n",
    "    std_feat.__name__ = 'std_'+feature\n",
    "    return std_feat\n"
   ]
  },
  {
   "cell_type": "markdown",
   "metadata": {},
   "source": [
    "# ADD NEW TEAM FEATURES HERE (at bottom of cell below)\n",
    "\n",
    "Add your new features specific to a team here, see tutorial at bottom of notebook.  You can create features that generate simple averages or standard deviations of features in the detailed data using the avg and std functions above.  What you add here to `teamfList` are the features that will be appended to the data file."
   ]
  },
  {
   "cell_type": "code",
   "execution_count": 3,
   "metadata": {
    "collapsed": true
   },
   "outputs": [],
   "source": [
    "def wins(team):  \n",
    "    return season_df.loc[is_winner[team['Team_Id']] & in_season[team['Season']] & is_valid].shape[0]"
   ]
  },
  {
   "cell_type": "code",
   "execution_count": 7,
   "metadata": {
    "collapsed": false
   },
   "outputs": [
    {
     "name": "stdout",
     "output_type": "stream",
     "text": [
      "Team Features added = ['wins', 'avg_fgm', 'std_fgm', 'avg_fga', 'std_fga', 'avg_fgm3', 'std_fgm3', 'avg_fga3', 'std_fga3', 'avg_ftm', 'std_ftm', 'avg_fta', 'std_fta', 'avg_or', 'std_or', 'avg_dr', 'std_dr', 'avg_ast', 'std_ast', 'avg_to', 'std_to', 'avg_stl', 'std_stl', 'avg_blk', 'std_blk', 'avg_pf', 'std_pf']\n"
     ]
    }
   ],
   "source": [
    "teamfList = [wins]\n",
    "for f in ['fgm', 'fga', 'fgm3', 'fga3', 'ftm', 'fta', 'or', 'dr', 'ast', 'to', 'stl', 'blk', 'pf']:\n",
    "    teamfList.append(avg(f))\n",
    "    teamfList.append(std(f))\n",
    "print(\"Team Features added = {0}\".format([f.__name__ for f in teamfList]))"
   ]
  },
  {
   "cell_type": "code",
   "execution_count": 11,
   "metadata": {
    "collapsed": false
   },
   "outputs": [
    {
     "name": "stdout",
     "output_type": "stream",
     "text": [
      "Features added = ['wins', 'avg_fgm', 'std_fgm', 'avg_fga', 'std_fga', 'avg_fgm3', 'std_fgm3', 'avg_fga3', 'std_fga3', 'avg_ftm', 'std_ftm', 'avg_fta', 'std_fta', 'avg_or', 'std_or', 'avg_dr', 'std_dr', 'avg_ast', 'std_ast', 'avg_to', 'std_to', 'avg_stl', 'std_stl', 'avg_blk', 'std_blk', 'avg_pf', 'std_pf']\n"
     ]
    },
    {
     "ename": "KeyboardInterrupt",
     "evalue": "",
     "output_type": "error",
     "traceback": [
      "\u001b[0;31m---------------------------------------------------------------------------\u001b[0m",
      "\u001b[0;31mKeyboardInterrupt\u001b[0m                         Traceback (most recent call last)",
      "\u001b[0;32m<ipython-input-11-4a846e5db5b6>\u001b[0m in \u001b[0;36m<module>\u001b[0;34m()\u001b[0m\n\u001b[1;32m     13\u001b[0m \u001b[0;34m\u001b[0m\u001b[0m\n\u001b[1;32m     14\u001b[0m \u001b[0;32mfor\u001b[0m \u001b[0mfeature\u001b[0m \u001b[0;32min\u001b[0m \u001b[0mteamfList\u001b[0m\u001b[0;34m:\u001b[0m\u001b[0;34m\u001b[0m\u001b[0m\n\u001b[0;32m---> 15\u001b[0;31m     \u001b[0mteam_features_df\u001b[0m\u001b[0;34m[\u001b[0m\u001b[0mfeature\u001b[0m\u001b[0;34m.\u001b[0m\u001b[0m__name__\u001b[0m\u001b[0;34m]\u001b[0m \u001b[0;34m=\u001b[0m \u001b[0mteam_features_df\u001b[0m\u001b[0;34m.\u001b[0m\u001b[0mapply\u001b[0m\u001b[0;34m(\u001b[0m\u001b[0mfeature\u001b[0m\u001b[0;34m,\u001b[0m \u001b[0maxis\u001b[0m\u001b[0;34m=\u001b[0m\u001b[0;36m1\u001b[0m\u001b[0;34m)\u001b[0m\u001b[0;34m\u001b[0m\u001b[0m\n\u001b[0m\u001b[1;32m     16\u001b[0m \u001b[0;34m\u001b[0m\u001b[0m\n\u001b[1;32m     17\u001b[0m \u001b[0mteam_features_df\u001b[0m \u001b[0;34m=\u001b[0m \u001b[0mteam_features_df\u001b[0m\u001b[0;34m.\u001b[0m\u001b[0mreplace\u001b[0m\u001b[0;34m(\u001b[0m\u001b[0mnp\u001b[0m\u001b[0;34m.\u001b[0m\u001b[0mnan\u001b[0m\u001b[0;34m,\u001b[0m \u001b[0;36m0\u001b[0m\u001b[0;34m)\u001b[0m\u001b[0;34m\u001b[0m\u001b[0m\n",
      "\u001b[0;32m/Users/dtamayo/miniconda2/envs/ml2/lib/python2.7/site-packages/pandas/core/frame.pyc\u001b[0m in \u001b[0;36mapply\u001b[0;34m(self, func, axis, broadcast, raw, reduce, args, **kwds)\u001b[0m\n\u001b[1;32m   3970\u001b[0m                     \u001b[0;32mif\u001b[0m \u001b[0mreduce\u001b[0m \u001b[0;32mis\u001b[0m \u001b[0mNone\u001b[0m\u001b[0;34m:\u001b[0m\u001b[0;34m\u001b[0m\u001b[0m\n\u001b[1;32m   3971\u001b[0m                         \u001b[0mreduce\u001b[0m \u001b[0;34m=\u001b[0m \u001b[0mTrue\u001b[0m\u001b[0;34m\u001b[0m\u001b[0m\n\u001b[0;32m-> 3972\u001b[0;31m                     \u001b[0;32mreturn\u001b[0m \u001b[0mself\u001b[0m\u001b[0;34m.\u001b[0m\u001b[0m_apply_standard\u001b[0m\u001b[0;34m(\u001b[0m\u001b[0mf\u001b[0m\u001b[0;34m,\u001b[0m \u001b[0maxis\u001b[0m\u001b[0;34m,\u001b[0m \u001b[0mreduce\u001b[0m\u001b[0;34m=\u001b[0m\u001b[0mreduce\u001b[0m\u001b[0;34m)\u001b[0m\u001b[0;34m\u001b[0m\u001b[0m\n\u001b[0m\u001b[1;32m   3973\u001b[0m             \u001b[0;32melse\u001b[0m\u001b[0;34m:\u001b[0m\u001b[0;34m\u001b[0m\u001b[0m\n\u001b[1;32m   3974\u001b[0m                 \u001b[0;32mreturn\u001b[0m \u001b[0mself\u001b[0m\u001b[0;34m.\u001b[0m\u001b[0m_apply_broadcast\u001b[0m\u001b[0;34m(\u001b[0m\u001b[0mf\u001b[0m\u001b[0;34m,\u001b[0m \u001b[0maxis\u001b[0m\u001b[0;34m)\u001b[0m\u001b[0;34m\u001b[0m\u001b[0m\n",
      "\u001b[0;32m/Users/dtamayo/miniconda2/envs/ml2/lib/python2.7/site-packages/pandas/core/frame.pyc\u001b[0m in \u001b[0;36m_apply_standard\u001b[0;34m(self, func, axis, ignore_failures, reduce)\u001b[0m\n\u001b[1;32m   4024\u001b[0m                 \u001b[0mlabels\u001b[0m \u001b[0;34m=\u001b[0m \u001b[0mself\u001b[0m\u001b[0;34m.\u001b[0m\u001b[0m_get_agg_axis\u001b[0m\u001b[0;34m(\u001b[0m\u001b[0maxis\u001b[0m\u001b[0;34m)\u001b[0m\u001b[0;34m\u001b[0m\u001b[0m\n\u001b[1;32m   4025\u001b[0m                 result = lib.reduce(values, func, axis=axis, dummy=dummy,\n\u001b[0;32m-> 4026\u001b[0;31m                                     labels=labels)\n\u001b[0m\u001b[1;32m   4027\u001b[0m                 \u001b[0;32mreturn\u001b[0m \u001b[0mSeries\u001b[0m\u001b[0;34m(\u001b[0m\u001b[0mresult\u001b[0m\u001b[0;34m,\u001b[0m \u001b[0mindex\u001b[0m\u001b[0;34m=\u001b[0m\u001b[0mlabels\u001b[0m\u001b[0;34m)\u001b[0m\u001b[0;34m\u001b[0m\u001b[0m\n\u001b[1;32m   4028\u001b[0m             \u001b[0;32mexcept\u001b[0m \u001b[0mException\u001b[0m\u001b[0;34m:\u001b[0m\u001b[0;34m\u001b[0m\u001b[0m\n",
      "\u001b[0;32mpandas/src/reduce.pyx\u001b[0m in \u001b[0;36mpandas.lib.reduce (pandas/lib.c:43773)\u001b[0;34m()\u001b[0m\n",
      "\u001b[0;32mpandas/src/reduce.pyx\u001b[0m in \u001b[0;36mpandas.lib.Reducer.get_result (pandas/lib.c:33913)\u001b[0;34m()\u001b[0m\n",
      "\u001b[0;32m<ipython-input-9-fb51ed48467c>\u001b[0m in \u001b[0;36mavg_feat\u001b[0;34m(team)\u001b[0m\n\u001b[1;32m     20\u001b[0m \u001b[0;32mdef\u001b[0m \u001b[0mavg\u001b[0m\u001b[0;34m(\u001b[0m\u001b[0mfeature\u001b[0m\u001b[0;34m)\u001b[0m\u001b[0;34m:\u001b[0m \u001b[0;31m# pass string for feature (without W or L to get a function back that calculates average for the season)\u001b[0m\u001b[0;34m\u001b[0m\u001b[0m\n\u001b[1;32m     21\u001b[0m     \u001b[0;32mdef\u001b[0m \u001b[0mavg_feat\u001b[0m\u001b[0;34m(\u001b[0m\u001b[0mteam\u001b[0m\u001b[0;34m)\u001b[0m\u001b[0;34m:\u001b[0m\u001b[0;34m\u001b[0m\u001b[0m\n\u001b[0;32m---> 22\u001b[0;31m         \u001b[0mf\u001b[0m \u001b[0;34m=\u001b[0m \u001b[0mpd\u001b[0m\u001b[0;34m.\u001b[0m\u001b[0mconcat\u001b[0m\u001b[0;34m(\u001b[0m\u001b[0;34m[\u001b[0m\u001b[0mseason_df\u001b[0m\u001b[0;34m.\u001b[0m\u001b[0mloc\u001b[0m\u001b[0;34m[\u001b[0m\u001b[0mis_winner\u001b[0m\u001b[0;34m[\u001b[0m\u001b[0mteam\u001b[0m\u001b[0;34m[\u001b[0m\u001b[0;34m'Team_Id'\u001b[0m\u001b[0;34m]\u001b[0m\u001b[0;34m]\u001b[0m \u001b[0;34m&\u001b[0m \u001b[0min_season\u001b[0m\u001b[0;34m[\u001b[0m\u001b[0mteam\u001b[0m\u001b[0;34m[\u001b[0m\u001b[0;34m'Season'\u001b[0m\u001b[0;34m]\u001b[0m\u001b[0;34m]\u001b[0m \u001b[0;34m&\u001b[0m \u001b[0mis_valid\u001b[0m\u001b[0;34m,\u001b[0m \u001b[0;34m'W'\u001b[0m\u001b[0;34m+\u001b[0m\u001b[0mfeature\u001b[0m\u001b[0;34m]\u001b[0m\u001b[0;34m,\u001b[0m \u001b[0mseason_df\u001b[0m\u001b[0;34m.\u001b[0m\u001b[0mloc\u001b[0m\u001b[0;34m[\u001b[0m\u001b[0mis_loser\u001b[0m\u001b[0;34m[\u001b[0m\u001b[0mteam\u001b[0m\u001b[0;34m[\u001b[0m\u001b[0;34m'Team_Id'\u001b[0m\u001b[0;34m]\u001b[0m\u001b[0;34m]\u001b[0m \u001b[0;34m&\u001b[0m \u001b[0min_season\u001b[0m\u001b[0;34m[\u001b[0m\u001b[0mteam\u001b[0m\u001b[0;34m[\u001b[0m\u001b[0;34m'Season'\u001b[0m\u001b[0;34m]\u001b[0m\u001b[0;34m]\u001b[0m \u001b[0;34m&\u001b[0m \u001b[0mis_valid\u001b[0m\u001b[0;34m,\u001b[0m \u001b[0;34m'L'\u001b[0m\u001b[0;34m+\u001b[0m\u001b[0mfeature\u001b[0m\u001b[0;34m]\u001b[0m\u001b[0;34m]\u001b[0m\u001b[0;34m)\u001b[0m\u001b[0;34m\u001b[0m\u001b[0m\n\u001b[0m\u001b[1;32m     23\u001b[0m         \u001b[0;32mreturn\u001b[0m \u001b[0mnp\u001b[0m\u001b[0;34m.\u001b[0m\u001b[0mround\u001b[0m\u001b[0;34m(\u001b[0m\u001b[0mf\u001b[0m\u001b[0;34m.\u001b[0m\u001b[0mmean\u001b[0m\u001b[0;34m(\u001b[0m\u001b[0;34m)\u001b[0m\u001b[0;34m,\u001b[0m \u001b[0mdecimals\u001b[0m\u001b[0;34m=\u001b[0m\u001b[0;36m2\u001b[0m\u001b[0;34m)\u001b[0m\u001b[0;34m\u001b[0m\u001b[0m\n\u001b[1;32m     24\u001b[0m     \u001b[0mavg_feat\u001b[0m\u001b[0;34m.\u001b[0m\u001b[0m__name__\u001b[0m \u001b[0;34m=\u001b[0m \u001b[0;34m'avg_'\u001b[0m\u001b[0;34m+\u001b[0m\u001b[0mfeature\u001b[0m\u001b[0;34m\u001b[0m\u001b[0m\n",
      "\u001b[0;32m/Users/dtamayo/miniconda2/envs/ml2/lib/python2.7/site-packages/pandas/tools/merge.pyc\u001b[0m in \u001b[0;36mconcat\u001b[0;34m(objs, axis, join, join_axes, ignore_index, keys, levels, names, verify_integrity, copy)\u001b[0m\n\u001b[1;32m    810\u001b[0m                        \u001b[0mkeys\u001b[0m\u001b[0;34m=\u001b[0m\u001b[0mkeys\u001b[0m\u001b[0;34m,\u001b[0m \u001b[0mlevels\u001b[0m\u001b[0;34m=\u001b[0m\u001b[0mlevels\u001b[0m\u001b[0;34m,\u001b[0m \u001b[0mnames\u001b[0m\u001b[0;34m=\u001b[0m\u001b[0mnames\u001b[0m\u001b[0;34m,\u001b[0m\u001b[0;34m\u001b[0m\u001b[0m\n\u001b[1;32m    811\u001b[0m                        \u001b[0mverify_integrity\u001b[0m\u001b[0;34m=\u001b[0m\u001b[0mverify_integrity\u001b[0m\u001b[0;34m,\u001b[0m\u001b[0;34m\u001b[0m\u001b[0m\n\u001b[0;32m--> 812\u001b[0;31m                        copy=copy)\n\u001b[0m\u001b[1;32m    813\u001b[0m     \u001b[0;32mreturn\u001b[0m \u001b[0mop\u001b[0m\u001b[0;34m.\u001b[0m\u001b[0mget_result\u001b[0m\u001b[0;34m(\u001b[0m\u001b[0;34m)\u001b[0m\u001b[0;34m\u001b[0m\u001b[0m\n\u001b[1;32m    814\u001b[0m \u001b[0;34m\u001b[0m\u001b[0m\n",
      "\u001b[0;32m/Users/dtamayo/miniconda2/envs/ml2/lib/python2.7/site-packages/pandas/tools/merge.pyc\u001b[0m in \u001b[0;36m__init__\u001b[0;34m(self, objs, axis, join, join_axes, keys, levels, names, ignore_index, verify_integrity, copy)\u001b[0m\n\u001b[1;32m    886\u001b[0m             \u001b[0;31m# filter out the empties\u001b[0m\u001b[0;34m\u001b[0m\u001b[0;34m\u001b[0m\u001b[0m\n\u001b[1;32m    887\u001b[0m             \u001b[0;31m# if we have not multi-index possibiltes\u001b[0m\u001b[0;34m\u001b[0m\u001b[0;34m\u001b[0m\u001b[0m\n\u001b[0;32m--> 888\u001b[0;31m             \u001b[0mdf\u001b[0m \u001b[0;34m=\u001b[0m \u001b[0mDataFrame\u001b[0m\u001b[0;34m(\u001b[0m\u001b[0;34m[\u001b[0m \u001b[0mobj\u001b[0m\u001b[0;34m.\u001b[0m\u001b[0mshape\u001b[0m \u001b[0;32mfor\u001b[0m \u001b[0mobj\u001b[0m \u001b[0;32min\u001b[0m \u001b[0mobjs\u001b[0m \u001b[0;34m]\u001b[0m\u001b[0;34m)\u001b[0m\u001b[0;34m.\u001b[0m\u001b[0msum\u001b[0m\u001b[0;34m(\u001b[0m\u001b[0;36m1\u001b[0m\u001b[0;34m)\u001b[0m\u001b[0;34m\u001b[0m\u001b[0m\n\u001b[0m\u001b[1;32m    889\u001b[0m             \u001b[0mnon_empties\u001b[0m \u001b[0;34m=\u001b[0m \u001b[0mdf\u001b[0m\u001b[0;34m[\u001b[0m\u001b[0mdf\u001b[0m\u001b[0;34m!=\u001b[0m\u001b[0;36m0\u001b[0m\u001b[0;34m]\u001b[0m\u001b[0;34m\u001b[0m\u001b[0m\n\u001b[1;32m    890\u001b[0m             \u001b[0;32mif\u001b[0m \u001b[0mlen\u001b[0m\u001b[0;34m(\u001b[0m\u001b[0mnon_empties\u001b[0m\u001b[0;34m)\u001b[0m \u001b[0;32mand\u001b[0m \u001b[0;34m(\u001b[0m\u001b[0mkeys\u001b[0m \u001b[0;32mis\u001b[0m \u001b[0mNone\u001b[0m \u001b[0;32mand\u001b[0m \u001b[0mnames\u001b[0m \u001b[0;32mis\u001b[0m \u001b[0mNone\u001b[0m \u001b[0;32mand\u001b[0m \u001b[0mlevels\u001b[0m \u001b[0;32mis\u001b[0m \u001b[0mNone\u001b[0m \u001b[0;32mand\u001b[0m \u001b[0mjoin_axes\u001b[0m \u001b[0;32mis\u001b[0m \u001b[0mNone\u001b[0m\u001b[0;34m)\u001b[0m\u001b[0;34m:\u001b[0m\u001b[0;34m\u001b[0m\u001b[0m\n",
      "\u001b[0;32m/Users/dtamayo/miniconda2/envs/ml2/lib/python2.7/site-packages/pandas/core/frame.pyc\u001b[0m in \u001b[0;36m__init__\u001b[0;34m(self, data, index, columns, dtype, copy)\u001b[0m\n\u001b[1;32m    276\u001b[0m \u001b[0;34m\u001b[0m\u001b[0m\n\u001b[1;32m    277\u001b[0m                     mgr = _arrays_to_mgr(arrays, columns, index, columns,\n\u001b[0;32m--> 278\u001b[0;31m                                          dtype=dtype)\n\u001b[0m\u001b[1;32m    279\u001b[0m                 \u001b[0;32melse\u001b[0m\u001b[0;34m:\u001b[0m\u001b[0;34m\u001b[0m\u001b[0m\n\u001b[1;32m    280\u001b[0m                     mgr = self._init_ndarray(data, index, columns, dtype=dtype,\n",
      "\u001b[0;32m/Users/dtamayo/miniconda2/envs/ml2/lib/python2.7/site-packages/pandas/core/frame.pyc\u001b[0m in \u001b[0;36m_arrays_to_mgr\u001b[0;34m(arrays, arr_names, index, columns, dtype)\u001b[0m\n\u001b[1;32m   5166\u001b[0m     \u001b[0maxes\u001b[0m \u001b[0;34m=\u001b[0m \u001b[0;34m[\u001b[0m\u001b[0m_ensure_index\u001b[0m\u001b[0;34m(\u001b[0m\u001b[0mcolumns\u001b[0m\u001b[0;34m)\u001b[0m\u001b[0;34m,\u001b[0m \u001b[0m_ensure_index\u001b[0m\u001b[0;34m(\u001b[0m\u001b[0mindex\u001b[0m\u001b[0;34m)\u001b[0m\u001b[0;34m]\u001b[0m\u001b[0;34m\u001b[0m\u001b[0m\n\u001b[1;32m   5167\u001b[0m \u001b[0;34m\u001b[0m\u001b[0m\n\u001b[0;32m-> 5168\u001b[0;31m     \u001b[0;32mreturn\u001b[0m \u001b[0mcreate_block_manager_from_arrays\u001b[0m\u001b[0;34m(\u001b[0m\u001b[0marrays\u001b[0m\u001b[0;34m,\u001b[0m \u001b[0marr_names\u001b[0m\u001b[0;34m,\u001b[0m \u001b[0maxes\u001b[0m\u001b[0;34m)\u001b[0m\u001b[0;34m\u001b[0m\u001b[0m\n\u001b[0m\u001b[1;32m   5169\u001b[0m \u001b[0;34m\u001b[0m\u001b[0m\n\u001b[1;32m   5170\u001b[0m \u001b[0;34m\u001b[0m\u001b[0m\n",
      "\u001b[0;32m/Users/dtamayo/miniconda2/envs/ml2/lib/python2.7/site-packages/pandas/core/internals.pyc\u001b[0m in \u001b[0;36mcreate_block_manager_from_arrays\u001b[0;34m(arrays, names, axes)\u001b[0m\n\u001b[1;32m   3909\u001b[0m \u001b[0;34m\u001b[0m\u001b[0m\n\u001b[1;32m   3910\u001b[0m     \u001b[0;32mtry\u001b[0m\u001b[0;34m:\u001b[0m\u001b[0;34m\u001b[0m\u001b[0m\n\u001b[0;32m-> 3911\u001b[0;31m         \u001b[0mblocks\u001b[0m \u001b[0;34m=\u001b[0m \u001b[0mform_blocks\u001b[0m\u001b[0;34m(\u001b[0m\u001b[0marrays\u001b[0m\u001b[0;34m,\u001b[0m \u001b[0mnames\u001b[0m\u001b[0;34m,\u001b[0m \u001b[0maxes\u001b[0m\u001b[0;34m)\u001b[0m\u001b[0;34m\u001b[0m\u001b[0m\n\u001b[0m\u001b[1;32m   3912\u001b[0m         \u001b[0mmgr\u001b[0m \u001b[0;34m=\u001b[0m \u001b[0mBlockManager\u001b[0m\u001b[0;34m(\u001b[0m\u001b[0mblocks\u001b[0m\u001b[0;34m,\u001b[0m \u001b[0maxes\u001b[0m\u001b[0;34m)\u001b[0m\u001b[0;34m\u001b[0m\u001b[0m\n\u001b[1;32m   3913\u001b[0m         \u001b[0mmgr\u001b[0m\u001b[0;34m.\u001b[0m\u001b[0m_consolidate_inplace\u001b[0m\u001b[0;34m(\u001b[0m\u001b[0;34m)\u001b[0m\u001b[0;34m\u001b[0m\u001b[0m\n",
      "\u001b[0;32m/Users/dtamayo/miniconda2/envs/ml2/lib/python2.7/site-packages/pandas/core/internals.pyc\u001b[0m in \u001b[0;36mform_blocks\u001b[0;34m(arrays, names, axes)\u001b[0m\n\u001b[1;32m   3986\u001b[0m \u001b[0;34m\u001b[0m\u001b[0m\n\u001b[1;32m   3987\u001b[0m     \u001b[0;32mif\u001b[0m \u001b[0mlen\u001b[0m\u001b[0;34m(\u001b[0m\u001b[0mint_items\u001b[0m\u001b[0;34m)\u001b[0m\u001b[0;34m:\u001b[0m\u001b[0;34m\u001b[0m\u001b[0m\n\u001b[0;32m-> 3988\u001b[0;31m         \u001b[0mint_blocks\u001b[0m \u001b[0;34m=\u001b[0m \u001b[0m_multi_blockify\u001b[0m\u001b[0;34m(\u001b[0m\u001b[0mint_items\u001b[0m\u001b[0;34m)\u001b[0m\u001b[0;34m\u001b[0m\u001b[0m\n\u001b[0m\u001b[1;32m   3989\u001b[0m         \u001b[0mblocks\u001b[0m\u001b[0;34m.\u001b[0m\u001b[0mextend\u001b[0m\u001b[0;34m(\u001b[0m\u001b[0mint_blocks\u001b[0m\u001b[0;34m)\u001b[0m\u001b[0;34m\u001b[0m\u001b[0m\n\u001b[1;32m   3990\u001b[0m \u001b[0;34m\u001b[0m\u001b[0m\n",
      "\u001b[0;32m/Users/dtamayo/miniconda2/envs/ml2/lib/python2.7/site-packages/pandas/core/internals.pyc\u001b[0m in \u001b[0;36m_multi_blockify\u001b[0;34m(tuples, dtype)\u001b[0m\n\u001b[1;32m   4063\u001b[0m             list(tup_block), dtype)\n\u001b[1;32m   4064\u001b[0m \u001b[0;34m\u001b[0m\u001b[0m\n\u001b[0;32m-> 4065\u001b[0;31m         \u001b[0mblock\u001b[0m \u001b[0;34m=\u001b[0m \u001b[0mmake_block\u001b[0m\u001b[0;34m(\u001b[0m\u001b[0mvalues\u001b[0m\u001b[0;34m,\u001b[0m \u001b[0mplacement\u001b[0m\u001b[0;34m=\u001b[0m\u001b[0mplacement\u001b[0m\u001b[0;34m)\u001b[0m\u001b[0;34m\u001b[0m\u001b[0m\n\u001b[0m\u001b[1;32m   4066\u001b[0m         \u001b[0mnew_blocks\u001b[0m\u001b[0;34m.\u001b[0m\u001b[0mappend\u001b[0m\u001b[0;34m(\u001b[0m\u001b[0mblock\u001b[0m\u001b[0;34m)\u001b[0m\u001b[0;34m\u001b[0m\u001b[0m\n\u001b[1;32m   4067\u001b[0m \u001b[0;34m\u001b[0m\u001b[0m\n",
      "\u001b[0;32m/Users/dtamayo/miniconda2/envs/ml2/lib/python2.7/site-packages/pandas/core/internals.pyc\u001b[0m in \u001b[0;36mmake_block\u001b[0;34m(values, placement, klass, ndim, dtype, fastpath)\u001b[0m\n\u001b[1;32m   2452\u001b[0m \u001b[0;34m\u001b[0m\u001b[0m\n\u001b[1;32m   2453\u001b[0m     return klass(values, ndim=ndim, fastpath=fastpath,\n\u001b[0;32m-> 2454\u001b[0;31m                  placement=placement)\n\u001b[0m\u001b[1;32m   2455\u001b[0m \u001b[0;34m\u001b[0m\u001b[0m\n\u001b[1;32m   2456\u001b[0m \u001b[0;34m\u001b[0m\u001b[0m\n",
      "\u001b[0;32m/Users/dtamayo/miniconda2/envs/ml2/lib/python2.7/site-packages/pandas/core/internals.pyc\u001b[0m in \u001b[0;36m__init__\u001b[0;34m(self, values, placement, ndim, fastpath)\u001b[0m\n\u001b[1;32m     79\u001b[0m         \u001b[0mself\u001b[0m\u001b[0;34m.\u001b[0m\u001b[0mndim\u001b[0m \u001b[0;34m=\u001b[0m \u001b[0mndim\u001b[0m\u001b[0;34m\u001b[0m\u001b[0m\n\u001b[1;32m     80\u001b[0m \u001b[0;34m\u001b[0m\u001b[0m\n\u001b[0;32m---> 81\u001b[0;31m         \u001b[0mself\u001b[0m\u001b[0;34m.\u001b[0m\u001b[0mmgr_locs\u001b[0m \u001b[0;34m=\u001b[0m \u001b[0mplacement\u001b[0m\u001b[0;34m\u001b[0m\u001b[0m\n\u001b[0m\u001b[1;32m     82\u001b[0m         \u001b[0mself\u001b[0m\u001b[0;34m.\u001b[0m\u001b[0mvalues\u001b[0m \u001b[0;34m=\u001b[0m \u001b[0mvalues\u001b[0m\u001b[0;34m\u001b[0m\u001b[0m\n\u001b[1;32m     83\u001b[0m \u001b[0;34m\u001b[0m\u001b[0m\n",
      "\u001b[0;32m/Users/dtamayo/miniconda2/envs/ml2/lib/python2.7/site-packages/pandas/core/internals.pyc\u001b[0m in \u001b[0;36mmgr_locs\u001b[0;34m(self, new_mgr_locs)\u001b[0m\n\u001b[1;32m    187\u001b[0m             \u001b[0mnew_mgr_locs\u001b[0m \u001b[0;34m=\u001b[0m \u001b[0mBlockPlacement\u001b[0m\u001b[0;34m(\u001b[0m\u001b[0mnew_mgr_locs\u001b[0m\u001b[0;34m)\u001b[0m\u001b[0;34m\u001b[0m\u001b[0m\n\u001b[1;32m    188\u001b[0m \u001b[0;34m\u001b[0m\u001b[0m\n\u001b[0;32m--> 189\u001b[0;31m         \u001b[0mself\u001b[0m\u001b[0;34m.\u001b[0m\u001b[0m_mgr_locs\u001b[0m \u001b[0;34m=\u001b[0m \u001b[0mnew_mgr_locs\u001b[0m\u001b[0;34m\u001b[0m\u001b[0m\n\u001b[0m\u001b[1;32m    190\u001b[0m \u001b[0;34m\u001b[0m\u001b[0m\n\u001b[1;32m    191\u001b[0m     \u001b[0;32mdef\u001b[0m \u001b[0m__unicode__\u001b[0m\u001b[0;34m(\u001b[0m\u001b[0mself\u001b[0m\u001b[0;34m)\u001b[0m\u001b[0;34m:\u001b[0m\u001b[0;34m\u001b[0m\u001b[0m\n",
      "\u001b[0;31mKeyboardInterrupt\u001b[0m: "
     ]
    }
   ],
   "source": [
    "#USE THESE TWO LINES TO REGENERATE ALL THE TEAM FEATURES\n",
    "team_features_df = pd.DataFrame([[team_ID, season] for team_ID in team_ids for season in seasons], columns = ['Team_Id', 'Season'])\n",
    "team_features_df['team_name'] = team_features_df['Team_Id'].map(team_name)\n",
    "\n",
    "#USE THIS LINE TO ADD TO THE EXISTING TEAM FEATURES\n",
    "#team_features_df = pd.read_csv(team_features_output_file)\n",
    "\n",
    "for feature in teamfList:\n",
    "    team_features_df[feature.__name__] = team_features_df.apply(feature, axis=1)\n",
    "\n",
    "team_features_df = team_features_df.replace(np.nan, 0)\n",
    "team_features_df.to_csv(team_features_output_file, encoding='ascii')\n",
    "team_features_df.tail()"
   ]
  },
  {
   "cell_type": "markdown",
   "metadata": {},
   "source": [
    "# Input Filenames for Generating Features for the Games\n",
    "\n",
    "`training_data_file` is the data file we want to use as training data (could include part of regular season in addition to tourney in future). `team_features_input_file` is the input file we want to use for the team features (generated above--default is `team_features_output_file`, i.e. what was used for output above).  `training_data_output_file` is the filename for the training data with all the games."
   ]
  },
  {
   "cell_type": "code",
   "execution_count": 15,
   "metadata": {
    "collapsed": true
   },
   "outputs": [],
   "source": [
    "training_data_file = 'data/TourneyDetailedResults.csv'\n",
    "team_features_input_file = team_features_output_file\n",
    "training_data_output_file = 'data/data.csv'"
   ]
  },
  {
   "cell_type": "markdown",
   "metadata": {},
   "source": [
    "# Randomizing the Winning Team and Adding Features\n",
    "\n",
    "We first randomly chooses the winner to be team 1 or team 0.  The result is stored in `tourney_df('Winner')` and the ID corresponding to team0 and team1 are in `tourney_df('team0')` and `tourney_df('team1')`, respectively.  We also add all the features in `data/team_features.csv` for team0 and team1."
   ]
  },
  {
   "cell_type": "code",
   "execution_count": 16,
   "metadata": {
    "collapsed": false
   },
   "outputs": [
    {
     "name": "stdout",
     "output_type": "stream",
     "text": [
      "847 tournament games in the dataset\n"
     ]
    }
   ],
   "source": [
    "tourney_df = pd.read_csv(training_data_file)\n",
    "\n",
    "Ngames = tourney_df.shape[0]\n",
    "print(\"{0} tournament games in the dataset\".format(Ngames))\n",
    "\n",
    "np.random.seed(0) # seed so we always get same answer\n",
    "tourney_df['team0Win'] = np.random.randint(2,size=Ngames)\n",
    "\n",
    "def team0(game):\n",
    "    if game['team0Win'] == 1:\n",
    "        return game['Wteam']\n",
    "    else:\n",
    "        return game['Lteam']\n",
    "\n",
    "def team1(game):\n",
    "    if game['team0Win'] == 1:\n",
    "        return game['Lteam']\n",
    "    else:\n",
    "        return game['Wteam']\n",
    "\n",
    "team_features_df = pd.read_csv(team_features_input_file, index_col=0)\n",
    "seasons = tourney_df['Season'].unique()\n",
    "in_season = dict(zip(seasons, [team_features_df['Season'] == i for i in seasons]))\n",
    "\n",
    "def feature01(feature):\n",
    "    def mod(game):\n",
    "        f0 = team_features_df.loc[(team_features_df['Team_Id'] == game['team0']) & in_season[game['Season']], feature.__name__].values[0]\n",
    "        f1 = team_features_df.loc[(team_features_df['Team_Id'] == game['team1']) & in_season[game['Season']], feature.__name__].values[0]\n",
    "        return pd.Series({feature.__name__+'0':f0, feature.__name__+'1':f1})\n",
    "    return mod"
   ]
  },
  {
   "cell_type": "code",
   "execution_count": 6,
   "metadata": {
    "collapsed": false
   },
   "outputs": [
    {
     "name": "stdout",
     "output_type": "stream",
     "text": [
      "847 tournament games in the dataset\n"
     ]
    },
    {
     "data": {
      "text/html": [
       "<div>\n",
       "<table border=\"1\" class=\"dataframe\">\n",
       "  <thead>\n",
       "    <tr style=\"text-align: right;\">\n",
       "      <th></th>\n",
       "      <th>Season</th>\n",
       "      <th>Daynum</th>\n",
       "      <th>Wteam</th>\n",
       "      <th>Wscore</th>\n",
       "      <th>Lteam</th>\n",
       "      <th>Lscore</th>\n",
       "      <th>Wloc</th>\n",
       "      <th>Numot</th>\n",
       "      <th>Wfgm</th>\n",
       "      <th>Wfga</th>\n",
       "      <th>...</th>\n",
       "      <th>std_stl0</th>\n",
       "      <th>std_stl1</th>\n",
       "      <th>avg_blk0</th>\n",
       "      <th>avg_blk1</th>\n",
       "      <th>std_blk0</th>\n",
       "      <th>std_blk1</th>\n",
       "      <th>avg_pf0</th>\n",
       "      <th>avg_pf1</th>\n",
       "      <th>std_pf0</th>\n",
       "      <th>std_pf1</th>\n",
       "    </tr>\n",
       "  </thead>\n",
       "  <tbody>\n",
       "    <tr>\n",
       "      <th>0</th>\n",
       "      <td>2003</td>\n",
       "      <td>134</td>\n",
       "      <td>1421</td>\n",
       "      <td>92</td>\n",
       "      <td>1411</td>\n",
       "      <td>84</td>\n",
       "      <td>N</td>\n",
       "      <td>1</td>\n",
       "      <td>32</td>\n",
       "      <td>69</td>\n",
       "      <td>...</td>\n",
       "      <td>2.31</td>\n",
       "      <td>3.14</td>\n",
       "      <td>2.23</td>\n",
       "      <td>3.00</td>\n",
       "      <td>1.72</td>\n",
       "      <td>1.65</td>\n",
       "      <td>18.30</td>\n",
       "      <td>19.10</td>\n",
       "      <td>4.56</td>\n",
       "      <td>3.69</td>\n",
       "    </tr>\n",
       "    <tr>\n",
       "      <th>1</th>\n",
       "      <td>2003</td>\n",
       "      <td>136</td>\n",
       "      <td>1112</td>\n",
       "      <td>80</td>\n",
       "      <td>1436</td>\n",
       "      <td>51</td>\n",
       "      <td>N</td>\n",
       "      <td>0</td>\n",
       "      <td>31</td>\n",
       "      <td>66</td>\n",
       "      <td>...</td>\n",
       "      <td>3.65</td>\n",
       "      <td>3.50</td>\n",
       "      <td>4.21</td>\n",
       "      <td>2.97</td>\n",
       "      <td>2.01</td>\n",
       "      <td>1.72</td>\n",
       "      <td>17.75</td>\n",
       "      <td>15.90</td>\n",
       "      <td>2.99</td>\n",
       "      <td>4.05</td>\n",
       "    </tr>\n",
       "    <tr>\n",
       "      <th>2</th>\n",
       "      <td>2003</td>\n",
       "      <td>136</td>\n",
       "      <td>1113</td>\n",
       "      <td>84</td>\n",
       "      <td>1272</td>\n",
       "      <td>71</td>\n",
       "      <td>N</td>\n",
       "      <td>0</td>\n",
       "      <td>31</td>\n",
       "      <td>59</td>\n",
       "      <td>...</td>\n",
       "      <td>2.14</td>\n",
       "      <td>3.16</td>\n",
       "      <td>4.24</td>\n",
       "      <td>5.07</td>\n",
       "      <td>2.94</td>\n",
       "      <td>3.16</td>\n",
       "      <td>19.41</td>\n",
       "      <td>18.76</td>\n",
       "      <td>3.25</td>\n",
       "      <td>4.34</td>\n",
       "    </tr>\n",
       "    <tr>\n",
       "      <th>3</th>\n",
       "      <td>2003</td>\n",
       "      <td>136</td>\n",
       "      <td>1141</td>\n",
       "      <td>79</td>\n",
       "      <td>1166</td>\n",
       "      <td>73</td>\n",
       "      <td>N</td>\n",
       "      <td>0</td>\n",
       "      <td>29</td>\n",
       "      <td>53</td>\n",
       "      <td>...</td>\n",
       "      <td>2.82</td>\n",
       "      <td>2.94</td>\n",
       "      <td>4.45</td>\n",
       "      <td>4.00</td>\n",
       "      <td>2.22</td>\n",
       "      <td>2.35</td>\n",
       "      <td>17.27</td>\n",
       "      <td>20.97</td>\n",
       "      <td>3.12</td>\n",
       "      <td>4.81</td>\n",
       "    </tr>\n",
       "    <tr>\n",
       "      <th>4</th>\n",
       "      <td>2003</td>\n",
       "      <td>136</td>\n",
       "      <td>1143</td>\n",
       "      <td>76</td>\n",
       "      <td>1301</td>\n",
       "      <td>74</td>\n",
       "      <td>N</td>\n",
       "      <td>1</td>\n",
       "      <td>27</td>\n",
       "      <td>64</td>\n",
       "      <td>...</td>\n",
       "      <td>2.64</td>\n",
       "      <td>3.63</td>\n",
       "      <td>2.79</td>\n",
       "      <td>3.07</td>\n",
       "      <td>1.63</td>\n",
       "      <td>2.49</td>\n",
       "      <td>17.10</td>\n",
       "      <td>18.67</td>\n",
       "      <td>3.74</td>\n",
       "      <td>4.21</td>\n",
       "    </tr>\n",
       "  </tbody>\n",
       "</table>\n",
       "<p>5 rows × 91 columns</p>\n",
       "</div>"
      ],
      "text/plain": [
       "   Season  Daynum  Wteam  Wscore  Lteam  Lscore Wloc  Numot  Wfgm  Wfga  \\\n",
       "0    2003     134   1421      92   1411      84    N      1    32    69   \n",
       "1    2003     136   1112      80   1436      51    N      0    31    66   \n",
       "2    2003     136   1113      84   1272      71    N      0    31    59   \n",
       "3    2003     136   1141      79   1166      73    N      0    29    53   \n",
       "4    2003     136   1143      76   1301      74    N      1    27    64   \n",
       "\n",
       "    ...     std_stl0  std_stl1  avg_blk0  avg_blk1  std_blk0  std_blk1  \\\n",
       "0   ...         2.31      3.14      2.23      3.00      1.72      1.65   \n",
       "1   ...         3.65      3.50      4.21      2.97      2.01      1.72   \n",
       "2   ...         2.14      3.16      4.24      5.07      2.94      3.16   \n",
       "3   ...         2.82      2.94      4.45      4.00      2.22      2.35   \n",
       "4   ...         2.64      3.63      2.79      3.07      1.63      2.49   \n",
       "\n",
       "   avg_pf0  avg_pf1  std_pf0  std_pf1  \n",
       "0    18.30    19.10     4.56     3.69  \n",
       "1    17.75    15.90     2.99     4.05  \n",
       "2    19.41    18.76     3.25     4.34  \n",
       "3    17.27    20.97     3.12     4.81  \n",
       "4    17.10    18.67     3.74     4.21  \n",
       "\n",
       "[5 rows x 91 columns]"
      ]
     },
     "execution_count": 6,
     "metadata": {},
     "output_type": "execute_result"
    }
   ],
   "source": [
    "# UNCOMMENT THESE LINES IF YOU WANT TO REGENERATE THE TRAINING DATA FILE FROM SCRATCH\n",
    "for feature in [team0, team1]:\n",
    "    tourney_df[feature.__name__] = tourney_df.apply(feature, axis=1)\n",
    "\n",
    "# first add all the features for individual teams\n",
    "for feature in teamfList:\n",
    "    tourney_df = pd.concat([tourney_df, tourney_df.apply(feature01(feature), axis=1)], axis=1)\n",
    "    \n",
    "tourney_df.head()"
   ]
  },
  {
   "cell_type": "markdown",
   "metadata": {},
   "source": [
    "# Add game features here\n",
    "\n",
    "In addition to having features for each team separately, e.g., avg field goals made, we might try features for how two teams relate to one another, i.e., a feature that requires knowledge of the specific two teams in a game.  Add them in the cell below and update gamefList in the cell below that:"
   ]
  },
  {
   "cell_type": "code",
   "execution_count": 7,
   "metadata": {
    "collapsed": true
   },
   "outputs": [],
   "source": [
    "def gamefeature(game): # add here any features specific to a game, i.e., how to teams interact\n",
    "    pass"
   ]
  },
  {
   "cell_type": "code",
   "execution_count": 6,
   "metadata": {
    "collapsed": false
   },
   "outputs": [
    {
     "name": "stdout",
     "output_type": "stream",
     "text": [
      "Gane features added = []\n"
     ]
    }
   ],
   "source": [
    "gamefList=[] # features specific to a pair of teams (rather than to an individual team, e.g., seed difference, but not e.g. team seed)\n",
    "print(\"Game features added = {0}\".format([f.__name__ for f in gamefList]))"
   ]
  },
  {
   "cell_type": "code",
   "execution_count": 8,
   "metadata": {
    "collapsed": false
   },
   "outputs": [
    {
     "data": {
      "text/html": [
       "<div>\n",
       "<table border=\"1\" class=\"dataframe\">\n",
       "  <thead>\n",
       "    <tr style=\"text-align: right;\">\n",
       "      <th></th>\n",
       "      <th>Season</th>\n",
       "      <th>Daynum</th>\n",
       "      <th>Wteam</th>\n",
       "      <th>Wscore</th>\n",
       "      <th>Lteam</th>\n",
       "      <th>Lscore</th>\n",
       "      <th>Wloc</th>\n",
       "      <th>Numot</th>\n",
       "      <th>Wfgm</th>\n",
       "      <th>Wfga</th>\n",
       "      <th>...</th>\n",
       "      <th>std_stl0</th>\n",
       "      <th>std_stl1</th>\n",
       "      <th>avg_blk0</th>\n",
       "      <th>avg_blk1</th>\n",
       "      <th>std_blk0</th>\n",
       "      <th>std_blk1</th>\n",
       "      <th>avg_pf0</th>\n",
       "      <th>avg_pf1</th>\n",
       "      <th>std_pf0</th>\n",
       "      <th>std_pf1</th>\n",
       "    </tr>\n",
       "  </thead>\n",
       "  <tbody>\n",
       "    <tr>\n",
       "      <th>0</th>\n",
       "      <td>2003</td>\n",
       "      <td>134</td>\n",
       "      <td>1421</td>\n",
       "      <td>92</td>\n",
       "      <td>1411</td>\n",
       "      <td>84</td>\n",
       "      <td>N</td>\n",
       "      <td>1</td>\n",
       "      <td>32</td>\n",
       "      <td>69</td>\n",
       "      <td>...</td>\n",
       "      <td>2.31</td>\n",
       "      <td>3.14</td>\n",
       "      <td>2.23</td>\n",
       "      <td>3.00</td>\n",
       "      <td>1.72</td>\n",
       "      <td>1.65</td>\n",
       "      <td>18.30</td>\n",
       "      <td>19.10</td>\n",
       "      <td>4.56</td>\n",
       "      <td>3.69</td>\n",
       "    </tr>\n",
       "    <tr>\n",
       "      <th>1</th>\n",
       "      <td>2003</td>\n",
       "      <td>136</td>\n",
       "      <td>1112</td>\n",
       "      <td>80</td>\n",
       "      <td>1436</td>\n",
       "      <td>51</td>\n",
       "      <td>N</td>\n",
       "      <td>0</td>\n",
       "      <td>31</td>\n",
       "      <td>66</td>\n",
       "      <td>...</td>\n",
       "      <td>3.65</td>\n",
       "      <td>3.50</td>\n",
       "      <td>4.21</td>\n",
       "      <td>2.97</td>\n",
       "      <td>2.01</td>\n",
       "      <td>1.72</td>\n",
       "      <td>17.75</td>\n",
       "      <td>15.90</td>\n",
       "      <td>2.99</td>\n",
       "      <td>4.05</td>\n",
       "    </tr>\n",
       "    <tr>\n",
       "      <th>2</th>\n",
       "      <td>2003</td>\n",
       "      <td>136</td>\n",
       "      <td>1113</td>\n",
       "      <td>84</td>\n",
       "      <td>1272</td>\n",
       "      <td>71</td>\n",
       "      <td>N</td>\n",
       "      <td>0</td>\n",
       "      <td>31</td>\n",
       "      <td>59</td>\n",
       "      <td>...</td>\n",
       "      <td>2.14</td>\n",
       "      <td>3.16</td>\n",
       "      <td>4.24</td>\n",
       "      <td>5.07</td>\n",
       "      <td>2.94</td>\n",
       "      <td>3.16</td>\n",
       "      <td>19.41</td>\n",
       "      <td>18.76</td>\n",
       "      <td>3.25</td>\n",
       "      <td>4.34</td>\n",
       "    </tr>\n",
       "    <tr>\n",
       "      <th>3</th>\n",
       "      <td>2003</td>\n",
       "      <td>136</td>\n",
       "      <td>1141</td>\n",
       "      <td>79</td>\n",
       "      <td>1166</td>\n",
       "      <td>73</td>\n",
       "      <td>N</td>\n",
       "      <td>0</td>\n",
       "      <td>29</td>\n",
       "      <td>53</td>\n",
       "      <td>...</td>\n",
       "      <td>2.82</td>\n",
       "      <td>2.94</td>\n",
       "      <td>4.45</td>\n",
       "      <td>4.00</td>\n",
       "      <td>2.22</td>\n",
       "      <td>2.35</td>\n",
       "      <td>17.27</td>\n",
       "      <td>20.97</td>\n",
       "      <td>3.12</td>\n",
       "      <td>4.81</td>\n",
       "    </tr>\n",
       "    <tr>\n",
       "      <th>4</th>\n",
       "      <td>2003</td>\n",
       "      <td>136</td>\n",
       "      <td>1143</td>\n",
       "      <td>76</td>\n",
       "      <td>1301</td>\n",
       "      <td>74</td>\n",
       "      <td>N</td>\n",
       "      <td>1</td>\n",
       "      <td>27</td>\n",
       "      <td>64</td>\n",
       "      <td>...</td>\n",
       "      <td>2.64</td>\n",
       "      <td>3.63</td>\n",
       "      <td>2.79</td>\n",
       "      <td>3.07</td>\n",
       "      <td>1.63</td>\n",
       "      <td>2.49</td>\n",
       "      <td>17.10</td>\n",
       "      <td>18.67</td>\n",
       "      <td>3.74</td>\n",
       "      <td>4.21</td>\n",
       "    </tr>\n",
       "  </tbody>\n",
       "</table>\n",
       "<p>5 rows × 91 columns</p>\n",
       "</div>"
      ],
      "text/plain": [
       "   Season  Daynum  Wteam  Wscore  Lteam  Lscore Wloc  Numot  Wfgm  Wfga  \\\n",
       "0    2003     134   1421      92   1411      84    N      1    32    69   \n",
       "1    2003     136   1112      80   1436      51    N      0    31    66   \n",
       "2    2003     136   1113      84   1272      71    N      0    31    59   \n",
       "3    2003     136   1141      79   1166      73    N      0    29    53   \n",
       "4    2003     136   1143      76   1301      74    N      1    27    64   \n",
       "\n",
       "    ...     std_stl0  std_stl1  avg_blk0  avg_blk1  std_blk0  std_blk1  \\\n",
       "0   ...         2.31      3.14      2.23      3.00      1.72      1.65   \n",
       "1   ...         3.65      3.50      4.21      2.97      2.01      1.72   \n",
       "2   ...         2.14      3.16      4.24      5.07      2.94      3.16   \n",
       "3   ...         2.82      2.94      4.45      4.00      2.22      2.35   \n",
       "4   ...         2.64      3.63      2.79      3.07      1.63      2.49   \n",
       "\n",
       "   avg_pf0  avg_pf1  std_pf0  std_pf1  \n",
       "0    18.30    19.10     4.56     3.69  \n",
       "1    17.75    15.90     2.99     4.05  \n",
       "2    19.41    18.76     3.25     4.34  \n",
       "3    17.27    20.97     3.12     4.81  \n",
       "4    17.10    18.67     3.74     4.21  \n",
       "\n",
       "[5 rows x 91 columns]"
      ]
     },
     "execution_count": 8,
     "metadata": {},
     "output_type": "execute_result"
    }
   ],
   "source": [
    "# now add features specific to a game (pair of teams)\n",
    "for feature in gamefList:\n",
    "    tourney_df[feature.__name__] = tourney_df.apply(feature, axis=1)\n",
    "    \n",
    "tourney_df.to_csv(training_data_output_file, encoding='ascii')\n",
    "tourney_df.head()"
   ]
  },
  {
   "cell_type": "markdown",
   "metadata": {},
   "source": [
    "# Generate Features for Submission Data\n",
    "\n",
    "The cells below take the games Kaggle wants us to submit, and generates the corresponding features for them like we do above for the training data.  `submission_data_output_file` is the name of the output file to write the submission data for our model to load and predict."
   ]
  },
  {
   "cell_type": "code",
   "execution_count": 10,
   "metadata": {
    "collapsed": true
   },
   "outputs": [],
   "source": [
    "import pandas as pd\n",
    "import numpy as np\n",
    "submission_data_with_features_file = 'data/SampleSubmissionWithFeatures.csv'"
   ]
  },
  {
   "cell_type": "code",
   "execution_count": 11,
   "metadata": {
    "collapsed": false
   },
   "outputs": [
    {
     "name": "stdout",
     "output_type": "stream",
     "text": [
      "Adding following Team Features to data/SampleSubmissionWithFeatures.csv: ['wins', 'avg_fgm', 'std_fgm', 'avg_fga', 'std_fga', 'avg_fgm3', 'std_fgm3', 'avg_fga3', 'std_fga3', 'avg_ftm', 'std_ftm', 'avg_fta', 'std_fta', 'avg_or', 'std_or', 'avg_dr', 'std_dr', 'avg_ast', 'std_ast', 'avg_to', 'std_to', 'avg_stl', 'std_stl', 'avg_blk', 'std_blk', 'avg_pf', 'std_pf']\n",
      "Adding following Game Features to data/SampleSubmissionWithFeatures.csv: []\n"
     ]
    }
   ],
   "source": [
    "print(\"Adding following Team Features to {0}: {1}\".format(submission_data_with_features_file, [f.__name__ for f in teamfList]))\n",
    "print(\"Adding following Game Features to {0}: {1}\".format(submission_data_with_features_file, [f.__name__ for f in gamefList]))"
   ]
  },
  {
   "cell_type": "code",
   "execution_count": 18,
   "metadata": {
    "collapsed": false
   },
   "outputs": [
    {
     "data": {
      "text/html": [
       "<div>\n",
       "<table border=\"1\" class=\"dataframe\">\n",
       "  <thead>\n",
       "    <tr style=\"text-align: right;\">\n",
       "      <th></th>\n",
       "      <th>Id</th>\n",
       "      <th>Pred</th>\n",
       "      <th>Season</th>\n",
       "      <th>team0</th>\n",
       "      <th>team1</th>\n",
       "      <th>wins0</th>\n",
       "      <th>wins1</th>\n",
       "      <th>avg_fgm0</th>\n",
       "      <th>avg_fgm1</th>\n",
       "      <th>std_fgm0</th>\n",
       "      <th>...</th>\n",
       "      <th>std_stl0</th>\n",
       "      <th>std_stl1</th>\n",
       "      <th>avg_blk0</th>\n",
       "      <th>avg_blk1</th>\n",
       "      <th>std_blk0</th>\n",
       "      <th>std_blk1</th>\n",
       "      <th>avg_pf0</th>\n",
       "      <th>avg_pf1</th>\n",
       "      <th>std_pf0</th>\n",
       "      <th>std_pf1</th>\n",
       "    </tr>\n",
       "  </thead>\n",
       "  <tbody>\n",
       "    <tr>\n",
       "      <th>0</th>\n",
       "      <td>2012_1104_1124</td>\n",
       "      <td>0.5</td>\n",
       "      <td>2012</td>\n",
       "      <td>1104</td>\n",
       "      <td>1124</td>\n",
       "      <td>21</td>\n",
       "      <td>26</td>\n",
       "      <td>23.62</td>\n",
       "      <td>26.09</td>\n",
       "      <td>3.63</td>\n",
       "      <td>...</td>\n",
       "      <td>3.51</td>\n",
       "      <td>2.89</td>\n",
       "      <td>4.16</td>\n",
       "      <td>4.64</td>\n",
       "      <td>2.68</td>\n",
       "      <td>2.98</td>\n",
       "      <td>18.41</td>\n",
       "      <td>17.64</td>\n",
       "      <td>4.01</td>\n",
       "      <td>4.30</td>\n",
       "    </tr>\n",
       "    <tr>\n",
       "      <th>1</th>\n",
       "      <td>2012_1104_1125</td>\n",
       "      <td>0.5</td>\n",
       "      <td>2012</td>\n",
       "      <td>1104</td>\n",
       "      <td>1125</td>\n",
       "      <td>21</td>\n",
       "      <td>26</td>\n",
       "      <td>23.62</td>\n",
       "      <td>27.91</td>\n",
       "      <td>3.63</td>\n",
       "      <td>...</td>\n",
       "      <td>3.51</td>\n",
       "      <td>2.83</td>\n",
       "      <td>4.16</td>\n",
       "      <td>2.24</td>\n",
       "      <td>2.68</td>\n",
       "      <td>1.68</td>\n",
       "      <td>18.41</td>\n",
       "      <td>18.27</td>\n",
       "      <td>4.01</td>\n",
       "      <td>4.01</td>\n",
       "    </tr>\n",
       "    <tr>\n",
       "      <th>2</th>\n",
       "      <td>2012_1104_1140</td>\n",
       "      <td>0.5</td>\n",
       "      <td>2012</td>\n",
       "      <td>1104</td>\n",
       "      <td>1140</td>\n",
       "      <td>21</td>\n",
       "      <td>23</td>\n",
       "      <td>23.62</td>\n",
       "      <td>27.97</td>\n",
       "      <td>3.63</td>\n",
       "      <td>...</td>\n",
       "      <td>3.51</td>\n",
       "      <td>3.44</td>\n",
       "      <td>4.16</td>\n",
       "      <td>4.19</td>\n",
       "      <td>2.68</td>\n",
       "      <td>1.72</td>\n",
       "      <td>18.41</td>\n",
       "      <td>18.45</td>\n",
       "      <td>4.01</td>\n",
       "      <td>4.44</td>\n",
       "    </tr>\n",
       "    <tr>\n",
       "      <th>3</th>\n",
       "      <td>2012_1104_1143</td>\n",
       "      <td>0.5</td>\n",
       "      <td>2012</td>\n",
       "      <td>1104</td>\n",
       "      <td>1143</td>\n",
       "      <td>21</td>\n",
       "      <td>24</td>\n",
       "      <td>23.62</td>\n",
       "      <td>26.42</td>\n",
       "      <td>3.63</td>\n",
       "      <td>...</td>\n",
       "      <td>3.51</td>\n",
       "      <td>1.67</td>\n",
       "      <td>4.16</td>\n",
       "      <td>3.15</td>\n",
       "      <td>2.68</td>\n",
       "      <td>1.39</td>\n",
       "      <td>18.41</td>\n",
       "      <td>14.39</td>\n",
       "      <td>4.01</td>\n",
       "      <td>3.69</td>\n",
       "    </tr>\n",
       "    <tr>\n",
       "      <th>4</th>\n",
       "      <td>2012_1104_1153</td>\n",
       "      <td>0.5</td>\n",
       "      <td>2012</td>\n",
       "      <td>1104</td>\n",
       "      <td>1153</td>\n",
       "      <td>21</td>\n",
       "      <td>24</td>\n",
       "      <td>23.62</td>\n",
       "      <td>25.06</td>\n",
       "      <td>3.63</td>\n",
       "      <td>...</td>\n",
       "      <td>3.51</td>\n",
       "      <td>3.01</td>\n",
       "      <td>4.16</td>\n",
       "      <td>4.59</td>\n",
       "      <td>2.68</td>\n",
       "      <td>2.74</td>\n",
       "      <td>18.41</td>\n",
       "      <td>15.15</td>\n",
       "      <td>4.01</td>\n",
       "      <td>3.21</td>\n",
       "    </tr>\n",
       "  </tbody>\n",
       "</table>\n",
       "<p>5 rows × 59 columns</p>\n",
       "</div>"
      ],
      "text/plain": [
       "               Id  Pred  Season  team0  team1  wins0  wins1  avg_fgm0  \\\n",
       "0  2012_1104_1124   0.5    2012   1104   1124     21     26     23.62   \n",
       "1  2012_1104_1125   0.5    2012   1104   1125     21     26     23.62   \n",
       "2  2012_1104_1140   0.5    2012   1104   1140     21     23     23.62   \n",
       "3  2012_1104_1143   0.5    2012   1104   1143     21     24     23.62   \n",
       "4  2012_1104_1153   0.5    2012   1104   1153     21     24     23.62   \n",
       "\n",
       "   avg_fgm1  std_fgm0   ...     std_stl0  std_stl1  avg_blk0  avg_blk1  \\\n",
       "0     26.09      3.63   ...         3.51      2.89      4.16      4.64   \n",
       "1     27.91      3.63   ...         3.51      2.83      4.16      2.24   \n",
       "2     27.97      3.63   ...         3.51      3.44      4.16      4.19   \n",
       "3     26.42      3.63   ...         3.51      1.67      4.16      3.15   \n",
       "4     25.06      3.63   ...         3.51      3.01      4.16      4.59   \n",
       "\n",
       "   std_blk0  std_blk1  avg_pf0  avg_pf1  std_pf0  std_pf1  \n",
       "0      2.68      2.98    18.41    17.64     4.01     4.30  \n",
       "1      2.68      1.68    18.41    18.27     4.01     4.01  \n",
       "2      2.68      1.72    18.41    18.45     4.01     4.44  \n",
       "3      2.68      1.39    18.41    14.39     4.01     3.69  \n",
       "4      2.68      2.74    18.41    15.15     4.01     3.21  \n",
       "\n",
       "[5 rows x 59 columns]"
      ]
     },
     "execution_count": 18,
     "metadata": {},
     "output_type": "execute_result"
    }
   ],
   "source": [
    "sample_df = pd.read_csv('data/SampleSubmission.csv')\n",
    "\n",
    "def get_season(Id):\n",
    "    return np.int64(Id.split(\"_\")[0])\n",
    "def get_team0(Id):\n",
    "    return np.int64(Id.split(\"_\")[1])\n",
    "def get_team1(Id):\n",
    "    return np.int64(Id.split(\"_\")[2])\n",
    "\n",
    "# UNCOMMENT THESE LINES IF YOU WANT TO REGENERATE THE SUBMISSION FEATURES FROM SCRATCH\n",
    "sample_df['Season'] = sample_df['Id'].apply(get_season)\n",
    "sample_df['team0'] = sample_df['Id'].apply(get_team0)\n",
    "sample_df['team1'] = sample_df['Id'].apply(get_team1)\n",
    "\n",
    "# first add all the features for individual teams\n",
    "for feature in teamfList:\n",
    "    sample_df = pd.concat([sample_df, sample_df.apply(feature01(feature), axis=1)], axis=1)\n",
    "    \n",
    "# now add features specific to a game (pair of teams)\n",
    "for feature in gamefList:\n",
    "    tourney_df[feature.__name__] = tourney_df.apply(feature, axis=1)\n",
    "    \n",
    "sample_df.to_csv(submission_data_with_features_file, encoding='ascii')\n",
    "sample_df.head()"
   ]
  },
  {
   "cell_type": "markdown",
   "metadata": {},
   "source": [
    "# Tutorial for adding a new feature\n",
    "\n",
    "All functions to populate a feature should take a game, i.e., a row of `tourney_df`,  "
   ]
  },
  {
   "cell_type": "code",
   "execution_count": 11,
   "metadata": {
    "collapsed": false
   },
   "outputs": [
    {
     "name": "stdout",
     "output_type": "stream",
     "text": [
      "Season       2003\n",
      "Daynum        134\n",
      "Wteam        1421\n",
      "Wscore         92\n",
      "Lteam        1411\n",
      "Lscore         84\n",
      "Wloc            N\n",
      "Numot           1\n",
      "Wfgm           32\n",
      "Wfga           69\n",
      "Wfgm3          11\n",
      "Wfga3          29\n",
      "Wftm           17\n",
      "Wfta           26\n",
      "Wor            14\n",
      "Wdr            30\n",
      "Wast           17\n",
      "Wto            12\n",
      "Wstl            5\n",
      "Wblk            3\n",
      "Wpf            22\n",
      "Lfgm           29\n",
      "Lfga           67\n",
      "Lfgm3          12\n",
      "Lfga3          31\n",
      "Lftm           14\n",
      "Lfta           31\n",
      "Lor            17\n",
      "Ldr            28\n",
      "Last           16\n",
      "            ...  \n",
      "std_fta0      8.2\n",
      "std_fta1     9.02\n",
      "avg_or0     13.17\n",
      "avg_or1     12.28\n",
      "std_or0      4.86\n",
      "std_or1      3.73\n",
      "avg_dr0      24.8\n",
      "avg_dr1     23.17\n",
      "std_dr0      5.55\n",
      "std_dr1      5.44\n",
      "avg_ast0     14.2\n",
      "avg_ast1    13.03\n",
      "std_ast0      4.4\n",
      "std_ast1     4.79\n",
      "avg_to0     15.23\n",
      "avg_to1     16.21\n",
      "std_to0      4.03\n",
      "std_to1         5\n",
      "avg_stl0     6.43\n",
      "avg_stl1     7.07\n",
      "std_stl0     2.31\n",
      "std_stl1     3.14\n",
      "avg_blk0     2.23\n",
      "avg_blk1        3\n",
      "std_blk0     1.72\n",
      "std_blk1     1.65\n",
      "avg_pf0      18.3\n",
      "avg_pf1      19.1\n",
      "std_pf0      4.56\n",
      "std_pf1      3.69\n",
      "Name: 0, dtype: object\n"
     ]
    }
   ],
   "source": [
    "game = tourney_df.loc[0]\n",
    "print(game)"
   ]
  },
  {
   "cell_type": "markdown",
   "metadata": {},
   "source": [
    "If it's a feature specific to a team, name it 0 or 1, and access team0's and/or team1's ID using the corresponding column.  `team_name` is a dictionary that takes a team ID and returns the name, and `team_id` is a dictionary that takes a team name and returns the ID.  You can use these to match up data you find elsewhere.\n",
    "\n",
    "The function should return the value for your new feature.  As a simple example, to make a feature with the team's name, "
   ]
  },
  {
   "cell_type": "code",
   "execution_count": 18,
   "metadata": {
    "collapsed": false
   },
   "outputs": [
    {
     "name": "stdout",
     "output_type": "stream",
     "text": [
      "1411\n"
     ]
    },
    {
     "data": {
      "text/plain": [
       "'TX Southern'"
      ]
     },
     "execution_count": 18,
     "metadata": {},
     "output_type": "execute_result"
    }
   ],
   "source": [
    "def name0(game):\n",
    "    ID = game['team0']\n",
    "    \n",
    "    # Examples of using the dictionaries\n",
    "    name = team_name[ID] \n",
    "    print(team_id[name]) \n",
    "    \n",
    "    return name\n",
    "\n",
    "name0(tourney_df.loc[0])"
   ]
  },
  {
   "cell_type": "markdown",
   "metadata": {},
   "source": [
    "# More Realistic Example\n",
    "\n",
    "I had to look at different pandas examples/tutorials, but this might get you started.  For `wins0`, I wanted to be able to return the number of games `team0` won in the regular season.  What we actually have is a list of games, each of which have a winning team.  So we need to find all the games where `team0` was the winner, and add them all up.  So we start with the column that has all the IDs of the winning teams for each game."
   ]
  },
  {
   "cell_type": "code",
   "execution_count": 19,
   "metadata": {
    "collapsed": false
   },
   "outputs": [
    {
     "name": "stdout",
     "output_type": "stream",
     "text": [
      "0    1104\n",
      "1    1272\n",
      "2    1266\n",
      "3    1296\n",
      "4    1400\n",
      "Name: Wteam, dtype: int64\n"
     ]
    }
   ],
   "source": [
    "wteam = season_df['Wteam']\n",
    "print(wteam.head())"
   ]
  },
  {
   "cell_type": "markdown",
   "metadata": {},
   "source": [
    "Now we make a boolean array that has the same length as `wteam` above, with `True` if the winning team is `team0` (which we take to be 1106 in this example):"
   ]
  },
  {
   "cell_type": "code",
   "execution_count": 20,
   "metadata": {
    "collapsed": false
   },
   "outputs": [
    {
     "name": "stdout",
     "output_type": "stream",
     "text": [
      "0    False\n",
      "1    False\n",
      "2    False\n",
      "3    False\n",
      "4    False\n",
      "Name: Wteam, dtype: bool\n"
     ]
    }
   ],
   "source": [
    "games_where_1106_won = season_df['Wteam'] == 1106\n",
    "print(games_where_1106_won.head())"
   ]
  },
  {
   "cell_type": "code",
   "execution_count": 21,
   "metadata": {
    "collapsed": false
   },
   "outputs": [
    {
     "name": "stdout",
     "output_type": "stream",
     "text": [
      "613     1106\n",
      "1095    1106\n",
      "1584    1106\n",
      "1714    1106\n",
      "1873    1106\n",
      "Name: Wteam, dtype: int64\n"
     ]
    }
   ],
   "source": [
    "games_1106_won = wteam[games_where_1106_won]\n",
    "print(games_1106_won.head())"
   ]
  },
  {
   "cell_type": "markdown",
   "metadata": {},
   "source": [
    "But this has games for all seasons mixed together, so we have to choose the right season.  Say the game for which we're trying to make the feature happend in 2012.  Then we need another mask like we used above to separate the games where 1106 won, but this time for the season:"
   ]
  },
  {
   "cell_type": "code",
   "execution_count": 22,
   "metadata": {
    "collapsed": false
   },
   "outputs": [
    {
     "name": "stdout",
     "output_type": "stream",
     "text": [
      "0    False\n",
      "1    False\n",
      "2    False\n",
      "3    False\n",
      "4    False\n",
      "Name: Season, dtype: bool\n"
     ]
    }
   ],
   "source": [
    "in_2012 = season_df['Season'] == 2012\n",
    "print(in_2012.head())"
   ]
  },
  {
   "cell_type": "markdown",
   "metadata": {},
   "source": [
    "We can put boolean masks together like this:"
   ]
  },
  {
   "cell_type": "code",
   "execution_count": 23,
   "metadata": {
    "collapsed": false
   },
   "outputs": [
    {
     "name": "stdout",
     "output_type": "stream",
     "text": [
      "45628    1106\n",
      "46766    1106\n",
      "46845    1106\n",
      "47078    1106\n",
      "47248    1106\n",
      "Name: Wteam, dtype: int64\n"
     ]
    }
   ],
   "source": [
    "games_1106_won_in_2012 = wteam[games_where_1106_won & in_2012]\n",
    "print(games_1106_won_in_2012.head())"
   ]
  },
  {
   "cell_type": "markdown",
   "metadata": {},
   "source": [
    "For convenience, I've made a dictionary `in_season` that takes a year, and gives you the corresponding boolean mask for that year.  Using that notation, and finally also using the `is_valid` mask, which ensures that the game is valid (WTeam != 0), we have "
   ]
  },
  {
   "cell_type": "code",
   "execution_count": 24,
   "metadata": {
    "collapsed": false
   },
   "outputs": [
    {
     "name": "stdout",
     "output_type": "stream",
     "text": [
      "45628    1106\n",
      "46766    1106\n",
      "46845    1106\n",
      "47078    1106\n",
      "47248    1106\n",
      "Name: Wteam, dtype: int64\n"
     ]
    }
   ],
   "source": [
    "games_1106_won_in_2012 = wteam[games_where_1106_won & in_season[2012] & is_valid]\n",
    "print(games_1106_won_in_2012.head())"
   ]
  },
  {
   "cell_type": "markdown",
   "metadata": {},
   "source": [
    "We can now get the length of the final array of filtered values using `shape`, and taking `[0]`, which gives the number of rows.  A minor final detail is that all these new variables make copies of slices of the dataframes, so it's slightly more efficient to do things without making copies with the `loc` function, which explains the one-liners in the wins0 and wins1 functions above: "
   ]
  },
  {
   "cell_type": "code",
   "execution_count": 25,
   "metadata": {
    "collapsed": false
   },
   "outputs": [
    {
     "name": "stdout",
     "output_type": "stream",
     "text": [
      "10\n",
      "10\n"
     ]
    }
   ],
   "source": [
    "print(games_1106_won_in_2012.shape[0])\n",
    "print(season_df.loc[(season_df['Wteam'] == 1106) & in_season[2012] & is_valid].shape[0])"
   ]
  },
  {
   "cell_type": "markdown",
   "metadata": {},
   "source": [
    "# Additional Features\n",
    "\n",
    "Someother features to consider on the historic record of one Seed versus another. And the spread betting record. Here is an example of generate feature from data/TourneySeedBetting.csv\n",
    "\n",
    "**TBD: find resource for 2016 league**"
   ]
  },
  {
   "cell_type": "code",
   "execution_count": 26,
   "metadata": {
    "collapsed": false
   },
   "outputs": [
    {
     "data": {
      "text/html": [
       "<div>\n",
       "<table border=\"1\" class=\"dataframe\">\n",
       "  <thead>\n",
       "    <tr style=\"text-align: right;\">\n",
       "      <th></th>\n",
       "      <th>Season</th>\n",
       "      <th>Daynum</th>\n",
       "      <th>Wteam</th>\n",
       "      <th>Wscore</th>\n",
       "      <th>Lteam</th>\n",
       "      <th>Lscore</th>\n",
       "      <th>Wloc</th>\n",
       "      <th>Numot</th>\n",
       "      <th>Wseed</th>\n",
       "      <th>Lseed</th>\n",
       "      <th>meanProb</th>\n",
       "      <th>numProb</th>\n",
       "      <th>spreadbet</th>\n",
       "    </tr>\n",
       "  </thead>\n",
       "  <tbody>\n",
       "    <tr>\n",
       "      <th>0</th>\n",
       "      <td>2011</td>\n",
       "      <td>134</td>\n",
       "      <td>1155</td>\n",
       "      <td>70</td>\n",
       "      <td>1412</td>\n",
       "      <td>52</td>\n",
       "      <td>N</td>\n",
       "      <td>0</td>\n",
       "      <td>12</td>\n",
       "      <td>12</td>\n",
       "      <td>0.50</td>\n",
       "      <td>1</td>\n",
       "      <td>0</td>\n",
       "    </tr>\n",
       "    <tr>\n",
       "      <th>1</th>\n",
       "      <td>2011</td>\n",
       "      <td>134</td>\n",
       "      <td>1421</td>\n",
       "      <td>81</td>\n",
       "      <td>1114</td>\n",
       "      <td>77</td>\n",
       "      <td>N</td>\n",
       "      <td>1</td>\n",
       "      <td>16</td>\n",
       "      <td>16</td>\n",
       "      <td>0.50</td>\n",
       "      <td>1</td>\n",
       "      <td>0</td>\n",
       "    </tr>\n",
       "    <tr>\n",
       "      <th>2</th>\n",
       "      <td>2011</td>\n",
       "      <td>135</td>\n",
       "      <td>1427</td>\n",
       "      <td>70</td>\n",
       "      <td>1106</td>\n",
       "      <td>61</td>\n",
       "      <td>N</td>\n",
       "      <td>0</td>\n",
       "      <td>16</td>\n",
       "      <td>16</td>\n",
       "      <td>0.50</td>\n",
       "      <td>1</td>\n",
       "      <td>0</td>\n",
       "    </tr>\n",
       "    <tr>\n",
       "      <th>3</th>\n",
       "      <td>2011</td>\n",
       "      <td>135</td>\n",
       "      <td>1433</td>\n",
       "      <td>59</td>\n",
       "      <td>1425</td>\n",
       "      <td>46</td>\n",
       "      <td>N</td>\n",
       "      <td>0</td>\n",
       "      <td>11</td>\n",
       "      <td>11</td>\n",
       "      <td>0.50</td>\n",
       "      <td>1</td>\n",
       "      <td>0</td>\n",
       "    </tr>\n",
       "    <tr>\n",
       "      <th>4</th>\n",
       "      <td>2011</td>\n",
       "      <td>136</td>\n",
       "      <td>1139</td>\n",
       "      <td>60</td>\n",
       "      <td>1330</td>\n",
       "      <td>58</td>\n",
       "      <td>N</td>\n",
       "      <td>0</td>\n",
       "      <td>8</td>\n",
       "      <td>9</td>\n",
       "      <td>0.51</td>\n",
       "      <td>124</td>\n",
       "      <td>1</td>\n",
       "    </tr>\n",
       "  </tbody>\n",
       "</table>\n",
       "</div>"
      ],
      "text/plain": [
       "   Season  Daynum  Wteam  Wscore  Lteam  Lscore Wloc  Numot  Wseed  Lseed  \\\n",
       "0    2011     134   1155      70   1412      52    N      0     12     12   \n",
       "1    2011     134   1421      81   1114      77    N      1     16     16   \n",
       "2    2011     135   1427      70   1106      61    N      0     16     16   \n",
       "3    2011     135   1433      59   1425      46    N      0     11     11   \n",
       "4    2011     136   1139      60   1330      58    N      0      8      9   \n",
       "\n",
       "   meanProb  numProb  spreadbet  \n",
       "0      0.50        1          0  \n",
       "1      0.50        1          0  \n",
       "2      0.50        1          0  \n",
       "3      0.50        1          0  \n",
       "4      0.51      124          1  "
      ]
     },
     "execution_count": 26,
     "metadata": {},
     "output_type": "execute_result"
    }
   ],
   "source": [
    "tourney_seeddf = pd.read_csv('data/TourneySeedBetting.csv')\n",
    "tourney_seeddf.head()\n",
    "\n",
    "### Wseed gives the Seed for the winning team, Lseed gives the Seed for the losing team. \n",
    "### meanProb gives the Probability of the team with the smaller seed wins, numProb \n",
    "### gives the number of games this probability was calculated based on\n",
    "### spreadbet give the spreadbetting from covers on the winning team versus losing team."
   ]
  },
  {
   "cell_type": "code",
   "execution_count": 27,
   "metadata": {
    "collapsed": true
   },
   "outputs": [],
   "source": [
    "def meanprob(game):\n",
    "    return tourney_seeddf[(tourney_seeddf['Wteam'] == game['Wteam']) & (tourney_seeddf['Lteam']==game['Lteam']) & (tourney_seeddf['Season']==game['Season'])]['meanProb']"
   ]
  },
  {
   "cell_type": "code",
   "execution_count": 28,
   "metadata": {
    "collapsed": false
   },
   "outputs": [
    {
     "name": "stdout",
     "output_type": "stream",
     "text": [
      "Season    2011\n",
      "Daynum     134\n",
      "Wteam     1155\n",
      "Wscore      70\n",
      "Lteam     1412\n",
      "Name: 512, dtype: object\n"
     ]
    },
    {
     "data": {
      "text/plain": [
       "0    0.5\n",
       "Name: meanProb, dtype: float64"
      ]
     },
     "execution_count": 28,
     "metadata": {},
     "output_type": "execute_result"
    }
   ],
   "source": [
    "game = tourney_df[tourney_df['Season']==2011].iloc[0]\n",
    "print game.head()\n",
    "meanprob(game)"
   ]
  },
  {
   "cell_type": "code",
   "execution_count": null,
   "metadata": {
    "collapsed": true
   },
   "outputs": [],
   "source": []
  }
 ],
 "metadata": {
  "kernelspec": {
   "display_name": "Python 2",
   "language": "python",
   "name": "python2"
  },
  "language_info": {
   "codemirror_mode": {
    "name": "ipython",
    "version": 2
   },
   "file_extension": ".py",
   "mimetype": "text/x-python",
   "name": "python",
   "nbconvert_exporter": "python",
   "pygments_lexer": "ipython2",
   "version": "2.7.11"
  }
 },
 "nbformat": 4,
 "nbformat_minor": 0
}
