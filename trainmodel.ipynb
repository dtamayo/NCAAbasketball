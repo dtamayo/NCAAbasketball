{
 "cells": [
  {
   "cell_type": "code",
   "execution_count": 92,
   "metadata": {},
   "outputs": [
    {
     "data": {
      "text/html": [
       "<div>\n",
       "<style scoped>\n",
       "    .dataframe tbody tr th:only-of-type {\n",
       "        vertical-align: middle;\n",
       "    }\n",
       "\n",
       "    .dataframe tbody tr th {\n",
       "        vertical-align: top;\n",
       "    }\n",
       "\n",
       "    .dataframe thead th {\n",
       "        text-align: right;\n",
       "    }\n",
       "</style>\n",
       "<table border=\"1\" class=\"dataframe\">\n",
       "  <thead>\n",
       "    <tr style=\"text-align: right;\">\n",
       "      <th></th>\n",
       "      <th>Season</th>\n",
       "      <th>DayNum</th>\n",
       "      <th>WTeamID</th>\n",
       "      <th>WScore</th>\n",
       "      <th>LTeamID</th>\n",
       "      <th>LScore</th>\n",
       "      <th>WLoc</th>\n",
       "      <th>NumOT</th>\n",
       "      <th>team0Win</th>\n",
       "      <th>team0</th>\n",
       "      <th>...</th>\n",
       "      <th>USA1</th>\n",
       "      <th>WIL1</th>\n",
       "      <th>WLK1</th>\n",
       "      <th>WMR1</th>\n",
       "      <th>WMV1</th>\n",
       "      <th>WOB1</th>\n",
       "      <th>WOL1</th>\n",
       "      <th>WTE1</th>\n",
       "      <th>YAG1</th>\n",
       "      <th>ZAM1</th>\n",
       "    </tr>\n",
       "  </thead>\n",
       "  <tbody>\n",
       "    <tr>\n",
       "      <th>83084</th>\n",
       "      <td>2018</td>\n",
       "      <td>132</td>\n",
       "      <td>1153</td>\n",
       "      <td>56</td>\n",
       "      <td>1222</td>\n",
       "      <td>55</td>\n",
       "      <td>N</td>\n",
       "      <td>0</td>\n",
       "      <td>0</td>\n",
       "      <td>1222</td>\n",
       "      <td>...</td>\n",
       "      <td>8.0</td>\n",
       "      <td>7.0</td>\n",
       "      <td>4.0</td>\n",
       "      <td>NaN</td>\n",
       "      <td>8.0</td>\n",
       "      <td>5.0</td>\n",
       "      <td>4.0</td>\n",
       "      <td>NaN</td>\n",
       "      <td>7.0</td>\n",
       "      <td>6.0</td>\n",
       "    </tr>\n",
       "    <tr>\n",
       "      <th>83085</th>\n",
       "      <td>2018</td>\n",
       "      <td>132</td>\n",
       "      <td>1172</td>\n",
       "      <td>58</td>\n",
       "      <td>1348</td>\n",
       "      <td>57</td>\n",
       "      <td>N</td>\n",
       "      <td>0</td>\n",
       "      <td>0</td>\n",
       "      <td>1348</td>\n",
       "      <td>...</td>\n",
       "      <td>NaN</td>\n",
       "      <td>91.0</td>\n",
       "      <td>60.0</td>\n",
       "      <td>NaN</td>\n",
       "      <td>74.0</td>\n",
       "      <td>94.0</td>\n",
       "      <td>91.0</td>\n",
       "      <td>NaN</td>\n",
       "      <td>44.0</td>\n",
       "      <td>39.0</td>\n",
       "    </tr>\n",
       "    <tr>\n",
       "      <th>83086</th>\n",
       "      <td>2018</td>\n",
       "      <td>132</td>\n",
       "      <td>1209</td>\n",
       "      <td>74</td>\n",
       "      <td>1426</td>\n",
       "      <td>61</td>\n",
       "      <td>N</td>\n",
       "      <td>0</td>\n",
       "      <td>0</td>\n",
       "      <td>1426</td>\n",
       "      <td>...</td>\n",
       "      <td>NaN</td>\n",
       "      <td>160.0</td>\n",
       "      <td>125.0</td>\n",
       "      <td>NaN</td>\n",
       "      <td>138.0</td>\n",
       "      <td>158.0</td>\n",
       "      <td>143.0</td>\n",
       "      <td>NaN</td>\n",
       "      <td>134.0</td>\n",
       "      <td>117.0</td>\n",
       "    </tr>\n",
       "    <tr>\n",
       "      <th>83087</th>\n",
       "      <td>2018</td>\n",
       "      <td>132</td>\n",
       "      <td>1246</td>\n",
       "      <td>77</td>\n",
       "      <td>1397</td>\n",
       "      <td>72</td>\n",
       "      <td>N</td>\n",
       "      <td>0</td>\n",
       "      <td>1</td>\n",
       "      <td>1246</td>\n",
       "      <td>...</td>\n",
       "      <td>12.0</td>\n",
       "      <td>8.0</td>\n",
       "      <td>12.0</td>\n",
       "      <td>NaN</td>\n",
       "      <td>10.0</td>\n",
       "      <td>9.0</td>\n",
       "      <td>12.0</td>\n",
       "      <td>NaN</td>\n",
       "      <td>18.0</td>\n",
       "      <td>13.0</td>\n",
       "    </tr>\n",
       "    <tr>\n",
       "      <th>83088</th>\n",
       "      <td>2018</td>\n",
       "      <td>132</td>\n",
       "      <td>1335</td>\n",
       "      <td>68</td>\n",
       "      <td>1217</td>\n",
       "      <td>65</td>\n",
       "      <td>N</td>\n",
       "      <td>0</td>\n",
       "      <td>1</td>\n",
       "      <td>1335</td>\n",
       "      <td>...</td>\n",
       "      <td>NaN</td>\n",
       "      <td>188.0</td>\n",
       "      <td>159.0</td>\n",
       "      <td>NaN</td>\n",
       "      <td>169.0</td>\n",
       "      <td>177.0</td>\n",
       "      <td>147.0</td>\n",
       "      <td>NaN</td>\n",
       "      <td>144.0</td>\n",
       "      <td>166.0</td>\n",
       "    </tr>\n",
       "  </tbody>\n",
       "</table>\n",
       "<p>5 rows × 344 columns</p>\n",
       "</div>"
      ],
      "text/plain": [
       "       Season  DayNum  WTeamID  WScore  LTeamID  LScore WLoc  NumOT  team0Win  \\\n",
       "83084    2018     132     1153      56     1222      55    N      0         0   \n",
       "83085    2018     132     1172      58     1348      57    N      0         0   \n",
       "83086    2018     132     1209      74     1426      61    N      0         0   \n",
       "83087    2018     132     1246      77     1397      72    N      0         1   \n",
       "83088    2018     132     1335      68     1217      65    N      0         1   \n",
       "\n",
       "       team0  ...    USA1   WIL1   WLK1  WMR1   WMV1   WOB1   WOL1  WTE1  \\\n",
       "83084   1222  ...     8.0    7.0    4.0   NaN    8.0    5.0    4.0   NaN   \n",
       "83085   1348  ...     NaN   91.0   60.0   NaN   74.0   94.0   91.0   NaN   \n",
       "83086   1426  ...     NaN  160.0  125.0   NaN  138.0  158.0  143.0   NaN   \n",
       "83087   1246  ...    12.0    8.0   12.0   NaN   10.0    9.0   12.0   NaN   \n",
       "83088   1335  ...     NaN  188.0  159.0   NaN  169.0  177.0  147.0   NaN   \n",
       "\n",
       "        YAG1   ZAM1  \n",
       "83084    7.0    6.0  \n",
       "83085   44.0   39.0  \n",
       "83086  134.0  117.0  \n",
       "83087   18.0   13.0  \n",
       "83088  144.0  166.0  \n",
       "\n",
       "[5 rows x 344 columns]"
      ]
     },
     "execution_count": 92,
     "metadata": {},
     "output_type": "execute_result"
    }
   ],
   "source": [
    "import pandas as pd\n",
    "import numpy as np\n",
    "   \n",
    "tourney_df = pd.read_csv(\"data/trainingdata.csv\", index_col=0)\n",
    "tourney_df.tail()"
   ]
  },
  {
   "cell_type": "code",
   "execution_count": 93,
   "metadata": {},
   "outputs": [
    {
     "name": "stdout",
     "output_type": "stream",
     "text": [
      "Fraction of entries that are Nan = 0.85\n"
     ]
    }
   ],
   "source": [
    "print(\"Fraction of entries that are Nan = {0:.2f}\".format(tourney_df.isnull().sum().sum()/(tourney_df.shape[0]*tourney_df.shape[1])))"
   ]
  },
  {
   "cell_type": "markdown",
   "metadata": {},
   "source": [
    "# Clean up Nans and normalize"
   ]
  },
  {
   "cell_type": "code",
   "execution_count": 94,
   "metadata": {},
   "outputs": [],
   "source": [
    "systems = ['SAG', 'MOR', 'WLK', 'POM', 'DOL', 'RPI', 'DOK', 'PGH']\n",
    "teamfList = systems\n",
    "rankingfeatures = []\n",
    "for f in teamfList:\n",
    "    rankingfeatures.append(f+'0')\n",
    "    rankingfeatures.append(f+'1')"
   ]
  },
  {
   "cell_type": "code",
   "execution_count": 95,
   "metadata": {},
   "outputs": [],
   "source": [
    "#featureList = ['ACU0', 'BBT0', 'BWE0', 'DOK0', 'KPK0', 'MAS0', 'MOR0', 'PGH0', 'PIG0', 'POM0', 'RTP0', 'SAG0', 'TRK0', 'TRP0', 'WIL0', 'DII0', 'BIH0', 'WLK0', '7OT0', 'BUR0', 'DOL0', 'NOL0', 'SFX0', 'BOB0', 'COL0', 'CRO0', 'EBP0', 'MSX0', 'RTR0', 'SP0', 'TPR0', 'BLS0', 'CNG0', 'RTH0', 'SPR0', 'WOL0', 'DCI0', 'KRA0', 'LMC0', 'REW0', 'SEL0', 'SPW0', 'WOB0', 'ARG0', 'DC0', 'STH0', 'RPI0', 'HKB0', 'ACU1', 'BBT1', 'BWE1', 'DOK1', 'KPK1', 'MAS1', 'MOR1', 'PGH1', 'PIG1', 'POM1', 'RTP1', 'SAG1', 'TRK1', 'TRP1', 'WIL1', 'DII1', 'BIH1', 'WLK1', '7OT1', 'BUR1', 'DOL1', 'NOL1', 'SFX1', 'BOB1', 'COL1', 'CRO1', 'EBP1', 'MSX1', 'RTR1', 'SP1', 'TPR1', 'BLS1', 'CNG1', 'RTH1', 'SPR1', 'WOL1', 'DCI1', 'KRA1', 'LMC1', 'REW1', 'SEL1', 'SPW1', 'WOB1', 'ARG1', 'DC1', 'STH1', 'RPI1', 'HKB1']#, 'tourneylike']"
   ]
  },
  {
   "cell_type": "code",
   "execution_count": 96,
   "metadata": {},
   "outputs": [
    {
     "name": "stdout",
     "output_type": "stream",
     "text": [
      "['SAG0', 'SAG1', 'MOR0', 'MOR1', 'WLK0', 'WLK1', 'POM0', 'POM1', 'DOL0', 'DOL1', 'RPI0', 'RPI1', 'DOK0', 'DOK1', 'PGH0', 'PGH1']\n"
     ]
    }
   ],
   "source": [
    "print(rankingfeatures)"
   ]
  },
  {
   "cell_type": "code",
   "execution_count": 97,
   "metadata": {},
   "outputs": [],
   "source": [
    "featureList = ['Season', 'team0Win', 'TourneyGame'] + rankingfeatures"
   ]
  },
  {
   "cell_type": "code",
   "execution_count": 98,
   "metadata": {},
   "outputs": [
    {
     "data": {
      "text/plain": [
       "(83089, 19)"
      ]
     },
     "execution_count": 98,
     "metadata": {},
     "output_type": "execute_result"
    }
   ],
   "source": [
    "tourney_df = tourney_df[featureList]\n",
    "tourney_df.shape"
   ]
  },
  {
   "cell_type": "code",
   "execution_count": 99,
   "metadata": {},
   "outputs": [
    {
     "name": "stdout",
     "output_type": "stream",
     "text": [
      "Fraction of entries that are Nan = 0.44\n"
     ]
    }
   ],
   "source": [
    "print(\"Fraction of entries that are Nan = {0:.2f}\".format(tourney_df.isnull().sum().sum()/(tourney_df.shape[0]*tourney_df.shape[1])))"
   ]
  },
  {
   "cell_type": "code",
   "execution_count": 100,
   "metadata": {},
   "outputs": [],
   "source": [
    "tourney_df = tourney_df.dropna(thresh=13) # only rows with at least 13/19 non NAN"
   ]
  },
  {
   "cell_type": "code",
   "execution_count": 101,
   "metadata": {},
   "outputs": [
    {
     "name": "stdout",
     "output_type": "stream",
     "text": [
      "Fraction of entries that are Nan = 0.12\n"
     ]
    }
   ],
   "source": [
    "print(\"Fraction of entries that are Nan = {0:.2f}\".format(tourney_df.isnull().sum().sum()/(tourney_df.shape[0]*tourney_df.shape[1])))"
   ]
  },
  {
   "cell_type": "code",
   "execution_count": 102,
   "metadata": {},
   "outputs": [],
   "source": [
    "def keep(row):\n",
    "    if row[rankingfeatures].mean() < 100.:\n",
    "        return 1\n",
    "    else:\n",
    "        return 0"
   ]
  },
  {
   "cell_type": "code",
   "execution_count": 104,
   "metadata": {},
   "outputs": [
    {
     "name": "stdout",
     "output_type": "stream",
     "text": [
      "CPU times: user 33.4 s, sys: 604 ms, total: 34 s\n",
      "Wall time: 29.2 s\n"
     ]
    }
   ],
   "source": [
    "%%time\n",
    "tourney_df['Keep'] = tourney_df.apply(keep, axis=1)"
   ]
  },
  {
   "cell_type": "code",
   "execution_count": 105,
   "metadata": {},
   "outputs": [
    {
     "data": {
      "text/plain": [
       "(43229, 20)"
      ]
     },
     "execution_count": 105,
     "metadata": {},
     "output_type": "execute_result"
    }
   ],
   "source": [
    "tourney_df.shape"
   ]
  },
  {
   "cell_type": "code",
   "execution_count": 106,
   "metadata": {},
   "outputs": [],
   "source": [
    "tourney_df = tourney_df[tourney_df['Keep'] == 1]\n",
    "del tourney_df['Keep']"
   ]
  },
  {
   "cell_type": "code",
   "execution_count": 107,
   "metadata": {},
   "outputs": [
    {
     "data": {
      "text/plain": [
       "(11215, 19)"
      ]
     },
     "execution_count": 107,
     "metadata": {},
     "output_type": "execute_result"
    }
   ],
   "source": [
    "tourney_df.shape"
   ]
  },
  {
   "cell_type": "code",
   "execution_count": 108,
   "metadata": {},
   "outputs": [
    {
     "name": "stdout",
     "output_type": "stream",
     "text": [
      "Fraction of entries that are Nan = 0.11\n"
     ]
    }
   ],
   "source": [
    "print(\"Fraction of entries that are Nan = {0:.2f}\".format(tourney_df.isnull().sum().sum()/(tourney_df.shape[0]*tourney_df.shape[1])))"
   ]
  },
  {
   "cell_type": "code",
   "execution_count": 109,
   "metadata": {},
   "outputs": [
    {
     "data": {
      "text/html": [
       "<div>\n",
       "<style scoped>\n",
       "    .dataframe tbody tr th:only-of-type {\n",
       "        vertical-align: middle;\n",
       "    }\n",
       "\n",
       "    .dataframe tbody tr th {\n",
       "        vertical-align: top;\n",
       "    }\n",
       "\n",
       "    .dataframe thead th {\n",
       "        text-align: right;\n",
       "    }\n",
       "</style>\n",
       "<table border=\"1\" class=\"dataframe\">\n",
       "  <thead>\n",
       "    <tr style=\"text-align: right;\">\n",
       "      <th></th>\n",
       "      <th>Season</th>\n",
       "      <th>team0Win</th>\n",
       "      <th>TourneyGame</th>\n",
       "      <th>SAG0</th>\n",
       "      <th>SAG1</th>\n",
       "      <th>MOR0</th>\n",
       "      <th>MOR1</th>\n",
       "      <th>WLK0</th>\n",
       "      <th>WLK1</th>\n",
       "      <th>POM0</th>\n",
       "      <th>POM1</th>\n",
       "      <th>DOL0</th>\n",
       "      <th>DOL1</th>\n",
       "      <th>RPI0</th>\n",
       "      <th>RPI1</th>\n",
       "      <th>DOK0</th>\n",
       "      <th>DOK1</th>\n",
       "      <th>PGH0</th>\n",
       "      <th>PGH1</th>\n",
       "    </tr>\n",
       "  </thead>\n",
       "  <tbody>\n",
       "    <tr>\n",
       "      <th>1</th>\n",
       "      <td>2003</td>\n",
       "      <td>1</td>\n",
       "      <td>1</td>\n",
       "      <td>2.0</td>\n",
       "      <td>158.0</td>\n",
       "      <td>4.0</td>\n",
       "      <td>187.0</td>\n",
       "      <td>2.0</td>\n",
       "      <td>153.0</td>\n",
       "      <td>3.0</td>\n",
       "      <td>144.0</td>\n",
       "      <td>2.0</td>\n",
       "      <td>156.0</td>\n",
       "      <td>2.0</td>\n",
       "      <td>144.0</td>\n",
       "      <td>NaN</td>\n",
       "      <td>NaN</td>\n",
       "      <td>NaN</td>\n",
       "      <td>NaN</td>\n",
       "    </tr>\n",
       "    <tr>\n",
       "      <th>2</th>\n",
       "      <td>2003</td>\n",
       "      <td>1</td>\n",
       "      <td>1</td>\n",
       "      <td>32.0</td>\n",
       "      <td>24.0</td>\n",
       "      <td>22.0</td>\n",
       "      <td>23.0</td>\n",
       "      <td>34.0</td>\n",
       "      <td>21.0</td>\n",
       "      <td>32.0</td>\n",
       "      <td>20.0</td>\n",
       "      <td>48.0</td>\n",
       "      <td>21.0</td>\n",
       "      <td>32.0</td>\n",
       "      <td>26.0</td>\n",
       "      <td>NaN</td>\n",
       "      <td>NaN</td>\n",
       "      <td>NaN</td>\n",
       "      <td>NaN</td>\n",
       "    </tr>\n",
       "    <tr>\n",
       "      <th>3</th>\n",
       "      <td>2003</td>\n",
       "      <td>0</td>\n",
       "      <td>1</td>\n",
       "      <td>18.0</td>\n",
       "      <td>48.0</td>\n",
       "      <td>33.0</td>\n",
       "      <td>50.0</td>\n",
       "      <td>19.0</td>\n",
       "      <td>32.0</td>\n",
       "      <td>27.0</td>\n",
       "      <td>50.0</td>\n",
       "      <td>18.0</td>\n",
       "      <td>37.0</td>\n",
       "      <td>23.0</td>\n",
       "      <td>44.0</td>\n",
       "      <td>NaN</td>\n",
       "      <td>NaN</td>\n",
       "      <td>NaN</td>\n",
       "      <td>NaN</td>\n",
       "    </tr>\n",
       "    <tr>\n",
       "      <th>4</th>\n",
       "      <td>2003</td>\n",
       "      <td>1</td>\n",
       "      <td>1</td>\n",
       "      <td>40.0</td>\n",
       "      <td>46.0</td>\n",
       "      <td>43.0</td>\n",
       "      <td>31.0</td>\n",
       "      <td>33.0</td>\n",
       "      <td>51.0</td>\n",
       "      <td>40.0</td>\n",
       "      <td>48.0</td>\n",
       "      <td>25.0</td>\n",
       "      <td>49.0</td>\n",
       "      <td>33.0</td>\n",
       "      <td>53.0</td>\n",
       "      <td>NaN</td>\n",
       "      <td>NaN</td>\n",
       "      <td>NaN</td>\n",
       "      <td>NaN</td>\n",
       "    </tr>\n",
       "    <tr>\n",
       "      <th>5</th>\n",
       "      <td>2003</td>\n",
       "      <td>1</td>\n",
       "      <td>1</td>\n",
       "      <td>23.0</td>\n",
       "      <td>28.0</td>\n",
       "      <td>17.0</td>\n",
       "      <td>42.0</td>\n",
       "      <td>26.0</td>\n",
       "      <td>25.0</td>\n",
       "      <td>23.0</td>\n",
       "      <td>26.0</td>\n",
       "      <td>26.0</td>\n",
       "      <td>36.0</td>\n",
       "      <td>28.0</td>\n",
       "      <td>19.0</td>\n",
       "      <td>NaN</td>\n",
       "      <td>NaN</td>\n",
       "      <td>NaN</td>\n",
       "      <td>NaN</td>\n",
       "    </tr>\n",
       "  </tbody>\n",
       "</table>\n",
       "</div>"
      ],
      "text/plain": [
       "   Season  team0Win  TourneyGame  SAG0   SAG1  MOR0   MOR1  WLK0   WLK1  POM0  \\\n",
       "1    2003         1            1   2.0  158.0   4.0  187.0   2.0  153.0   3.0   \n",
       "2    2003         1            1  32.0   24.0  22.0   23.0  34.0   21.0  32.0   \n",
       "3    2003         0            1  18.0   48.0  33.0   50.0  19.0   32.0  27.0   \n",
       "4    2003         1            1  40.0   46.0  43.0   31.0  33.0   51.0  40.0   \n",
       "5    2003         1            1  23.0   28.0  17.0   42.0  26.0   25.0  23.0   \n",
       "\n",
       "    POM1  DOL0   DOL1  RPI0   RPI1  DOK0  DOK1  PGH0  PGH1  \n",
       "1  144.0   2.0  156.0   2.0  144.0   NaN   NaN   NaN   NaN  \n",
       "2   20.0  48.0   21.0  32.0   26.0   NaN   NaN   NaN   NaN  \n",
       "3   50.0  18.0   37.0  23.0   44.0   NaN   NaN   NaN   NaN  \n",
       "4   48.0  25.0   49.0  33.0   53.0   NaN   NaN   NaN   NaN  \n",
       "5   26.0  26.0   36.0  28.0   19.0   NaN   NaN   NaN   NaN  "
      ]
     },
     "execution_count": 109,
     "metadata": {},
     "output_type": "execute_result"
    }
   ],
   "source": [
    "tourney_df.head()"
   ]
  },
  {
   "cell_type": "code",
   "execution_count": 112,
   "metadata": {},
   "outputs": [],
   "source": [
    "systems0 = [sys+'0' for sys in systems]\n",
    "systems1 = [sys+'1' for sys in systems]\n",
    "def interp_rankings(row):\n",
    "    row[systems0] = row[systems0].fillna(row[systems0].mean())\n",
    "    row[systems1] = row[systems1].fillna(row[systems1].mean())\n",
    "    return row"
   ]
  },
  {
   "cell_type": "code",
   "execution_count": 113,
   "metadata": {},
   "outputs": [
    {
     "name": "stdout",
     "output_type": "stream",
     "text": [
      "CPU times: user 41.7 s, sys: 400 ms, total: 42.1 s\n",
      "Wall time: 42.1 s\n"
     ]
    }
   ],
   "source": [
    "%%time\n",
    "tourney_df = tourney_df.apply(interp_rankings, axis=1)"
   ]
  },
  {
   "cell_type": "code",
   "execution_count": 114,
   "metadata": {},
   "outputs": [
    {
     "name": "stdout",
     "output_type": "stream",
     "text": [
      "Fraction of entries that are Nan = 0.00\n"
     ]
    }
   ],
   "source": [
    "print(\"Fraction of entries that are Nan = {0:.2f}\".format(tourney_df.isnull().sum().sum()/(tourney_df.shape[0]*tourney_df.shape[1])))"
   ]
  },
  {
   "cell_type": "code",
   "execution_count": 116,
   "metadata": {},
   "outputs": [
    {
     "data": {
      "text/html": [
       "<div>\n",
       "<style scoped>\n",
       "    .dataframe tbody tr th:only-of-type {\n",
       "        vertical-align: middle;\n",
       "    }\n",
       "\n",
       "    .dataframe tbody tr th {\n",
       "        vertical-align: top;\n",
       "    }\n",
       "\n",
       "    .dataframe thead th {\n",
       "        text-align: right;\n",
       "    }\n",
       "</style>\n",
       "<table border=\"1\" class=\"dataframe\">\n",
       "  <thead>\n",
       "    <tr style=\"text-align: right;\">\n",
       "      <th></th>\n",
       "      <th>Season</th>\n",
       "      <th>team0Win</th>\n",
       "      <th>TourneyGame</th>\n",
       "      <th>SAG0</th>\n",
       "      <th>SAG1</th>\n",
       "      <th>MOR0</th>\n",
       "      <th>MOR1</th>\n",
       "      <th>WLK0</th>\n",
       "      <th>WLK1</th>\n",
       "      <th>POM0</th>\n",
       "      <th>POM1</th>\n",
       "      <th>DOL0</th>\n",
       "      <th>DOL1</th>\n",
       "      <th>RPI0</th>\n",
       "      <th>RPI1</th>\n",
       "      <th>DOK0</th>\n",
       "      <th>DOK1</th>\n",
       "      <th>PGH0</th>\n",
       "      <th>PGH1</th>\n",
       "    </tr>\n",
       "  </thead>\n",
       "  <tbody>\n",
       "    <tr>\n",
       "      <th>83082</th>\n",
       "      <td>2018.0</td>\n",
       "      <td>1.0</td>\n",
       "      <td>0.0</td>\n",
       "      <td>2.0</td>\n",
       "      <td>58.0</td>\n",
       "      <td>2.0</td>\n",
       "      <td>52.0</td>\n",
       "      <td>1.0</td>\n",
       "      <td>65.0</td>\n",
       "      <td>2.0</td>\n",
       "      <td>72.0</td>\n",
       "      <td>2.0</td>\n",
       "      <td>50.0</td>\n",
       "      <td>2.0</td>\n",
       "      <td>42.0</td>\n",
       "      <td>1.0</td>\n",
       "      <td>66.0</td>\n",
       "      <td>3.0</td>\n",
       "      <td>47.0</td>\n",
       "    </tr>\n",
       "    <tr>\n",
       "      <th>83083</th>\n",
       "      <td>2018.0</td>\n",
       "      <td>1.0</td>\n",
       "      <td>0.0</td>\n",
       "      <td>3.0</td>\n",
       "      <td>9.0</td>\n",
       "      <td>3.0</td>\n",
       "      <td>7.0</td>\n",
       "      <td>2.0</td>\n",
       "      <td>7.0</td>\n",
       "      <td>1.0</td>\n",
       "      <td>8.0</td>\n",
       "      <td>1.0</td>\n",
       "      <td>12.0</td>\n",
       "      <td>1.0</td>\n",
       "      <td>6.0</td>\n",
       "      <td>3.0</td>\n",
       "      <td>7.0</td>\n",
       "      <td>1.0</td>\n",
       "      <td>12.0</td>\n",
       "    </tr>\n",
       "    <tr>\n",
       "      <th>83084</th>\n",
       "      <td>2018.0</td>\n",
       "      <td>0.0</td>\n",
       "      <td>0.0</td>\n",
       "      <td>27.0</td>\n",
       "      <td>6.0</td>\n",
       "      <td>21.0</td>\n",
       "      <td>6.0</td>\n",
       "      <td>21.0</td>\n",
       "      <td>4.0</td>\n",
       "      <td>22.0</td>\n",
       "      <td>4.0</td>\n",
       "      <td>30.0</td>\n",
       "      <td>8.0</td>\n",
       "      <td>19.0</td>\n",
       "      <td>7.0</td>\n",
       "      <td>22.0</td>\n",
       "      <td>6.0</td>\n",
       "      <td>26.0</td>\n",
       "      <td>6.0</td>\n",
       "    </tr>\n",
       "    <tr>\n",
       "      <th>83085</th>\n",
       "      <td>2018.0</td>\n",
       "      <td>0.0</td>\n",
       "      <td>0.0</td>\n",
       "      <td>51.0</td>\n",
       "      <td>60.0</td>\n",
       "      <td>42.0</td>\n",
       "      <td>57.0</td>\n",
       "      <td>36.0</td>\n",
       "      <td>60.0</td>\n",
       "      <td>48.0</td>\n",
       "      <td>54.0</td>\n",
       "      <td>34.0</td>\n",
       "      <td>97.0</td>\n",
       "      <td>16.0</td>\n",
       "      <td>81.0</td>\n",
       "      <td>40.0</td>\n",
       "      <td>55.0</td>\n",
       "      <td>30.0</td>\n",
       "      <td>89.0</td>\n",
       "    </tr>\n",
       "    <tr>\n",
       "      <th>83087</th>\n",
       "      <td>2018.0</td>\n",
       "      <td>1.0</td>\n",
       "      <td>0.0</td>\n",
       "      <td>16.0</td>\n",
       "      <td>19.0</td>\n",
       "      <td>23.0</td>\n",
       "      <td>15.0</td>\n",
       "      <td>20.0</td>\n",
       "      <td>12.0</td>\n",
       "      <td>23.0</td>\n",
       "      <td>14.0</td>\n",
       "      <td>20.0</td>\n",
       "      <td>10.0</td>\n",
       "      <td>17.0</td>\n",
       "      <td>9.0</td>\n",
       "      <td>24.0</td>\n",
       "      <td>17.0</td>\n",
       "      <td>18.0</td>\n",
       "      <td>8.0</td>\n",
       "    </tr>\n",
       "  </tbody>\n",
       "</table>\n",
       "</div>"
      ],
      "text/plain": [
       "       Season  team0Win  TourneyGame  SAG0  SAG1  MOR0  MOR1  WLK0  WLK1  \\\n",
       "83082  2018.0       1.0          0.0   2.0  58.0   2.0  52.0   1.0  65.0   \n",
       "83083  2018.0       1.0          0.0   3.0   9.0   3.0   7.0   2.0   7.0   \n",
       "83084  2018.0       0.0          0.0  27.0   6.0  21.0   6.0  21.0   4.0   \n",
       "83085  2018.0       0.0          0.0  51.0  60.0  42.0  57.0  36.0  60.0   \n",
       "83087  2018.0       1.0          0.0  16.0  19.0  23.0  15.0  20.0  12.0   \n",
       "\n",
       "       POM0  POM1  DOL0  DOL1  RPI0  RPI1  DOK0  DOK1  PGH0  PGH1  \n",
       "83082   2.0  72.0   2.0  50.0   2.0  42.0   1.0  66.0   3.0  47.0  \n",
       "83083   1.0   8.0   1.0  12.0   1.0   6.0   3.0   7.0   1.0  12.0  \n",
       "83084  22.0   4.0  30.0   8.0  19.0   7.0  22.0   6.0  26.0   6.0  \n",
       "83085  48.0  54.0  34.0  97.0  16.0  81.0  40.0  55.0  30.0  89.0  \n",
       "83087  23.0  14.0  20.0  10.0  17.0   9.0  24.0  17.0  18.0   8.0  "
      ]
     },
     "execution_count": 116,
     "metadata": {},
     "output_type": "execute_result"
    }
   ],
   "source": [
    "tourney_df.tail()"
   ]
  },
  {
   "cell_type": "code",
   "execution_count": 118,
   "metadata": {},
   "outputs": [],
   "source": [
    "tourney_df = tourney_df.astype({'Season':np.int64, 'team0Win':np.int64, 'TourneyGame':np.int64})"
   ]
  },
  {
   "cell_type": "code",
   "execution_count": 119,
   "metadata": {},
   "outputs": [],
   "source": [
    "tourney_df.to_csv(\"data/cleantrainingdata.csv\", encoding='ascii')"
   ]
  },
  {
   "cell_type": "code",
   "execution_count": 120,
   "metadata": {},
   "outputs": [
    {
     "data": {
      "text/html": [
       "<div>\n",
       "<style scoped>\n",
       "    .dataframe tbody tr th:only-of-type {\n",
       "        vertical-align: middle;\n",
       "    }\n",
       "\n",
       "    .dataframe tbody tr th {\n",
       "        vertical-align: top;\n",
       "    }\n",
       "\n",
       "    .dataframe thead th {\n",
       "        text-align: right;\n",
       "    }\n",
       "</style>\n",
       "<table border=\"1\" class=\"dataframe\">\n",
       "  <thead>\n",
       "    <tr style=\"text-align: right;\">\n",
       "      <th></th>\n",
       "      <th>Season</th>\n",
       "      <th>team0Win</th>\n",
       "      <th>TourneyGame</th>\n",
       "      <th>SAG0</th>\n",
       "      <th>SAG1</th>\n",
       "      <th>MOR0</th>\n",
       "      <th>MOR1</th>\n",
       "      <th>WLK0</th>\n",
       "      <th>WLK1</th>\n",
       "      <th>POM0</th>\n",
       "      <th>POM1</th>\n",
       "      <th>DOL0</th>\n",
       "      <th>DOL1</th>\n",
       "      <th>RPI0</th>\n",
       "      <th>RPI1</th>\n",
       "      <th>DOK0</th>\n",
       "      <th>DOK1</th>\n",
       "      <th>PGH0</th>\n",
       "      <th>PGH1</th>\n",
       "    </tr>\n",
       "  </thead>\n",
       "  <tbody>\n",
       "    <tr>\n",
       "      <th>83082</th>\n",
       "      <td>2018</td>\n",
       "      <td>1</td>\n",
       "      <td>0</td>\n",
       "      <td>2.0</td>\n",
       "      <td>58.0</td>\n",
       "      <td>2.0</td>\n",
       "      <td>52.0</td>\n",
       "      <td>1.0</td>\n",
       "      <td>65.0</td>\n",
       "      <td>2.0</td>\n",
       "      <td>72.0</td>\n",
       "      <td>2.0</td>\n",
       "      <td>50.0</td>\n",
       "      <td>2.0</td>\n",
       "      <td>42.0</td>\n",
       "      <td>1.0</td>\n",
       "      <td>66.0</td>\n",
       "      <td>3.0</td>\n",
       "      <td>47.0</td>\n",
       "    </tr>\n",
       "    <tr>\n",
       "      <th>83083</th>\n",
       "      <td>2018</td>\n",
       "      <td>1</td>\n",
       "      <td>0</td>\n",
       "      <td>3.0</td>\n",
       "      <td>9.0</td>\n",
       "      <td>3.0</td>\n",
       "      <td>7.0</td>\n",
       "      <td>2.0</td>\n",
       "      <td>7.0</td>\n",
       "      <td>1.0</td>\n",
       "      <td>8.0</td>\n",
       "      <td>1.0</td>\n",
       "      <td>12.0</td>\n",
       "      <td>1.0</td>\n",
       "      <td>6.0</td>\n",
       "      <td>3.0</td>\n",
       "      <td>7.0</td>\n",
       "      <td>1.0</td>\n",
       "      <td>12.0</td>\n",
       "    </tr>\n",
       "    <tr>\n",
       "      <th>83084</th>\n",
       "      <td>2018</td>\n",
       "      <td>0</td>\n",
       "      <td>0</td>\n",
       "      <td>27.0</td>\n",
       "      <td>6.0</td>\n",
       "      <td>21.0</td>\n",
       "      <td>6.0</td>\n",
       "      <td>21.0</td>\n",
       "      <td>4.0</td>\n",
       "      <td>22.0</td>\n",
       "      <td>4.0</td>\n",
       "      <td>30.0</td>\n",
       "      <td>8.0</td>\n",
       "      <td>19.0</td>\n",
       "      <td>7.0</td>\n",
       "      <td>22.0</td>\n",
       "      <td>6.0</td>\n",
       "      <td>26.0</td>\n",
       "      <td>6.0</td>\n",
       "    </tr>\n",
       "    <tr>\n",
       "      <th>83085</th>\n",
       "      <td>2018</td>\n",
       "      <td>0</td>\n",
       "      <td>0</td>\n",
       "      <td>51.0</td>\n",
       "      <td>60.0</td>\n",
       "      <td>42.0</td>\n",
       "      <td>57.0</td>\n",
       "      <td>36.0</td>\n",
       "      <td>60.0</td>\n",
       "      <td>48.0</td>\n",
       "      <td>54.0</td>\n",
       "      <td>34.0</td>\n",
       "      <td>97.0</td>\n",
       "      <td>16.0</td>\n",
       "      <td>81.0</td>\n",
       "      <td>40.0</td>\n",
       "      <td>55.0</td>\n",
       "      <td>30.0</td>\n",
       "      <td>89.0</td>\n",
       "    </tr>\n",
       "    <tr>\n",
       "      <th>83087</th>\n",
       "      <td>2018</td>\n",
       "      <td>1</td>\n",
       "      <td>0</td>\n",
       "      <td>16.0</td>\n",
       "      <td>19.0</td>\n",
       "      <td>23.0</td>\n",
       "      <td>15.0</td>\n",
       "      <td>20.0</td>\n",
       "      <td>12.0</td>\n",
       "      <td>23.0</td>\n",
       "      <td>14.0</td>\n",
       "      <td>20.0</td>\n",
       "      <td>10.0</td>\n",
       "      <td>17.0</td>\n",
       "      <td>9.0</td>\n",
       "      <td>24.0</td>\n",
       "      <td>17.0</td>\n",
       "      <td>18.0</td>\n",
       "      <td>8.0</td>\n",
       "    </tr>\n",
       "  </tbody>\n",
       "</table>\n",
       "</div>"
      ],
      "text/plain": [
       "       Season  team0Win  TourneyGame  SAG0  SAG1  MOR0  MOR1  WLK0  WLK1  \\\n",
       "83082    2018         1            0   2.0  58.0   2.0  52.0   1.0  65.0   \n",
       "83083    2018         1            0   3.0   9.0   3.0   7.0   2.0   7.0   \n",
       "83084    2018         0            0  27.0   6.0  21.0   6.0  21.0   4.0   \n",
       "83085    2018         0            0  51.0  60.0  42.0  57.0  36.0  60.0   \n",
       "83087    2018         1            0  16.0  19.0  23.0  15.0  20.0  12.0   \n",
       "\n",
       "       POM0  POM1  DOL0  DOL1  RPI0  RPI1  DOK0  DOK1  PGH0  PGH1  \n",
       "83082   2.0  72.0   2.0  50.0   2.0  42.0   1.0  66.0   3.0  47.0  \n",
       "83083   1.0   8.0   1.0  12.0   1.0   6.0   3.0   7.0   1.0  12.0  \n",
       "83084  22.0   4.0  30.0   8.0  19.0   7.0  22.0   6.0  26.0   6.0  \n",
       "83085  48.0  54.0  34.0  97.0  16.0  81.0  40.0  55.0  30.0  89.0  \n",
       "83087  23.0  14.0  20.0  10.0  17.0   9.0  24.0  17.0  18.0   8.0  "
      ]
     },
     "execution_count": 120,
     "metadata": {},
     "output_type": "execute_result"
    }
   ],
   "source": [
    "tourney_df = pd.read_csv(\"data/cleantrainingdata.csv\", index_col=0)\n",
    "tourney_df.tail()"
   ]
  },
  {
   "cell_type": "code",
   "execution_count": 121,
   "metadata": {},
   "outputs": [],
   "source": [
    "y = tourney_df['team0Win'].values # results\n",
    "X = tourney_df[featureList].values # features"
   ]
  },
  {
   "cell_type": "markdown",
   "metadata": {},
   "source": [
    "# Take out all tourney games from testyears list (but leave reg season)"
   ]
  },
  {
   "cell_type": "code",
   "execution_count": 193,
   "metadata": {},
   "outputs": [
    {
     "data": {
      "text/plain": [
       "(64, 19)"
      ]
     },
     "execution_count": 193,
     "metadata": {},
     "output_type": "execute_result"
    }
   ],
   "source": [
    "testyears = [2018]#,2016,2017,2018]\n",
    "mask = tourney_df['Season'] == testyears[0]\n",
    "for yr in testyears[1:]:\n",
    "    mask = mask | (tourney_df['Season'] == yr)\n",
    "mask = mask & (tourney_df['TourneyGame'] == 1)\n",
    "tourney_df[mask].shape"
   ]
  },
  {
   "cell_type": "code",
   "execution_count": 194,
   "metadata": {},
   "outputs": [],
   "source": [
    "df_test = tourney_df[mask]\n",
    "df_train = tourney_df[np.logical_not(mask)]"
   ]
  },
  {
   "cell_type": "code",
   "execution_count": 195,
   "metadata": {},
   "outputs": [],
   "source": [
    "y_train = df_train['team0Win'].values # results\n",
    "X_train = df_train[rankingfeatures].values # features\n",
    "y_test = df_test['team0Win'].values # results\n",
    "X_test = df_test[rankingfeatures].values # features"
   ]
  },
  {
   "cell_type": "markdown",
   "metadata": {},
   "source": [
    "# Train our model!"
   ]
  },
  {
   "cell_type": "code",
   "execution_count": 9,
   "metadata": {},
   "outputs": [],
   "source": [
    "from hyperopt import hp, fmin, tpe, STATUS_OK, Trials\n",
    "from sklearn import metrics\n",
    "from sklearn.model_selection import cross_val_score\n",
    "import xgboost as xgb\n",
    "from xgboost.sklearn import XGBClassifier\n",
    "space ={\n",
    "        'max_depth': hp.randint('x_max_depth',  20),\n",
    "        'min_child_weight': hp.quniform ('x_min_child', 1, 10, 1),\n",
    "        'subsample': hp.uniform ('x_subsample', 0.8, 1),\n",
    "        'scale_pos_weight': hp.uniform(\"x_pos_weight\", 1, 15),\n",
    "        \"learning_rate\":hp.uniform(\"x_learning_rate\",0.0003,0.003),\n",
    "        'colsample_bytree': hp.uniform ('x_tree_colsample', 0.4,1),\n",
    "}\n",
    "\n",
    "dtrain = xgb.DMatrix(X_train, y_train)\n",
    "dtest = xgb.DMatrix(X_test, y_test)\n",
    "def objective(space):\n",
    "\n",
    "    clf = XGBClassifier(n_estimators = 100, \n",
    "                            max_depth = space['max_depth'], \n",
    "                            min_child_weight =space['min_child_weight'],\n",
    "                            subsample = space['subsample'],\n",
    "                            colsample_bytree =space['colsample_bytree'],\n",
    "                            learning_rate = space['learning_rate'], seed = 0)\n",
    "    \n",
    "    params = clf.get_xgb_params()\n",
    "    #dtest\n",
    "    score = xgb.cv(params, dtrain, nfold = 5, metrics = \"logloss\", early_stopping_rounds=10)\n",
    "    print(score)\n",
    "    #score = cross_val_score(clf, trainX, trainY, cv = 5, scoring=\"average_precision\")\n",
    "    \n",
    "    bst = xgb.train(params, dtrain)\n",
    "    preds = bst.predict(dtest)\n",
    "    test_score = metrics.log_loss(y_test, preds)\n",
    "    \n",
    "    print(\"HOLDOUT SCORE\", test_score)\n",
    "\n",
    "    return{'loss':1-test_score, 'status': STATUS_OK, \"holdout\":test_score }"
   ]
  },
  {
   "cell_type": "code",
   "execution_count": 21,
   "metadata": {},
   "outputs": [
    {
     "name": "stdout",
     "output_type": "stream",
     "text": [
      "HOLDOUT SCORE                                       \n",
      "0.6877941473651288                                  \n",
      "HOLDOUT SCORE                                                                \n",
      "0.6931380742966239                                                           \n",
      "HOLDOUT SCORE                                                                \n",
      "0.690360869489499                                                            \n",
      "HOLDOUT SCORE                                                                \n",
      "0.6923826997404667                                                           \n",
      "HOLDOUT SCORE                                                                \n",
      "0.6913291344891733                                                           \n",
      "HOLDOUT SCORE                                                                \n",
      "0.6931349136936131                                                           \n",
      "HOLDOUT SCORE                                                                \n",
      "0.6918034820414302                                                           \n",
      "HOLDOUT SCORE                                                                \n",
      "0.6885500416826846                                                           \n",
      "HOLDOUT SCORE                                                                \n",
      "0.6914344587877616                                                           \n",
      "HOLDOUT SCORE                                                                \n",
      "0.6904527749588241                                                           \n",
      "HOLDOUT SCORE                                                                 \n",
      "0.6878219902960222                                                            \n",
      "HOLDOUT SCORE                                                                 \n",
      "0.6885139784261362                                                            \n",
      "HOLDOUT SCORE                                                                 \n",
      "0.6891702433575445                                                            \n",
      "HOLDOUT SCORE                                                                 \n",
      "0.6886823344141689                                                            \n",
      "HOLDOUT SCORE                                                                 \n",
      "0.6893071570058367                                                            \n",
      "HOLDOUT SCORE                                                                 \n",
      "0.6898111629841933                                                            \n",
      "HOLDOUT SCORE                                                                 \n",
      "0.6897837806548646                                                            \n",
      "HOLDOUT SCORE                                                                 \n",
      "0.6898041692242693                                                            \n",
      "HOLDOUT SCORE                                                                 \n",
      "0.6919193098794169                                                            \n",
      "HOLDOUT SCORE                                                                 \n",
      "0.6918586270133061                                                            \n",
      "HOLDOUT SCORE                                                                 \n",
      "0.6931423422560763                                                            \n",
      "HOLDOUT SCORE                                                                 \n",
      "0.6931428491179623                                                            \n",
      "HOLDOUT SCORE                                                                 \n",
      "0.6923924466567253                                                            \n",
      "HOLDOUT SCORE                                                                 \n",
      "0.6916923189341132                                                            \n",
      "HOLDOUT SCORE                                                                 \n",
      "0.6925344111314461                                                            \n",
      "HOLDOUT SCORE                                                                 \n",
      "0.693145904968034                                                             \n",
      "HOLDOUT SCORE                                                                  \n",
      "0.6876285767822123                                                             \n",
      "HOLDOUT SCORE                                                                  \n",
      "0.6931457632957999                                                             \n",
      "HOLDOUT SCORE                                                                  \n",
      "0.6931458273485526                                                             \n",
      "HOLDOUT SCORE                                                                  \n",
      "0.6931454648277653                                                             \n",
      "HOLDOUT SCORE                                                                  \n",
      "0.6888208124619811                                                             \n",
      "HOLDOUT SCORE                                                                  \n",
      "0.6875587668436677                                                             \n",
      "HOLDOUT SCORE                                                                  \n",
      "0.6890731885362027                                                             \n",
      "HOLDOUT SCORE                                                                  \n",
      "0.689642199162227                                                              \n",
      "HOLDOUT SCORE                                                                  \n",
      "0.6920738842949938                                                             \n",
      "HOLDOUT SCORE                                                                  \n",
      "0.6931453718623118                                                             \n",
      "HOLDOUT SCORE                                                                  \n",
      "0.6931457116977492                                                             \n",
      "HOLDOUT SCORE                                                                  \n",
      "0.693146294622279                                                              \n",
      "HOLDOUT SCORE                                                                  \n",
      "0.6904818769266357                                                             \n",
      "HOLDOUT SCORE                                                                  \n",
      "0.6910833042504182                                                             \n",
      "HOLDOUT SCORE                                                                  \n",
      "0.6894704561624954                                                             \n",
      "HOLDOUT SCORE                                                                  \n",
      "0.6900848457172736                                                             \n",
      "HOLDOUT SCORE                                                                  \n",
      "0.6880786383329932                                                             \n",
      "HOLDOUT SCORE                                                                  \n",
      "0.6908160003263559                                                             \n",
      "HOLDOUT SCORE                                                                  \n",
      "0.6880431975891341                                                             \n",
      "HOLDOUT SCORE                                                                  \n",
      "0.6892690382786651                                                             \n",
      "HOLDOUT SCORE                                                                  \n",
      "0.6893053008104438                                                             \n",
      "HOLDOUT SCORE                                                                  \n",
      "0.6885386787688554                                                             \n",
      "HOLDOUT SCORE                                                                  \n",
      "0.6909460505442833                                                             \n",
      "HOLDOUT SCORE                                                                  \n",
      "0.6879002015982101                                                             \n",
      "100%|██████████| 50/50 [01:07<00:00,  1.38s/it, best loss: 0.30685370537772105]\n",
      "Optimization Time: %f seconds 67.46418595314026\n",
      "CPU times: user 1min 7s, sys: 457 ms, total: 1min 7s\n",
      "Wall time: 1min 7s\n"
     ]
    }
   ],
   "source": [
    "%%time\n",
    "trials = Trials()\n",
    "import time\n",
    "start = time.time()\n",
    "best = fmin(fn=objective, space = space, algo = tpe.suggest, max_evals = 50, trials = trials)\n",
    "end = time.time()\n",
    "print(\"Optimization Time: %f seconds\", (end  -start))"
   ]
  },
  {
   "cell_type": "code",
   "execution_count": 25,
   "metadata": {},
   "outputs": [
    {
     "data": {
      "text/plain": [
       "{'x_learning_rate': 0.002050596297567944,\n",
       " 'x_max_depth': 0,\n",
       " 'x_min_child': 8.0,\n",
       " 'x_pos_weight': 4.730737378579532,\n",
       " 'x_subsample': 0.836933526126366,\n",
       " 'x_tree_colsample': 0.5831213255266434}"
      ]
     },
     "execution_count": 25,
     "metadata": {},
     "output_type": "execute_result"
    }
   ],
   "source": [
    "best"
   ]
  },
  {
   "cell_type": "code",
   "execution_count": 26,
   "metadata": {},
   "outputs": [
    {
     "name": "stdout",
     "output_type": "stream",
     "text": [
      "[0]\ttrain-logloss:0.693179+5.15364e-06\ttest-logloss:0.693156+1.90641e-05\n",
      "[1]\ttrain-logloss:0.693164+1.0012e-05\ttest-logloss:0.693168+3.74091e-05\n",
      "[2]\ttrain-logloss:0.693183+1.06132e-05\ttest-logloss:0.693181+5.551e-05\n",
      "[3]\ttrain-logloss:0.693212+3.27084e-05\ttest-logloss:0.693195+7.49256e-05\n",
      "[4]\ttrain-logloss:0.6932+2.32241e-05\ttest-logloss:0.693217+9.78844e-05\n",
      "[5]\ttrain-logloss:0.693254+2.83238e-05\ttest-logloss:0.693234+0.000114052\n",
      "[6]\ttrain-logloss:0.693241+5.03929e-05\ttest-logloss:0.693255+0.000130534\n",
      "[7]\ttrain-logloss:0.693275+2.57527e-05\ttest-logloss:0.693277+0.000155688\n",
      "[8]\ttrain-logloss:0.693312+3.85456e-05\ttest-logloss:0.693304+0.000171146\n",
      "[9]\ttrain-logloss:0.693325+4.65334e-05\ttest-logloss:0.693326+0.000191458\n",
      "   train-logloss-mean  train-logloss-std  test-logloss-mean  test-logloss-std\n",
      "0            0.693179           0.000005           0.693156          0.000019\n",
      "1            0.693164           0.000010           0.693168          0.000037\n",
      "2            0.693183           0.000011           0.693181          0.000056\n",
      "3            0.693212           0.000033           0.693195          0.000075\n",
      "4            0.693200           0.000023           0.693217          0.000098\n",
      "5            0.693254           0.000028           0.693234          0.000114\n",
      "6            0.693241           0.000050           0.693255          0.000131\n",
      "7            0.693275           0.000026           0.693277          0.000156\n",
      "8            0.693312           0.000039           0.693304          0.000171\n",
      "9            0.693325           0.000047           0.693326          0.000191\n",
      "0.4962686567164179\n"
     ]
    }
   ],
   "source": [
    "best_xgbc = XGBClassifier(n_estimators=100, scale_pos_weight=best[\"x_pos_weight\"],\n",
    "                         learning_rate = best[\"x_learning_rate\"], \n",
    "                         max_depth = int(best[\"x_max_depth\"]), \n",
    "                         min_child_weight = best[\"x_min_child\"],\n",
    "                         subsample = best[\"x_subsample\"], \n",
    "                         colsample_bytree = best[\"x_tree_colsample\"])\n",
    "params = best_xgbc.get_xgb_params()\n",
    "score = xgb.cv(params, dtrain, nfold = 5, metrics = \"logloss\", verbose_eval=True)\n",
    "print(score)\n",
    "bst = xgb.train(params, dtrain)\n",
    "preds = bst.predict(dtest)\n",
    "score = metrics.average_precision_score(y_test, preds)\n",
    "print(score)"
   ]
  },
  {
   "cell_type": "code",
   "execution_count": 19,
   "metadata": {},
   "outputs": [
    {
     "name": "stdout",
     "output_type": "stream",
     "text": [
      "Log loss is 0.7304882416084632\n"
     ]
    }
   ],
   "source": [
    "best_xgbc.fit(X_train, y_train)\n",
    "y_pred = best_xgbc.predict_proba(X_test) # probability that team0 wins (what Kaggle calls team 1, and wants for submission)\n",
    "from sklearn import metrics\n",
    "test_score = metrics.log_loss(y_test, y_pred)\n",
    "print(\"Log loss is {0}\".format(test_score))"
   ]
  },
  {
   "cell_type": "code",
   "execution_count": 158,
   "metadata": {},
   "outputs": [],
   "source": [
    "from hyperopt import hp, fmin, tpe, STATUS_OK, Trials\n",
    "from sklearn.model_selection import StratifiedShuffleSplit\n",
    "from sklearn import metrics\n",
    "from sklearn.model_selection import cross_val_score\n",
    "from sklearn.linear_model import LogisticRegression\n",
    "space ={'C': hp.loguniform('C', -1, 2)}\n",
    "\n",
    "def objective(space):\n",
    "    clf = LogisticRegression(C=space['C'], solver='lbfgs', max_iter=1000)\n",
    "    cv_s = StratifiedShuffleSplit(n_splits=5 , test_size=0.2, random_state=0)\n",
    "    scores = cross_val_score(clf, X_train, y_train, cv=cv_s, scoring='neg_log_loss')\n",
    "    print(scores)\n",
    "    return{'loss':scores.mean(), 'status': STATUS_OK}"
   ]
  },
  {
   "cell_type": "code",
   "execution_count": 159,
   "metadata": {},
   "outputs": [
    {
     "name": "stdout",
     "output_type": "stream",
     "text": [
      "[-0.56908144 -0.58158065 -0.5894837  -0.58130223 -0.58425481]\n",
      "[-0.56907972 -0.58157533 -0.58947753 -0.58130628 -0.58425775]                 \n",
      "[-0.56908544 -0.5815771  -0.58947659 -0.58130576 -0.58424897]                 \n",
      "[-0.56908076 -0.58157766 -0.58947975 -0.58130268 -0.58426027]                 \n",
      "[-0.56907869 -0.58157632 -0.58947936 -0.58130692 -0.58425471]                 \n",
      "[-0.56908089 -0.58158249 -0.58948432 -0.58130686 -0.58424926]                 \n",
      "[-0.56908087 -0.58158027 -0.58947582 -0.58131128 -0.58425178]                 \n",
      "[-0.56908459 -0.58157949 -0.58947825 -0.58131115 -0.58424703]                 \n",
      "[-0.56908349 -0.58158235 -0.58948123 -0.58130589 -0.58424594]                 \n",
      "[-0.56908099 -0.58158615 -0.5894813  -0.58130686 -0.58424704]                 \n",
      "[-0.56907906 -0.58157931 -0.58947961 -0.58131244 -0.58424772]                  \n",
      "[-0.5690814  -0.58157629 -0.58947763 -0.58131108 -0.58425257]                  \n",
      "[-0.56908056 -0.58157431 -0.58947918 -0.58129609 -0.584252  ]                  \n",
      "[-0.5690819  -0.58158202 -0.5894803  -0.58129897 -0.58424841]                  \n",
      "[-0.56908167 -0.58158563 -0.58948145 -0.58129981 -0.58425353]                  \n",
      "[-0.56908016 -0.58158089 -0.58948169 -0.58130353 -0.58425569]                  \n",
      "[-0.56908107 -0.58157834 -0.58947934 -0.5813029  -0.58425183]                  \n",
      "[-0.56908153 -0.58158052 -0.58948463 -0.58130304 -0.58425104]                  \n",
      "[-0.56906909 -0.58157937 -0.58948276 -0.58130373 -0.58425117]                  \n",
      "[-0.56907947 -0.5815822  -0.58948025 -0.58129899 -0.58425002]                  \n",
      "[-0.56907852 -0.58158293 -0.58947884 -0.58129838 -0.58425581]                  \n",
      "[-0.56908186 -0.58157503 -0.58948255 -0.58130008 -0.58424819]                  \n",
      "[-0.56908049 -0.58157755 -0.58948662 -0.58130285 -0.58424979]                  \n",
      "[-0.56908184 -0.58157926 -0.58948355 -0.58130993 -0.5842542 ]                  \n",
      "[-0.56908183 -0.58158238 -0.58948329 -0.58130874 -0.58424782]                  \n",
      "[-0.56907293 -0.58157596 -0.58948107 -0.58130474 -0.58425512]                  \n",
      "[-0.56906892 -0.58158353 -0.5894813  -0.58130568 -0.5842508 ]                  \n",
      "[-0.56908195 -0.58157518 -0.58948132 -0.58130394 -0.58424973]                  \n",
      "[-0.5690782  -0.58157992 -0.58948316 -0.58130797 -0.58425021]                  \n",
      "[-0.56908199 -0.58157784 -0.58947626 -0.58129779 -0.58425143]                  \n",
      "[-0.56908177 -0.58157481 -0.5894805  -0.5813067  -0.58425172]                  \n",
      "[-0.56908157 -0.58157837 -0.58948375 -0.5813039  -0.58424912]                  \n",
      "[-0.56907925 -0.58158413 -0.58948086 -0.58130099 -0.5842542 ]                  \n",
      "[-0.56907249 -0.58158041 -0.58947472 -0.58129732 -0.58425001]                  \n",
      "[-0.56908148 -0.58158084 -0.58948193 -0.58131017 -0.5842559 ]                  \n",
      "[-0.56908257 -0.58157871 -0.58947919 -0.58130227 -0.58425251]                  \n",
      "[-0.56908042 -0.58157706 -0.58948261 -0.58131691 -0.58424914]                  \n",
      "[-0.56908155 -0.58157698 -0.58947761 -0.58130389 -0.5842542 ]                  \n",
      "[-0.56908171 -0.58158563 -0.5894778  -0.58130328 -0.58425235]                  \n",
      "[-0.56908128 -0.58158151 -0.58948029 -0.58130141 -0.58425002]                  \n",
      "[-0.56908075 -0.58157769 -0.58947566 -0.58130203 -0.58425311]                  \n",
      "[-0.56908545 -0.58157634 -0.58947432 -0.58130107 -0.58425079]                  \n",
      "[-0.5690801  -0.58157802 -0.58948282 -0.58130152 -0.58425362]                  \n",
      "[-0.56907874 -0.58157895 -0.58948865 -0.5813037  -0.58424719]                  \n",
      "[-0.56908171 -0.58157888 -0.58948438 -0.5812999  -0.58424776]                  \n",
      "[-0.56907857 -0.58157784 -0.58947578 -0.58130687 -0.58424784]                  \n",
      "[-0.56908054 -0.58157792 -0.58948071 -0.58130529 -0.58424833]                  \n",
      "[-0.56908201 -0.58158057 -0.58947807 -0.58130498 -0.58424992]                  \n",
      "[-0.56908067 -0.58157463 -0.58947815 -0.58130013 -0.58425292]                  \n",
      "[-0.56908156 -0.5815849  -0.58947822 -0.5813006  -0.5842551 ]                  \n",
      "100%|██████████| 50/50 [00:38<00:00,  1.24it/s, best loss: -0.5811420639001206]\n",
      "Optimization Time: %f seconds 38.646958351135254\n",
      "CPU times: user 15min 13s, sys: 13.7 s, total: 15min 26s\n",
      "Wall time: 38.6 s\n"
     ]
    }
   ],
   "source": [
    "%%time\n",
    "trials = Trials()\n",
    "import time\n",
    "start = time.time()\n",
    "best = fmin(fn=objective, space = space, algo = tpe.suggest, max_evals = 50, trials = trials)\n",
    "end = time.time()\n",
    "print(\"Optimization Time: %f seconds\", (end  -start))"
   ]
  },
  {
   "cell_type": "code",
   "execution_count": 155,
   "metadata": {},
   "outputs": [
    {
     "data": {
      "text/plain": [
       "{'C': 1.2251466797811255}"
      ]
     },
     "execution_count": 155,
     "metadata": {},
     "output_type": "execute_result"
    }
   ],
   "source": [
    "best"
   ]
  },
  {
   "cell_type": "code",
   "execution_count": 156,
   "metadata": {},
   "outputs": [
    {
     "name": "stderr",
     "output_type": "stream",
     "text": [
      "/home/dtamayo/miniconda3/envs/p3/lib/python3.7/site-packages/sklearn/linear_model/logistic.py:758: ConvergenceWarning: lbfgs failed to converge. Increase the number of iterations.\n",
      "  \"of iterations.\", ConvergenceWarning)\n"
     ]
    },
    {
     "data": {
      "text/plain": [
       "LogisticRegression(C=1.2251466797811255, class_weight=None, dual=False,\n",
       "          fit_intercept=True, intercept_scaling=1, max_iter=100,\n",
       "          multi_class='warn', n_jobs=None, penalty='l2', random_state=0,\n",
       "          solver='lbfgs', tol=0.0001, verbose=0, warm_start=False)"
      ]
     },
     "execution_count": 156,
     "metadata": {},
     "output_type": "execute_result"
    }
   ],
   "source": [
    "clf = LogisticRegression(C=best['C'], solver='lbfgs', random_state=0)\n",
    "clf.fit(X_train, y_train)"
   ]
  },
  {
   "cell_type": "code",
   "execution_count": 196,
   "metadata": {},
   "outputs": [
    {
     "name": "stdout",
     "output_type": "stream",
     "text": [
      "Log loss is 0.6075295568854584\n"
     ]
    }
   ],
   "source": [
    "y_pred = clf.predict_proba(X_test) # probability that team0 wins (what Kaggle calls team 1, and wants for submission)\n",
    "from sklearn import metrics\n",
    "test_score = metrics.log_loss(y_test, y_pred)\n",
    "print(\"Log loss is {0}\".format(test_score))"
   ]
  },
  {
   "cell_type": "code",
   "execution_count": 10,
   "metadata": {},
   "outputs": [],
   "source": [
    "from sklearn import svm\n",
    "from sklearn.model_selection import StratifiedShuffleSplit, GridSearchCV\n",
    "from sklearn.ensemble import RandomForestClassifier\n",
    "from sklearn.calibration import calibration_curve"
   ]
  },
  {
   "cell_type": "code",
   "execution_count": 12,
   "metadata": {},
   "outputs": [
    {
     "name": "stdout",
     "output_type": "stream",
     "text": [
      "CPU times: user 4min 34s, sys: 2.65 s, total: 4min 36s\n",
      "Wall time: 10min 38s\n"
     ]
    }
   ],
   "source": [
    "%%time\n",
    "cv_s = StratifiedShuffleSplit(n_splits=10 , test_size=0.1, random_state=42)\n",
    "rfc = RandomForestClassifier(max_features= 'auto' ,n_estimators=50) \n",
    "param_grid = { \n",
    "        'n_estimators': [1000],\n",
    "        'max_features': ['sqrt']}\n",
    "CV_rfc = GridSearchCV(n_jobs=-1, estimator=rfc, scoring=\"neg_log_loss\", param_grid=param_grid, cv=cv_s)\n",
    "CV_rfc.fit(X_train, y_train)"
   ]
  },
  {
   "cell_type": "code",
   "execution_count": 13,
   "metadata": {},
   "outputs": [
    {
     "name": "stdout",
     "output_type": "stream",
     "text": [
      "The best parameters are {{'max_features': 'sqrt', 'n_estimators': 1000}} with a score of -0.5987\n"
     ]
    }
   ],
   "source": [
    "print(\"The best parameters are {%s} with a score of %0.4f\" % (CV_rfc.best_params_, CV_rfc.best_score_))"
   ]
  },
  {
   "cell_type": "code",
   "execution_count": 14,
   "metadata": {},
   "outputs": [
    {
     "name": "stdout",
     "output_type": "stream",
     "text": [
      "Log loss is 0.569851023006555\n"
     ]
    }
   ],
   "source": [
    "model = CV_rfc.best_estimator_\n",
    "y_pred = model.predict_proba(X_test) # probability that team0 wins (what Kaggle calls team 1, and wants for submission)\n",
    "from sklearn import metrics\n",
    "test_score = metrics.log_loss(y_test, y_pred)\n",
    "print(\"Log loss is {0}\".format(test_score))"
   ]
  },
  {
   "cell_type": "code",
   "execution_count": 15,
   "metadata": {},
   "outputs": [
    {
     "data": {
      "text/plain": [
       "0.6940298507462687"
      ]
     },
     "execution_count": 15,
     "metadata": {},
     "output_type": "execute_result"
    }
   ],
   "source": [
    "metrics.accuracy_score(y_test, model.predict(X_test))"
   ]
  },
  {
   "cell_type": "code",
   "execution_count": 16,
   "metadata": {},
   "outputs": [],
   "source": [
    "importances = model.feature_importances_\n",
    "std = np.std([tree.feature_importances_ for tree in model.estimators_],\n",
    "             axis=0)\n",
    "indices = np.argsort(importances)[::-1]"
   ]
  },
  {
   "cell_type": "code",
   "execution_count": 17,
   "metadata": {},
   "outputs": [
    {
     "name": "stdout",
     "output_type": "stream",
     "text": [
      "Feature ranking:\n",
      "1. feature 11 SAG0 (0.031156)\n",
      "2. feature 59 SAG1 (0.031075)\n",
      "3. feature 54 MOR1 (0.029437)\n",
      "4. feature 6 MOR0 (0.029150)\n",
      "5. feature 9 POM0 (0.028207)\n",
      "6. feature 57 POM1 (0.027479)\n",
      "7. feature 8 PIG0 (0.027263)\n",
      "8. feature 65 WLK1 (0.027062)\n",
      "9. feature 17 WLK0 (0.026047)\n",
      "10. feature 56 PIG1 (0.025589)\n",
      "11. feature 3 DOK0 (0.023630)\n",
      "12. feature 51 DOK1 (0.022894)\n",
      "13. feature 40 SEL0 (0.019044)\n",
      "14. feature 88 SEL1 (0.018978)\n",
      "15. feature 16 BIH0 (0.018915)\n",
      "16. feature 64 BIH1 (0.018721)\n",
      "17. feature 53 MAS1 (0.017364)\n",
      "18. feature 41 SPW0 (0.016479)\n",
      "19. feature 89 SPW1 (0.016289)\n",
      "20. feature 5 MAS0 (0.015956)\n",
      "21. feature 52 KPK1 (0.013622)\n",
      "22. feature 4 KPK0 (0.013529)\n",
      "23. feature 72 COL1 (0.013481)\n",
      "24. feature 24 COL0 (0.013441)\n",
      "25. feature 55 PGH1 (0.013283)\n",
      "26. feature 7 PGH0 (0.013246)\n",
      "27. feature 68 DOL1 (0.012298)\n",
      "28. feature 20 DOL0 (0.012174)\n",
      "29. feature 62 WIL1 (0.011818)\n",
      "30. feature 14 WIL0 (0.011722)\n",
      "31. feature 32 CNG0 (0.011448)\n",
      "32. feature 94 RPI1 (0.011424)\n",
      "33. feature 47 HKB0 (0.011388)\n",
      "34. feature 80 CNG1 (0.011370)\n",
      "35. feature 95 HKB1 (0.011313)\n",
      "36. feature 46 RPI0 (0.011022)\n",
      "37. feature 39 REW0 (0.010526)\n",
      "38. feature 87 REW1 (0.010217)\n",
      "39. feature 81 RTH1 (0.010184)\n",
      "40. feature 33 RTH0 (0.010048)\n",
      "41. feature 58 RTP1 (0.010020)\n",
      "42. feature 10 RTP0 (0.009816)\n",
      "43. feature 35 WOL0 (0.009175)\n",
      "44. feature 83 WOL1 (0.008858)\n",
      "45. feature 71 BOB1 (0.008666)\n",
      "46. feature 23 BOB0 (0.008625)\n",
      "47. feature 90 WOB1 (0.008444)\n",
      "48. feature 42 WOB0 (0.008381)\n",
      "49. feature 13 TRP0 (0.007455)\n",
      "50. feature 61 TRP1 (0.007043)\n",
      "51. feature 93 STH1 (0.006895)\n",
      "52. feature 45 STH0 (0.006888)\n",
      "53. feature 49 BBT1 (0.006049)\n",
      "54. feature 15 DII0 (0.006040)\n",
      "55. feature 0 ACU0 (0.005953)\n",
      "56. feature 48 ACU1 (0.005918)\n",
      "57. feature 63 DII1 (0.005852)\n",
      "58. feature 1 BBT0 (0.005682)\n",
      "59. feature 76 RTR1 (0.005644)\n",
      "60. feature 28 RTR0 (0.005637)\n",
      "61. feature 73 CRO1 (0.005362)\n",
      "62. feature 85 KRA1 (0.005362)\n",
      "63. feature 92 DC1 (0.005297)\n",
      "64. feature 36 DCI0 (0.005293)\n",
      "65. feature 25 CRO0 (0.005291)\n",
      "66. feature 37 KRA0 (0.005276)\n",
      "67. feature 44 DC0 (0.005213)\n",
      "68. feature 84 DCI1 (0.005150)\n",
      "69. feature 69 NOL1 (0.004857)\n",
      "70. feature 21 NOL0 (0.004850)\n",
      "71. feature 86 LMC1 (0.004672)\n",
      "72. feature 67 BUR1 (0.004615)\n",
      "73. feature 60 TRK1 (0.004560)\n",
      "74. feature 12 TRK0 (0.004503)\n",
      "75. feature 19 BUR0 (0.004499)\n",
      "76. feature 38 LMC0 (0.004425)\n",
      "77. feature 74 EBP1 (0.004057)\n",
      "78. feature 91 ARG1 (0.003988)\n",
      "79. feature 50 BWE1 (0.003932)\n",
      "80. feature 43 ARG0 (0.003910)\n",
      "81. feature 26 EBP0 (0.003841)\n",
      "82. feature 2 BWE0 (0.003775)\n",
      "83. feature 79 BLS1 (0.003721)\n",
      "84. feature 31 BLS0 (0.003651)\n",
      "85. feature 18 7OT0 (0.003541)\n",
      "86. feature 30 TPR0 (0.003511)\n",
      "87. feature 66 7OT1 (0.003490)\n",
      "88. feature 78 TPR1 (0.003399)\n",
      "89. feature 29 SP0 (0.003161)\n",
      "90. feature 77 SP1 (0.003107)\n",
      "91. feature 27 MSX0 (0.002750)\n",
      "92. feature 75 MSX1 (0.002727)\n",
      "93. feature 22 SFX0 (0.002651)\n",
      "94. feature 70 SFX1 (0.002575)\n",
      "95. feature 82 SPR1 (0.001889)\n",
      "96. feature 34 SPR0 (0.001772)\n"
     ]
    }
   ],
   "source": [
    "# Print the feature ranking\n",
    "print(\"Feature ranking:\")\n",
    "\n",
    "for f in range(X.shape[1]):\n",
    "    print(\"%d. feature %d %s (%f)\" % (f + 1, indices[f], tourney_df[featureList].columns[indices[f]],importances[indices[f]]))"
   ]
  },
  {
   "cell_type": "code",
   "execution_count": 19,
   "metadata": {},
   "outputs": [
    {
     "data": {
      "image/png": "[encoded data removed]",
      "text/plain": [
       "<Figure size 432x288 with 1 Axes>"
      ]
     },
     "metadata": {
      "needs_background": "light"
     },
     "output_type": "display_data"
    }
   ],
   "source": [
    "%matplotlib inline\n",
    "import matplotlib.pyplot as plt\n",
    "\n",
    "maxval = len(featureList)\n",
    "# Plot the feature importances of the forest\n",
    "plt.figure()\n",
    "plt.title(\"Feature importances\")\n",
    "plt.bar(range(X.shape[1])[:maxval], importances[indices][:maxval],\n",
    "       color=\"r\", yerr=std[indices][:maxval], align=\"center\")\n",
    "plt.xticks(range(X.shape[1])[:maxval], indices)\n",
    "plt.xlim([-1, maxval])\n",
    "plt.show()"
   ]
  },
  {
   "cell_type": "markdown",
   "metadata": {
    "collapsed": true
   },
   "source": [
    "# Write Submission"
   ]
  },
  {
   "cell_type": "code",
   "execution_count": 175,
   "metadata": {},
   "outputs": [
    {
     "data": {
      "text/html": [
       "<div>\n",
       "<style scoped>\n",
       "    .dataframe tbody tr th:only-of-type {\n",
       "        vertical-align: middle;\n",
       "    }\n",
       "\n",
       "    .dataframe tbody tr th {\n",
       "        vertical-align: top;\n",
       "    }\n",
       "\n",
       "    .dataframe thead th {\n",
       "        text-align: right;\n",
       "    }\n",
       "</style>\n",
       "<table border=\"1\" class=\"dataframe\">\n",
       "  <thead>\n",
       "    <tr style=\"text-align: right;\">\n",
       "      <th></th>\n",
       "      <th>id</th>\n",
       "      <th>Pred</th>\n",
       "      <th>Season</th>\n",
       "      <th>team0</th>\n",
       "      <th>team1</th>\n",
       "      <th>DayNum</th>\n",
       "      <th>7OT0</th>\n",
       "      <th>ACU0</th>\n",
       "      <th>ADE0</th>\n",
       "      <th>AP0</th>\n",
       "      <th>...</th>\n",
       "      <th>USA1</th>\n",
       "      <th>WIL1</th>\n",
       "      <th>WLK1</th>\n",
       "      <th>WMR1</th>\n",
       "      <th>WMV1</th>\n",
       "      <th>WOB1</th>\n",
       "      <th>WOL1</th>\n",
       "      <th>WTE1</th>\n",
       "      <th>YAG1</th>\n",
       "      <th>ZAM1</th>\n",
       "    </tr>\n",
       "  </thead>\n",
       "  <tbody>\n",
       "    <tr>\n",
       "      <th>2273</th>\n",
       "      <td>2015_1458_1461</td>\n",
       "      <td>0.5</td>\n",
       "      <td>2015</td>\n",
       "      <td>1458</td>\n",
       "      <td>1461</td>\n",
       "      <td>136</td>\n",
       "      <td>2.0</td>\n",
       "      <td>2.0</td>\n",
       "      <td>6.0</td>\n",
       "      <td>3.0</td>\n",
       "      <td>...</td>\n",
       "      <td>NaN</td>\n",
       "      <td>81.0</td>\n",
       "      <td>106.0</td>\n",
       "      <td>NaN</td>\n",
       "      <td>NaN</td>\n",
       "      <td>62.0</td>\n",
       "      <td>57.0</td>\n",
       "      <td>NaN</td>\n",
       "      <td>NaN</td>\n",
       "      <td>NaN</td>\n",
       "    </tr>\n",
       "    <tr>\n",
       "      <th>2274</th>\n",
       "      <td>2015_1458_1462</td>\n",
       "      <td>0.5</td>\n",
       "      <td>2015</td>\n",
       "      <td>1458</td>\n",
       "      <td>1462</td>\n",
       "      <td>136</td>\n",
       "      <td>2.0</td>\n",
       "      <td>2.0</td>\n",
       "      <td>6.0</td>\n",
       "      <td>3.0</td>\n",
       "      <td>...</td>\n",
       "      <td>NaN</td>\n",
       "      <td>35.0</td>\n",
       "      <td>24.0</td>\n",
       "      <td>NaN</td>\n",
       "      <td>NaN</td>\n",
       "      <td>32.0</td>\n",
       "      <td>35.0</td>\n",
       "      <td>NaN</td>\n",
       "      <td>NaN</td>\n",
       "      <td>NaN</td>\n",
       "    </tr>\n",
       "    <tr>\n",
       "      <th>2275</th>\n",
       "      <td>2015_1459_1461</td>\n",
       "      <td>0.5</td>\n",
       "      <td>2015</td>\n",
       "      <td>1459</td>\n",
       "      <td>1461</td>\n",
       "      <td>136</td>\n",
       "      <td>78.0</td>\n",
       "      <td>68.0</td>\n",
       "      <td>58.0</td>\n",
       "      <td>NaN</td>\n",
       "      <td>...</td>\n",
       "      <td>NaN</td>\n",
       "      <td>81.0</td>\n",
       "      <td>106.0</td>\n",
       "      <td>NaN</td>\n",
       "      <td>NaN</td>\n",
       "      <td>62.0</td>\n",
       "      <td>57.0</td>\n",
       "      <td>NaN</td>\n",
       "      <td>NaN</td>\n",
       "      <td>NaN</td>\n",
       "    </tr>\n",
       "    <tr>\n",
       "      <th>2276</th>\n",
       "      <td>2015_1459_1462</td>\n",
       "      <td>0.5</td>\n",
       "      <td>2015</td>\n",
       "      <td>1459</td>\n",
       "      <td>1462</td>\n",
       "      <td>136</td>\n",
       "      <td>78.0</td>\n",
       "      <td>68.0</td>\n",
       "      <td>58.0</td>\n",
       "      <td>NaN</td>\n",
       "      <td>...</td>\n",
       "      <td>NaN</td>\n",
       "      <td>35.0</td>\n",
       "      <td>24.0</td>\n",
       "      <td>NaN</td>\n",
       "      <td>NaN</td>\n",
       "      <td>32.0</td>\n",
       "      <td>35.0</td>\n",
       "      <td>NaN</td>\n",
       "      <td>NaN</td>\n",
       "      <td>NaN</td>\n",
       "    </tr>\n",
       "    <tr>\n",
       "      <th>2277</th>\n",
       "      <td>2015_1461_1462</td>\n",
       "      <td>0.5</td>\n",
       "      <td>2015</td>\n",
       "      <td>1461</td>\n",
       "      <td>1462</td>\n",
       "      <td>136</td>\n",
       "      <td>104.0</td>\n",
       "      <td>88.0</td>\n",
       "      <td>54.0</td>\n",
       "      <td>NaN</td>\n",
       "      <td>...</td>\n",
       "      <td>NaN</td>\n",
       "      <td>35.0</td>\n",
       "      <td>24.0</td>\n",
       "      <td>NaN</td>\n",
       "      <td>NaN</td>\n",
       "      <td>32.0</td>\n",
       "      <td>35.0</td>\n",
       "      <td>NaN</td>\n",
       "      <td>NaN</td>\n",
       "      <td>NaN</td>\n",
       "    </tr>\n",
       "  </tbody>\n",
       "</table>\n",
       "<p>5 rows × 338 columns</p>\n",
       "</div>"
      ],
      "text/plain": [
       "                  id  Pred  Season  team0  team1  DayNum   7OT0  ACU0  ADE0  \\\n",
       "2273  2015_1458_1461   0.5    2015   1458   1461     136    2.0   2.0   6.0   \n",
       "2274  2015_1458_1462   0.5    2015   1458   1462     136    2.0   2.0   6.0   \n",
       "2275  2015_1459_1461   0.5    2015   1459   1461     136   78.0  68.0  58.0   \n",
       "2276  2015_1459_1462   0.5    2015   1459   1462     136   78.0  68.0  58.0   \n",
       "2277  2015_1461_1462   0.5    2015   1461   1462     136  104.0  88.0  54.0   \n",
       "\n",
       "      AP0  ...   USA1  WIL1   WLK1  WMR1  WMV1  WOB1  WOL1  WTE1  YAG1  ZAM1  \n",
       "2273  3.0  ...    NaN  81.0  106.0   NaN   NaN  62.0  57.0   NaN   NaN   NaN  \n",
       "2274  3.0  ...    NaN  35.0   24.0   NaN   NaN  32.0  35.0   NaN   NaN   NaN  \n",
       "2275  NaN  ...    NaN  81.0  106.0   NaN   NaN  62.0  57.0   NaN   NaN   NaN  \n",
       "2276  NaN  ...    NaN  35.0   24.0   NaN   NaN  32.0  35.0   NaN   NaN   NaN  \n",
       "2277  NaN  ...    NaN  35.0   24.0   NaN   NaN  32.0  35.0   NaN   NaN   NaN  \n",
       "\n",
       "[5 rows x 338 columns]"
      ]
     },
     "execution_count": 175,
     "metadata": {},
     "output_type": "execute_result"
    }
   ],
   "source": [
    "sample_df = pd.read_csv('2015/SampleSubmissionWithFeatures.csv', index_col=0)\n",
    "sample_df.tail()"
   ]
  },
  {
   "cell_type": "code",
   "execution_count": 177,
   "metadata": {},
   "outputs": [
    {
     "data": {
      "text/html": [
       "<div>\n",
       "<style scoped>\n",
       "    .dataframe tbody tr th:only-of-type {\n",
       "        vertical-align: middle;\n",
       "    }\n",
       "\n",
       "    .dataframe tbody tr th {\n",
       "        vertical-align: top;\n",
       "    }\n",
       "\n",
       "    .dataframe thead th {\n",
       "        text-align: right;\n",
       "    }\n",
       "</style>\n",
       "<table border=\"1\" class=\"dataframe\">\n",
       "  <thead>\n",
       "    <tr style=\"text-align: right;\">\n",
       "      <th></th>\n",
       "      <th>id</th>\n",
       "      <th>Pred</th>\n",
       "    </tr>\n",
       "  </thead>\n",
       "  <tbody>\n",
       "    <tr>\n",
       "      <th>2273</th>\n",
       "      <td>2015_1458_1461</td>\n",
       "      <td>0.842580</td>\n",
       "    </tr>\n",
       "    <tr>\n",
       "      <th>2274</th>\n",
       "      <td>2015_1458_1462</td>\n",
       "      <td>0.626374</td>\n",
       "    </tr>\n",
       "    <tr>\n",
       "      <th>2275</th>\n",
       "      <td>2015_1459_1461</td>\n",
       "      <td>0.444080</td>\n",
       "    </tr>\n",
       "    <tr>\n",
       "      <th>2276</th>\n",
       "      <td>2015_1459_1462</td>\n",
       "      <td>0.200130</td>\n",
       "    </tr>\n",
       "    <tr>\n",
       "      <th>2277</th>\n",
       "      <td>2015_1461_1462</td>\n",
       "      <td>0.219853</td>\n",
       "    </tr>\n",
       "  </tbody>\n",
       "</table>\n",
       "</div>"
      ],
      "text/plain": [
       "                  id      Pred\n",
       "2273  2015_1458_1461  0.842580\n",
       "2274  2015_1458_1462  0.626374\n",
       "2275  2015_1459_1461  0.444080\n",
       "2276  2015_1459_1462  0.200130\n",
       "2277  2015_1461_1462  0.219853"
      ]
     },
     "execution_count": 177,
     "metadata": {},
     "output_type": "execute_result"
    }
   ],
   "source": [
    "Xsample = sample_df[rankingfeatures].values\n",
    "sample_df['Pred'] = clf.predict_proba(Xsample)[:,1] # predict_proba returns [prob label is 0, prob label is 1], kaggle wants 2nd column\n",
    "submission = sample_df[['id', 'Pred']]\n",
    "submission.tail()"
   ]
  },
  {
   "cell_type": "code",
   "execution_count": 178,
   "metadata": {},
   "outputs": [],
   "source": [
    "submission.to_csv('2015/SubmissionLR.csv', encoding='ascii', index=False)"
   ]
  },
  {
   "cell_type": "code",
   "execution_count": null,
   "metadata": {},
   "outputs": [],
   "source": []
  }
 ],
 "metadata": {
  "kernelspec": {
   "display_name": "Python 3",
   "language": "python",
   "name": "python3"
  },
  "language_info": {
   "codemirror_mode": {
    "name": "ipython",
    "version": 3
   },
   "file_extension": ".py",
   "mimetype": "text/x-python",
   "name": "python",
   "nbconvert_exporter": "python",
   "pygments_lexer": "ipython3",
   "version": "3.7.2"
  }
 },
 "nbformat": 4,
 "nbformat_minor": 1
}
