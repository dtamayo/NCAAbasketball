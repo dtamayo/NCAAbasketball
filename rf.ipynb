{
 "cells": [
  {
   "cell_type": "code",
   "execution_count": 92,
   "metadata": {},
   "outputs": [],
   "source": [
    "import pandas as pd\n",
    "import numpy as np\n",
    "   \n",
    "tourney_df = pd.read_csv(\"data/datasvm.csv\", index_col=0)"
   ]
  },
  {
   "cell_type": "code",
   "execution_count": 93,
   "metadata": {},
   "outputs": [],
   "source": [
    "tourney_df = tourney_df.fillna(-1000000)"
   ]
  },
  {
   "cell_type": "markdown",
   "metadata": {},
   "source": [
    "# Choosing Features to Use for Model"
   ]
  },
  {
   "cell_type": "markdown",
   "metadata": {},
   "source": [
    "# Only execute one of following two cells\n",
    "\n",
    "Use first cell to use all the features available in the submission file.  After running through notebook once, can look at best features found by random forest and edit this."
   ]
  },
  {
   "cell_type": "code",
   "execution_count": 94,
   "metadata": {
    "collapsed": true
   },
   "outputs": [],
   "source": [
    "systems = ['SAG', 'MOR', 'WLK', 'POM', 'DOL', 'RPI', 'DOK', 'PGH']\n",
    "teamfList = systems\n",
    "featureList = []\n",
    "for f in teamfList:\n",
    "    featureList.append(f+'0')\n",
    "    featureList.append(f+'1')\n",
    "featureList = ['ACU0', 'BBT0', 'BWE0', 'DOK0', 'KPK0', 'MAS0', 'MOR0', 'PGH0', 'PIG0', 'POM0', 'RTP0', 'SAG0', 'TRK0', 'TRP0', 'WIL0', 'DII0', 'BIH0', 'WLK0', '7OT0', 'BUR0', 'DOL0', 'NOL0', 'SFX0', 'BOB0', 'COL0', 'CRO0', 'EBP0', 'MSX0', 'RTR0', 'SP0', 'TPR0', 'BLS0', 'CNG0', 'RTH0', 'SPR0', 'WOL0', 'DCI0', 'KRA0', 'LMC0', 'REW0', 'SEL0', 'SPW0', 'WOB0', 'ARG0', 'DC0', 'STH0', 'RPI0', 'HKB0', 'ACU1', 'BBT1', 'BWE1', 'DOK1', 'KPK1', 'MAS1', 'MOR1', 'PGH1', 'PIG1', 'POM1', 'RTP1', 'SAG1', 'TRK1', 'TRP1', 'WIL1', 'DII1', 'BIH1', 'WLK1', '7OT1', 'BUR1', 'DOL1', 'NOL1', 'SFX1', 'BOB1', 'COL1', 'CRO1', 'EBP1', 'MSX1', 'RTR1', 'SP1', 'TPR1', 'BLS1', 'CNG1', 'RTH1', 'SPR1', 'WOL1', 'DCI1', 'KRA1', 'LMC1', 'REW1', 'SEL1', 'SPW1', 'WOB1', 'ARG1', 'DC1', 'STH1', 'RPI1', 'HKB1', 'tourneylike']"
   ]
  },
  {
   "cell_type": "code",
   "execution_count": 95,
   "metadata": {},
   "outputs": [
    {
     "name": "stdout",
     "output_type": "stream",
     "text": [
      "['ACU0', 'BBT0', 'BWE0', 'DOK0', 'KPK0', 'MAS0', 'MOR0', 'PGH0', 'PIG0', 'POM0', 'RTP0', 'SAG0', 'TRK0', 'TRP0', 'WIL0', 'DII0', 'BIH0', 'WLK0', '7OT0', 'BUR0', 'DOL0', 'NOL0', 'SFX0', 'BOB0', 'COL0', 'CRO0', 'EBP0', 'MSX0', 'RTR0', 'SP0', 'TPR0', 'BLS0', 'CNG0', 'RTH0', 'SPR0', 'WOL0', 'DCI0', 'KRA0', 'LMC0', 'REW0', 'SEL0', 'SPW0', 'WOB0', 'ARG0', 'DC0', 'STH0', 'RPI0', 'HKB0', 'ACU1', 'BBT1', 'BWE1', 'DOK1', 'KPK1', 'MAS1', 'MOR1', 'PGH1', 'PIG1', 'POM1', 'RTP1', 'SAG1', 'TRK1', 'TRP1', 'WIL1', 'DII1', 'BIH1', 'WLK1', '7OT1', 'BUR1', 'DOL1', 'NOL1', 'SFX1', 'BOB1', 'COL1', 'CRO1', 'EBP1', 'MSX1', 'RTR1', 'SP1', 'TPR1', 'BLS1', 'CNG1', 'RTH1', 'SPR1', 'WOL1', 'DCI1', 'KRA1', 'LMC1', 'REW1', 'SEL1', 'SPW1', 'WOB1', 'ARG1', 'DC1', 'STH1', 'RPI1', 'HKB1', 'tourneylike']\n"
     ]
    }
   ],
   "source": [
    "print(featureList)"
   ]
  },
  {
   "cell_type": "code",
   "execution_count": 96,
   "metadata": {},
   "outputs": [],
   "source": [
    "y = tourney_df['team0Win'].values # results\n",
    "X = tourney_df[featureList].values # features"
   ]
  },
  {
   "cell_type": "code",
   "execution_count": 98,
   "metadata": {},
   "outputs": [
    {
     "data": {
      "text/plain": [
       "(268, 277)"
      ]
     },
     "execution_count": 98,
     "metadata": {},
     "output_type": "execute_result"
    }
   ],
   "source": [
    "testyears = [2012,2013,2014,2015]\n",
    "mask = tourney_df['Season'] == testyears[0]\n",
    "for yr in testyears[1:]:\n",
    "    mask = mask | (tourney_df['Season'] == yr)\n",
    "mask = mask & (tourney_df['TourneyGame'] == 1)\n",
    "tourney_df[mask].shape"
   ]
  },
  {
   "cell_type": "code",
   "execution_count": 99,
   "metadata": {
    "collapsed": true
   },
   "outputs": [],
   "source": [
    "df_test = tourney_df[mask]\n",
    "df_train = tourney_df[np.logical_not(mask)]"
   ]
  },
  {
   "cell_type": "code",
   "execution_count": 100,
   "metadata": {
    "collapsed": true
   },
   "outputs": [],
   "source": [
    "y_train = df_train['team0Win'].values # results\n",
    "X_train = df_train[featureList].values # features\n",
    "y_test = df_test['team0Win'].values # results\n",
    "X_test = df_test[featureList].values # features"
   ]
  },
  {
   "cell_type": "markdown",
   "metadata": {},
   "source": [
    "# Train our model!"
   ]
  },
  {
   "cell_type": "code",
   "execution_count": 101,
   "metadata": {
    "collapsed": true
   },
   "outputs": [],
   "source": [
    "size=X_train.shape[0] #Number of training examples to use\n",
    "X_train_sample = X_train[0:size]\n",
    "y_train_sample = y_train[0:size]"
   ]
  },
  {
   "cell_type": "code",
   "execution_count": 103,
   "metadata": {},
   "outputs": [
    {
     "name": "stderr",
     "output_type": "stream",
     "text": [
      "/Users/dtamayo/miniconda2/envs/p3/lib/python3.5/site-packages/sklearn/externals/joblib/hashing.py:197: DeprecationWarning: Changing the shape of non-C contiguous array by\n",
      "descriptor assignment is deprecated. To maintain\n",
      "the Fortran contiguity of a multidimensional Fortran\n",
      "array, use 'a.T.view(...).T' instead\n",
      "  obj_bytes_view = obj.view(self.np.uint8)\n",
      "/Users/dtamayo/miniconda2/envs/p3/lib/python3.5/site-packages/sklearn/externals/joblib/hashing.py:197: DeprecationWarning: Changing the shape of non-C contiguous array by\n",
      "descriptor assignment is deprecated. To maintain\n",
      "the Fortran contiguity of a multidimensional Fortran\n",
      "array, use 'a.T.view(...).T' instead\n",
      "  obj_bytes_view = obj.view(self.np.uint8)\n",
      "/Users/dtamayo/miniconda2/envs/p3/lib/python3.5/site-packages/sklearn/externals/joblib/hashing.py:197: DeprecationWarning: Changing the shape of non-C contiguous array by\n",
      "descriptor assignment is deprecated. To maintain\n",
      "the Fortran contiguity of a multidimensional Fortran\n",
      "array, use 'a.T.view(...).T' instead\n",
      "  obj_bytes_view = obj.view(self.np.uint8)\n",
      "/Users/dtamayo/miniconda2/envs/p3/lib/python3.5/site-packages/sklearn/externals/joblib/hashing.py:197: DeprecationWarning: Changing the shape of non-C contiguous array by\n",
      "descriptor assignment is deprecated. To maintain\n",
      "the Fortran contiguity of a multidimensional Fortran\n",
      "array, use 'a.T.view(...).T' instead\n",
      "  obj_bytes_view = obj.view(self.np.uint8)\n",
      "/Users/dtamayo/miniconda2/envs/p3/lib/python3.5/site-packages/sklearn/externals/joblib/hashing.py:197: DeprecationWarning: Changing the shape of non-C contiguous array by\n",
      "descriptor assignment is deprecated. To maintain\n",
      "the Fortran contiguity of a multidimensional Fortran\n",
      "array, use 'a.T.view(...).T' instead\n",
      "  obj_bytes_view = obj.view(self.np.uint8)\n",
      "/Users/dtamayo/miniconda2/envs/p3/lib/python3.5/site-packages/sklearn/externals/joblib/hashing.py:197: DeprecationWarning: Changing the shape of non-C contiguous array by\n",
      "descriptor assignment is deprecated. To maintain\n",
      "the Fortran contiguity of a multidimensional Fortran\n",
      "array, use 'a.T.view(...).T' instead\n",
      "  obj_bytes_view = obj.view(self.np.uint8)\n",
      "/Users/dtamayo/miniconda2/envs/p3/lib/python3.5/site-packages/sklearn/externals/joblib/hashing.py:197: DeprecationWarning: Changing the shape of non-C contiguous array by\n",
      "descriptor assignment is deprecated. To maintain\n",
      "the Fortran contiguity of a multidimensional Fortran\n",
      "array, use 'a.T.view(...).T' instead\n",
      "  obj_bytes_view = obj.view(self.np.uint8)\n",
      "/Users/dtamayo/miniconda2/envs/p3/lib/python3.5/site-packages/sklearn/externals/joblib/hashing.py:197: DeprecationWarning: Changing the shape of non-C contiguous array by\n",
      "descriptor assignment is deprecated. To maintain\n",
      "the Fortran contiguity of a multidimensional Fortran\n",
      "array, use 'a.T.view(...).T' instead\n",
      "  obj_bytes_view = obj.view(self.np.uint8)\n",
      "/Users/dtamayo/miniconda2/envs/p3/lib/python3.5/site-packages/sklearn/externals/joblib/hashing.py:197: DeprecationWarning: Changing the shape of non-C contiguous array by\n",
      "descriptor assignment is deprecated. To maintain\n",
      "the Fortran contiguity of a multidimensional Fortran\n",
      "array, use 'a.T.view(...).T' instead\n",
      "  obj_bytes_view = obj.view(self.np.uint8)\n",
      "/Users/dtamayo/miniconda2/envs/p3/lib/python3.5/site-packages/sklearn/externals/joblib/hashing.py:197: DeprecationWarning: Changing the shape of non-C contiguous array by\n",
      "descriptor assignment is deprecated. To maintain\n",
      "the Fortran contiguity of a multidimensional Fortran\n",
      "array, use 'a.T.view(...).T' instead\n",
      "  obj_bytes_view = obj.view(self.np.uint8)\n"
     ]
    },
    {
     "data": {
      "text/plain": [
       "GridSearchCV(cv=StratifiedShuffleSplit(labels=[0 0 ..., 1 0], n_iter=10, test_size=0.1, random_state=42),\n",
       "       error_score='raise',\n",
       "       estimator=RandomForestClassifier(bootstrap=True, class_weight=None, criterion='gini',\n",
       "            max_depth=None, max_features='auto', max_leaf_nodes=None,\n",
       "            min_samples_leaf=1, min_samples_split=2,\n",
       "            min_weight_fraction_leaf=0.0, n_estimators=50, n_jobs=1,\n",
       "            oob_score=False, random_state=None, verbose=0,\n",
       "            warm_start=False),\n",
       "       fit_params={}, iid=True, n_jobs=-1,\n",
       "       param_grid={'n_estimators': [1000], 'max_features': ['sqrt']},\n",
       "       pre_dispatch='2*n_jobs', refit=True, scoring='log_loss', verbose=0)"
      ]
     },
     "execution_count": 103,
     "metadata": {},
     "output_type": "execute_result"
    }
   ],
   "source": [
    "from sklearn import svm\n",
    "from sklearn.cross_validation import StratifiedShuffleSplit\n",
    "from sklearn.grid_search import GridSearchCV\n",
    "from sklearn.ensemble import RandomForestClassifier\n",
    "from sklearn.calibration import calibration_curve\n",
    "  \n",
    "cv_s = StratifiedShuffleSplit(y_train_sample,  n_iter=10 , test_size=0.1, random_state=42)\n",
    "rfc = RandomForestClassifier(max_features= 'auto' ,n_estimators=50) \n",
    "param_grid = { \n",
    "        'n_estimators': [1000],\n",
    "        'max_features': ['sqrt']}\n",
    "CV_rfc = GridSearchCV(n_jobs=-1, estimator=rfc, scoring=\"log_loss\", param_grid=param_grid, cv=cv_s)\n",
    "CV_rfc.fit(X_train_sample, y_train_sample)"
   ]
  },
  {
   "cell_type": "code",
   "execution_count": 104,
   "metadata": {},
   "outputs": [
    {
     "name": "stdout",
     "output_type": "stream",
     "text": [
      "The best parameters are {{'n_estimators': 1000, 'max_features': 'sqrt'}} with a score of -0.5872\n"
     ]
    }
   ],
   "source": [
    "print(\"The best parameters are {%s} with a score of %0.4f\" % (CV_rfc.best_params_, CV_rfc.best_score_))"
   ]
  },
  {
   "cell_type": "code",
   "execution_count": 105,
   "metadata": {},
   "outputs": [
    {
     "name": "stdout",
     "output_type": "stream",
     "text": [
      "Log loss is 0.5776264925658652\n"
     ]
    }
   ],
   "source": [
    "model = CV_rfc.best_estimator_\n",
    "y_pred = model.predict_proba(X_test) # probability that team0 wins (what Kaggle calls team 1, and wants for submission)\n",
    "from sklearn import metrics\n",
    "test_score = metrics.log_loss(y_test, y_pred)\n",
    "print(\"Log loss is {0}\".format(test_score))"
   ]
  },
  {
   "cell_type": "code",
   "execution_count": 89,
   "metadata": {},
   "outputs": [
    {
     "data": {
      "text/plain": [
       "0.68656716417910446"
      ]
     },
     "execution_count": 89,
     "metadata": {},
     "output_type": "execute_result"
    }
   ],
   "source": [
    "metrics.accuracy_score(y_test, model.predict(X_test))"
   ]
  },
  {
   "cell_type": "code",
   "execution_count": 29,
   "metadata": {
    "collapsed": true
   },
   "outputs": [],
   "source": [
    "importances = model.feature_importances_\n",
    "std = np.std([tree.feature_importances_ for tree in model.estimators_],\n",
    "             axis=0)\n",
    "indices = np.argsort(importances)[::-1]"
   ]
  },
  {
   "cell_type": "code",
   "execution_count": 30,
   "metadata": {},
   "outputs": [
    {
     "name": "stdout",
     "output_type": "stream",
     "text": [
      "Feature ranking:\n",
      "1. feature 7 POM1 (0.072302)\n",
      "2. feature 10 RPI0 (0.069910)\n",
      "3. feature 4 WLK0 (0.067345)\n",
      "4. feature 6 POM0 (0.066720)\n",
      "5. feature 5 WLK1 (0.064850)\n",
      "6. feature 0 SAG0 (0.064251)\n",
      "7. feature 12 DOK0 (0.063912)\n",
      "8. feature 13 DOK1 (0.063283)\n",
      "9. feature 3 MOR1 (0.063236)\n",
      "10. feature 2 MOR0 (0.062223)\n",
      "11. feature 11 RPI1 (0.060458)\n",
      "12. feature 1 SAG1 (0.060014)\n",
      "13. feature 9 DOL1 (0.059860)\n",
      "14. feature 8 DOL0 (0.056782)\n",
      "15. feature 14 PGH0 (0.052667)\n",
      "16. feature 15 PGH1 (0.052187)\n"
     ]
    }
   ],
   "source": [
    "# Print the feature ranking\n",
    "print(\"Feature ranking:\")\n",
    "\n",
    "for f in range(X.shape[1]):\n",
    "    print(\"%d. feature %d %s (%f)\" % (f + 1, indices[f], tourney_df[featureList].columns[indices[f]],importances[indices[f]]))"
   ]
  },
  {
   "cell_type": "code",
   "execution_count": 149,
   "metadata": {},
   "outputs": [
    {
     "data": {
      "image/png": "[encoded data removed]",
      "text/plain": [
       "<matplotlib.figure.Figure at 0x128f4eb10>"
      ]
     },
     "metadata": {},
     "output_type": "display_data"
    }
   ],
   "source": [
    "%matplotlib inline\n",
    "import matplotlib.pyplot as plt\n",
    "\n",
    "maxval = Nfeatures\n",
    "# Plot the feature importances of the forest\n",
    "plt.figure()\n",
    "plt.title(\"Feature importances\")\n",
    "plt.bar(range(X.shape[1])[:maxval], importances[indices][:maxval],\n",
    "       color=\"r\", yerr=std[indices][:maxval], align=\"center\")\n",
    "plt.xticks(range(X.shape[1])[:maxval], indices)\n",
    "plt.xlim([-1, maxval])\n",
    "plt.show()"
   ]
  },
  {
   "cell_type": "markdown",
   "metadata": {
    "collapsed": true
   },
   "source": [
    "# Write Submission"
   ]
  },
  {
   "cell_type": "code",
   "execution_count": 106,
   "metadata": {},
   "outputs": [],
   "source": [
    "def write_submission_file(model, featureList, submission_output_file): # see submission.ipynb for details\n",
    "    import pandas as pd\n",
    "    sample_df = pd.read_csv('data/2016SampleSubmissionWithFeatures.csv', index_col=0)\n",
    "    Xsample = sample_df[featureList].values\n",
    "    sample_df['Pred'] = model.predict_proba(Xsample)[:,1] # predict_proba returns [prob label is 0, prob label is 1], kaggle wants 2nd column\n",
    "    submission = sample_df[['Id', 'Pred']]\n",
    "    submission.to_csv(submission_output_file, encoding='ascii', index=False)\n",
    "submission_output_file = \"data/submissionRF6000.csv\"\n",
    "write_submission_file(model, featureList, submission_output_file)"
   ]
  },
  {
   "cell_type": "code",
   "execution_count": 107,
   "metadata": {},
   "outputs": [
    {
     "data": {
      "text/html": [
       "<div>\n",
       "<table border=\"1\" class=\"dataframe\">\n",
       "  <thead>\n",
       "    <tr style=\"text-align: right;\">\n",
       "      <th></th>\n",
       "      <th>Pred</th>\n",
       "    </tr>\n",
       "    <tr>\n",
       "      <th>Id</th>\n",
       "      <th></th>\n",
       "    </tr>\n",
       "  </thead>\n",
       "  <tbody>\n",
       "    <tr>\n",
       "      <th>2016_1112_1114</th>\n",
       "      <td>0.648</td>\n",
       "    </tr>\n",
       "    <tr>\n",
       "      <th>2016_1112_1122</th>\n",
       "      <td>0.780</td>\n",
       "    </tr>\n",
       "    <tr>\n",
       "      <th>2016_1112_1124</th>\n",
       "      <td>0.658</td>\n",
       "    </tr>\n",
       "    <tr>\n",
       "      <th>2016_1112_1138</th>\n",
       "      <td>0.773</td>\n",
       "    </tr>\n",
       "    <tr>\n",
       "      <th>2016_1112_1139</th>\n",
       "      <td>0.690</td>\n",
       "    </tr>\n",
       "  </tbody>\n",
       "</table>\n",
       "</div>"
      ],
      "text/plain": [
       "                 Pred\n",
       "Id                   \n",
       "2016_1112_1114  0.648\n",
       "2016_1112_1122  0.780\n",
       "2016_1112_1124  0.658\n",
       "2016_1112_1138  0.773\n",
       "2016_1112_1139  0.690"
      ]
     },
     "execution_count": 107,
     "metadata": {},
     "output_type": "execute_result"
    }
   ],
   "source": [
    "submission_df = pd.read_csv(submission_output_file, index_col=0)\n",
    "submission_df.head()"
   ]
  },
  {
   "cell_type": "code",
   "execution_count": null,
   "metadata": {
    "collapsed": true
   },
   "outputs": [],
   "source": []
  }
 ],
 "metadata": {
  "kernelspec": {
   "display_name": "Python 3",
   "language": "python",
   "name": "python3"
  },
  "language_info": {
   "codemirror_mode": {
    "name": "ipython",
    "version": 3
   },
   "file_extension": ".py",
   "mimetype": "text/x-python",
   "name": "python",
   "nbconvert_exporter": "python",
   "pygments_lexer": "ipython3",
   "version": "3.7.2"
  }
 },
 "nbformat": 4,
 "nbformat_minor": 1
}
