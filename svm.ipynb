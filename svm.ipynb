{
 "cells": [
  {
   "cell_type": "markdown",
   "metadata": {},
   "source": [
    "# Input/Output Filenames\n",
    "\n",
    "`training_data_file` is the file with all the games and features you want to use to train your model.  `submission_data_file` is the file with all the games we need to predict and their associated features.  `submission_output_file` is the filename we'll write with all our predictions to submit to Kaggle."
   ]
  },
  {
   "cell_type": "code",
   "execution_count": 1,
   "metadata": {
    "collapsed": true
   },
   "outputs": [],
   "source": [
    "training_data_file = 'data/data.csv'\n",
    "submission_data_file = 'data/sample.csv'\n",
    "submission_output_file = 'data/submission.csv'"
   ]
  },
  {
   "cell_type": "code",
   "execution_count": 2,
   "metadata": {
    "collapsed": false
   },
   "outputs": [
    {
     "data": {
      "text/html": [
       "<div>\n",
       "<table border=\"1\" class=\"dataframe\">\n",
       "  <thead>\n",
       "    <tr style=\"text-align: right;\">\n",
       "      <th></th>\n",
       "      <th>Season</th>\n",
       "      <th>Daynum</th>\n",
       "      <th>Wteam</th>\n",
       "      <th>Wscore</th>\n",
       "      <th>Lteam</th>\n",
       "      <th>Lscore</th>\n",
       "      <th>Wloc</th>\n",
       "      <th>Numot</th>\n",
       "      <th>Wfgm</th>\n",
       "      <th>Wfga</th>\n",
       "      <th>...</th>\n",
       "      <th>std_stl0</th>\n",
       "      <th>std_stl1</th>\n",
       "      <th>avg_blk0</th>\n",
       "      <th>avg_blk1</th>\n",
       "      <th>std_blk0</th>\n",
       "      <th>std_blk1</th>\n",
       "      <th>avg_pf0</th>\n",
       "      <th>avg_pf1</th>\n",
       "      <th>std_pf0</th>\n",
       "      <th>std_pf1</th>\n",
       "    </tr>\n",
       "  </thead>\n",
       "  <tbody>\n",
       "    <tr>\n",
       "      <th>0</th>\n",
       "      <td>2003</td>\n",
       "      <td>134</td>\n",
       "      <td>1421</td>\n",
       "      <td>92</td>\n",
       "      <td>1411</td>\n",
       "      <td>84</td>\n",
       "      <td>N</td>\n",
       "      <td>1</td>\n",
       "      <td>32</td>\n",
       "      <td>69</td>\n",
       "      <td>...</td>\n",
       "      <td>3.14</td>\n",
       "      <td>2.31</td>\n",
       "      <td>3.00</td>\n",
       "      <td>2.23</td>\n",
       "      <td>1.65</td>\n",
       "      <td>1.72</td>\n",
       "      <td>19.10</td>\n",
       "      <td>18.30</td>\n",
       "      <td>3.69</td>\n",
       "      <td>4.56</td>\n",
       "    </tr>\n",
       "    <tr>\n",
       "      <th>1</th>\n",
       "      <td>2003</td>\n",
       "      <td>136</td>\n",
       "      <td>1112</td>\n",
       "      <td>80</td>\n",
       "      <td>1436</td>\n",
       "      <td>51</td>\n",
       "      <td>N</td>\n",
       "      <td>0</td>\n",
       "      <td>31</td>\n",
       "      <td>66</td>\n",
       "      <td>...</td>\n",
       "      <td>3.50</td>\n",
       "      <td>3.65</td>\n",
       "      <td>2.97</td>\n",
       "      <td>4.21</td>\n",
       "      <td>1.72</td>\n",
       "      <td>2.01</td>\n",
       "      <td>15.90</td>\n",
       "      <td>17.75</td>\n",
       "      <td>4.05</td>\n",
       "      <td>2.99</td>\n",
       "    </tr>\n",
       "    <tr>\n",
       "      <th>2</th>\n",
       "      <td>2003</td>\n",
       "      <td>136</td>\n",
       "      <td>1113</td>\n",
       "      <td>84</td>\n",
       "      <td>1272</td>\n",
       "      <td>71</td>\n",
       "      <td>N</td>\n",
       "      <td>0</td>\n",
       "      <td>31</td>\n",
       "      <td>59</td>\n",
       "      <td>...</td>\n",
       "      <td>3.16</td>\n",
       "      <td>2.14</td>\n",
       "      <td>5.07</td>\n",
       "      <td>4.24</td>\n",
       "      <td>3.16</td>\n",
       "      <td>2.94</td>\n",
       "      <td>18.76</td>\n",
       "      <td>19.41</td>\n",
       "      <td>4.34</td>\n",
       "      <td>3.25</td>\n",
       "    </tr>\n",
       "    <tr>\n",
       "      <th>3</th>\n",
       "      <td>2003</td>\n",
       "      <td>136</td>\n",
       "      <td>1141</td>\n",
       "      <td>79</td>\n",
       "      <td>1166</td>\n",
       "      <td>73</td>\n",
       "      <td>N</td>\n",
       "      <td>0</td>\n",
       "      <td>29</td>\n",
       "      <td>53</td>\n",
       "      <td>...</td>\n",
       "      <td>2.94</td>\n",
       "      <td>2.82</td>\n",
       "      <td>4.00</td>\n",
       "      <td>4.45</td>\n",
       "      <td>2.35</td>\n",
       "      <td>2.22</td>\n",
       "      <td>20.97</td>\n",
       "      <td>17.27</td>\n",
       "      <td>4.81</td>\n",
       "      <td>3.12</td>\n",
       "    </tr>\n",
       "    <tr>\n",
       "      <th>4</th>\n",
       "      <td>2003</td>\n",
       "      <td>136</td>\n",
       "      <td>1143</td>\n",
       "      <td>76</td>\n",
       "      <td>1301</td>\n",
       "      <td>74</td>\n",
       "      <td>N</td>\n",
       "      <td>1</td>\n",
       "      <td>27</td>\n",
       "      <td>64</td>\n",
       "      <td>...</td>\n",
       "      <td>3.63</td>\n",
       "      <td>2.64</td>\n",
       "      <td>3.07</td>\n",
       "      <td>2.79</td>\n",
       "      <td>2.49</td>\n",
       "      <td>1.63</td>\n",
       "      <td>18.67</td>\n",
       "      <td>17.10</td>\n",
       "      <td>4.21</td>\n",
       "      <td>3.74</td>\n",
       "    </tr>\n",
       "  </tbody>\n",
       "</table>\n",
       "<p>5 rows × 91 columns</p>\n",
       "</div>"
      ],
      "text/plain": [
       "   Season  Daynum  Wteam  Wscore  Lteam  Lscore Wloc  Numot  Wfgm  Wfga  \\\n",
       "0    2003     134   1421      92   1411      84    N      1    32    69   \n",
       "1    2003     136   1112      80   1436      51    N      0    31    66   \n",
       "2    2003     136   1113      84   1272      71    N      0    31    59   \n",
       "3    2003     136   1141      79   1166      73    N      0    29    53   \n",
       "4    2003     136   1143      76   1301      74    N      1    27    64   \n",
       "\n",
       "    ...     std_stl0  std_stl1  avg_blk0  avg_blk1  std_blk0  std_blk1  \\\n",
       "0   ...         3.14      2.31      3.00      2.23      1.65      1.72   \n",
       "1   ...         3.50      3.65      2.97      4.21      1.72      2.01   \n",
       "2   ...         3.16      2.14      5.07      4.24      3.16      2.94   \n",
       "3   ...         2.94      2.82      4.00      4.45      2.35      2.22   \n",
       "4   ...         3.63      2.64      3.07      2.79      2.49      1.63   \n",
       "\n",
       "   avg_pf0  avg_pf1  std_pf0  std_pf1  \n",
       "0    19.10    18.30     3.69     4.56  \n",
       "1    15.90    17.75     4.05     2.99  \n",
       "2    18.76    19.41     4.34     3.25  \n",
       "3    20.97    17.27     4.81     3.12  \n",
       "4    18.67    17.10     4.21     3.74  \n",
       "\n",
       "[5 rows x 91 columns]"
      ]
     },
     "execution_count": 2,
     "metadata": {},
     "output_type": "execute_result"
    }
   ],
   "source": [
    "import pandas as pd\n",
    "import numpy as np\n",
    "def write_submission_file(_model, _featureList): # see submission.ipynb for details\n",
    "    import pandas as pd\n",
    "    sample = pd.read_csv(submission_data_file, index_col=0)\n",
    "    Xsample = sample[_featureList].values\n",
    "    sample['Pred'] = _model.predict_proba(Xsample)[:,0]\n",
    "    submission = sample[['Id', 'Pred']]\n",
    "    submission.to_csv(submission_output_file, encoding='ascii')\n",
    "    \n",
    "tourney_df = pd.read_csv(training_data_file, index_col=0)\n",
    "tourney_df.head()"
   ]
  },
  {
   "cell_type": "markdown",
   "metadata": {},
   "source": [
    "# Choosing Features to Use for Model\n",
    "\n",
    "Edit featureList below to use any of the features in the data frame above (see above for names of columns).  "
   ]
  },
  {
   "cell_type": "code",
   "execution_count": 12,
   "metadata": {
    "collapsed": false
   },
   "outputs": [],
   "source": [
    "y = tourney_df['Winner'].values # results\n",
    "X = tourney_df.ix[:,'wins0':].values # features (this takes everything from wins0 onward)"
   ]
  },
  {
   "cell_type": "markdown",
   "metadata": {},
   "source": [
    "# Train our model!"
   ]
  },
  {
   "cell_type": "code",
   "execution_count": 13,
   "metadata": {
    "collapsed": false
   },
   "outputs": [],
   "source": [
    "from sklearn.cross_validation import train_test_split\n",
    "X_train, X_test, y_train, y_test = train_test_split(X, y, test_size=0.4, random_state=1)"
   ]
  },
  {
   "cell_type": "code",
   "execution_count": 14,
   "metadata": {
    "collapsed": false
   },
   "outputs": [
    {
     "data": {
      "text/plain": [
       "SVC(C=1.0, cache_size=200, class_weight=None, coef0=0.0,\n",
       "  decision_function_shape=None, degree=3, gamma='auto', kernel='rbf',\n",
       "  max_iter=-1, probability=True, random_state=None, shrinking=True,\n",
       "  tol=0.001, verbose=False)"
      ]
     },
     "execution_count": 14,
     "metadata": {},
     "output_type": "execute_result"
    }
   ],
   "source": [
    "from sklearn import svm\n",
    "model = svm.SVC(probability=True)\n",
    "model.fit(X_train, y_train)"
   ]
  },
  {
   "cell_type": "code",
   "execution_count": 15,
   "metadata": {
    "collapsed": false
   },
   "outputs": [
    {
     "name": "stdout",
     "output_type": "stream",
     "text": [
      "Features = [ 30.    26.    26.24  24.21   4.68   5.02  56.    52.88   6.02   5.88\n",
      "   5.29   7.76   2.3    2.29  14.85  20.79   3.37   3.7   15.29  17.36\n",
      "   4.56   6.71  23.35  23.33   6.98   8.07  12.59   8.79   3.66   2.93\n",
      "  26.29  24.39   4.78   4.44  15.09  12.12   3.63   3.2   10.44   8.06\n",
      "   3.23   2.98   5.88   5.     1.9    2.3    4.24   3.52   2.02   1.99\n",
      "  16.44  14.94   3.14   3.32], Pred. prob. team0 wins: 0.543264188895785\n",
      "Features = [ 25.    33.    26.33  28.76   5.68   5.3   54.88  61.76   7.95   7.72\n",
      "   4.97   7.94   3.09   3.52  13.33  22.68   4.23   6.16  13.67  14.21\n",
      "   6.38   6.35  18.7   23.85   8.16   9.63  12.39  14.12   4.72   4.66\n",
      "  24.82  26.68   4.41   4.98  17.64  16.03   6.05   5.78  13.67  12.21\n",
      "   4.56   4.15   6.09   8.71   3.18   3.42   4.36   6.09   2.52   2.93\n",
      "  18.18  17.44   4.56   4.19], Pred. prob. team0 wins: 0.4169851685050697\n",
      "Features = [ 32.    27.    28.15  29.12   6.21   5.49  57.61  61.85   7.68   8.15\n",
      "   8.7    6.85   3.28   2.83  21.79  17.03   4.61   4.48  12.42  14.58\n",
      "   5.54   6.49  17.15  18.73   7.67   6.81  10.97  13.73   4.08   4.44\n",
      "  23.39  23.27   5.14   4.03  18.58  16.58   5.25   4.22  11.12  14.85\n",
      "   4.49   3.48   7.64   8.24   3.22   2.87   3.42   3.58   2.08   1.95\n",
      "  15.52  16.45   3.67   3.57], Pred. prob. team0 wins: 0.4205330181682016\n",
      "Features = [ 24.    22.    27.88  25.27   5.64   5.22  61.67  55.73   7.63   7.1\n",
      "   5.18   7.94   2.04   2.84  15.94  19.55   3.09   4.44  18.85  14.45\n",
      "   7.97   5.96  25.91  19.55  10.17   6.85  13.52  10.24   4.89   4.45\n",
      "  24.88  21.55   5.99   3.98  14.    15.15   5.1    4.86  12.79  10.3\n",
      "   4.39   3.04   7.27   7.91   3.02   3.17   3.94   2.15   2.82   1.54\n",
      "  21.61  17.06   4.8    4.38], Pred. prob. team0 wins: 0.4346647228900857\n",
      "Features = [ 26.    29.    24.59  25.85   4.1    4.37  55.5   58.06   5.87   7.     6.59\n",
      "   5.82   2.13   2.61  19.56  17.62   3.29   6.42  13.68  16.03   4.66\n",
      "   6.67  19.88  22.53   5.92   8.7   13.15  13.62   4.61   4.32  25.29\n",
      "  23.88   5.02   4.52  13.79  15.     4.33   4.44  12.79  12.68   3.73\n",
      "   3.22   7.47  10.74   2.89   2.65   4.47   4.24   2.57   1.91  17.71\n",
      "  17.74   4.87   4.47], Pred. prob. team0 wins: 0.38143126694399465\n"
     ]
    }
   ],
   "source": [
    "y_pred = model.predict_proba(X_test)[:,0] # probability that team0 wins (what Kaggle calls team 1, and wants for submission)\n",
    "for i in range(5):\n",
    "    print(\"Features = {0}, Pred. prob. team0 wins: {1}\".format(X_test[i], y_pred[i]))"
   ]
  },
  {
   "cell_type": "markdown",
   "metadata": {},
   "source": [
    "# Could you double-check I'm calculating this correctly?\n",
    "\n",
    "Just realized Kaggle uses the convention for scoring that the label is 1 if the first team wins, and 0 if the second.  We use 0 if team0 wins, 1 if team1 wins.  I think what's below works...passing y_pred, i.e. the probability that the first team wins (i.e. what we call team0, what they call team 1), and 1-y_test, so that 1-y = 0 when team1 wins (their team2) and 1-y = 1 when team0 wins (their team1).  Please compare http://scikit-learn.org/stable/modules/generated/sklearn.metrics.log_loss.html and https://www.kaggle.com/c/march-machine-learning-mania-2016/details/evaluation to make sure we're doing the same thing.  It's late and I'm not thinking straight."
   ]
  },
  {
   "cell_type": "code",
   "execution_count": 16,
   "metadata": {
    "collapsed": false
   },
   "outputs": [
    {
     "name": "stdout",
     "output_type": "stream",
     "text": [
      "Log loss is 0.6263580061551864\n"
     ]
    }
   ],
   "source": [
    "from sklearn import metrics\n",
    "print(\"Log loss is {0}\".format(metrics.log_loss(1-y_test, y_pred)))"
   ]
  },
  {
   "cell_type": "markdown",
   "metadata": {},
   "source": [
    "# Making a submission on Kaggle\n",
    "\n",
    "The following call generates a file `data/submission.csv` that uses the model you pass it to generate probabilities for all the matches Kaggle wants us to predict.  It will overwrite any previous file.  See `submission.ipynb` for a walk-through of the function.  Have to pass it the model you trained, and the featureList you used."
   ]
  },
  {
   "cell_type": "code",
   "execution_count": 8,
   "metadata": {
    "collapsed": true
   },
   "outputs": [],
   "source": [
    "write_submission_file(model, featureList)"
   ]
  }
 ],
 "metadata": {
  "kernelspec": {
   "display_name": "Python 3",
   "language": "python",
   "name": "python3"
  },
  "language_info": {
   "codemirror_mode": {
    "name": "ipython",
    "version": 3
   },
   "file_extension": ".py",
   "mimetype": "text/x-python",
   "name": "python",
   "nbconvert_exporter": "python",
   "pygments_lexer": "ipython3",
   "version": "3.5.1"
  }
 },
 "nbformat": 4,
 "nbformat_minor": 0
}
