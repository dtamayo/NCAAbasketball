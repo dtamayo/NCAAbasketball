{
 "cells": [
  {
   "cell_type": "markdown",
   "metadata": {},
   "source": [
    "# This is almost the same as svm.ipynb, but writes out the write_submission_file function so you see output along the way.  Please double-check"
   ]
  },
  {
   "cell_type": "code",
   "execution_count": 9,
   "metadata": {
    "collapsed": false
   },
   "outputs": [
    {
     "data": {
      "text/html": [
       "<div>\n",
       "<table border=\"1\" class=\"dataframe\">\n",
       "  <thead>\n",
       "    <tr style=\"text-align: right;\">\n",
       "      <th></th>\n",
       "      <th>Season</th>\n",
       "      <th>Daynum</th>\n",
       "      <th>Wteam</th>\n",
       "      <th>Wscore</th>\n",
       "      <th>Lteam</th>\n",
       "      <th>Lscore</th>\n",
       "      <th>Wloc</th>\n",
       "      <th>Numot</th>\n",
       "      <th>Wfgm</th>\n",
       "      <th>Wfga</th>\n",
       "      <th>...</th>\n",
       "      <th>std_stl0</th>\n",
       "      <th>std_stl1</th>\n",
       "      <th>avg_blk0</th>\n",
       "      <th>avg_blk1</th>\n",
       "      <th>std_blk0</th>\n",
       "      <th>std_blk1</th>\n",
       "      <th>avg_pf0</th>\n",
       "      <th>avg_pf1</th>\n",
       "      <th>std_pf0</th>\n",
       "      <th>std_pf1</th>\n",
       "    </tr>\n",
       "  </thead>\n",
       "  <tbody>\n",
       "    <tr>\n",
       "      <th>0</th>\n",
       "      <td>2003</td>\n",
       "      <td>134</td>\n",
       "      <td>1421</td>\n",
       "      <td>92</td>\n",
       "      <td>1411</td>\n",
       "      <td>84</td>\n",
       "      <td>N</td>\n",
       "      <td>1</td>\n",
       "      <td>32</td>\n",
       "      <td>69</td>\n",
       "      <td>...</td>\n",
       "      <td>2.31</td>\n",
       "      <td>3.14</td>\n",
       "      <td>2.23</td>\n",
       "      <td>3.00</td>\n",
       "      <td>1.72</td>\n",
       "      <td>1.65</td>\n",
       "      <td>18.30</td>\n",
       "      <td>19.10</td>\n",
       "      <td>4.56</td>\n",
       "      <td>3.69</td>\n",
       "    </tr>\n",
       "    <tr>\n",
       "      <th>1</th>\n",
       "      <td>2003</td>\n",
       "      <td>136</td>\n",
       "      <td>1112</td>\n",
       "      <td>80</td>\n",
       "      <td>1436</td>\n",
       "      <td>51</td>\n",
       "      <td>N</td>\n",
       "      <td>0</td>\n",
       "      <td>31</td>\n",
       "      <td>66</td>\n",
       "      <td>...</td>\n",
       "      <td>3.65</td>\n",
       "      <td>3.50</td>\n",
       "      <td>4.21</td>\n",
       "      <td>2.97</td>\n",
       "      <td>2.01</td>\n",
       "      <td>1.72</td>\n",
       "      <td>17.75</td>\n",
       "      <td>15.90</td>\n",
       "      <td>2.99</td>\n",
       "      <td>4.05</td>\n",
       "    </tr>\n",
       "    <tr>\n",
       "      <th>2</th>\n",
       "      <td>2003</td>\n",
       "      <td>136</td>\n",
       "      <td>1113</td>\n",
       "      <td>84</td>\n",
       "      <td>1272</td>\n",
       "      <td>71</td>\n",
       "      <td>N</td>\n",
       "      <td>0</td>\n",
       "      <td>31</td>\n",
       "      <td>59</td>\n",
       "      <td>...</td>\n",
       "      <td>2.14</td>\n",
       "      <td>3.16</td>\n",
       "      <td>4.24</td>\n",
       "      <td>5.07</td>\n",
       "      <td>2.94</td>\n",
       "      <td>3.16</td>\n",
       "      <td>19.41</td>\n",
       "      <td>18.76</td>\n",
       "      <td>3.25</td>\n",
       "      <td>4.34</td>\n",
       "    </tr>\n",
       "    <tr>\n",
       "      <th>3</th>\n",
       "      <td>2003</td>\n",
       "      <td>136</td>\n",
       "      <td>1141</td>\n",
       "      <td>79</td>\n",
       "      <td>1166</td>\n",
       "      <td>73</td>\n",
       "      <td>N</td>\n",
       "      <td>0</td>\n",
       "      <td>29</td>\n",
       "      <td>53</td>\n",
       "      <td>...</td>\n",
       "      <td>2.82</td>\n",
       "      <td>2.94</td>\n",
       "      <td>4.45</td>\n",
       "      <td>4.00</td>\n",
       "      <td>2.22</td>\n",
       "      <td>2.35</td>\n",
       "      <td>17.27</td>\n",
       "      <td>20.97</td>\n",
       "      <td>3.12</td>\n",
       "      <td>4.81</td>\n",
       "    </tr>\n",
       "    <tr>\n",
       "      <th>4</th>\n",
       "      <td>2003</td>\n",
       "      <td>136</td>\n",
       "      <td>1143</td>\n",
       "      <td>76</td>\n",
       "      <td>1301</td>\n",
       "      <td>74</td>\n",
       "      <td>N</td>\n",
       "      <td>1</td>\n",
       "      <td>27</td>\n",
       "      <td>64</td>\n",
       "      <td>...</td>\n",
       "      <td>2.64</td>\n",
       "      <td>3.63</td>\n",
       "      <td>2.79</td>\n",
       "      <td>3.07</td>\n",
       "      <td>1.63</td>\n",
       "      <td>2.49</td>\n",
       "      <td>17.10</td>\n",
       "      <td>18.67</td>\n",
       "      <td>3.74</td>\n",
       "      <td>4.21</td>\n",
       "    </tr>\n",
       "  </tbody>\n",
       "</table>\n",
       "<p>5 rows × 91 columns</p>\n",
       "</div>"
      ],
      "text/plain": [
       "   Season  Daynum  Wteam  Wscore  Lteam  Lscore Wloc  Numot  Wfgm  Wfga  \\\n",
       "0    2003     134   1421      92   1411      84    N      1    32    69   \n",
       "1    2003     136   1112      80   1436      51    N      0    31    66   \n",
       "2    2003     136   1113      84   1272      71    N      0    31    59   \n",
       "3    2003     136   1141      79   1166      73    N      0    29    53   \n",
       "4    2003     136   1143      76   1301      74    N      1    27    64   \n",
       "\n",
       "    ...     std_stl0  std_stl1  avg_blk0  avg_blk1  std_blk0  std_blk1  \\\n",
       "0   ...         2.31      3.14      2.23      3.00      1.72      1.65   \n",
       "1   ...         3.65      3.50      4.21      2.97      2.01      1.72   \n",
       "2   ...         2.14      3.16      4.24      5.07      2.94      3.16   \n",
       "3   ...         2.82      2.94      4.45      4.00      2.22      2.35   \n",
       "4   ...         2.64      3.63      2.79      3.07      1.63      2.49   \n",
       "\n",
       "   avg_pf0  avg_pf1  std_pf0  std_pf1  \n",
       "0    18.30    19.10     4.56     3.69  \n",
       "1    17.75    15.90     2.99     4.05  \n",
       "2    19.41    18.76     3.25     4.34  \n",
       "3    17.27    20.97     3.12     4.81  \n",
       "4    17.10    18.67     3.74     4.21  \n",
       "\n",
       "[5 rows x 91 columns]"
      ]
     },
     "execution_count": 9,
     "metadata": {},
     "output_type": "execute_result"
    }
   ],
   "source": [
    "import pandas as pd\n",
    "import numpy as np\n",
    "    \n",
    "tourney_df = pd.read_csv(\"data/data.csv\", index_col=0)\n",
    "tourney_df.head()"
   ]
  },
  {
   "cell_type": "code",
   "execution_count": 10,
   "metadata": {
    "collapsed": false
   },
   "outputs": [],
   "source": [
    "featureList = ['wins0', 'wins1']\n",
    "y = tourney_df['team0Win'].values # results\n",
    "X = tourney_df[featureList].values # features"
   ]
  },
  {
   "cell_type": "code",
   "execution_count": 6,
   "metadata": {
    "collapsed": false
   },
   "outputs": [],
   "source": [
    "from sklearn.cross_validation import train_test_split\n",
    "X_train, X_test, y_train, y_test = train_test_split(X, y, test_size=0.4, random_state=1)"
   ]
  },
  {
   "cell_type": "code",
   "execution_count": 7,
   "metadata": {
    "collapsed": false
   },
   "outputs": [
    {
     "data": {
      "text/plain": [
       "SVC(C=1.0, cache_size=200, class_weight=None, coef0=0.0,\n",
       "  decision_function_shape=None, degree=3, gamma='auto', kernel='rbf',\n",
       "  max_iter=-1, probability=True, random_state=None, shrinking=True,\n",
       "  tol=0.001, verbose=False)"
      ]
     },
     "execution_count": 7,
     "metadata": {},
     "output_type": "execute_result"
    }
   ],
   "source": [
    "from sklearn import svm\n",
    "model = svm.SVC(probability=True)\n",
    "model.fit(X_train, y_train)"
   ]
  },
  {
   "cell_type": "code",
   "execution_count": 8,
   "metadata": {
    "collapsed": false
   },
   "outputs": [
    {
     "name": "stdout",
     "output_type": "stream",
     "text": [
      "Features = [26 30], Pred. prob. team0 wins: 0.5\n",
      "Features = [33 25], Pred. prob. team0 wins: 0.427897404805\n",
      "Features = [27 32], Pred. prob. team0 wins: 0.511082010237\n",
      "Features = [22 24], Pred. prob. team0 wins: 0.378781317676\n",
      "Features = [29 26], Pred. prob. team0 wins: 0.5\n"
     ]
    }
   ],
   "source": [
    "y_pred = model.predict_proba(X_test)[:,0] # probability that team0 wins (what Kaggle calls team 1, and wants for submission)\n",
    "for i in range(5):\n",
    "    print(\"Features = {0}, Pred. prob. team0 wins: {1}\".format(X_test[i], y_pred[i]))"
   ]
  },
  {
   "cell_type": "markdown",
   "metadata": {},
   "source": [
    "# Could you double-check I'm calculating this correctly?\n",
    "\n",
    "Just realized Kaggle uses the convention for scoring that the label is 1 if the first team wins, and 0 if the second.  We use 0 if team0 wins, 1 if team1 wins.  I think what's below works...passing y_pred, i.e. the probability that the first team wins (i.e. what we call team0, what they call team 1), and 1-y_test, so that 1-y = 0 when team1 wins (their team2) and 1-y = 1 when team0 wins (their team1).  Please compare http://scikit-learn.org/stable/modules/generated/sklearn.metrics.log_loss.html and https://www.kaggle.com/c/march-machine-learning-mania-2016/details/evaluation to make sure we're doing the same thing.  It's late and I'm not thinking straight."
   ]
  },
  {
   "cell_type": "code",
   "execution_count": 6,
   "metadata": {
    "collapsed": false
   },
   "outputs": [
    {
     "name": "stdout",
     "output_type": "stream",
     "text": [
      "Log loss is 0.6445127649406421\n"
     ]
    }
   ],
   "source": [
    "from sklearn import metrics\n",
    "print(\"Log loss is {0}\".format(metrics.log_loss(1-y_test, y_pred)))"
   ]
  },
  {
   "cell_type": "code",
   "execution_count": 7,
   "metadata": {
    "collapsed": false
   },
   "outputs": [],
   "source": [
    "import pandas as pd\n",
    "sample = pd.read_csv('data/sample.csv', index_col=0)"
   ]
  },
  {
   "cell_type": "code",
   "execution_count": 8,
   "metadata": {
    "collapsed": false
   },
   "outputs": [
    {
     "data": {
      "text/html": [
       "<div>\n",
       "<table border=\"1\" class=\"dataframe\">\n",
       "  <thead>\n",
       "    <tr style=\"text-align: right;\">\n",
       "      <th></th>\n",
       "      <th>Id</th>\n",
       "      <th>Pred</th>\n",
       "      <th>Season</th>\n",
       "      <th>team0</th>\n",
       "      <th>team1</th>\n",
       "      <th>wins0</th>\n",
       "      <th>wins1</th>\n",
       "    </tr>\n",
       "  </thead>\n",
       "  <tbody>\n",
       "    <tr>\n",
       "      <th>0</th>\n",
       "      <td>2012_1104_1124</td>\n",
       "      <td>0.5</td>\n",
       "      <td>2012</td>\n",
       "      <td>1104</td>\n",
       "      <td>1124</td>\n",
       "      <td>21</td>\n",
       "      <td>26</td>\n",
       "    </tr>\n",
       "    <tr>\n",
       "      <th>1</th>\n",
       "      <td>2012_1104_1125</td>\n",
       "      <td>0.5</td>\n",
       "      <td>2012</td>\n",
       "      <td>1104</td>\n",
       "      <td>1125</td>\n",
       "      <td>21</td>\n",
       "      <td>26</td>\n",
       "    </tr>\n",
       "    <tr>\n",
       "      <th>2</th>\n",
       "      <td>2012_1104_1140</td>\n",
       "      <td>0.5</td>\n",
       "      <td>2012</td>\n",
       "      <td>1104</td>\n",
       "      <td>1140</td>\n",
       "      <td>21</td>\n",
       "      <td>23</td>\n",
       "    </tr>\n",
       "    <tr>\n",
       "      <th>3</th>\n",
       "      <td>2012_1104_1143</td>\n",
       "      <td>0.5</td>\n",
       "      <td>2012</td>\n",
       "      <td>1104</td>\n",
       "      <td>1143</td>\n",
       "      <td>21</td>\n",
       "      <td>24</td>\n",
       "    </tr>\n",
       "    <tr>\n",
       "      <th>4</th>\n",
       "      <td>2012_1104_1153</td>\n",
       "      <td>0.5</td>\n",
       "      <td>2012</td>\n",
       "      <td>1104</td>\n",
       "      <td>1153</td>\n",
       "      <td>21</td>\n",
       "      <td>24</td>\n",
       "    </tr>\n",
       "  </tbody>\n",
       "</table>\n",
       "</div>"
      ],
      "text/plain": [
       "               Id  Pred  Season  team0  team1  wins0  wins1\n",
       "0  2012_1104_1124   0.5    2012   1104   1124     21     26\n",
       "1  2012_1104_1125   0.5    2012   1104   1125     21     26\n",
       "2  2012_1104_1140   0.5    2012   1104   1140     21     23\n",
       "3  2012_1104_1143   0.5    2012   1104   1143     21     24\n",
       "4  2012_1104_1153   0.5    2012   1104   1153     21     24"
      ]
     },
     "execution_count": 8,
     "metadata": {},
     "output_type": "execute_result"
    }
   ],
   "source": [
    "sample.head()"
   ]
  },
  {
   "cell_type": "code",
   "execution_count": 9,
   "metadata": {
    "collapsed": false
   },
   "outputs": [],
   "source": [
    "Xsample = sample[featureList].values"
   ]
  },
  {
   "cell_type": "code",
   "execution_count": 10,
   "metadata": {
    "collapsed": false
   },
   "outputs": [
    {
     "data": {
      "text/html": [
       "<div>\n",
       "<table border=\"1\" class=\"dataframe\">\n",
       "  <thead>\n",
       "    <tr style=\"text-align: right;\">\n",
       "      <th></th>\n",
       "      <th>Id</th>\n",
       "      <th>Pred</th>\n",
       "      <th>Season</th>\n",
       "      <th>team0</th>\n",
       "      <th>team1</th>\n",
       "      <th>wins0</th>\n",
       "      <th>wins1</th>\n",
       "    </tr>\n",
       "  </thead>\n",
       "  <tbody>\n",
       "    <tr>\n",
       "      <th>0</th>\n",
       "      <td>2012_1104_1124</td>\n",
       "      <td>0.379859</td>\n",
       "      <td>2012</td>\n",
       "      <td>1104</td>\n",
       "      <td>1124</td>\n",
       "      <td>21</td>\n",
       "      <td>26</td>\n",
       "    </tr>\n",
       "    <tr>\n",
       "      <th>1</th>\n",
       "      <td>2012_1104_1125</td>\n",
       "      <td>0.379859</td>\n",
       "      <td>2012</td>\n",
       "      <td>1104</td>\n",
       "      <td>1125</td>\n",
       "      <td>21</td>\n",
       "      <td>26</td>\n",
       "    </tr>\n",
       "    <tr>\n",
       "      <th>2</th>\n",
       "      <td>2012_1104_1140</td>\n",
       "      <td>0.385549</td>\n",
       "      <td>2012</td>\n",
       "      <td>1104</td>\n",
       "      <td>1140</td>\n",
       "      <td>21</td>\n",
       "      <td>23</td>\n",
       "    </tr>\n",
       "    <tr>\n",
       "      <th>3</th>\n",
       "      <td>2012_1104_1143</td>\n",
       "      <td>0.377617</td>\n",
       "      <td>2012</td>\n",
       "      <td>1104</td>\n",
       "      <td>1143</td>\n",
       "      <td>21</td>\n",
       "      <td>24</td>\n",
       "    </tr>\n",
       "    <tr>\n",
       "      <th>4</th>\n",
       "      <td>2012_1104_1153</td>\n",
       "      <td>0.377617</td>\n",
       "      <td>2012</td>\n",
       "      <td>1104</td>\n",
       "      <td>1153</td>\n",
       "      <td>21</td>\n",
       "      <td>24</td>\n",
       "    </tr>\n",
       "    <tr>\n",
       "      <th>5</th>\n",
       "      <td>2012_1104_1160</td>\n",
       "      <td>0.555934</td>\n",
       "      <td>2012</td>\n",
       "      <td>1104</td>\n",
       "      <td>1160</td>\n",
       "      <td>21</td>\n",
       "      <td>21</td>\n",
       "    </tr>\n",
       "    <tr>\n",
       "      <th>6</th>\n",
       "      <td>2012_1104_1161</td>\n",
       "      <td>0.607566</td>\n",
       "      <td>2012</td>\n",
       "      <td>1104</td>\n",
       "      <td>1161</td>\n",
       "      <td>21</td>\n",
       "      <td>20</td>\n",
       "    </tr>\n",
       "    <tr>\n",
       "      <th>7</th>\n",
       "      <td>2012_1104_1163</td>\n",
       "      <td>0.607566</td>\n",
       "      <td>2012</td>\n",
       "      <td>1104</td>\n",
       "      <td>1163</td>\n",
       "      <td>21</td>\n",
       "      <td>20</td>\n",
       "    </tr>\n",
       "    <tr>\n",
       "      <th>8</th>\n",
       "      <td>2012_1104_1166</td>\n",
       "      <td>0.354267</td>\n",
       "      <td>2012</td>\n",
       "      <td>1104</td>\n",
       "      <td>1166</td>\n",
       "      <td>21</td>\n",
       "      <td>28</td>\n",
       "    </tr>\n",
       "    <tr>\n",
       "      <th>9</th>\n",
       "      <td>2012_1104_1172</td>\n",
       "      <td>0.377617</td>\n",
       "      <td>2012</td>\n",
       "      <td>1104</td>\n",
       "      <td>1172</td>\n",
       "      <td>21</td>\n",
       "      <td>24</td>\n",
       "    </tr>\n",
       "  </tbody>\n",
       "</table>\n",
       "</div>"
      ],
      "text/plain": [
       "               Id      Pred  Season  team0  team1  wins0  wins1\n",
       "0  2012_1104_1124  0.379859    2012   1104   1124     21     26\n",
       "1  2012_1104_1125  0.379859    2012   1104   1125     21     26\n",
       "2  2012_1104_1140  0.385549    2012   1104   1140     21     23\n",
       "3  2012_1104_1143  0.377617    2012   1104   1143     21     24\n",
       "4  2012_1104_1153  0.377617    2012   1104   1153     21     24\n",
       "5  2012_1104_1160  0.555934    2012   1104   1160     21     21\n",
       "6  2012_1104_1161  0.607566    2012   1104   1161     21     20\n",
       "7  2012_1104_1163  0.607566    2012   1104   1163     21     20\n",
       "8  2012_1104_1166  0.354267    2012   1104   1166     21     28\n",
       "9  2012_1104_1172  0.377617    2012   1104   1172     21     24"
      ]
     },
     "execution_count": 10,
     "metadata": {},
     "output_type": "execute_result"
    }
   ],
   "source": [
    "sample['Pred'] = model.predict_proba(Xsample)[:,0]\n",
    "sample.head(10)"
   ]
  },
  {
   "cell_type": "code",
   "execution_count": 11,
   "metadata": {
    "collapsed": false
   },
   "outputs": [
    {
     "data": {
      "text/html": [
       "<div>\n",
       "<table border=\"1\" class=\"dataframe\">\n",
       "  <thead>\n",
       "    <tr style=\"text-align: right;\">\n",
       "      <th></th>\n",
       "      <th>Id</th>\n",
       "      <th>Pred</th>\n",
       "    </tr>\n",
       "  </thead>\n",
       "  <tbody>\n",
       "    <tr>\n",
       "      <th>0</th>\n",
       "      <td>2012_1104_1124</td>\n",
       "      <td>0.379859</td>\n",
       "    </tr>\n",
       "    <tr>\n",
       "      <th>1</th>\n",
       "      <td>2012_1104_1125</td>\n",
       "      <td>0.379859</td>\n",
       "    </tr>\n",
       "    <tr>\n",
       "      <th>2</th>\n",
       "      <td>2012_1104_1140</td>\n",
       "      <td>0.385549</td>\n",
       "    </tr>\n",
       "    <tr>\n",
       "      <th>3</th>\n",
       "      <td>2012_1104_1143</td>\n",
       "      <td>0.377617</td>\n",
       "    </tr>\n",
       "    <tr>\n",
       "      <th>4</th>\n",
       "      <td>2012_1104_1153</td>\n",
       "      <td>0.377617</td>\n",
       "    </tr>\n",
       "  </tbody>\n",
       "</table>\n",
       "</div>"
      ],
      "text/plain": [
       "               Id      Pred\n",
       "0  2012_1104_1124  0.379859\n",
       "1  2012_1104_1125  0.379859\n",
       "2  2012_1104_1140  0.385549\n",
       "3  2012_1104_1143  0.377617\n",
       "4  2012_1104_1153  0.377617"
      ]
     },
     "execution_count": 11,
     "metadata": {},
     "output_type": "execute_result"
    }
   ],
   "source": [
    "submission = sample[['Id', 'Pred']]\n",
    "submission.head()"
   ]
  },
  {
   "cell_type": "code",
   "execution_count": 12,
   "metadata": {
    "collapsed": false
   },
   "outputs": [],
   "source": [
    "submission.to_csv(\"data/submission.csv\", encoding='ascii')"
   ]
  }
 ],
 "metadata": {
  "kernelspec": {
   "display_name": "Python 2",
   "language": "python",
   "name": "python2"
  },
  "language_info": {
   "codemirror_mode": {
    "name": "ipython",
    "version": 2
   },
   "file_extension": ".py",
   "mimetype": "text/x-python",
   "name": "python",
   "nbconvert_exporter": "python",
   "pygments_lexer": "ipython2",
   "version": "2.7.11"
  }
 },
 "nbformat": 4,
 "nbformat_minor": 0
}
