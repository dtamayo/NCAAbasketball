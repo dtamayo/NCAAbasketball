{
 "cells": [
  {
   "cell_type": "code",
   "execution_count": 1,
   "metadata": {},
   "outputs": [
    {
     "data": {
      "text/html": [
       "<div>\n",
       "<table border=\"1\" class=\"dataframe\">\n",
       "  <thead>\n",
       "    <tr style=\"text-align: right;\">\n",
       "      <th></th>\n",
       "      <th>Season</th>\n",
       "      <th>Daynum</th>\n",
       "      <th>Wteam</th>\n",
       "      <th>Wscore</th>\n",
       "      <th>Lteam</th>\n",
       "      <th>Lscore</th>\n",
       "      <th>Wloc</th>\n",
       "      <th>Numot</th>\n",
       "      <th>Wfgm</th>\n",
       "      <th>Wfga</th>\n",
       "      <th>...</th>\n",
       "      <th>std_stl0</th>\n",
       "      <th>std_stl1</th>\n",
       "      <th>avg_blk0</th>\n",
       "      <th>avg_blk1</th>\n",
       "      <th>std_blk0</th>\n",
       "      <th>std_blk1</th>\n",
       "      <th>avg_pf0</th>\n",
       "      <th>avg_pf1</th>\n",
       "      <th>std_pf0</th>\n",
       "      <th>std_pf1</th>\n",
       "    </tr>\n",
       "  </thead>\n",
       "  <tbody>\n",
       "    <tr>\n",
       "      <th>0</th>\n",
       "      <td>2003</td>\n",
       "      <td>134</td>\n",
       "      <td>1421</td>\n",
       "      <td>92</td>\n",
       "      <td>1411</td>\n",
       "      <td>84</td>\n",
       "      <td>N</td>\n",
       "      <td>1</td>\n",
       "      <td>32</td>\n",
       "      <td>69</td>\n",
       "      <td>...</td>\n",
       "      <td>2.31</td>\n",
       "      <td>3.14</td>\n",
       "      <td>2.23</td>\n",
       "      <td>3.00</td>\n",
       "      <td>1.72</td>\n",
       "      <td>1.65</td>\n",
       "      <td>18.30</td>\n",
       "      <td>19.10</td>\n",
       "      <td>4.56</td>\n",
       "      <td>3.69</td>\n",
       "    </tr>\n",
       "    <tr>\n",
       "      <th>1</th>\n",
       "      <td>2003</td>\n",
       "      <td>136</td>\n",
       "      <td>1112</td>\n",
       "      <td>80</td>\n",
       "      <td>1436</td>\n",
       "      <td>51</td>\n",
       "      <td>N</td>\n",
       "      <td>0</td>\n",
       "      <td>31</td>\n",
       "      <td>66</td>\n",
       "      <td>...</td>\n",
       "      <td>3.65</td>\n",
       "      <td>3.50</td>\n",
       "      <td>4.21</td>\n",
       "      <td>2.97</td>\n",
       "      <td>2.01</td>\n",
       "      <td>1.72</td>\n",
       "      <td>17.75</td>\n",
       "      <td>15.90</td>\n",
       "      <td>2.99</td>\n",
       "      <td>4.05</td>\n",
       "    </tr>\n",
       "    <tr>\n",
       "      <th>2</th>\n",
       "      <td>2003</td>\n",
       "      <td>136</td>\n",
       "      <td>1113</td>\n",
       "      <td>84</td>\n",
       "      <td>1272</td>\n",
       "      <td>71</td>\n",
       "      <td>N</td>\n",
       "      <td>0</td>\n",
       "      <td>31</td>\n",
       "      <td>59</td>\n",
       "      <td>...</td>\n",
       "      <td>2.14</td>\n",
       "      <td>3.16</td>\n",
       "      <td>4.24</td>\n",
       "      <td>5.07</td>\n",
       "      <td>2.94</td>\n",
       "      <td>3.16</td>\n",
       "      <td>19.41</td>\n",
       "      <td>18.76</td>\n",
       "      <td>3.25</td>\n",
       "      <td>4.34</td>\n",
       "    </tr>\n",
       "    <tr>\n",
       "      <th>3</th>\n",
       "      <td>2003</td>\n",
       "      <td>136</td>\n",
       "      <td>1141</td>\n",
       "      <td>79</td>\n",
       "      <td>1166</td>\n",
       "      <td>73</td>\n",
       "      <td>N</td>\n",
       "      <td>0</td>\n",
       "      <td>29</td>\n",
       "      <td>53</td>\n",
       "      <td>...</td>\n",
       "      <td>2.82</td>\n",
       "      <td>2.94</td>\n",
       "      <td>4.45</td>\n",
       "      <td>4.00</td>\n",
       "      <td>2.22</td>\n",
       "      <td>2.35</td>\n",
       "      <td>17.27</td>\n",
       "      <td>20.97</td>\n",
       "      <td>3.12</td>\n",
       "      <td>4.81</td>\n",
       "    </tr>\n",
       "    <tr>\n",
       "      <th>4</th>\n",
       "      <td>2003</td>\n",
       "      <td>136</td>\n",
       "      <td>1143</td>\n",
       "      <td>76</td>\n",
       "      <td>1301</td>\n",
       "      <td>74</td>\n",
       "      <td>N</td>\n",
       "      <td>1</td>\n",
       "      <td>27</td>\n",
       "      <td>64</td>\n",
       "      <td>...</td>\n",
       "      <td>2.64</td>\n",
       "      <td>3.63</td>\n",
       "      <td>2.79</td>\n",
       "      <td>3.07</td>\n",
       "      <td>1.63</td>\n",
       "      <td>2.49</td>\n",
       "      <td>17.10</td>\n",
       "      <td>18.67</td>\n",
       "      <td>3.74</td>\n",
       "      <td>4.21</td>\n",
       "    </tr>\n",
       "  </tbody>\n",
       "</table>\n",
       "<p>5 rows × 91 columns</p>\n",
       "</div>"
      ],
      "text/plain": [
       "   Season  Daynum  Wteam  Wscore  Lteam  Lscore Wloc  Numot  Wfgm  Wfga  \\\n",
       "0    2003     134   1421      92   1411      84    N      1    32    69   \n",
       "1    2003     136   1112      80   1436      51    N      0    31    66   \n",
       "2    2003     136   1113      84   1272      71    N      0    31    59   \n",
       "3    2003     136   1141      79   1166      73    N      0    29    53   \n",
       "4    2003     136   1143      76   1301      74    N      1    27    64   \n",
       "\n",
       "    ...     std_stl0  std_stl1  avg_blk0  avg_blk1  std_blk0  std_blk1  \\\n",
       "0   ...         2.31      3.14      2.23      3.00      1.72      1.65   \n",
       "1   ...         3.65      3.50      4.21      2.97      2.01      1.72   \n",
       "2   ...         2.14      3.16      4.24      5.07      2.94      3.16   \n",
       "3   ...         2.82      2.94      4.45      4.00      2.22      2.35   \n",
       "4   ...         2.64      3.63      2.79      3.07      1.63      2.49   \n",
       "\n",
       "   avg_pf0  avg_pf1  std_pf0  std_pf1  \n",
       "0    18.30    19.10     4.56     3.69  \n",
       "1    17.75    15.90     2.99     4.05  \n",
       "2    19.41    18.76     3.25     4.34  \n",
       "3    17.27    20.97     3.12     4.81  \n",
       "4    17.10    18.67     3.74     4.21  \n",
       "\n",
       "[5 rows x 91 columns]"
      ]
     },
     "execution_count": 1,
     "metadata": {},
     "output_type": "execute_result"
    }
   ],
   "source": [
    "import pandas as pd\n",
    "import numpy as np\n",
    "   \n",
    "tourney_df = pd.read_csv(\"data/data.csv\", index_col=0)\n",
    "tourney_df.head()"
   ]
  },
  {
   "cell_type": "markdown",
   "metadata": {},
   "source": [
    "# Choosing Features to Use for Model\n",
    "\n",
    "Edit featureList below to use any of the features in the data frame above (see above for names of columns).  "
   ]
  },
  {
   "cell_type": "code",
   "execution_count": 2,
   "metadata": {
    "collapsed": true
   },
   "outputs": [],
   "source": [
    "featureList = ['wins0', 'wins1']"
   ]
  },
  {
   "cell_type": "markdown",
   "metadata": {},
   "source": [
    "Making target list from team0Win column, and feature list using selected features:"
   ]
  },
  {
   "cell_type": "code",
   "execution_count": 3,
   "metadata": {},
   "outputs": [],
   "source": [
    "y = tourney_df['team0Win'].values # results\n",
    "X = tourney_df[featureList].values # features"
   ]
  },
  {
   "cell_type": "markdown",
   "metadata": {},
   "source": [
    "Splitting off 20% of data into test set to avoid leakage:"
   ]
  },
  {
   "cell_type": "code",
   "execution_count": 4,
   "metadata": {
    "collapsed": true
   },
   "outputs": [],
   "source": [
    "from sklearn.cross_validation import train_test_split\n",
    "X_train, X_test, y_train, y_test = train_test_split(X, y, test_size=0.2, random_state=1)"
   ]
  },
  {
   "cell_type": "markdown",
   "metadata": {},
   "source": [
    "Making a scaler that computes mean and SD in training data, and can then be applied to any matrix of features (i.e. one of the X matrices) to do feature scaling:"
   ]
  },
  {
   "cell_type": "code",
   "execution_count": 5,
   "metadata": {},
   "outputs": [
    {
     "name": "stdout",
     "output_type": "stream",
     "text": [
      "Means = [ 23.83899557  24.01033973], Stdevs = [ 3.76162904  3.67130427]\n"
     ]
    },
    {
     "name": "stderr",
     "output_type": "stream",
     "text": [
      "/Users/dtamayo/miniconda2/envs/ml2/lib/python2.7/site-packages/sklearn/utils/validation.py:420: DataConversionWarning: Data with input dtype int64 was converted to float64 by StandardScaler.\n",
      "  warnings.warn(msg, DataConversionWarning)\n"
     ]
    }
   ],
   "source": [
    "from sklearn import preprocessing\n",
    "scaler = preprocessing.StandardScaler().fit(X_train)\n",
    "print(\"Means = {0}, Stdevs = {1}\".format(scaler.mean_, scaler.scale_))"
   ]
  },
  {
   "cell_type": "markdown",
   "metadata": {},
   "source": [
    "Applying the same scaler to the training and testing data:"
   ]
  },
  {
   "cell_type": "code",
   "execution_count": 6,
   "metadata": {},
   "outputs": [
    {
     "name": "stderr",
     "output_type": "stream",
     "text": [
      "/Users/dtamayo/miniconda2/envs/ml2/lib/python2.7/site-packages/sklearn/utils/validation.py:420: DataConversionWarning: Data with input dtype int64 was converted to float64 by StandardScaler.\n",
      "  warnings.warn(msg, DataConversionWarning)\n",
      "/Users/dtamayo/miniconda2/envs/ml2/lib/python2.7/site-packages/sklearn/utils/validation.py:420: DataConversionWarning: Data with input dtype int64 was converted to float64 by StandardScaler.\n",
      "  warnings.warn(msg, DataConversionWarning)\n"
     ]
    }
   ],
   "source": [
    "X_train = scaler.transform(X_train)\n",
    "X_test = scaler.transform(X_test)"
   ]
  },
  {
   "cell_type": "markdown",
   "metadata": {},
   "source": [
    "# Train our model!\n",
    "\n",
    "Here we use gridsearch to find the optimal values of C and gamma for the SVM.  We also use stratifiedshufflesplit cross-validation with 5 folds to reduce variance:"
   ]
  },
  {
   "cell_type": "code",
   "execution_count": 7,
   "metadata": {},
   "outputs": [
    {
     "name": "stdout",
     "output_type": "stream",
     "text": [
      "The best parameters are {'C': 10.0, 'gamma': 0.001} with a score of -0.61\n"
     ]
    }
   ],
   "source": [
    "from sklearn import svm\n",
    "from sklearn.cross_validation import StratifiedShuffleSplit\n",
    "from sklearn.grid_search import GridSearchCV\n",
    "\n",
    "C_range = np.logspace(0, 3, 4)\n",
    "gamma_range = np.logspace(-3, 0, 4)\n",
    "param_grid = dict(gamma=gamma_range, C=C_range)\n",
    "cv = StratifiedShuffleSplit(y_train, n_iter=5, test_size=0.2, random_state=42)\n",
    "grid = GridSearchCV(svm.SVC(probability=True, kernel='rbf'), scoring=\"log_loss\", param_grid=param_grid, cv=cv, n_jobs=-1)\n",
    "grid.fit(X_train, y_train) \n",
    "print \"The best parameters are %s with a score of %0.2f\" % (grid.best_params_, grid.best_score_) "
   ]
  },
  {
   "cell_type": "markdown",
   "metadata": {},
   "source": [
    "We select the classifier with the parameters that did best above, apply it to the test data, and calculate the log loss:"
   ]
  },
  {
   "cell_type": "code",
   "execution_count": 8,
   "metadata": {},
   "outputs": [
    {
     "name": "stdout",
     "output_type": "stream",
     "text": [
      "Log loss is 0.621202452216\n"
     ]
    }
   ],
   "source": [
    "model = grid.best_estimator_\n",
    "y_pred = model.predict_proba(X_test) # probability that team0 wins (what Kaggle calls team 1, and wants for submission)\n",
    "from sklearn import metrics\n",
    "print(\"Log loss is {0}\".format(metrics.log_loss(y_test, y_pred)))"
   ]
  },
  {
   "cell_type": "markdown",
   "metadata": {},
   "source": [
    "# Writing the Kaggle Submission File\n",
    "\n",
    "`SampleSubmissionWithFeatures.csv` is generated by GenerateFeatures.ipynb and has all the games we need to predict, with all the faeatures we have generated appended to it:"
   ]
  },
  {
   "cell_type": "code",
   "execution_count": 9,
   "metadata": {},
   "outputs": [
    {
     "data": {
      "text/html": [
       "<div>\n",
       "<table border=\"1\" class=\"dataframe\">\n",
       "  <thead>\n",
       "    <tr style=\"text-align: right;\">\n",
       "      <th></th>\n",
       "      <th>Id</th>\n",
       "      <th>Pred</th>\n",
       "      <th>Season</th>\n",
       "      <th>team0</th>\n",
       "      <th>team1</th>\n",
       "      <th>wins0</th>\n",
       "      <th>wins1</th>\n",
       "      <th>avg_fgm0</th>\n",
       "      <th>avg_fgm1</th>\n",
       "      <th>std_fgm0</th>\n",
       "      <th>...</th>\n",
       "      <th>std_stl0</th>\n",
       "      <th>std_stl1</th>\n",
       "      <th>avg_blk0</th>\n",
       "      <th>avg_blk1</th>\n",
       "      <th>std_blk0</th>\n",
       "      <th>std_blk1</th>\n",
       "      <th>avg_pf0</th>\n",
       "      <th>avg_pf1</th>\n",
       "      <th>std_pf0</th>\n",
       "      <th>std_pf1</th>\n",
       "    </tr>\n",
       "  </thead>\n",
       "  <tbody>\n",
       "    <tr>\n",
       "      <th>0</th>\n",
       "      <td>2012_1104_1124</td>\n",
       "      <td>0.5</td>\n",
       "      <td>2012</td>\n",
       "      <td>1104</td>\n",
       "      <td>1124</td>\n",
       "      <td>21</td>\n",
       "      <td>26</td>\n",
       "      <td>23.62</td>\n",
       "      <td>26.09</td>\n",
       "      <td>3.63</td>\n",
       "      <td>...</td>\n",
       "      <td>3.51</td>\n",
       "      <td>2.89</td>\n",
       "      <td>4.16</td>\n",
       "      <td>4.64</td>\n",
       "      <td>2.68</td>\n",
       "      <td>2.98</td>\n",
       "      <td>18.41</td>\n",
       "      <td>17.64</td>\n",
       "      <td>4.01</td>\n",
       "      <td>4.30</td>\n",
       "    </tr>\n",
       "    <tr>\n",
       "      <th>1</th>\n",
       "      <td>2012_1104_1125</td>\n",
       "      <td>0.5</td>\n",
       "      <td>2012</td>\n",
       "      <td>1104</td>\n",
       "      <td>1125</td>\n",
       "      <td>21</td>\n",
       "      <td>26</td>\n",
       "      <td>23.62</td>\n",
       "      <td>27.91</td>\n",
       "      <td>3.63</td>\n",
       "      <td>...</td>\n",
       "      <td>3.51</td>\n",
       "      <td>2.83</td>\n",
       "      <td>4.16</td>\n",
       "      <td>2.24</td>\n",
       "      <td>2.68</td>\n",
       "      <td>1.68</td>\n",
       "      <td>18.41</td>\n",
       "      <td>18.27</td>\n",
       "      <td>4.01</td>\n",
       "      <td>4.01</td>\n",
       "    </tr>\n",
       "    <tr>\n",
       "      <th>2</th>\n",
       "      <td>2012_1104_1140</td>\n",
       "      <td>0.5</td>\n",
       "      <td>2012</td>\n",
       "      <td>1104</td>\n",
       "      <td>1140</td>\n",
       "      <td>21</td>\n",
       "      <td>23</td>\n",
       "      <td>23.62</td>\n",
       "      <td>27.97</td>\n",
       "      <td>3.63</td>\n",
       "      <td>...</td>\n",
       "      <td>3.51</td>\n",
       "      <td>3.44</td>\n",
       "      <td>4.16</td>\n",
       "      <td>4.19</td>\n",
       "      <td>2.68</td>\n",
       "      <td>1.72</td>\n",
       "      <td>18.41</td>\n",
       "      <td>18.45</td>\n",
       "      <td>4.01</td>\n",
       "      <td>4.44</td>\n",
       "    </tr>\n",
       "    <tr>\n",
       "      <th>3</th>\n",
       "      <td>2012_1104_1143</td>\n",
       "      <td>0.5</td>\n",
       "      <td>2012</td>\n",
       "      <td>1104</td>\n",
       "      <td>1143</td>\n",
       "      <td>21</td>\n",
       "      <td>24</td>\n",
       "      <td>23.62</td>\n",
       "      <td>26.42</td>\n",
       "      <td>3.63</td>\n",
       "      <td>...</td>\n",
       "      <td>3.51</td>\n",
       "      <td>1.67</td>\n",
       "      <td>4.16</td>\n",
       "      <td>3.15</td>\n",
       "      <td>2.68</td>\n",
       "      <td>1.39</td>\n",
       "      <td>18.41</td>\n",
       "      <td>14.39</td>\n",
       "      <td>4.01</td>\n",
       "      <td>3.69</td>\n",
       "    </tr>\n",
       "    <tr>\n",
       "      <th>4</th>\n",
       "      <td>2012_1104_1153</td>\n",
       "      <td>0.5</td>\n",
       "      <td>2012</td>\n",
       "      <td>1104</td>\n",
       "      <td>1153</td>\n",
       "      <td>21</td>\n",
       "      <td>24</td>\n",
       "      <td>23.62</td>\n",
       "      <td>25.06</td>\n",
       "      <td>3.63</td>\n",
       "      <td>...</td>\n",
       "      <td>3.51</td>\n",
       "      <td>3.01</td>\n",
       "      <td>4.16</td>\n",
       "      <td>4.59</td>\n",
       "      <td>2.68</td>\n",
       "      <td>2.74</td>\n",
       "      <td>18.41</td>\n",
       "      <td>15.15</td>\n",
       "      <td>4.01</td>\n",
       "      <td>3.21</td>\n",
       "    </tr>\n",
       "  </tbody>\n",
       "</table>\n",
       "<p>5 rows × 59 columns</p>\n",
       "</div>"
      ],
      "text/plain": [
       "               Id  Pred  Season  team0  team1  wins0  wins1  avg_fgm0  \\\n",
       "0  2012_1104_1124   0.5    2012   1104   1124     21     26     23.62   \n",
       "1  2012_1104_1125   0.5    2012   1104   1125     21     26     23.62   \n",
       "2  2012_1104_1140   0.5    2012   1104   1140     21     23     23.62   \n",
       "3  2012_1104_1143   0.5    2012   1104   1143     21     24     23.62   \n",
       "4  2012_1104_1153   0.5    2012   1104   1153     21     24     23.62   \n",
       "\n",
       "   avg_fgm1  std_fgm0   ...     std_stl0  std_stl1  avg_blk0  avg_blk1  \\\n",
       "0     26.09      3.63   ...         3.51      2.89      4.16      4.64   \n",
       "1     27.91      3.63   ...         3.51      2.83      4.16      2.24   \n",
       "2     27.97      3.63   ...         3.51      3.44      4.16      4.19   \n",
       "3     26.42      3.63   ...         3.51      1.67      4.16      3.15   \n",
       "4     25.06      3.63   ...         3.51      3.01      4.16      4.59   \n",
       "\n",
       "   std_blk0  std_blk1  avg_pf0  avg_pf1  std_pf0  std_pf1  \n",
       "0      2.68      2.98    18.41    17.64     4.01     4.30  \n",
       "1      2.68      1.68    18.41    18.27     4.01     4.01  \n",
       "2      2.68      1.72    18.41    18.45     4.01     4.44  \n",
       "3      2.68      1.39    18.41    14.39     4.01     3.69  \n",
       "4      2.68      2.74    18.41    15.15     4.01     3.21  \n",
       "\n",
       "[5 rows x 59 columns]"
      ]
     },
     "execution_count": 9,
     "metadata": {},
     "output_type": "execute_result"
    }
   ],
   "source": [
    "sample_df = pd.read_csv('data/SampleSubmissionWithFeatures.csv', index_col=0)\n",
    "sample_df.head()"
   ]
  },
  {
   "cell_type": "markdown",
   "metadata": {},
   "source": [
    "The function below takes `SampleSubmissionWithFeatures.csv`, generates a matrix Xsample that only includes the features you used above in training the SVM (which you pass as `featureList`), applies the passed scaler object (you should pass the same one you used above), and then uses the passed model to estimate the probability that the first team (team0) wins, which is what Kaggle wants.  It then writes the file you need to submit to Kaggle to `submission_output_file`:"
   ]
  },
  {
   "cell_type": "code",
   "execution_count": 10,
   "metadata": {},
   "outputs": [],
   "source": [
    "def write_submission_file(model, featureList, scaler, submission_output_file): # see submission.ipynb for details\n",
    "    import pandas as pd\n",
    "    sample_df = pd.read_csv('data/SampleSubmissionWithFeatures.csv', index_col=0)\n",
    "    Xsample = sample_df[featureList].values\n",
    "    Xsample = scaler.transform(Xsample)\n",
    "    sample_df['Pred'] = model.predict_proba(Xsample)[:,1] # predict_proba returns [prob label is 0, prob label is 1], kaggle wants 2nd column\n",
    "    submission = sample_df[['Id', 'Pred']]\n",
    "    submission.to_csv(submission_output_file, encoding='ascii', index=False)"
   ]
  },
  {
   "cell_type": "markdown",
   "metadata": {},
   "source": [
    "So here we call the above function, passing it our best model from above, the same featureList we used, the scaler we used, and an output filename `data/submission.csv`.  You would then submit this file to Kaggle."
   ]
  },
  {
   "cell_type": "code",
   "execution_count": 13,
   "metadata": {},
   "outputs": [
    {
     "name": "stderr",
     "output_type": "stream",
     "text": [
      "/Users/dtamayo/miniconda2/envs/ml2/lib/python2.7/site-packages/sklearn/utils/validation.py:420: DataConversionWarning: Data with input dtype int64 was converted to float64 by StandardScaler.\n",
      "  warnings.warn(msg, DataConversionWarning)\n"
     ]
    }
   ],
   "source": [
    "submission_output_file = \"data/submission.csv\"\n",
    "write_submission_file(model, featureList, scaler, submission_output_file)"
   ]
  },
  {
   "cell_type": "code",
   "execution_count": 14,
   "metadata": {},
   "outputs": [
    {
     "data": {
      "text/html": [
       "<div>\n",
       "<table border=\"1\" class=\"dataframe\">\n",
       "  <thead>\n",
       "    <tr style=\"text-align: right;\">\n",
       "      <th></th>\n",
       "      <th>Pred</th>\n",
       "    </tr>\n",
       "    <tr>\n",
       "      <th>Id</th>\n",
       "      <th></th>\n",
       "    </tr>\n",
       "  </thead>\n",
       "  <tbody>\n",
       "    <tr>\n",
       "      <th>2012_1104_1124</th>\n",
       "      <td>0.296864</td>\n",
       "    </tr>\n",
       "    <tr>\n",
       "      <th>2012_1104_1125</th>\n",
       "      <td>0.296864</td>\n",
       "    </tr>\n",
       "    <tr>\n",
       "      <th>2012_1104_1140</th>\n",
       "      <td>0.427592</td>\n",
       "    </tr>\n",
       "    <tr>\n",
       "      <th>2012_1104_1143</th>\n",
       "      <td>0.382751</td>\n",
       "    </tr>\n",
       "    <tr>\n",
       "      <th>2012_1104_1153</th>\n",
       "      <td>0.382751</td>\n",
       "    </tr>\n",
       "  </tbody>\n",
       "</table>\n",
       "</div>"
      ],
      "text/plain": [
       "                    Pred\n",
       "Id                      \n",
       "2012_1104_1124  0.296864\n",
       "2012_1104_1125  0.296864\n",
       "2012_1104_1140  0.427592\n",
       "2012_1104_1143  0.382751\n",
       "2012_1104_1153  0.382751"
      ]
     },
     "execution_count": 14,
     "metadata": {},
     "output_type": "execute_result"
    }
   ],
   "source": [
    "submission_df = pd.read_csv(submission_output_file, index_col=0)\n",
    "submission_df.head()"
   ]
  },
  {
   "cell_type": "code",
   "execution_count": null,
   "metadata": {
    "collapsed": true
   },
   "outputs": [],
   "source": []
  }
 ],
 "metadata": {
  "kernelspec": {
   "display_name": "Python 3",
   "language": "python",
   "name": "python3"
  },
  "language_info": {
   "codemirror_mode": {
    "name": "ipython",
    "version": 3
   },
   "file_extension": ".py",
   "mimetype": "text/x-python",
   "name": "python",
   "nbconvert_exporter": "python",
   "pygments_lexer": "ipython3",
   "version": "3.7.2"
  }
 },
 "nbformat": 4,
 "nbformat_minor": 1
}
