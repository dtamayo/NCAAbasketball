{
 "cells": [
  {
   "cell_type": "code",
   "execution_count": 1,
   "metadata": {
    "collapsed": false
   },
   "outputs": [
    {
     "data": {
      "text/plain": [
       "'\\nNCAA Project\\nLook at the difference between winning and losing teams in the NCAAM tournament, \\nusing stats of every NCAAM tournament game since 2003.\\nRashad Alston\\nGeneral Basketball Analysis Repo >> https://github.com/ralston3/basketball\\n'"
      ]
     },
     "execution_count": 1,
     "metadata": {},
     "output_type": "execute_result"
    }
   ],
   "source": [
    "'''\n",
    "NCAA Project\n",
    "Look at the difference between winning and losing teams in the NCAAM tournament, \n",
    "using stats of every NCAAM tournament game since 2003.\n",
    "Rashad Alston\n",
    "General Basketball Analysis Repo >> https://github.com/ralston3/basketball\n",
    "'''"
   ]
  },
  {
   "cell_type": "code",
   "execution_count": 2,
   "metadata": {
    "collapsed": false
   },
   "outputs": [],
   "source": [
    "from __future__ import division\n",
    "import pandas as pd\n",
    "import numpy as np\n",
    "import random\n",
    "import matplotlib.pyplot as plt\n",
    "from mpl_toolkits.mplot3d import Axes3D\n",
    "import seaborn as sns ; sns.set()\n",
    "%matplotlib inline"
   ]
  },
  {
   "cell_type": "code",
   "execution_count": 3,
   "metadata": {
    "collapsed": false
   },
   "outputs": [
    {
     "name": "stdout",
     "output_type": "stream",
     "text": [
      "================================================\n",
      "Tournament data:\n",
      "================================================\n",
      "   Season  Daynum  Wteam  Wscore  Lteam  Lscore Wloc  Numot  Wfgm  Wfga  \\\n",
      "0    2003     134   1421      92   1411      84    N      1    32    69   \n",
      "1    2003     136   1112      80   1436      51    N      0    31    66   \n",
      "2    2003     136   1113      84   1272      71    N      0    31    59   \n",
      "3    2003     136   1141      79   1166      73    N      0    29    53   \n",
      "4    2003     136   1143      76   1301      74    N      1    27    64   \n",
      "5    2003     136   1163      58   1140      53    N      0    17    52   \n",
      "6    2003     136   1181      67   1161      57    N      0    19    54   \n",
      "7    2003     136   1211      74   1153      69    N      0    20    47   \n",
      "8    2003     136   1228      65   1443      60    N      0    24    56   \n",
      "9    2003     136   1242      64   1429      61    N      0    28    51   \n",
      "\n",
      "      ...       Lfta  Lor  Ldr  Last  Lto  Lstl  Lblk  Lpf     Wteam_name  \\\n",
      "0     ...         31   17   28    16   15     5     0   22  UNC Asheville   \n",
      "1     ...          7    8   26    12   17    10     3   15        Arizona   \n",
      "2     ...         21   20   22    11   12     2     5   18     Arizona St   \n",
      "3     ...         17   14   17    20   21     6     6   21     C Michigan   \n",
      "4     ...         20   10   26    16   14     5     8   19     California   \n",
      "5     ...         13   15   26    11   11     8     4   22    Connecticut   \n",
      "6     ...         22   11   24     8   19     5     4   19           Duke   \n",
      "7     ...         10   13   22    13   10     7     6   24        Gonzaga   \n",
      "8     ...         13   17   18    10   14     6     5   16       Illinois   \n",
      "9     ...         10   13   19    13   13     6     1   15         Kansas   \n",
      "\n",
      "    Lteam_name  \n",
      "0  TX Southern  \n",
      "1      Vermont  \n",
      "2      Memphis  \n",
      "3    Creighton  \n",
      "4     NC State  \n",
      "5          BYU  \n",
      "6  Colorado St  \n",
      "7   Cincinnati  \n",
      "8          WKU  \n",
      "9      Utah St  \n",
      "\n",
      "[10 rows x 36 columns]\n",
      "================================================\n",
      "Teams data:\n",
      "================================================\n",
      "   Team_Id      Team_Name\n",
      "0     1101    Abilene Chr\n",
      "1     1102      Air Force\n",
      "2     1103          Akron\n",
      "3     1104        Alabama\n",
      "4     1105    Alabama A&M\n",
      "5     1106     Alabama St\n",
      "6     1107      Albany NY\n",
      "7     1108      Alcorn St\n",
      "8     1109   Alliant Intl\n",
      "9     1110  American Univ\n",
      "================================================\n",
      "Season data:\n",
      "================================================\n",
      "   Season  Daynum  Wteam  Wscore  Lteam  Lscore Wloc  Numot\n",
      "0    1985      20   1228      81   1328      64    N      0\n",
      "1    1985      25   1106      77   1354      70    H      0\n",
      "2    1985      25   1112      63   1223      56    H      0\n",
      "3    1985      25   1165      70   1432      54    H      0\n",
      "4    1985      25   1192      86   1447      74    H      0\n",
      "5    1985      25   1218      79   1337      78    H      0\n",
      "6    1985      25   1228      64   1226      44    N      0\n",
      "7    1985      25   1242      58   1268      56    N      0\n",
      "8    1985      25   1260      98   1133      80    H      0\n",
      "9    1985      25   1305      97   1424      89    H      0\n"
     ]
    }
   ],
   "source": [
    "# Only using the Teams, and Detailed Tournament Results files\n",
    "\n",
    "tourney_df = pd.read_csv('data/TourneyDetailedResults.csv')\n",
    "teams_df = pd.read_csv('data/Teams.csv')\n",
    "seasonsCR_df = pd.read_csv('data/RegularSeasonCompactResults.csv')\n",
    "team_dict = dict(zip(teams_df['Team_Id'].values, teams_df['Team_Name'].values))\n",
    "tourney_df['Wteam_name'] = tourney_df['Wteam'].map(team_dict)\n",
    "tourney_df['Lteam_name'] = tourney_df['Lteam'].map(team_dict)\n",
    "\n",
    "print('================================================')\n",
    "print('Tournament data:')\n",
    "print('================================================')\n",
    "print(tourney_df.head(10))\n",
    "print('================================================')\n",
    "print('Teams data:')\n",
    "print('================================================')\n",
    "print(teams_df.head(10))\n",
    "print('================================================')\n",
    "print('Season data:')\n",
    "print('================================================')\n",
    "print(seasonsCR_df.head(10))\n"
   ]
  },
  {
   "cell_type": "code",
   "execution_count": 4,
   "metadata": {
    "collapsed": false
   },
   "outputs": [
    {
     "data": {
      "text/plain": [
       "<matplotlib.legend.Legend at 0x106edc240>"
      ]
     },
     "execution_count": 4,
     "metadata": {},
     "output_type": "execute_result"
    },
    {
     "data": {
      "image/png": "[encoded data removed]",
      "text/plain": [
       "<matplotlib.figure.Figure at 0x11401a860>"
      ]
     },
     "metadata": {},
     "output_type": "display_data"
    }
   ],
   "source": [
    "# Distribution density of wins and losses.\n",
    "\n",
    "tourney_wins = tourney_df.loc[tourney_df['Wteam'] !=0, 'Wteam'].value_counts()\n",
    "tourney_losses = tourney_df.loc[tourney_df['Wteam'] !=0, 'Lteam'].value_counts()\n",
    "tourney_df['Wwins'] = tourney_df['Wteam'].map(tourney_wins)\n",
    "tourney_df['Lwins'] = tourney_df['Lteam'].map(tourney_wins)\n",
    "tourney_df = tourney_df.replace(np.nan, 0)\n",
    "\n",
    "plt.figure(figsize=(15, 4))\n",
    "\n",
    "sns.kdeplot(tourney_losses, color='#ff6600', label='Distribution | STD=(+/-) %3.2f losses'%(np.std(tourney_losses)))\n",
    "sns.kdeplot(tourney_wins, shade='True', color ='#0080ff', label='Distribution | STD=(+/-) %3.2f wins'%(np.std(tourney_wins)))\n",
    "\n",
    "plt.title('Distribution of Outcome Density')\n",
    "plt.xlabel('Number of Wins/Losses')\n",
    "plt.ylabel('Density of Win/Loss Occrence')\n",
    "plt.xlim([0, max(tourney_wins)])\n",
    "plt.legend(loc='upper right')"
   ]
  },
  {
   "cell_type": "code",
   "execution_count": 5,
   "metadata": {
    "collapsed": true
   },
   "outputs": [],
   "source": [
    "season_wins = seasonsCR_df.loc[(seasonsCR_df['Season'] == 2015) & (seasonsCR_df['Wteam'] !=0), 'Wteam'].value_counts()"
   ]
  },
  {
   "cell_type": "code",
   "execution_count": 6,
   "metadata": {
    "collapsed": false
   },
   "outputs": [
    {
     "name": "stdout",
     "output_type": "stream",
     "text": [
      "16\n"
     ]
    }
   ],
   "source": [
    "print(season_wins[1214])"
   ]
  },
  {
   "cell_type": "code",
   "execution_count": 7,
   "metadata": {
    "collapsed": false
   },
   "outputs": [
    {
     "name": "stdout",
     "output_type": "stream",
     "text": [
      "     Season  Daynum  Wteam  Wscore  Lteam  Lscore Wloc  Numot  Wfgm  Wfga  \\\n",
      "780    2015     134   1214      74   1264      64    N      0    26    53   \n",
      "\n",
      "     ...    Ldr  Last  Lto  Lstl  Lblk  Lpf  Wteam_name  Lteam_name  Wwins  \\\n",
      "780  ...     27    15   17     5     3   25     Hampton   Manhattan      1   \n",
      "\n",
      "     Lwins  \n",
      "780      1  \n",
      "\n",
      "[1 rows x 38 columns]\n",
      "     Season  Daynum  Wteam  Wscore  Lteam  Lscore Wloc  Numot  Wfgm  Wfga  \\\n",
      "780    2015     134      3      74   1264      64    N      0    26    53   \n",
      "\n",
      "     ...    Ldr  Last  Lto  Lstl  Lblk  Lpf  Wteam_name  Lteam_name  Wwins  \\\n",
      "780  ...     27    15   17     5     3   25     Hampton   Manhattan      1   \n",
      "\n",
      "     Lwins  \n",
      "780      1  \n",
      "\n",
      "[1 rows x 38 columns]\n"
     ]
    },
    {
     "name": "stderr",
     "output_type": "stream",
     "text": [
      "/Users/dtamayo/miniconda2/envs/ml/lib/python3.5/site-packages/pandas/core/indexing.py:426: SettingWithCopyWarning: \n",
      "A value is trying to be set on a copy of a slice from a DataFrame.\n",
      "Try using .loc[row_indexer,col_indexer] = value instead\n",
      "\n",
      "See the caveats in the documentation: http://pandas.pydata.org/pandas-docs/stable/indexing.html#indexing-view-versus-copy\n",
      "  self.obj[item] = s\n"
     ]
    }
   ],
   "source": [
    "tourney2015 = tourney_df[(tourney_df['Season'] == 2015)]\n",
    "tourney2015.loc[780, 'Wteam'] = 3\n",
    "print(tourney_df.loc[[780]])\n",
    "print(tourney2015.loc[[780]])"
   ]
  },
  {
   "cell_type": "code",
   "execution_count": 8,
   "metadata": {
    "collapsed": false
   },
   "outputs": [
    {
     "name": "stderr",
     "output_type": "stream",
     "text": [
      "/Users/dtamayo/miniconda2/envs/ml/lib/python3.5/site-packages/ipykernel/__main__.py:3: SettingWithCopyWarning: \n",
      "A value is trying to be set on a copy of a slice from a DataFrame.\n",
      "Try using .loc[row_indexer,col_indexer] = value instead\n",
      "\n",
      "See the caveats in the documentation: http://pandas.pydata.org/pandas-docs/stable/indexing.html#indexing-view-versus-copy\n",
      "  app.launch_new_instance()\n",
      "/Users/dtamayo/miniconda2/envs/ml/lib/python3.5/site-packages/ipykernel/__main__.py:4: SettingWithCopyWarning: \n",
      "A value is trying to be set on a copy of a slice from a DataFrame.\n",
      "Try using .loc[row_indexer,col_indexer] = value instead\n",
      "\n",
      "See the caveats in the documentation: http://pandas.pydata.org/pandas-docs/stable/indexing.html#indexing-view-versus-copy\n"
     ]
    },
    {
     "data": {
      "text/html": [
       "<div>\n",
       "<table border=\"1\" class=\"dataframe\">\n",
       "  <thead>\n",
       "    <tr style=\"text-align: right;\">\n",
       "      <th></th>\n",
       "      <th>Lwins</th>\n",
       "      <th>Wwins</th>\n",
       "    </tr>\n",
       "  </thead>\n",
       "  <tbody>\n",
       "    <tr>\n",
       "      <th>780</th>\n",
       "      <td>19</td>\n",
       "      <td>16</td>\n",
       "    </tr>\n",
       "    <tr>\n",
       "      <th>781</th>\n",
       "      <td>23</td>\n",
       "      <td>20</td>\n",
       "    </tr>\n",
       "    <tr>\n",
       "      <th>782</th>\n",
       "      <td>23</td>\n",
       "      <td>25</td>\n",
       "    </tr>\n",
       "    <tr>\n",
       "      <th>783</th>\n",
       "      <td>20</td>\n",
       "      <td>19</td>\n",
       "    </tr>\n",
       "    <tr>\n",
       "      <th>784</th>\n",
       "      <td>22</td>\n",
       "      <td>31</td>\n",
       "    </tr>\n",
       "    <tr>\n",
       "      <th>785</th>\n",
       "      <td>26</td>\n",
       "      <td>26</td>\n",
       "    </tr>\n",
       "    <tr>\n",
       "      <th>786</th>\n",
       "      <td>20</td>\n",
       "      <td>22</td>\n",
       "    </tr>\n",
       "    <tr>\n",
       "      <th>787</th>\n",
       "      <td>21</td>\n",
       "      <td>22</td>\n",
       "    </tr>\n",
       "    <tr>\n",
       "      <th>788</th>\n",
       "      <td>23</td>\n",
       "      <td>21</td>\n",
       "    </tr>\n",
       "    <tr>\n",
       "      <th>789</th>\n",
       "      <td>23</td>\n",
       "      <td>23</td>\n",
       "    </tr>\n",
       "  </tbody>\n",
       "</table>\n",
       "</div>"
      ],
      "text/plain": [
       "     Lwins  Wwins\n",
       "780     19     16\n",
       "781     23     20\n",
       "782     23     25\n",
       "783     20     19\n",
       "784     22     31\n",
       "785     26     26\n",
       "786     20     22\n",
       "787     21     22\n",
       "788     23     21\n",
       "789     23     23"
      ]
     },
     "execution_count": 8,
     "metadata": {},
     "output_type": "execute_result"
    }
   ],
   "source": [
    "tourney2015 = tourney_df[(tourney_df['Season'] == 2015)]\n",
    "season_wins = seasonsCR_df.loc[(seasonsCR_df['Season'] == 2015) & (seasonsCR_df['Wteam'] !=0), 'Wteam'].value_counts()\n",
    "tourney2015['Wwins'] = tourney2015['Wteam'].map(season_wins)\n",
    "tourney2015['Lwins'] = tourney2015['Lteam'].map(season_wins)\n",
    "tourney2015 = tourney2015.replace(np.nan, 0)\n",
    "d = {'Wwins':tourney2015['Wwins'], 'Lwins':tourney2015['Lwins']}\n",
    "df = pd.DataFrame(data=d)\n",
    "df.head(10)"
   ]
  },
  {
   "cell_type": "code",
   "execution_count": 9,
   "metadata": {
    "collapsed": false
   },
   "outputs": [],
   "source": [
    "rands = np.random.randint(2,size=df.shape[0])\n",
    "randscomp = 1-rands"
   ]
  },
  {
   "cell_type": "code",
   "execution_count": 14,
   "metadata": {
    "collapsed": false
   },
   "outputs": [
    {
     "name": "stdout",
     "output_type": "stream",
     "text": [
      "[20, 22, 21, 23]\n",
      "[22, 21, 23, 23]\n",
      "[0 1 1 1]\n",
      "   Winner  wins1  wins2\n",
      "0       1     19     16\n",
      "1       0     20     23\n",
      "2       0     25     23\n",
      "3       0     19     20\n",
      "4       1     22     31\n"
     ]
    }
   ],
   "source": [
    "x = [df.iloc[i,rands[i]] for i in range(df.shape[0])]\n",
    "y = [df.iloc[i,randscomp[i]] for i in range(df.shape[0])]\n",
    "print(x[6:10])\n",
    "print(y[6:10])\n",
    "print(rands[6:10])\n",
    "d2 = {'wins1':x, 'wins2':y, 'Winner':randscomp}\n",
    "df2 = pd.DataFrame(data=d2)\n",
    "print(df2.head())"
   ]
  },
  {
   "cell_type": "code",
   "execution_count": 23,
   "metadata": {
    "collapsed": false
   },
   "outputs": [],
   "source": [
    "X = df2.iloc[:,1:].values\n",
    "y = df2.iloc[:,0].values"
   ]
  },
  {
   "cell_type": "code",
   "execution_count": 24,
   "metadata": {
    "collapsed": true
   },
   "outputs": [],
   "source": [
    "from sklearn.cross_validation import train_test_split\n",
    "X_train, X_test, y_train, y_test = train_test_split(X, y, test_size=0.4, random_state=1)"
   ]
  },
  {
   "cell_type": "code",
   "execution_count": 30,
   "metadata": {
    "collapsed": false
   },
   "outputs": [
    {
     "data": {
      "text/plain": [
       "SVC(C=1.0, cache_size=200, class_weight=None, coef0=0.0,\n",
       "  decision_function_shape=None, degree=3, gamma='auto', kernel='rbf',\n",
       "  max_iter=-1, probability=False, random_state=None, shrinking=True,\n",
       "  tol=0.001, verbose=False)"
      ]
     },
     "execution_count": 30,
     "metadata": {},
     "output_type": "execute_result"
    }
   ],
   "source": [
    "from sklearn import svm\n",
    "model = svm.SVC()\n",
    "model.fit(X_train, y_train)"
   ]
  },
  {
   "cell_type": "code",
   "execution_count": 31,
   "metadata": {
    "collapsed": false
   },
   "outputs": [
    {
     "name": "stdout",
     "output_type": "stream",
     "text": [
      "0.481481481481\n"
     ]
    }
   ],
   "source": [
    "from sklearn import metrics\n",
    "y_pred = model.predict(X_test)\n",
    "print(metrics.accuracy_score(y_test, y_pred))"
   ]
  },
  {
   "cell_type": "code",
   "execution_count": null,
   "metadata": {
    "collapsed": true
   },
   "outputs": [],
   "source": []
  }
 ],
 "metadata": {
  "kernelspec": {
   "display_name": "Python 3",
   "language": "python",
   "name": "python3"
  },
  "language_info": {
   "codemirror_mode": {
    "name": "ipython",
    "version": 3
   },
   "file_extension": ".py",
   "mimetype": "text/x-python",
   "name": "python",
   "nbconvert_exporter": "python",
   "pygments_lexer": "ipython3",
   "version": "3.5.1"
  }
 },
 "nbformat": 4,
 "nbformat_minor": 0
}
