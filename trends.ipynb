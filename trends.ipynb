{
 "cells": [
  {
   "cell_type": "code",
   "execution_count": 12,
   "metadata": {},
   "outputs": [],
   "source": [
    "import numpy as np\n",
    "import pandas as pd\n",
    "import matplotlib.pyplot as plt\n",
    "from calcutta import Syndicate\n",
    "\n",
    "try:\n",
    "    plt.style.use('paper')\n",
    "except:\n",
    "    print(\"plot style not found\")"
   ]
  },
  {
   "cell_type": "code",
   "execution_count": 28,
   "metadata": {},
   "outputs": [],
   "source": [
    "year='2015'\n",
    "pool=944.\n",
    "draftfull = pd.read_pickle(year+'/draftfull.pkl')\n",
    "simtourneys = np.load(year+'/simtourneys.npy')\n",
    "bracketfile = year+'/bracket.pkl'"
   ]
  },
  {
   "cell_type": "code",
   "execution_count": 44,
   "metadata": {},
   "outputs": [
    {
     "name": "stdout",
     "output_type": "stream",
     "text": [
      "(49, 10)\n"
     ]
    },
    {
     "data": {
      "text/html": [
       "<div>\n",
       "<style scoped>\n",
       "    .dataframe tbody tr th:only-of-type {\n",
       "        vertical-align: middle;\n",
       "    }\n",
       "\n",
       "    .dataframe tbody tr th {\n",
       "        vertical-align: top;\n",
       "    }\n",
       "\n",
       "    .dataframe thead th {\n",
       "        text-align: right;\n",
       "    }\n",
       "</style>\n",
       "<table border=\"1\" class=\"dataframe\">\n",
       "  <thead>\n",
       "    <tr style=\"text-align: right;\">\n",
       "      <th></th>\n",
       "      <th>Team</th>\n",
       "      <th>Mason Team</th>\n",
       "      <th>TeamID</th>\n",
       "      <th>Seed</th>\n",
       "      <th>Fraction Owned</th>\n",
       "      <th>Amount</th>\n",
       "      <th>Syndicate</th>\n",
       "      <th>Model Amount</th>\n",
       "      <th>Fraction Overpaid</th>\n",
       "      <th>Single Seed</th>\n",
       "    </tr>\n",
       "  </thead>\n",
       "  <tbody>\n",
       "    <tr>\n",
       "      <th>0</th>\n",
       "      <td>Villanova</td>\n",
       "      <td>Villanova</td>\n",
       "      <td>1437</td>\n",
       "      <td>1</td>\n",
       "      <td>1.0</td>\n",
       "      <td>35.0</td>\n",
       "      <td>Duke</td>\n",
       "      <td>57.738883</td>\n",
       "      <td>-0.393823</td>\n",
       "      <td>1.0</td>\n",
       "    </tr>\n",
       "    <tr>\n",
       "      <th>1</th>\n",
       "      <td>SF Austin</td>\n",
       "      <td>Stephen F. Austin</td>\n",
       "      <td>1372</td>\n",
       "      <td>12</td>\n",
       "      <td>1.0</td>\n",
       "      <td>2.0</td>\n",
       "      <td>Duke</td>\n",
       "      <td>5.885364</td>\n",
       "      <td>-0.660174</td>\n",
       "      <td>12.0</td>\n",
       "    </tr>\n",
       "    <tr>\n",
       "      <th>2</th>\n",
       "      <td>Arizona</td>\n",
       "      <td>Arizona</td>\n",
       "      <td>1112</td>\n",
       "      <td>2</td>\n",
       "      <td>1.0</td>\n",
       "      <td>45.0</td>\n",
       "      <td>Duke</td>\n",
       "      <td>51.016602</td>\n",
       "      <td>-0.117934</td>\n",
       "      <td>2.0</td>\n",
       "    </tr>\n",
       "    <tr>\n",
       "      <th>3</th>\n",
       "      <td>Ohio St</td>\n",
       "      <td>Ohio State</td>\n",
       "      <td>1326</td>\n",
       "      <td>10</td>\n",
       "      <td>1.0</td>\n",
       "      <td>7.0</td>\n",
       "      <td>Duke</td>\n",
       "      <td>11.199004</td>\n",
       "      <td>-0.374944</td>\n",
       "      <td>10.0</td>\n",
       "    </tr>\n",
       "    <tr>\n",
       "      <th>4</th>\n",
       "      <td>Davidson</td>\n",
       "      <td>Davidson</td>\n",
       "      <td>1172</td>\n",
       "      <td>10</td>\n",
       "      <td>1.0</td>\n",
       "      <td>4.0</td>\n",
       "      <td>Medlen</td>\n",
       "      <td>2.011494</td>\n",
       "      <td>0.988572</td>\n",
       "      <td>10.0</td>\n",
       "    </tr>\n",
       "  </tbody>\n",
       "</table>\n",
       "</div>"
      ],
      "text/plain": [
       "        Team         Mason Team TeamID Seed  Fraction Owned  Amount Syndicate  \\\n",
       "0  Villanova          Villanova   1437    1             1.0    35.0      Duke   \n",
       "1  SF Austin  Stephen F. Austin   1372   12             1.0     2.0      Duke   \n",
       "2    Arizona            Arizona   1112    2             1.0    45.0      Duke   \n",
       "3    Ohio St         Ohio State   1326   10             1.0     7.0      Duke   \n",
       "4   Davidson           Davidson   1172   10             1.0     4.0    Medlen   \n",
       "\n",
       "   Model Amount  Fraction Overpaid  Single Seed  \n",
       "0     57.738883          -0.393823          1.0  \n",
       "1      5.885364          -0.660174         12.0  \n",
       "2     51.016602          -0.117934          2.0  \n",
       "3     11.199004          -0.374944         10.0  \n",
       "4      2.011494           0.988572         10.0  "
      ]
     },
     "execution_count": 44,
     "metadata": {},
     "output_type": "execute_result"
    }
   ],
   "source": [
    "print(draftfull.shape)\n",
    "draftfull.head()"
   ]
  },
  {
   "cell_type": "code",
   "execution_count": 39,
   "metadata": {},
   "outputs": [
    {
     "name": "stdout",
     "output_type": "stream",
     "text": [
      "CPU times: user 25.4 s, sys: 1.21 s, total: 26.6 s\n",
      "Wall time: 1.14 s\n"
     ]
    }
   ],
   "source": [
    "%%time\n",
    "def model_amount(row, bracketfile, simtourneys, pool):\n",
    "    single = Syndicate(bracketfile)\n",
    "    single.add(row['Team'])\n",
    "    simresults = single.sim_results(simtourneys)\n",
    "    row['Model Amount'] = simresults.mean()*pool\n",
    "    return row    \n",
    "\n",
    "def singleseed(row):\n",
    "    return np.array(row['Seed']).mean()\n",
    "\n",
    "draftfull['Single Seed'] = draftfull.apply(singleseed, axis=1)\n",
    "draftfull['Model Amount'] = 0.\n",
    "draftfull = draftfull.apply(model_amount, args=(bracketfile, simtourneys, pool), axis=1)\n",
    "draftfull['Fraction Overpaid'] = (draftfull['Amount'] - draftfull['Model Amount'])/draftfull['Model Amount']"
   ]
  },
  {
   "cell_type": "code",
   "execution_count": 40,
   "metadata": {},
   "outputs": [
    {
     "data": {
      "text/html": [
       "<div>\n",
       "<style scoped>\n",
       "    .dataframe tbody tr th:only-of-type {\n",
       "        vertical-align: middle;\n",
       "    }\n",
       "\n",
       "    .dataframe tbody tr th {\n",
       "        vertical-align: top;\n",
       "    }\n",
       "\n",
       "    .dataframe thead th {\n",
       "        text-align: right;\n",
       "    }\n",
       "</style>\n",
       "<table border=\"1\" class=\"dataframe\">\n",
       "  <thead>\n",
       "    <tr style=\"text-align: right;\">\n",
       "      <th></th>\n",
       "      <th>Team</th>\n",
       "      <th>Mason Team</th>\n",
       "      <th>TeamID</th>\n",
       "      <th>Seed</th>\n",
       "      <th>Fraction Owned</th>\n",
       "      <th>Amount</th>\n",
       "      <th>Syndicate</th>\n",
       "      <th>Model Amount</th>\n",
       "      <th>Fraction Overpaid</th>\n",
       "      <th>Single Seed</th>\n",
       "    </tr>\n",
       "  </thead>\n",
       "  <tbody>\n",
       "    <tr>\n",
       "      <th>0</th>\n",
       "      <td>Villanova</td>\n",
       "      <td>Villanova</td>\n",
       "      <td>1437</td>\n",
       "      <td>1</td>\n",
       "      <td>1.0</td>\n",
       "      <td>35.0</td>\n",
       "      <td>Duke</td>\n",
       "      <td>57.738883</td>\n",
       "      <td>-0.393823</td>\n",
       "      <td>1.0</td>\n",
       "    </tr>\n",
       "    <tr>\n",
       "      <th>1</th>\n",
       "      <td>SF Austin</td>\n",
       "      <td>Stephen F. Austin</td>\n",
       "      <td>1372</td>\n",
       "      <td>12</td>\n",
       "      <td>1.0</td>\n",
       "      <td>2.0</td>\n",
       "      <td>Duke</td>\n",
       "      <td>5.885364</td>\n",
       "      <td>-0.660174</td>\n",
       "      <td>12.0</td>\n",
       "    </tr>\n",
       "    <tr>\n",
       "      <th>2</th>\n",
       "      <td>Arizona</td>\n",
       "      <td>Arizona</td>\n",
       "      <td>1112</td>\n",
       "      <td>2</td>\n",
       "      <td>1.0</td>\n",
       "      <td>45.0</td>\n",
       "      <td>Duke</td>\n",
       "      <td>51.016602</td>\n",
       "      <td>-0.117934</td>\n",
       "      <td>2.0</td>\n",
       "    </tr>\n",
       "    <tr>\n",
       "      <th>3</th>\n",
       "      <td>Ohio St</td>\n",
       "      <td>Ohio State</td>\n",
       "      <td>1326</td>\n",
       "      <td>10</td>\n",
       "      <td>1.0</td>\n",
       "      <td>7.0</td>\n",
       "      <td>Duke</td>\n",
       "      <td>11.199004</td>\n",
       "      <td>-0.374944</td>\n",
       "      <td>10.0</td>\n",
       "    </tr>\n",
       "    <tr>\n",
       "      <th>4</th>\n",
       "      <td>Davidson</td>\n",
       "      <td>Davidson</td>\n",
       "      <td>1172</td>\n",
       "      <td>10</td>\n",
       "      <td>1.0</td>\n",
       "      <td>4.0</td>\n",
       "      <td>Medlen</td>\n",
       "      <td>2.011494</td>\n",
       "      <td>0.988572</td>\n",
       "      <td>10.0</td>\n",
       "    </tr>\n",
       "  </tbody>\n",
       "</table>\n",
       "</div>"
      ],
      "text/plain": [
       "        Team         Mason Team TeamID Seed  Fraction Owned  Amount Syndicate  \\\n",
       "0  Villanova          Villanova   1437    1             1.0    35.0      Duke   \n",
       "1  SF Austin  Stephen F. Austin   1372   12             1.0     2.0      Duke   \n",
       "2    Arizona            Arizona   1112    2             1.0    45.0      Duke   \n",
       "3    Ohio St         Ohio State   1326   10             1.0     7.0      Duke   \n",
       "4   Davidson           Davidson   1172   10             1.0     4.0    Medlen   \n",
       "\n",
       "   Model Amount  Fraction Overpaid  Single Seed  \n",
       "0     57.738883          -0.393823          1.0  \n",
       "1      5.885364          -0.660174         12.0  \n",
       "2     51.016602          -0.117934          2.0  \n",
       "3     11.199004          -0.374944         10.0  \n",
       "4      2.011494           0.988572         10.0  "
      ]
     },
     "execution_count": 40,
     "metadata": {},
     "output_type": "execute_result"
    }
   ],
   "source": [
    "draftfull.head()"
   ]
  },
  {
   "cell_type": "code",
   "execution_count": 34,
   "metadata": {},
   "outputs": [
    {
     "data": {
      "text/plain": [
       "Text(0, 0.5, 'Fraction Overpaid')"
      ]
     },
     "execution_count": 34,
     "metadata": {},
     "output_type": "execute_result"
    },
    {
     "data": {
      "image/png": "[encoded data removed]",
      "text/plain": [
       "<Figure size 432x432 with 1 Axes>"
      ]
     },
     "metadata": {
      "needs_background": "light"
     },
     "output_type": "display_data"
    }
   ],
   "source": [
    "fig, ax = plt.subplots()\n",
    "ax.plot(draftfull.index.values, draftfull['Fraction Overpaid'].values, '.')\n",
    "ax.set_xlabel('Draft Round #')\n",
    "ax.set_ylabel('Fraction Overpaid')"
   ]
  },
  {
   "cell_type": "code",
   "execution_count": 35,
   "metadata": {},
   "outputs": [
    {
     "data": {
      "text/plain": [
       "Text(0, 0.5, 'Fraction Overpaid')"
      ]
     },
     "execution_count": 35,
     "metadata": {},
     "output_type": "execute_result"
    },
    {
     "data": {
      "image/png": "[encoded data removed]",
      "text/plain": [
       "<Figure size 432x432 with 1 Axes>"
      ]
     },
     "metadata": {
      "needs_background": "light"
     },
     "output_type": "display_data"
    }
   ],
   "source": [
    "fig, ax = plt.subplots()\n",
    "ax.plot(draftfull['Model Amount'], draftfull['Fraction Overpaid'].values, '.')\n",
    "ax.set_xlabel('Value of Team Estimated By Model')\n",
    "ax.set_ylabel('Fraction Overpaid')"
   ]
  },
  {
   "cell_type": "code",
   "execution_count": 43,
   "metadata": {},
   "outputs": [
    {
     "data": {
      "text/plain": [
       "Text(0, 0.5, 'Fraction Overpaid')"
      ]
     },
     "execution_count": 43,
     "metadata": {},
     "output_type": "execute_result"
    },
    {
     "data": {
      "image/png": "[encoded data removed]",
      "text/plain": [
       "<Figure size 432x432 with 1 Axes>"
      ]
     },
     "metadata": {
      "needs_background": "light"
     },
     "output_type": "display_data"
    }
   ],
   "source": [
    "fig, ax = plt.subplots()\n",
    "ax.plot(draftfull['Single Seed'].values, draftfull['Fraction Overpaid'].values, '.')\n",
    "ax.set_xlabel('Team Seed')\n",
    "ax.set_ylabel('Fraction Overpaid')"
   ]
  },
  {
   "cell_type": "code",
   "execution_count": null,
   "metadata": {},
   "outputs": [],
   "source": []
  }
 ],
 "metadata": {
  "kernelspec": {
   "display_name": "Python 3",
   "language": "python",
   "name": "python3"
  },
  "language_info": {
   "codemirror_mode": {
    "name": "ipython",
    "version": 3
   },
   "file_extension": ".py",
   "mimetype": "text/x-python",
   "name": "python",
   "nbconvert_exporter": "python",
   "pygments_lexer": "ipython3",
   "version": "3.7.2"
  }
 },
 "nbformat": 4,
 "nbformat_minor": 2
}
