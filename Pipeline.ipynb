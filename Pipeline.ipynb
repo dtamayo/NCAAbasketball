{
 "cells": [
  {
   "cell_type": "code",
   "execution_count": 18,
   "metadata": {
    "collapsed": false
   },
   "outputs": [],
   "source": [
    "import pandas as pd\n",
    "import numpy as np"
   ]
  },
  {
   "cell_type": "code",
   "execution_count": 19,
   "metadata": {
    "collapsed": false
   },
   "outputs": [
    {
     "data": {
      "text/html": [
       "<div>\n",
       "<table border=\"1\" class=\"dataframe\">\n",
       "  <thead>\n",
       "    <tr style=\"text-align: right;\">\n",
       "      <th></th>\n",
       "      <th>Team_Id</th>\n",
       "      <th>Team_Name</th>\n",
       "    </tr>\n",
       "  </thead>\n",
       "  <tbody>\n",
       "    <tr>\n",
       "      <th>359</th>\n",
       "      <td>1460</td>\n",
       "      <td>Wright St</td>\n",
       "    </tr>\n",
       "    <tr>\n",
       "      <th>360</th>\n",
       "      <td>1461</td>\n",
       "      <td>Wyoming</td>\n",
       "    </tr>\n",
       "    <tr>\n",
       "      <th>361</th>\n",
       "      <td>1462</td>\n",
       "      <td>Xavier</td>\n",
       "    </tr>\n",
       "    <tr>\n",
       "      <th>362</th>\n",
       "      <td>1463</td>\n",
       "      <td>Yale</td>\n",
       "    </tr>\n",
       "    <tr>\n",
       "      <th>363</th>\n",
       "      <td>1464</td>\n",
       "      <td>Youngstown St</td>\n",
       "    </tr>\n",
       "  </tbody>\n",
       "</table>\n",
       "</div>"
      ],
      "text/plain": [
       "     Team_Id      Team_Name\n",
       "359     1460      Wright St\n",
       "360     1461        Wyoming\n",
       "361     1462         Xavier\n",
       "362     1463           Yale\n",
       "363     1464  Youngstown St"
      ]
     },
     "execution_count": 19,
     "metadata": {},
     "output_type": "execute_result"
    }
   ],
   "source": [
    "teams_df = pd.read_csv('data/teams.csv')\n",
    "teams_df.tail()"
   ]
  },
  {
   "cell_type": "code",
   "execution_count": 20,
   "metadata": {
    "collapsed": false
   },
   "outputs": [
    {
     "name": "stdout",
     "output_type": "stream",
     "text": [
      "================================================\n",
      "Tournament data:\n",
      "================================================\n",
      "   Season  Daynum  Wteam  Wscore  Lteam  Lscore Wloc  Numot  Wfgm  Wfga  \\\n",
      "0    2003     134   1421      92   1411      84    N      1    32    69   \n",
      "1    2003     136   1112      80   1436      51    N      0    31    66   \n",
      "2    2003     136   1113      84   1272      71    N      0    31    59   \n",
      "3    2003     136   1141      79   1166      73    N      0    29    53   \n",
      "4    2003     136   1143      76   1301      74    N      1    27    64   \n",
      "5    2003     136   1163      58   1140      53    N      0    17    52   \n",
      "6    2003     136   1181      67   1161      57    N      0    19    54   \n",
      "7    2003     136   1211      74   1153      69    N      0    20    47   \n",
      "8    2003     136   1228      65   1443      60    N      0    24    56   \n",
      "9    2003     136   1242      64   1429      61    N      0    28    51   \n",
      "\n",
      "      ...       Lfta  Lor  Ldr  Last  Lto  Lstl  Lblk  Lpf     Wteam_name  \\\n",
      "0     ...         31   17   28    16   15     5     0   22  UNC Asheville   \n",
      "1     ...          7    8   26    12   17    10     3   15        Arizona   \n",
      "2     ...         21   20   22    11   12     2     5   18     Arizona St   \n",
      "3     ...         17   14   17    20   21     6     6   21     C Michigan   \n",
      "4     ...         20   10   26    16   14     5     8   19     California   \n",
      "5     ...         13   15   26    11   11     8     4   22    Connecticut   \n",
      "6     ...         22   11   24     8   19     5     4   19           Duke   \n",
      "7     ...         10   13   22    13   10     7     6   24        Gonzaga   \n",
      "8     ...         13   17   18    10   14     6     5   16       Illinois   \n",
      "9     ...         10   13   19    13   13     6     1   15         Kansas   \n",
      "\n",
      "    Lteam_name  \n",
      "0  TX Southern  \n",
      "1      Vermont  \n",
      "2      Memphis  \n",
      "3    Creighton  \n",
      "4     NC State  \n",
      "5          BYU  \n",
      "6  Colorado St  \n",
      "7   Cincinnati  \n",
      "8          WKU  \n",
      "9      Utah St  \n",
      "\n",
      "[10 rows x 36 columns]\n",
      "================================================\n",
      "Teams data:\n",
      "================================================\n",
      "   Team_Id      Team_Name\n",
      "0     1101    Abilene Chr\n",
      "1     1102      Air Force\n",
      "2     1103          Akron\n",
      "3     1104        Alabama\n",
      "4     1105    Alabama A&M\n",
      "5     1106     Alabama St\n",
      "6     1107      Albany NY\n",
      "7     1108      Alcorn St\n",
      "8     1109   Alliant Intl\n",
      "9     1110  American Univ\n",
      "================================================\n",
      "Season data:\n",
      "================================================\n",
      "   Season  Daynum  Wteam  Wscore  Lteam  Lscore Wloc  Numot\n",
      "0    1985      20   1228      81   1328      64    N      0\n",
      "1    1985      25   1106      77   1354      70    H      0\n",
      "2    1985      25   1112      63   1223      56    H      0\n",
      "3    1985      25   1165      70   1432      54    H      0\n",
      "4    1985      25   1192      86   1447      74    H      0\n",
      "5    1985      25   1218      79   1337      78    H      0\n",
      "6    1985      25   1228      64   1226      44    N      0\n",
      "7    1985      25   1242      58   1268      56    N      0\n",
      "8    1985      25   1260      98   1133      80    H      0\n",
      "9    1985      25   1305      97   1424      89    H      0\n"
     ]
    }
   ],
   "source": [
    "tourney_df = pd.read_csv('data/TourneyDetailedResults.csv')\n",
    "teams_df = pd.read_csv('data/Teams.csv')\n",
    "reg_season_df = pd.read_csv('data/RegularSeasonCompactResults.csv')\n",
    "team_dict = dict(zip(teams_df['Team_Id'].values, teams_df['Team_Name'].values))\n",
    "tourney_df['Wteam_name'] = tourney_df['Wteam'].map(team_dict)\n",
    "tourney_df['Lteam_name'] = tourney_df['Lteam'].map(team_dict)\n",
    "\n",
    "print('================================================')\n",
    "print('Tournament data:')\n",
    "print('================================================')\n",
    "print(tourney_df.head(10))\n",
    "print('================================================')\n",
    "print('Teams data:')\n",
    "print('================================================')\n",
    "print(teams_df.head(10))\n",
    "print('================================================')\n",
    "print('Season data:')\n",
    "print('================================================')\n",
    "print(reg_season_df.head(10))\n"
   ]
  },
  {
   "cell_type": "code",
   "execution_count": 36,
   "metadata": {
    "collapsed": true
   },
   "outputs": [],
   "source": [
    "def features(id1, id2, season, flip):\n",
    "    f1 = []\n",
    "    f2 = []\n",
    "    wins = reg_season_df.loc[valid & in_reg_season[season], 'Wteam'].value_counts()\n",
    "    f1.append(wins[id1])\n",
    "    f2.append(wins[id2])\n",
    "    \n",
    "    if flip:\n",
    "        return f2+f1\n",
    "    else:\n",
    "        return f1+f2"
   ]
  },
  {
   "cell_type": "code",
   "execution_count": 40,
   "metadata": {
    "collapsed": false
   },
   "outputs": [
    {
     "name": "stdout",
     "output_type": "stream",
     "text": [
      "[26, 17]\n"
     ]
    }
   ],
   "source": [
    "print(features(1242, 1260, 2015, 0))"
   ]
  },
  {
   "cell_type": "code",
   "execution_count": 48,
   "metadata": {
    "collapsed": false
   },
   "outputs": [
    {
     "data": {
      "text/plain": [
       "(847, 36)"
      ]
     },
     "execution_count": 48,
     "metadata": {},
     "output_type": "execute_result"
    }
   ],
   "source": [
    "tourney_df.shape"
   ]
  },
  {
   "cell_type": "code",
   "execution_count": 50,
   "metadata": {
    "collapsed": false
   },
   "outputs": [
    {
     "name": "stdout",
     "output_type": "stream",
     "text": [
      "[[ 0.  0.]\n",
      " [ 0.  0.]\n",
      " [ 0.  0.]\n",
      " [ 0.  0.]\n",
      " [ 0.  0.]]\n"
     ]
    }
   ],
   "source": [
    "f = np.zeros((tourney_df.shape[0],2))\n",
    "print(f)"
   ]
  },
  {
   "cell_type": "code",
   "execution_count": 45,
   "metadata": {
    "collapsed": false
   },
   "outputs": [
    {
     "name": "stdout",
     "output_type": "stream",
     "text": [
      "2003\n",
      "1421\n",
      "1411\n"
     ]
    }
   ],
   "source": [
    "print(tourney_df.loc[0, 'Season'])\n",
    "print(tourney_df.loc[0, 'Wteam'])\n",
    "print(tourney_df.loc[0, 'Lteam'])"
   ]
  },
  {
   "cell_type": "code",
   "execution_count": 23,
   "metadata": {
    "collapsed": false
   },
   "outputs": [],
   "source": [
    "seasons = tourney_df['Season'].unique()"
   ]
  },
  {
   "cell_type": "code",
   "execution_count": 5,
   "metadata": {
    "collapsed": false
   },
   "outputs": [],
   "source": [
    "in_reg_season = dict(zip(seasons, [reg_season_df['Season'] == i for i in seasons]))\n",
    "in_tourney_season = dict(zip(seasons, [tourney_df['Season'] == i for i in seasons]))\n",
    "valid = reg_season_df['Wteam'] != 0"
   ]
  },
  {
   "cell_type": "code",
   "execution_count": 6,
   "metadata": {
    "collapsed": false
   },
   "outputs": [
    {
     "name": "stderr",
     "output_type": "stream",
     "text": [
      "/Users/dtamayo/miniconda2/envs/ml/lib/python3.5/site-packages/ipykernel/__main__.py:3: SettingWithCopyWarning: \n",
      "A value is trying to be set on a copy of a slice from a DataFrame.\n",
      "Try using .loc[row_indexer,col_indexer] = value instead\n",
      "\n",
      "See the caveats in the documentation: http://pandas.pydata.org/pandas-docs/stable/indexing.html#indexing-view-versus-copy\n",
      "  app.launch_new_instance()\n",
      "/Users/dtamayo/miniconda2/envs/ml/lib/python3.5/site-packages/ipykernel/__main__.py:4: SettingWithCopyWarning: \n",
      "A value is trying to be set on a copy of a slice from a DataFrame.\n",
      "Try using .loc[row_indexer,col_indexer] = value instead\n",
      "\n",
      "See the caveats in the documentation: http://pandas.pydata.org/pandas-docs/stable/indexing.html#indexing-view-versus-copy\n"
     ]
    },
    {
     "data": {
      "text/html": [
       "<div>\n",
       "<table border=\"1\" class=\"dataframe\">\n",
       "  <thead>\n",
       "    <tr style=\"text-align: right;\">\n",
       "      <th></th>\n",
       "      <th>Season</th>\n",
       "      <th>Daynum</th>\n",
       "      <th>Wteam</th>\n",
       "      <th>Wscore</th>\n",
       "      <th>Lteam</th>\n",
       "      <th>Lscore</th>\n",
       "      <th>Wloc</th>\n",
       "      <th>Numot</th>\n",
       "      <th>Wfgm</th>\n",
       "      <th>Wfga</th>\n",
       "      <th>...</th>\n",
       "      <th>Ldr</th>\n",
       "      <th>Last</th>\n",
       "      <th>Lto</th>\n",
       "      <th>Lstl</th>\n",
       "      <th>Lblk</th>\n",
       "      <th>Lpf</th>\n",
       "      <th>Wteam_name</th>\n",
       "      <th>Lteam_name</th>\n",
       "      <th>Wwins</th>\n",
       "      <th>Lwins</th>\n",
       "    </tr>\n",
       "  </thead>\n",
       "  <tbody>\n",
       "    <tr>\n",
       "      <th>780</th>\n",
       "      <td>2015</td>\n",
       "      <td>134</td>\n",
       "      <td>1214</td>\n",
       "      <td>74</td>\n",
       "      <td>1264</td>\n",
       "      <td>64</td>\n",
       "      <td>N</td>\n",
       "      <td>0</td>\n",
       "      <td>26</td>\n",
       "      <td>53</td>\n",
       "      <td>...</td>\n",
       "      <td>27</td>\n",
       "      <td>15</td>\n",
       "      <td>17</td>\n",
       "      <td>5</td>\n",
       "      <td>3</td>\n",
       "      <td>25</td>\n",
       "      <td>Hampton</td>\n",
       "      <td>Manhattan</td>\n",
       "      <td>16</td>\n",
       "      <td>19</td>\n",
       "    </tr>\n",
       "    <tr>\n",
       "      <th>781</th>\n",
       "      <td>2015</td>\n",
       "      <td>134</td>\n",
       "      <td>1279</td>\n",
       "      <td>94</td>\n",
       "      <td>1140</td>\n",
       "      <td>90</td>\n",
       "      <td>N</td>\n",
       "      <td>0</td>\n",
       "      <td>36</td>\n",
       "      <td>80</td>\n",
       "      <td>...</td>\n",
       "      <td>32</td>\n",
       "      <td>22</td>\n",
       "      <td>15</td>\n",
       "      <td>0</td>\n",
       "      <td>2</td>\n",
       "      <td>23</td>\n",
       "      <td>Mississippi</td>\n",
       "      <td>BYU</td>\n",
       "      <td>20</td>\n",
       "      <td>23</td>\n",
       "    </tr>\n",
       "    <tr>\n",
       "      <th>782</th>\n",
       "      <td>2015</td>\n",
       "      <td>135</td>\n",
       "      <td>1173</td>\n",
       "      <td>56</td>\n",
       "      <td>1129</td>\n",
       "      <td>55</td>\n",
       "      <td>N</td>\n",
       "      <td>0</td>\n",
       "      <td>20</td>\n",
       "      <td>42</td>\n",
       "      <td>...</td>\n",
       "      <td>19</td>\n",
       "      <td>10</td>\n",
       "      <td>9</td>\n",
       "      <td>5</td>\n",
       "      <td>1</td>\n",
       "      <td>18</td>\n",
       "      <td>Dayton</td>\n",
       "      <td>Boise St</td>\n",
       "      <td>25</td>\n",
       "      <td>23</td>\n",
       "    </tr>\n",
       "    <tr>\n",
       "      <th>783</th>\n",
       "      <td>2015</td>\n",
       "      <td>135</td>\n",
       "      <td>1352</td>\n",
       "      <td>81</td>\n",
       "      <td>1316</td>\n",
       "      <td>77</td>\n",
       "      <td>N</td>\n",
       "      <td>0</td>\n",
       "      <td>28</td>\n",
       "      <td>62</td>\n",
       "      <td>...</td>\n",
       "      <td>28</td>\n",
       "      <td>15</td>\n",
       "      <td>18</td>\n",
       "      <td>1</td>\n",
       "      <td>4</td>\n",
       "      <td>23</td>\n",
       "      <td>Robert Morris</td>\n",
       "      <td>North Florida</td>\n",
       "      <td>19</td>\n",
       "      <td>20</td>\n",
       "    </tr>\n",
       "    <tr>\n",
       "      <th>784</th>\n",
       "      <td>2015</td>\n",
       "      <td>136</td>\n",
       "      <td>1112</td>\n",
       "      <td>93</td>\n",
       "      <td>1411</td>\n",
       "      <td>72</td>\n",
       "      <td>N</td>\n",
       "      <td>0</td>\n",
       "      <td>32</td>\n",
       "      <td>53</td>\n",
       "      <td>...</td>\n",
       "      <td>11</td>\n",
       "      <td>5</td>\n",
       "      <td>9</td>\n",
       "      <td>5</td>\n",
       "      <td>3</td>\n",
       "      <td>19</td>\n",
       "      <td>Arizona</td>\n",
       "      <td>TX Southern</td>\n",
       "      <td>31</td>\n",
       "      <td>22</td>\n",
       "    </tr>\n",
       "  </tbody>\n",
       "</table>\n",
       "<p>5 rows × 38 columns</p>\n",
       "</div>"
      ],
      "text/plain": [
       "     Season  Daynum  Wteam  Wscore  Lteam  Lscore Wloc  Numot  Wfgm  Wfga  \\\n",
       "780    2015     134   1214      74   1264      64    N      0    26    53   \n",
       "781    2015     134   1279      94   1140      90    N      0    36    80   \n",
       "782    2015     135   1173      56   1129      55    N      0    20    42   \n",
       "783    2015     135   1352      81   1316      77    N      0    28    62   \n",
       "784    2015     136   1112      93   1411      72    N      0    32    53   \n",
       "\n",
       "     ...    Ldr  Last  Lto  Lstl  Lblk  Lpf     Wteam_name     Lteam_name  \\\n",
       "780  ...     27    15   17     5     3   25        Hampton      Manhattan   \n",
       "781  ...     32    22   15     0     2   23    Mississippi            BYU   \n",
       "782  ...     19    10    9     5     1   18         Dayton       Boise St   \n",
       "783  ...     28    15   18     1     4   23  Robert Morris  North Florida   \n",
       "784  ...     11     5    9     5     3   19        Arizona    TX Southern   \n",
       "\n",
       "     Wwins  Lwins  \n",
       "780     16     19  \n",
       "781     20     23  \n",
       "782     25     23  \n",
       "783     19     20  \n",
       "784     31     22  \n",
       "\n",
       "[5 rows x 38 columns]"
      ]
     },
     "execution_count": 6,
     "metadata": {},
     "output_type": "execute_result"
    }
   ],
   "source": [
    "tourney2015 = tourney_df[in_tourney_season[2015]]\n",
    "season_wins = reg_season_df.loc[valid & in_reg_season[2015], 'Wteam'].value_counts()\n",
    "tourney2015['Wwins'] = tourney2015['Wteam'].map(season_wins)\n",
    "tourney2015['Lwins'] = tourney2015['Lteam'].map(season_wins)\n",
    "tourney2015 = tourney2015.replace(np.nan, 0)\n",
    "tourney2015.head()"
   ]
  },
  {
   "cell_type": "code",
   "execution_count": 7,
   "metadata": {
    "collapsed": false
   },
   "outputs": [
    {
     "data": {
      "text/html": [
       "<div>\n",
       "<table border=\"1\" class=\"dataframe\">\n",
       "  <thead>\n",
       "    <tr style=\"text-align: right;\">\n",
       "      <th></th>\n",
       "      <th>Lwins</th>\n",
       "      <th>Wwins</th>\n",
       "    </tr>\n",
       "  </thead>\n",
       "  <tbody>\n",
       "    <tr>\n",
       "      <th>780</th>\n",
       "      <td>19</td>\n",
       "      <td>16</td>\n",
       "    </tr>\n",
       "    <tr>\n",
       "      <th>781</th>\n",
       "      <td>23</td>\n",
       "      <td>20</td>\n",
       "    </tr>\n",
       "    <tr>\n",
       "      <th>782</th>\n",
       "      <td>23</td>\n",
       "      <td>25</td>\n",
       "    </tr>\n",
       "    <tr>\n",
       "      <th>783</th>\n",
       "      <td>20</td>\n",
       "      <td>19</td>\n",
       "    </tr>\n",
       "    <tr>\n",
       "      <th>784</th>\n",
       "      <td>22</td>\n",
       "      <td>31</td>\n",
       "    </tr>\n",
       "    <tr>\n",
       "      <th>785</th>\n",
       "      <td>26</td>\n",
       "      <td>26</td>\n",
       "    </tr>\n",
       "    <tr>\n",
       "      <th>786</th>\n",
       "      <td>20</td>\n",
       "      <td>22</td>\n",
       "    </tr>\n",
       "    <tr>\n",
       "      <th>787</th>\n",
       "      <td>21</td>\n",
       "      <td>22</td>\n",
       "    </tr>\n",
       "    <tr>\n",
       "      <th>788</th>\n",
       "      <td>23</td>\n",
       "      <td>21</td>\n",
       "    </tr>\n",
       "    <tr>\n",
       "      <th>789</th>\n",
       "      <td>23</td>\n",
       "      <td>23</td>\n",
       "    </tr>\n",
       "  </tbody>\n",
       "</table>\n",
       "</div>"
      ],
      "text/plain": [
       "     Lwins  Wwins\n",
       "780     19     16\n",
       "781     23     20\n",
       "782     23     25\n",
       "783     20     19\n",
       "784     22     31\n",
       "785     26     26\n",
       "786     20     22\n",
       "787     21     22\n",
       "788     23     21\n",
       "789     23     23"
      ]
     },
     "execution_count": 7,
     "metadata": {},
     "output_type": "execute_result"
    }
   ],
   "source": [
    "d = {'Wwins':tourney2015['Wwins'], 'Lwins':tourney2015['Lwins']}\n",
    "df = pd.DataFrame(data=d)\n",
    "df.head(10)"
   ]
  },
  {
   "cell_type": "code",
   "execution_count": 8,
   "metadata": {
    "collapsed": false
   },
   "outputs": [],
   "source": [
    "rands = np.random.randint(2,size=df.shape[0])\n",
    "randscomp = 1-rands"
   ]
  },
  {
   "cell_type": "code",
   "execution_count": 14,
   "metadata": {
    "collapsed": false
   },
   "outputs": [
    {
     "name": "stdout",
     "output_type": "stream",
     "text": [
      "[1 1 1 0 1 1 1 0 0 1 1 0 1 1 0 0 1 1 1 1 0 0 1 1 0 0 1 0 0 0 0 1 1 1 0 1 0\n",
      " 0 0 1 1 1 1 1 1 0 0 1 1 1 1 1 1 0 1 0 0 0 1 1 1 1 0 0 0 0 1]\n"
     ]
    }
   ],
   "source": [
    "print(rands)"
   ]
  },
  {
   "cell_type": "code",
   "execution_count": 9,
   "metadata": {
    "collapsed": false
   },
   "outputs": [
    {
     "name": "stdout",
     "output_type": "stream",
     "text": [
      "[22, 21, 23, 23]\n",
      "[20, 22, 21, 23]\n",
      "[1 0 0 1]\n",
      "   Winner  wins1  wins2\n",
      "0       0     16     19\n",
      "1       0     20     23\n",
      "2       0     25     23\n",
      "3       1     20     19\n",
      "4       0     31     22\n"
     ]
    }
   ],
   "source": [
    "x = [df.iloc[i,rands[i]] for i in range(df.shape[0])]\n",
    "y = [df.iloc[i,randscomp[i]] for i in range(df.shape[0])]\n",
    "print(x[6:10])\n",
    "print(y[6:10])\n",
    "print(rands[6:10])\n",
    "d2 = {'wins1':x, 'wins2':y, 'Winner':randscomp}\n",
    "df2 = pd.DataFrame(data=d2)\n",
    "print(df2.head())"
   ]
  },
  {
   "cell_type": "code",
   "execution_count": 10,
   "metadata": {
    "collapsed": false
   },
   "outputs": [],
   "source": [
    "X = df2.iloc[:,1:].values\n",
    "y = df2.iloc[:,0].values"
   ]
  },
  {
   "cell_type": "code",
   "execution_count": 46,
   "metadata": {
    "collapsed": false
   },
   "outputs": [
    {
     "name": "stdout",
     "output_type": "stream",
     "text": [
      "[[16 19]\n",
      " [20 23]\n",
      " [25 23]\n",
      " [20 19]\n",
      " [31 22]\n",
      " [26 26]\n",
      " [22 20]\n",
      " [21 22]\n",
      " [23 21]\n",
      " [23 23]\n",
      " [34 16]\n",
      " [22 20]\n",
      " [24 20]\n",
      " [29 23]\n",
      " [26 23]\n",
      " [25 18]\n",
      " [20 26]\n",
      " [23 26]\n",
      " [32 19]\n",
      " [21 20]\n",
      " [22 25]\n",
      " [19 29]\n",
      " [31 21]\n",
      " [21 23]\n",
      " [21 26]\n",
      " [19 24]\n",
      " [27 25]\n",
      " [21 23]\n",
      " [23 30]\n",
      " [24 22]\n",
      " [17 24]\n",
      " [25 20]\n",
      " [29 21]\n",
      " [23 23]\n",
      " [20 27]\n",
      " [31 20]\n",
      " [23 31]\n",
      " [22 34]\n",
      " [32 20]\n",
      " [24 26]\n",
      " [29 22]\n",
      " [20 18]\n",
      " [23 21]\n",
      " [21 23]\n",
      " [29 25]\n",
      " [21 31]\n",
      " [30 24]\n",
      " [23 29]\n",
      " [22 25]\n",
      " [23 27]\n",
      " [27 26]\n",
      " [31 24]\n",
      " [31 21]\n",
      " [23 34]\n",
      " [29 27]\n",
      " [24 31]\n",
      " [23 29]\n",
      " [20 31]\n",
      " [24 20]\n",
      " [23 22]\n",
      " [34 29]\n",
      " [31 31]\n",
      " [31 29]\n",
      " [24 23]\n",
      " [23 29]\n",
      " [34 31]\n",
      " [29 31]]\n"
     ]
    }
   ],
   "source": [
    "print(X)"
   ]
  },
  {
   "cell_type": "code",
   "execution_count": 11,
   "metadata": {
    "collapsed": true
   },
   "outputs": [],
   "source": [
    "from sklearn.cross_validation import train_test_split\n",
    "X_train, X_test, y_train, y_test = train_test_split(X, y, test_size=0.4, random_state=1)"
   ]
  },
  {
   "cell_type": "code",
   "execution_count": 12,
   "metadata": {
    "collapsed": false
   },
   "outputs": [
    {
     "data": {
      "text/plain": [
       "SVC(C=1.0, cache_size=200, class_weight=None, coef0=0.0,\n",
       "  decision_function_shape=None, degree=3, gamma='auto', kernel='rbf',\n",
       "  max_iter=-1, probability=False, random_state=None, shrinking=True,\n",
       "  tol=0.001, verbose=False)"
      ]
     },
     "execution_count": 12,
     "metadata": {},
     "output_type": "execute_result"
    }
   ],
   "source": [
    "from sklearn import svm\n",
    "model = svm.SVC()\n",
    "model.fit(X_train, y_train)"
   ]
  },
  {
   "cell_type": "code",
   "execution_count": 13,
   "metadata": {
    "collapsed": false
   },
   "outputs": [
    {
     "name": "stdout",
     "output_type": "stream",
     "text": [
      "0.592592592593\n"
     ]
    }
   ],
   "source": [
    "from sklearn import metrics\n",
    "y_pred = model.predict(X_test)\n",
    "print(metrics.accuracy_score(y_test, y_pred))"
   ]
  },
  {
   "cell_type": "code",
   "execution_count": null,
   "metadata": {
    "collapsed": true
   },
   "outputs": [],
   "source": []
  }
 ],
 "metadata": {
  "kernelspec": {
   "display_name": "Python 3",
   "language": "python",
   "name": "python3"
  },
  "language_info": {
   "codemirror_mode": {
    "name": "ipython",
    "version": 3
   },
   "file_extension": ".py",
   "mimetype": "text/x-python",
   "name": "python",
   "nbconvert_exporter": "python",
   "pygments_lexer": "ipython3",
   "version": "3.5.1"
  }
 },
 "nbformat": 4,
 "nbformat_minor": 0
}
