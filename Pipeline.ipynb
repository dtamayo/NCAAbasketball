{
 "cells": [
  {
   "cell_type": "code",
   "execution_count": 1,
   "metadata": {
    "collapsed": false
   },
   "outputs": [],
   "source": [
    "import pandas as pd\n",
    "import numpy as np"
   ]
  },
  {
   "cell_type": "code",
   "execution_count": 3,
   "metadata": {
    "collapsed": false
   },
   "outputs": [],
   "source": [
    "tourney_df = pd.read_csv('data/TourneyDetailedResults.csv')\n",
    "teams_df = pd.read_csv('data/Teams.csv')\n",
    "reg_season_df = pd.read_csv('data/RegularSeasonCompactResults.csv')\n",
    "team_dict = dict(zip(teams_df['Team_Id'].values, teams_df['Team_Name'].values))\n",
    "tourney_df['Wteam_name'] = tourney_df['Wteam'].map(team_dict)\n",
    "tourney_df['Lteam_name'] = tourney_df['Lteam'].map(team_dict)"
   ]
  },
  {
   "cell_type": "code",
   "execution_count": 6,
   "metadata": {
    "collapsed": true
   },
   "outputs": [],
   "source": [
    "seasons = tourney_df['Season'].unique()\n",
    "in_reg_season = dict(zip(seasons, [reg_season_df['Season'] == i for i in seasons]))\n",
    "valid = reg_season_df['Wteam'] != 0\n",
    "\n",
    "def features(id1, id2, season, flip):\n",
    "    f1 = []\n",
    "    f2 = []\n",
    "    wins = reg_season_df.loc[valid & in_reg_season[season], 'Wteam'].value_counts()\n",
    "    f1.append(wins[id1])\n",
    "    f2.append(wins[id2])\n",
    "    \n",
    "    if flip:\n",
    "        return f2+f1\n",
    "    else:\n",
    "        return f1+f2"
   ]
  },
  {
   "cell_type": "code",
   "execution_count": 9,
   "metadata": {
    "collapsed": false
   },
   "outputs": [],
   "source": [
    "Ngames = tourney_df.shape[0]\n",
    "y = np.random.randint(2,size=Ngames)\n",
    "X = np.asarray([features(tourney_df.loc[i, 'Wteam'], tourney_df.loc[i, 'Lteam'], tourney_df.loc[i, 'Season'], y[i]) for i in range(Ngames)])"
   ]
  },
  {
   "cell_type": "code",
   "execution_count": 11,
   "metadata": {
    "collapsed": true
   },
   "outputs": [],
   "source": [
    "from sklearn.cross_validation import train_test_split\n",
    "X_train, X_test, y_train, y_test = train_test_split(X, y, test_size=0.4, random_state=1)"
   ]
  },
  {
   "cell_type": "code",
   "execution_count": 12,
   "metadata": {
    "collapsed": false
   },
   "outputs": [
    {
     "data": {
      "text/plain": [
       "SVC(C=1.0, cache_size=200, class_weight=None, coef0=0.0,\n",
       "  decision_function_shape=None, degree=3, gamma='auto', kernel='rbf',\n",
       "  max_iter=-1, probability=False, random_state=None, shrinking=True,\n",
       "  tol=0.001, verbose=False)"
      ]
     },
     "execution_count": 12,
     "metadata": {},
     "output_type": "execute_result"
    }
   ],
   "source": [
    "from sklearn import svm\n",
    "model = svm.SVC()\n",
    "model.fit(X_train, y_train)"
   ]
  },
  {
   "cell_type": "code",
   "execution_count": 13,
   "metadata": {
    "collapsed": false
   },
   "outputs": [
    {
     "name": "stdout",
     "output_type": "stream",
     "text": [
      "0.625368731563\n"
     ]
    }
   ],
   "source": [
    "from sklearn import metrics\n",
    "y_pred = model.predict(X_test)\n",
    "print(metrics.accuracy_score(y_test, y_pred))"
   ]
  },
  {
   "cell_type": "code",
   "execution_count": null,
   "metadata": {
    "collapsed": true
   },
   "outputs": [],
   "source": []
  }
 ],
 "metadata": {
  "kernelspec": {
   "display_name": "Python 3",
   "language": "python",
   "name": "python3"
  },
  "language_info": {
   "codemirror_mode": {
    "name": "ipython",
    "version": 3
   },
   "file_extension": ".py",
   "mimetype": "text/x-python",
   "name": "python",
   "nbconvert_exporter": "python",
   "pygments_lexer": "ipython3",
   "version": "3.5.1"
  }
 },
 "nbformat": 4,
 "nbformat_minor": 0
}
