{
 "cells": [
  {
   "cell_type": "code",
   "execution_count": 1,
   "metadata": {},
   "outputs": [],
   "source": [
    "import numpy as np\n",
    "import pandas as pd\n",
    "\n",
    "year = '2015'"
   ]
  },
  {
   "cell_type": "code",
   "execution_count": 2,
   "metadata": {},
   "outputs": [],
   "source": [
    "payout={0:0., 1:0.008, 2:0.024, 3:0.05, 4:0.085, 5:0.13, 6:0.18}"
   ]
  },
  {
   "cell_type": "code",
   "execution_count": 3,
   "metadata": {},
   "outputs": [
    {
     "data": {
      "text/html": [
       "<div>\n",
       "<style scoped>\n",
       "    .dataframe tbody tr th:only-of-type {\n",
       "        vertical-align: middle;\n",
       "    }\n",
       "\n",
       "    .dataframe tbody tr th {\n",
       "        vertical-align: top;\n",
       "    }\n",
       "\n",
       "    .dataframe thead th {\n",
       "        text-align: right;\n",
       "    }\n",
       "</style>\n",
       "<table border=\"1\" class=\"dataframe\">\n",
       "  <thead>\n",
       "    <tr style=\"text-align: right;\">\n",
       "      <th></th>\n",
       "      <th>Pred</th>\n",
       "    </tr>\n",
       "    <tr>\n",
       "      <th>id</th>\n",
       "      <th></th>\n",
       "    </tr>\n",
       "  </thead>\n",
       "  <tbody>\n",
       "    <tr>\n",
       "      <th>2015_1107_1112</th>\n",
       "      <td>0.121</td>\n",
       "    </tr>\n",
       "    <tr>\n",
       "      <th>2015_1107_1116</th>\n",
       "      <td>0.214</td>\n",
       "    </tr>\n",
       "    <tr>\n",
       "      <th>2015_1107_1124</th>\n",
       "      <td>0.169</td>\n",
       "    </tr>\n",
       "    <tr>\n",
       "      <th>2015_1107_1125</th>\n",
       "      <td>0.658</td>\n",
       "    </tr>\n",
       "    <tr>\n",
       "      <th>2015_1107_1129</th>\n",
       "      <td>0.316</td>\n",
       "    </tr>\n",
       "  </tbody>\n",
       "</table>\n",
       "</div>"
      ],
      "text/plain": [
       "                 Pred\n",
       "id                   \n",
       "2015_1107_1112  0.121\n",
       "2015_1107_1116  0.214\n",
       "2015_1107_1124  0.169\n",
       "2015_1107_1125  0.658\n",
       "2015_1107_1129  0.316"
      ]
     },
     "execution_count": 3,
     "metadata": {},
     "output_type": "execute_result"
    }
   ],
   "source": [
    "sub = pd.read_csv('data/2015SubmissionRF.csv', index_col=0)\n",
    "sub.head()"
   ]
  },
  {
   "cell_type": "code",
   "execution_count": 4,
   "metadata": {},
   "outputs": [],
   "source": [
    "preds = sub['Pred'].to_dict()"
   ]
  },
  {
   "cell_type": "code",
   "execution_count": 5,
   "metadata": {},
   "outputs": [
    {
     "data": {
      "text/plain": [
       "0.882"
      ]
     },
     "execution_count": 5,
     "metadata": {},
     "output_type": "execute_result"
    }
   ],
   "source": [
    "preds['2015_1458_1462']"
   ]
  },
  {
   "cell_type": "code",
   "execution_count": 6,
   "metadata": {},
   "outputs": [
    {
     "data": {
      "text/html": [
       "<div>\n",
       "<style scoped>\n",
       "    .dataframe tbody tr th:only-of-type {\n",
       "        vertical-align: middle;\n",
       "    }\n",
       "\n",
       "    .dataframe tbody tr th {\n",
       "        vertical-align: top;\n",
       "    }\n",
       "\n",
       "    .dataframe thead th {\n",
       "        text-align: right;\n",
       "    }\n",
       "</style>\n",
       "<table border=\"1\" class=\"dataframe\">\n",
       "  <thead>\n",
       "    <tr style=\"text-align: right;\">\n",
       "      <th></th>\n",
       "      <th>Team</th>\n",
       "      <th>TeamID</th>\n",
       "    </tr>\n",
       "  </thead>\n",
       "  <tbody>\n",
       "    <tr>\n",
       "      <th>0</th>\n",
       "      <td>Manhattan</td>\n",
       "      <td>1264</td>\n",
       "    </tr>\n",
       "    <tr>\n",
       "      <th>1</th>\n",
       "      <td>Hampton</td>\n",
       "      <td>1214</td>\n",
       "    </tr>\n",
       "    <tr>\n",
       "      <th>2</th>\n",
       "      <td>BYU</td>\n",
       "      <td>1140</td>\n",
       "    </tr>\n",
       "    <tr>\n",
       "      <th>3</th>\n",
       "      <td>Mississippi</td>\n",
       "      <td>1279</td>\n",
       "    </tr>\n",
       "    <tr>\n",
       "      <th>4</th>\n",
       "      <td>Dayton</td>\n",
       "      <td>1173</td>\n",
       "    </tr>\n",
       "  </tbody>\n",
       "</table>\n",
       "</div>"
      ],
      "text/plain": [
       "          Team  TeamID\n",
       "0    Manhattan    1264\n",
       "1      Hampton    1214\n",
       "2          BYU    1140\n",
       "3  Mississippi    1279\n",
       "4       Dayton    1173"
      ]
     },
     "execution_count": 6,
     "metadata": {},
     "output_type": "execute_result"
    }
   ],
   "source": [
    "playins = pd.read_csv('data/2015Playins.csv', index_col=0)\n",
    "playins.head()"
   ]
  },
  {
   "cell_type": "code",
   "execution_count": 7,
   "metadata": {},
   "outputs": [
    {
     "data": {
      "text/html": [
       "<div>\n",
       "<style scoped>\n",
       "    .dataframe tbody tr th:only-of-type {\n",
       "        vertical-align: middle;\n",
       "    }\n",
       "\n",
       "    .dataframe tbody tr th {\n",
       "        vertical-align: top;\n",
       "    }\n",
       "\n",
       "    .dataframe thead th {\n",
       "        text-align: right;\n",
       "    }\n",
       "</style>\n",
       "<table border=\"1\" class=\"dataframe\">\n",
       "  <thead>\n",
       "    <tr style=\"text-align: right;\">\n",
       "      <th></th>\n",
       "      <th>Team</th>\n",
       "      <th>TeamID</th>\n",
       "    </tr>\n",
       "  </thead>\n",
       "  <tbody>\n",
       "    <tr>\n",
       "      <th>59</th>\n",
       "      <td>UAB</td>\n",
       "      <td>1412</td>\n",
       "    </tr>\n",
       "    <tr>\n",
       "      <th>60</th>\n",
       "      <td>Iowa</td>\n",
       "      <td>1234</td>\n",
       "    </tr>\n",
       "    <tr>\n",
       "      <th>61</th>\n",
       "      <td>Davidson</td>\n",
       "      <td>1172</td>\n",
       "    </tr>\n",
       "    <tr>\n",
       "      <th>62</th>\n",
       "      <td>Gonzaga</td>\n",
       "      <td>1211</td>\n",
       "    </tr>\n",
       "    <tr>\n",
       "      <th>63</th>\n",
       "      <td>N Dakota St</td>\n",
       "      <td>1295</td>\n",
       "    </tr>\n",
       "  </tbody>\n",
       "</table>\n",
       "</div>"
      ],
      "text/plain": [
       "           Team  TeamID\n",
       "59          UAB    1412\n",
       "60         Iowa    1234\n",
       "61     Davidson    1172\n",
       "62      Gonzaga    1211\n",
       "63  N Dakota St    1295"
      ]
     },
     "execution_count": 7,
     "metadata": {},
     "output_type": "execute_result"
    }
   ],
   "source": [
    "regs = pd.read_csv('data/2015Regulars.csv', index_col=0)\n",
    "regs.tail()"
   ]
  },
  {
   "cell_type": "code",
   "execution_count": 8,
   "metadata": {},
   "outputs": [
    {
     "data": {
      "text/html": [
       "<div>\n",
       "<style scoped>\n",
       "    .dataframe tbody tr th:only-of-type {\n",
       "        vertical-align: middle;\n",
       "    }\n",
       "\n",
       "    .dataframe tbody tr th {\n",
       "        vertical-align: top;\n",
       "    }\n",
       "\n",
       "    .dataframe thead th {\n",
       "        text-align: right;\n",
       "    }\n",
       "</style>\n",
       "<table border=\"1\" class=\"dataframe\">\n",
       "  <thead>\n",
       "    <tr style=\"text-align: right;\">\n",
       "      <th></th>\n",
       "      <th>Team</th>\n",
       "      <th>TeamID</th>\n",
       "    </tr>\n",
       "  </thead>\n",
       "  <tbody>\n",
       "    <tr>\n",
       "      <th>63</th>\n",
       "      <td>Mississippi</td>\n",
       "      <td>1279</td>\n",
       "    </tr>\n",
       "    <tr>\n",
       "      <th>64</th>\n",
       "      <td>Dayton</td>\n",
       "      <td>1173</td>\n",
       "    </tr>\n",
       "    <tr>\n",
       "      <th>65</th>\n",
       "      <td>Boise St</td>\n",
       "      <td>1129</td>\n",
       "    </tr>\n",
       "    <tr>\n",
       "      <th>66</th>\n",
       "      <td>North Florida</td>\n",
       "      <td>1316</td>\n",
       "    </tr>\n",
       "    <tr>\n",
       "      <th>67</th>\n",
       "      <td>Robert Morris</td>\n",
       "      <td>1352</td>\n",
       "    </tr>\n",
       "  </tbody>\n",
       "</table>\n",
       "</div>"
      ],
      "text/plain": [
       "             Team  TeamID\n",
       "63    Mississippi    1279\n",
       "64         Dayton    1173\n",
       "65       Boise St    1129\n",
       "66  North Florida    1316\n",
       "67  Robert Morris    1352"
      ]
     },
     "execution_count": 8,
     "metadata": {},
     "output_type": "execute_result"
    }
   ],
   "source": [
    "teams = pd.read_csv('data/2015Teams.csv', index_col=0)\n",
    "teams.tail()"
   ]
  },
  {
   "cell_type": "code",
   "execution_count": 9,
   "metadata": {},
   "outputs": [],
   "source": [
    "index = dict(zip(teams['TeamID'], teams.index))"
   ]
  },
  {
   "cell_type": "code",
   "execution_count": 10,
   "metadata": {},
   "outputs": [
    {
     "data": {
      "text/plain": [
       "23"
      ]
     },
     "execution_count": 10,
     "metadata": {},
     "output_type": "execute_result"
    }
   ],
   "source": [
    "index[1462]"
   ]
  },
  {
   "cell_type": "code",
   "execution_count": 11,
   "metadata": {},
   "outputs": [],
   "source": [
    "def predict_game(year, ID1, ID2, preds, rands):\n",
    "    id1 = min(ID1, ID2)\n",
    "    id2 = max(ID1, ID2)\n",
    "    key = '{0}_{1}_{2}'.format(year, id1, id2)\n",
    "    prob = preds[key]\n",
    "    if prob > next(rands): # prob is probability ID1 wins\n",
    "        return id1, id2\n",
    "    else:\n",
    "        return id2, id1"
   ]
  },
  {
   "cell_type": "code",
   "execution_count": 12,
   "metadata": {},
   "outputs": [],
   "source": [
    "from numpy.random import random\n",
    "teams15 = pd.concat([bracket15, playins15])\n",
    "teams15 = teams15[np.array(['Playin' not in name for name in teams15['Team']])]\n",
    "teams15 = teams15.reset_index(drop=True)\n",
    "teams15\n",
    "def sim_round(currentround, roundnum, year, preds, rands, res):\n",
    "    nextround = []\n",
    "    for i in range(0, len(currentround), 2):\n",
    "        #print(teams.loc[index[currentround[i]], 'Team'], teams.loc[index[currentround[i+1]], 'Team'])\n",
    "        winner, loser = predict_game(year, currentround[i], currentround[i+1], preds, rands)\n",
    "        nextround.append(winner)\n",
    "        res[index[loser]] = payout[roundnum] # roundnum = # wins\n",
    "    return nextround\n",
    "\n",
    "def sim_tourney(playins, regs, preds, year):\n",
    "    res = np.zeros(68)\n",
    "    rands = iter(random(68))\n",
    "    pin = list(playins['TeamID'])\n",
    "    \n",
    "    # run playins\n",
    "    for i, idx in enumerate(range(0, len(pin), 2)):\n",
    "        winner, loser = predict_game(year, pin[idx], pin[idx+1], preds, rands)\n",
    "        regs.loc[regs['Team'] == 'Playin'+str(i+1), 'TeamID'] = winner\n",
    "    currentround = regs['TeamID']\n",
    "    \n",
    "    # run regular tournament\n",
    "    for roundnum in range(6): # 6 rounds\n",
    "        currentround = sim_round(currentround, roundnum, year, preds, rands, res)\n",
    "    \n",
    "    res[index[currentround[0]]] = payout[6] # tourney winner\n",
    "    return res"
   ]
  },
  {
   "cell_type": "code",
   "execution_count": 13,
   "metadata": {},
   "outputs": [
    {
     "data": {
      "text/plain": [
       "array([0.085, 0.008, 0.   , 0.024, 0.   , 0.008, 0.   , 0.   , 0.05 ,\n",
       "       0.008, 0.   , 0.024, 0.   , 0.   , 0.008, 0.18 , 0.   , 0.   ,\n",
       "       0.008, 0.008, 0.   , 0.024, 0.   , 0.024, 0.   , 0.008, 0.   ,\n",
       "       0.008, 0.05 , 0.   , 0.085, 0.   , 0.008, 0.   , 0.   , 0.008,\n",
       "       0.024, 0.   , 0.   , 0.05 , 0.   , 0.024, 0.   , 0.008, 0.   ,\n",
       "       0.05 , 0.008, 0.   , 0.024, 0.   , 0.   , 0.008, 0.   , 0.008,\n",
       "       0.024, 0.   , 0.008, 0.   , 0.13 , 0.   , 0.   , 0.   , 0.   ,\n",
       "       0.   , 0.008, 0.   , 0.   , 0.   ])"
      ]
     },
     "execution_count": 13,
     "metadata": {},
     "output_type": "execute_result"
    }
   ],
   "source": [
    "res = sim_tourney(playins, regs, preds, year)\n",
    "res"
   ]
  },
  {
   "cell_type": "code",
   "execution_count": 14,
   "metadata": {},
   "outputs": [
    {
     "data": {
      "text/plain": [
       "1.0"
      ]
     },
     "execution_count": 14,
     "metadata": {},
     "output_type": "execute_result"
    }
   ],
   "source": [
    "res.sum()"
   ]
  },
  {
   "cell_type": "code",
   "execution_count": 15,
   "metadata": {},
   "outputs": [
    {
     "data": {
      "text/plain": [
       "0.024"
      ]
     },
     "execution_count": 15,
     "metadata": {},
     "output_type": "execute_result"
    }
   ],
   "source": [
    "res[index[1462]]"
   ]
  },
  {
   "cell_type": "code",
   "execution_count": null,
   "metadata": {},
   "outputs": [],
   "source": [
    "%%time\n",
    "Nsamples = 1000000\n",
    "simtourneys = np.zeros((Nsamples, 68))\n",
    "for i in range(Nsamples):\n",
    "    simtourneys[i,:] = sim_tourney(playins, regs, preds, year)\n",
    "np.save('data/2015simtourneys.npy', simtourneys)"
   ]
  },
  {
   "cell_type": "code",
   "execution_count": 25,
   "metadata": {},
   "outputs": [],
   "source": [
    "simtourneys = np.load('data/2015simtourneys.npy')"
   ]
  },
  {
   "cell_type": "code",
   "execution_count": 26,
   "metadata": {},
   "outputs": [
    {
     "name": "stdout",
     "output_type": "stream",
     "text": [
      "Mean = 0.01726, stdev = 0.01969889336993325\n"
     ]
    }
   ],
   "source": [
    "myteams = np.zeros(68)\n",
    "myteams[index[1462]] = 1\n",
    "simresults = np.dot(simtourneys,myteams)\n",
    "print(\"Mean = {0}, stdev = {1}\".format(simresults.mean(), simresults.std()))"
   ]
  },
  {
   "cell_type": "code",
   "execution_count": 27,
   "metadata": {},
   "outputs": [
    {
     "name": "stdout",
     "output_type": "stream",
     "text": [
      "Mean = 0.00131, stdev = 0.006157101590846136\n"
     ]
    }
   ],
   "source": [
    "myteams2 = np.zeros(68)\n",
    "myteams2[index[1459]] = 1\n",
    "simresults = np.dot(simtourneys,myteams2)\n",
    "print(\"Mean = {0}, stdev = {1}\".format(simresults.mean(), simresults.std()))"
   ]
  },
  {
   "cell_type": "code",
   "execution_count": 28,
   "metadata": {},
   "outputs": [
    {
     "name": "stdout",
     "output_type": "stream",
     "text": [
      "Mean = 177.496544, stdev = 63.22450358973223\n"
     ]
    }
   ],
   "source": [
    "totpool = 944.\n",
    "def getID(row):\n",
    "    try:\n",
    "        ID = teamids.loc[teamids['TeamName'] == row['Team'], 'TeamID'].values[0]\n",
    "    except:\n",
    "        ID = 0\n",
    "    return ID\n",
    "\n",
    "teamids = pd.read_csv('data/Teams.csv')\n",
    "jeff = ['Kansas', 'Notre Dame', 'Louisville', 'Maryland', 'Georgetown', 'Wichita St', 'Purdue', 'Oklahoma St', 'Davidson', 'Georgia', 'Texas', 'Buffalo']\n",
    "jeff = pd.DataFrame(jeff, columns=['Team'])\n",
    "jeff['TeamID'] = jeff.apply(getID, axis=1)\n",
    "jeffteams = np.zeros(68)\n",
    "for ID in jeff['TeamID']:\n",
    "    jeffteams[index[ID]] = 1\n",
    "    \n",
    "simresults = np.dot(simtourneys, jeffteams)\n",
    "print(\"Mean = {0}, stdev = {1}\".format(simresults.mean()*totpool, simresults.std()*totpool))"
   ]
  },
  {
   "cell_type": "code",
   "execution_count": 30,
   "metadata": {},
   "outputs": [
    {
     "name": "stdout",
     "output_type": "stream",
     "text": [
      "Mean = 154.180815912, stdev = 58.09131600341862\n"
     ]
    }
   ],
   "source": [
    "jeffteams = np.load('data/2015Jeff.npy')\n",
    "simresults = np.dot(simtourneys, jeffteams)\n",
    "print(\"Mean = {0}, stdev = {1}\".format(simresults.mean()*totpool, simresults.std()*totpool))"
   ]
  },
  {
   "cell_type": "code",
   "execution_count": 33,
   "metadata": {},
   "outputs": [
    {
     "name": "stdout",
     "output_type": "stream",
     "text": [
      "Mean=0.04. 10/30/50/70/90th percentile: ['0.02', '0.02', '0.03', '0.05', '0.08']\n"
     ]
    }
   ],
   "source": [
    "field = np.load('data/2015field.npy')\n",
    "simresults = np.dot(simtourneys, field)\n",
    "print(\"Mean={0:.2f}. 10/30/50/70/90th percentile:\".format(simresults.mean()), [\"{0:.2f}\".format(np.percentile(simresults, i)) for i in [10, 30, 50, 70, 90]])"
   ]
  },
  {
   "cell_type": "code",
   "execution_count": null,
   "metadata": {},
   "outputs": [],
   "source": []
  }
 ],
 "metadata": {
  "kernelspec": {
   "display_name": "Python 3",
   "language": "python",
   "name": "python3"
  },
  "language_info": {
   "codemirror_mode": {
    "name": "ipython",
    "version": 3
   },
   "file_extension": ".py",
   "mimetype": "text/x-python",
   "name": "python",
   "nbconvert_exporter": "python",
   "pygments_lexer": "ipython3",
   "version": "3.7.2"
  }
 },
 "nbformat": 4,
 "nbformat_minor": 2
}
