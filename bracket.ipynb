{
 "cells": [
  {
   "cell_type": "code",
   "execution_count": 10,
   "metadata": {
    "collapsed": false
   },
   "outputs": [],
   "source": [
    "import pandas as pd\n",
    "import numpy as np\n",
    "\n",
    "teams_df = pd.read_csv('data/Teams.csv')\n",
    "team_name = dict(zip(teams_df['Team_Id'].values, teams_df['Team_Name'].values))\n",
    "team_id = dict(zip(teams_df['Team_Name'].values, teams_df['Team_Id'].values))\n",
    "\n",
    "df = pd.read_csv('data/ensemble6000.csv')"
   ]
  },
  {
   "cell_type": "code",
   "execution_count": 61,
   "metadata": {
    "collapsed": false
   },
   "outputs": [
    {
     "data": {
      "text/plain": [
       "0         Abilene Chr\n",
       "1           Air Force\n",
       "2               Akron\n",
       "3             Alabama\n",
       "4         Alabama A&M\n",
       "5          Alabama St\n",
       "6           Albany NY\n",
       "7           Alcorn St\n",
       "8        Alliant Intl\n",
       "9       American Univ\n",
       "10     Appalachian St\n",
       "11            Arizona\n",
       "12         Arizona St\n",
       "13    Ark Little Rock\n",
       "14     Ark Pine Bluff\n",
       "15           Arkansas\n",
       "16        Arkansas St\n",
       "17       Armstrong St\n",
       "18               Army\n",
       "19             Auburn\n",
       "20            Augusta\n",
       "21        Austin Peay\n",
       "22            Ball St\n",
       "23             Baylor\n",
       "24            Belmont\n",
       "25    Bethune-Cookman\n",
       "26         Binghamton\n",
       "27      Birmingham So\n",
       "28           Boise St\n",
       "29     Boston College\n",
       "30        Boston Univ\n",
       "31      Bowling Green\n",
       "32            Bradley\n",
       "33           Brooklyn\n",
       "34              Brown\n",
       "35             Bryant\n",
       "36           Bucknell\n",
       "37            Buffalo\n",
       "38             Butler\n",
       "39                BYU\n",
       "40         C Michigan\n",
       "41       Cal Poly SLO\n",
       "42         California\n",
       "43           Campbell\n",
       "44           Canisius\n",
       "45      Cent Arkansas\n",
       "46          Centenary\n",
       "47       Central Conn\n",
       "48      Charleston So\n",
       "49          Charlotte\n",
       "50        Chattanooga\n",
       "51         Chicago St\n",
       "52         Cincinnati\n",
       "53            Citadel\n",
       "54            Clemson\n",
       "55       Cleveland St\n",
       "56        Coastal Car\n",
       "57     Col Charleston\n",
       "58            Colgate\n",
       "59           Colorado\n",
       "Name: Team_Name, dtype: object"
      ]
     },
     "execution_count": 61,
     "metadata": {},
     "output_type": "execute_result"
    }
   ],
   "source": [
    "teams_df['Team_Name'][0:60]"
   ]
  },
  {
   "cell_type": "code",
   "execution_count": 62,
   "metadata": {
    "collapsed": false
   },
   "outputs": [
    {
     "data": {
      "text/plain": [
       "60        Colorado St\n",
       "61           Columbia\n",
       "62        Connecticut\n",
       "63          Coppin St\n",
       "64            Cornell\n",
       "65          Creighton\n",
       "66     CS Bakersfield\n",
       "67       CS Fullerton\n",
       "68      CS Northridge\n",
       "69      CS Sacramento\n",
       "70          Dartmouth\n",
       "71           Davidson\n",
       "72             Dayton\n",
       "73           Delaware\n",
       "74        Delaware St\n",
       "75             Denver\n",
       "76             DePaul\n",
       "77            Detroit\n",
       "78              Drake\n",
       "79             Drexel\n",
       "80               Duke\n",
       "81           Duquesne\n",
       "82         E Illinois\n",
       "83         E Kentucky\n",
       "84         E Michigan\n",
       "85       E Washington\n",
       "86      East Carolina\n",
       "87       Edwardsville\n",
       "88               Elon\n",
       "89               ETSU\n",
       "90         Evansville\n",
       "91        F Dickinson\n",
       "92          Fairfield\n",
       "93        FL Atlantic\n",
       "94      FL Gulf Coast\n",
       "95            Florida\n",
       "96        Florida A&M\n",
       "97       Florida Intl\n",
       "98         Florida St\n",
       "99            Fordham\n",
       "100         Fresno St\n",
       "101            Furman\n",
       "102      G Washington\n",
       "103       Ga Southern\n",
       "104      Gardner Webb\n",
       "105      George Mason\n",
       "106        Georgetown\n",
       "107           Georgia\n",
       "108        Georgia St\n",
       "109      Georgia Tech\n",
       "110           Gonzaga\n",
       "111         Grambling\n",
       "112      Grand Canyon\n",
       "113           Hampton\n",
       "114    Hardin-Simmons\n",
       "115          Hartford\n",
       "116           Harvard\n",
       "117            Hawaii\n",
       "118        High Point\n",
       "119           Hofstra\n",
       "Name: Team_Name, dtype: object"
      ]
     },
     "execution_count": 62,
     "metadata": {},
     "output_type": "execute_result"
    }
   ],
   "source": [
    "teams_df['Team_Name'][60:120]"
   ]
  },
  {
   "cell_type": "code",
   "execution_count": 63,
   "metadata": {
    "collapsed": false
   },
   "outputs": [
    {
     "data": {
      "text/plain": [
       "120         Holy Cross\n",
       "121            Houston\n",
       "122        Houston Bap\n",
       "123             Howard\n",
       "124              Idaho\n",
       "125           Idaho St\n",
       "126         IL Chicago\n",
       "127           Illinois\n",
       "128        Illinois St\n",
       "129     Incarnate Word\n",
       "130            Indiana\n",
       "131         Indiana St\n",
       "132               Iona\n",
       "133               Iowa\n",
       "134            Iowa St\n",
       "135               IPFW\n",
       "136              IUPUI\n",
       "137         Jackson St\n",
       "138       Jacksonville\n",
       "139    Jacksonville St\n",
       "140      James Madison\n",
       "141             Kansas\n",
       "142          Kansas St\n",
       "143           Kennesaw\n",
       "144               Kent\n",
       "145           Kentucky\n",
       "146           La Salle\n",
       "147          Lafayette\n",
       "148              Lamar\n",
       "149             Lehigh\n",
       "150            Liberty\n",
       "151           Lipscomb\n",
       "152      Long Beach St\n",
       "153        Long Island\n",
       "154           Longwood\n",
       "155     Louisiana Tech\n",
       "156         Louisville\n",
       "157      Loy Marymount\n",
       "158          Loyola MD\n",
       "159     Loyola-Chicago\n",
       "160                LSU\n",
       "161          MA Lowell\n",
       "162              Maine\n",
       "163          Manhattan\n",
       "164             Marist\n",
       "165          Marquette\n",
       "166           Marshall\n",
       "167           Maryland\n",
       "168      Massachusetts\n",
       "169         McNeese St\n",
       "170         MD E Shore\n",
       "171            Memphis\n",
       "172             Mercer\n",
       "173           Miami FL\n",
       "174           Miami OH\n",
       "175           Michigan\n",
       "176        Michigan St\n",
       "177          Minnesota\n",
       "178        Mississippi\n",
       "179     Mississippi St\n",
       "Name: Team_Name, dtype: object"
      ]
     },
     "execution_count": 63,
     "metadata": {},
     "output_type": "execute_result"
    }
   ],
   "source": [
    "teams_df['Team_Name'][120:180]"
   ]
  },
  {
   "cell_type": "code",
   "execution_count": 64,
   "metadata": {
    "collapsed": false
   },
   "outputs": [
    {
     "data": {
      "text/plain": [
       "180            Missouri\n",
       "181         Missouri KC\n",
       "182         Missouri St\n",
       "183         Monmouth NJ\n",
       "184             Montana\n",
       "185          Montana St\n",
       "186         Morehead St\n",
       "187           Morgan St\n",
       "188        Morris Brown\n",
       "189        MS Valley St\n",
       "190        Mt St Mary's\n",
       "191                MTSU\n",
       "192           Murray St\n",
       "193          N Colorado\n",
       "194         N Dakota St\n",
       "195          N Illinois\n",
       "196          N Kentucky\n",
       "197                Navy\n",
       "198              NC A&T\n",
       "199          NC Central\n",
       "200            NC State\n",
       "201         NE Illinois\n",
       "202            NE Omaha\n",
       "203            Nebraska\n",
       "204              Nevada\n",
       "205       New Hampshire\n",
       "206          New Mexico\n",
       "207       New Mexico St\n",
       "208         New Orleans\n",
       "209             Niagara\n",
       "210         Nicholls St\n",
       "211                NJIT\n",
       "212          Norfolk St\n",
       "213      North Carolina\n",
       "214        North Dakota\n",
       "215       North Florida\n",
       "216         North Texas\n",
       "217        Northeastern\n",
       "218    Northern Arizona\n",
       "219       Northern Iowa\n",
       "220        Northwestern\n",
       "221     Northwestern LA\n",
       "222          Notre Dame\n",
       "223             Oakland\n",
       "224                Ohio\n",
       "225             Ohio St\n",
       "226           Okla City\n",
       "227            Oklahoma\n",
       "228         Oklahoma St\n",
       "229        Old Dominion\n",
       "230        Oral Roberts\n",
       "231              Oregon\n",
       "232           Oregon St\n",
       "233             Pacific\n",
       "234                Penn\n",
       "235             Penn St\n",
       "236          Pepperdine\n",
       "237          Pittsburgh\n",
       "238            Portland\n",
       "239         Portland St\n",
       "Name: Team_Name, dtype: object"
      ]
     },
     "execution_count": 64,
     "metadata": {},
     "output_type": "execute_result"
    }
   ],
   "source": [
    "teams_df['Team_Name'][180:240]"
   ]
  },
  {
   "cell_type": "code",
   "execution_count": 65,
   "metadata": {
    "collapsed": false
   },
   "outputs": [
    {
     "data": {
      "text/plain": [
       "240      Prairie View\n",
       "241      Presbyterian\n",
       "242         Princeton\n",
       "243        Providence\n",
       "244            Purdue\n",
       "245        Quinnipiac\n",
       "246           Radford\n",
       "247      Rhode Island\n",
       "248              Rice\n",
       "249          Richmond\n",
       "250             Rider\n",
       "251     Robert Morris\n",
       "252           Rutgers\n",
       "253     S Carolina St\n",
       "254       S Dakota St\n",
       "255        S Illinois\n",
       "256      Sacred Heart\n",
       "257    Sam Houston St\n",
       "258           Samford\n",
       "259         San Diego\n",
       "260      San Diego St\n",
       "261     San Francisco\n",
       "262       San Jose St\n",
       "263     Santa Barbara\n",
       "264       Santa Clara\n",
       "265       Savannah St\n",
       "266        SC Upstate\n",
       "267      SE Louisiana\n",
       "268    SE Missouri St\n",
       "269           Seattle\n",
       "270        Seton Hall\n",
       "271         SF Austin\n",
       "272             Siena\n",
       "273               SMU\n",
       "274     South Alabama\n",
       "275    South Carolina\n",
       "276      South Dakota\n",
       "277     South Florida\n",
       "278     Southern Miss\n",
       "279     Southern Univ\n",
       "280     Southern Utah\n",
       "281    St Bonaventure\n",
       "282     St Francis NY\n",
       "283     St Francis PA\n",
       "284         St John's\n",
       "285    St Joseph's PA\n",
       "286          St Louis\n",
       "287      St Mary's CA\n",
       "288        St Peter's\n",
       "289          Stanford\n",
       "290           Stetson\n",
       "291       Stony Brook\n",
       "292          Syracuse\n",
       "293    TAM C. Christi\n",
       "294               TCU\n",
       "295            Temple\n",
       "296         Tennessee\n",
       "297      Tennessee St\n",
       "298    Tennessee Tech\n",
       "299             Texas\n",
       "Name: Team_Name, dtype: object"
      ]
     },
     "execution_count": 65,
     "metadata": {},
     "output_type": "execute_result"
    }
   ],
   "source": [
    "teams_df['Team_Name'][240:300]"
   ]
  },
  {
   "cell_type": "code",
   "execution_count": 67,
   "metadata": {
    "collapsed": false
   },
   "outputs": [
    {
     "data": {
      "text/plain": [
       "300          Texas A&M\n",
       "301           Texas St\n",
       "302         Texas Tech\n",
       "303          TN Martin\n",
       "304             Toledo\n",
       "305             Towson\n",
       "306               Troy\n",
       "307             Tulane\n",
       "308              Tulsa\n",
       "309              UTRGV\n",
       "310        TX Southern\n",
       "311                UAB\n",
       "312           UC Davis\n",
       "313          UC Irvine\n",
       "314       UC Riverside\n",
       "315                UCF\n",
       "316               UCLA\n",
       "317                ULL\n",
       "318                ULM\n",
       "319               UMBC\n",
       "320      UNC Asheville\n",
       "321     UNC Greensboro\n",
       "322     UNC Wilmington\n",
       "323               UNLV\n",
       "324                USC\n",
       "325       UT Arlington\n",
       "326     UT San Antonio\n",
       "327               Utah\n",
       "328            Utah St\n",
       "329        Utah Valley\n",
       "330               UTEP\n",
       "331              Utica\n",
       "332    VA Commonwealth\n",
       "333         Valparaiso\n",
       "334         Vanderbilt\n",
       "335            Vermont\n",
       "336          Villanova\n",
       "337           Virginia\n",
       "338      Virginia Tech\n",
       "339                VMI\n",
       "340         W Carolina\n",
       "341         W Illinois\n",
       "342                WKU\n",
       "343         W Michigan\n",
       "344         W Salem St\n",
       "345        W Texas A&M\n",
       "346             Wagner\n",
       "347        Wake Forest\n",
       "348         Washington\n",
       "349      Washington St\n",
       "350           Weber St\n",
       "351      West Virginia\n",
       "352       WI Green Bay\n",
       "353       WI Milwaukee\n",
       "354         Wichita St\n",
       "355     William & Mary\n",
       "356           Winthrop\n",
       "357          Wisconsin\n",
       "358            Wofford\n",
       "359          Wright St\n",
       "Name: Team_Name, dtype: object"
      ]
     },
     "execution_count": 67,
     "metadata": {},
     "output_type": "execute_result"
    }
   ],
   "source": [
    "teams_df['Team_Name'][300:360]"
   ]
  },
  {
   "cell_type": "code",
   "execution_count": 87,
   "metadata": {
    "collapsed": false
   },
   "outputs": [
    {
     "data": {
      "text/plain": [
       "360          Wyoming\n",
       "361           Xavier\n",
       "362             Yale\n",
       "363    Youngstown St\n",
       "Name: Team_Name, dtype: object"
      ]
     },
     "execution_count": 87,
     "metadata": {},
     "output_type": "execute_result"
    }
   ],
   "source": [
    "teams_df['Team_Name'][360:]"
   ]
  },
  {
   "cell_type": "code",
   "execution_count": 52,
   "metadata": {
    "collapsed": false
   },
   "outputs": [
    {
     "data": {
      "text/plain": [
       "1377"
      ]
     },
     "execution_count": 52,
     "metadata": {},
     "output_type": "execute_result"
    }
   ],
   "source": [
    "teams_df['Team_Id'][276]"
   ]
  },
  {
   "cell_type": "code",
   "execution_count": 53,
   "metadata": {
    "collapsed": false
   },
   "outputs": [
    {
     "data": {
      "text/html": [
       "<div>\n",
       "<table border=\"1\" class=\"dataframe\">\n",
       "  <thead>\n",
       "    <tr style=\"text-align: right;\">\n",
       "      <th></th>\n",
       "      <th>Id</th>\n",
       "      <th>Pred</th>\n",
       "      <th>team0</th>\n",
       "      <th>team1</th>\n",
       "    </tr>\n",
       "  </thead>\n",
       "  <tbody>\n",
       "  </tbody>\n",
       "</table>\n",
       "</div>"
      ],
      "text/plain": [
       "Empty DataFrame\n",
       "Columns: [Id, Pred, team0, team1]\n",
       "Index: []"
      ]
     },
     "execution_count": 53,
     "metadata": {},
     "output_type": "execute_result"
    }
   ],
   "source": [
    "df[(df['team0']==1268)  & (df['team1']==1377)]"
   ]
  },
  {
   "cell_type": "code",
   "execution_count": 48,
   "metadata": {
    "collapsed": false
   },
   "outputs": [
    {
     "data": {
      "text/html": [
       "<div>\n",
       "<table border=\"1\" class=\"dataframe\">\n",
       "  <thead>\n",
       "    <tr style=\"text-align: right;\">\n",
       "      <th></th>\n",
       "      <th>Id</th>\n",
       "      <th>Pred</th>\n",
       "      <th>team0</th>\n",
       "      <th>team1</th>\n",
       "    </tr>\n",
       "  </thead>\n",
       "  <tbody>\n",
       "    <tr>\n",
       "      <th>2273</th>\n",
       "      <td>2016_1455_1462</td>\n",
       "      <td>0.418546</td>\n",
       "      <td>1455</td>\n",
       "      <td>1462</td>\n",
       "    </tr>\n",
       "    <tr>\n",
       "      <th>2274</th>\n",
       "      <td>2016_1455_1463</td>\n",
       "      <td>0.590252</td>\n",
       "      <td>1455</td>\n",
       "      <td>1463</td>\n",
       "    </tr>\n",
       "    <tr>\n",
       "      <th>2275</th>\n",
       "      <td>2016_1458_1462</td>\n",
       "      <td>0.367623</td>\n",
       "      <td>1458</td>\n",
       "      <td>1462</td>\n",
       "    </tr>\n",
       "    <tr>\n",
       "      <th>2276</th>\n",
       "      <td>2016_1458_1463</td>\n",
       "      <td>0.547074</td>\n",
       "      <td>1458</td>\n",
       "      <td>1463</td>\n",
       "    </tr>\n",
       "    <tr>\n",
       "      <th>2277</th>\n",
       "      <td>2016_1462_1463</td>\n",
       "      <td>0.666647</td>\n",
       "      <td>1462</td>\n",
       "      <td>1463</td>\n",
       "    </tr>\n",
       "  </tbody>\n",
       "</table>\n",
       "</div>"
      ],
      "text/plain": [
       "                  Id      Pred  team0  team1\n",
       "2273  2016_1455_1462  0.418546   1455   1462\n",
       "2274  2016_1455_1463  0.590252   1455   1463\n",
       "2275  2016_1458_1462  0.367623   1458   1462\n",
       "2276  2016_1458_1463  0.547074   1458   1463\n",
       "2277  2016_1462_1463  0.666647   1462   1463"
      ]
     },
     "execution_count": 48,
     "metadata": {},
     "output_type": "execute_result"
    }
   ],
   "source": [
    "df.tail()"
   ]
  },
  {
   "cell_type": "code",
   "execution_count": 12,
   "metadata": {
    "collapsed": false
   },
   "outputs": [
    {
     "data": {
      "text/plain": [
       "Index(['Id', 'Pred'], dtype='object')"
      ]
     },
     "execution_count": 12,
     "metadata": {},
     "output_type": "execute_result"
    }
   ],
   "source": [
    "df.columns"
   ]
  },
  {
   "cell_type": "code",
   "execution_count": 13,
   "metadata": {
    "collapsed": false
   },
   "outputs": [],
   "source": [
    "def get_season(Id):\n",
    "    return np.int64(Id.split(\"_\")[0])\n",
    "def get_team0(Id):\n",
    "    return np.int64(Id.split(\"_\")[1])\n",
    "def get_team1(Id):\n",
    "    return np.int64(Id.split(\"_\")[2])\n",
    "\n",
    "# UNCOMMENT THESE LINES IF YOU WANT TO REGENERATE THE SUBMISSION FEATURES FROM SCRATCH\n",
    "df['team0'] = df['Id'].apply(get_team0)\n",
    "df['team1'] = df['Id'].apply(get_team1)"
   ]
  },
  {
   "cell_type": "code",
   "execution_count": 31,
   "metadata": {
    "collapsed": true
   },
   "outputs": [],
   "source": [
    "def predict(team0, team1):\n",
    "    id0 = team_id[team0]\n",
    "    id1 = team_id[team1]\n",
    "    t0 = min(id0, id1)\n",
    "    t1 = max(id0, id1)\n",
    "    game = df[(df['team0']==t0)  & (df['team1']==t1)]\n",
    "    print(\"Prob {0} wins = {1}\".format(team_name[t0], game['Pred'].values[0]))"
   ]
  },
  {
   "cell_type": "code",
   "execution_count": 123,
   "metadata": {
    "collapsed": false
   },
   "outputs": [
    {
     "data": {
      "text/plain": [
       "['Arizona',\n",
       " 'Ark Little Rock',\n",
       " 'Austin Peay',\n",
       " 'Baylor',\n",
       " 'Buffalo',\n",
       " 'Butler',\n",
       " 'California',\n",
       " 'Chattanooga',\n",
       " 'Cincinnati',\n",
       " 'Colorado',\n",
       " 'Connecticut',\n",
       " 'CS Bakersfield',\n",
       " 'Dayton',\n",
       " 'Duke',\n",
       " 'F Dickinson',\n",
       " 'FL Gulf Coast',\n",
       " 'Fresno St',\n",
       " 'Gonzaga',\n",
       " 'Hampton',\n",
       " 'Hawaii',\n",
       " 'Holy Cross',\n",
       " 'Indiana',\n",
       " 'Iona',\n",
       " 'Iowa',\n",
       " 'Iowa St',\n",
       " 'Kansas',\n",
       " 'Kentucky',\n",
       " 'Maryland',\n",
       " 'Miami FL',\n",
       " 'Michigan',\n",
       " 'Michigan St',\n",
       " 'MTSU',\n",
       " 'North Carolina',\n",
       " 'Northern Iowa',\n",
       " 'Notre Dame',\n",
       " 'Oklahoma',\n",
       " 'Oregon',\n",
       " 'Oregon St',\n",
       " 'Pittsburgh',\n",
       " 'Providence',\n",
       " 'Purdue',\n",
       " 'S Dakota St',\n",
       " 'Seton Hall',\n",
       " 'SF Austin',\n",
       " 'Southern Univ',\n",
       " \"St Joseph's PA\",\n",
       " 'Stony Brook',\n",
       " 'Syracuse',\n",
       " 'Temple',\n",
       " 'Texas',\n",
       " 'Texas A&M',\n",
       " 'Texas Tech',\n",
       " 'Tulsa',\n",
       " 'UNC Asheville',\n",
       " 'UNC Wilmington',\n",
       " 'USC',\n",
       " 'Utah',\n",
       " 'VA Commonwealth',\n",
       " 'Vanderbilt',\n",
       " 'Villanova',\n",
       " 'Virginia',\n",
       " 'Weber St',\n",
       " 'West Virginia',\n",
       " 'WI Green Bay',\n",
       " 'Wichita St',\n",
       " 'Wisconsin',\n",
       " 'Xavier']"
      ]
     },
     "execution_count": 123,
     "metadata": {},
     "output_type": "execute_result"
    }
   ],
   "source": [
    "ids = df['team0'].unique()\n",
    "[team_name[i] for i in ids]"
   ]
  },
  {
   "cell_type": "code",
   "execution_count": 32,
   "metadata": {
    "collapsed": false
   },
   "outputs": [
    {
     "name": "stdout",
     "output_type": "stream",
     "text": [
      "Prob Austin Peay wins = 0.08718857657018964\n"
     ]
    }
   ],
   "source": [
    "predict('Kansas', 'Austin Peay')"
   ]
  },
  {
   "cell_type": "code",
   "execution_count": 39,
   "metadata": {
    "collapsed": false
   },
   "outputs": [
    {
     "name": "stdout",
     "output_type": "stream",
     "text": [
      "Prob Colorado wins = 0.4012472318107537\n"
     ]
    }
   ],
   "source": [
    "predict('Colorado', 'Connecticut')"
   ]
  },
  {
   "cell_type": "code",
   "execution_count": 58,
   "metadata": {
    "collapsed": false
   },
   "outputs": [
    {
     "name": "stdout",
     "output_type": "stream",
     "text": [
      "Prob Maryland wins = 0.7359182973945524\n"
     ]
    }
   ],
   "source": [
    "predict('Maryland', 'S Dakota St')"
   ]
  },
  {
   "cell_type": "code",
   "execution_count": 68,
   "metadata": {
    "collapsed": false
   },
   "outputs": [
    {
     "name": "stdout",
     "output_type": "stream",
     "text": [
      "Prob California wins = 0.6848401952102292\n"
     ]
    }
   ],
   "source": [
    "predict('California', 'Hawaii')"
   ]
  },
  {
   "cell_type": "code",
   "execution_count": 69,
   "metadata": {
    "collapsed": false
   },
   "outputs": [
    {
     "name": "stdout",
     "output_type": "stream",
     "text": [
      "Prob Arizona wins = 0.5678501469304408\n"
     ]
    }
   ],
   "source": [
    "predict('Arizona', 'Wichita St')"
   ]
  },
  {
   "cell_type": "code",
   "execution_count": 71,
   "metadata": {
    "collapsed": false
   },
   "outputs": [
    {
     "name": "stdout",
     "output_type": "stream",
     "text": [
      "Prob Buffalo wins = 0.18038966509454546\n"
     ]
    }
   ],
   "source": [
    "predict('Miami FL', 'Buffalo')"
   ]
  },
  {
   "cell_type": "code",
   "execution_count": 72,
   "metadata": {
    "collapsed": false
   },
   "outputs": [
    {
     "name": "stdout",
     "output_type": "stream",
     "text": [
      "Prob Iowa wins = 0.7035367278590816\n"
     ]
    }
   ],
   "source": [
    "predict('Iowa', 'Temple')"
   ]
  },
  {
   "cell_type": "code",
   "execution_count": 73,
   "metadata": {
    "collapsed": false
   },
   "outputs": [
    {
     "name": "stdout",
     "output_type": "stream",
     "text": [
      "Prob UNC Asheville wins = 0.13360615089776173\n"
     ]
    }
   ],
   "source": [
    "predict('Villanova', 'UNC Asheville')"
   ]
  },
  {
   "cell_type": "code",
   "execution_count": 74,
   "metadata": {
    "collapsed": false
   },
   "outputs": [
    {
     "name": "stdout",
     "output_type": "stream",
     "text": [
      "Prob Holy Cross wins = 0.12440688880484152\n"
     ]
    }
   ],
   "source": [
    "predict('Oregon', 'Holy Cross')"
   ]
  },
  {
   "cell_type": "code",
   "execution_count": 124,
   "metadata": {
    "collapsed": false
   },
   "outputs": [
    {
     "name": "stdout",
     "output_type": "stream",
     "text": [
      "Prob Oregon wins = 0.9094081837651312\n"
     ]
    }
   ],
   "source": [
    "predict('Oregon', 'Southern Univ')"
   ]
  },
  {
   "cell_type": "code",
   "execution_count": 125,
   "metadata": {
    "collapsed": false
   },
   "outputs": [
    {
     "name": "stdout",
     "output_type": "stream",
     "text": [
      "Prob Holy Cross wins = 0.466806585910099\n"
     ]
    }
   ],
   "source": [
    "predict('Holy Cross', 'Southern Univ')"
   ]
  },
  {
   "cell_type": "code",
   "execution_count": 78,
   "metadata": {
    "collapsed": false
   },
   "outputs": [
    {
     "name": "stdout",
     "output_type": "stream",
     "text": [
      "Prob Cincinnati wins = 0.4739779994782583\n"
     ]
    }
   ],
   "source": [
    "predict(\"St Joseph's PA\", \"Cincinnati\")"
   ]
  },
  {
   "cell_type": "code",
   "execution_count": 79,
   "metadata": {
    "collapsed": false
   },
   "outputs": [
    {
     "name": "stdout",
     "output_type": "stream",
     "text": [
      "Prob Baylor wins = 0.5864371526303107\n"
     ]
    }
   ],
   "source": [
    "predict(\"Baylor\", \"Yale\")"
   ]
  },
  {
   "cell_type": "code",
   "execution_count": 80,
   "metadata": {
    "collapsed": false
   },
   "outputs": [
    {
     "name": "stdout",
     "output_type": "stream",
     "text": [
      "Prob Duke wins = 0.7198179948447961\n"
     ]
    }
   ],
   "source": [
    "predict(\"Duke\", \"UNC Wilmington\")"
   ]
  },
  {
   "cell_type": "code",
   "execution_count": 82,
   "metadata": {
    "collapsed": false
   },
   "outputs": [
    {
     "name": "stdout",
     "output_type": "stream",
     "text": [
      "Prob Northern Iowa wins = 0.3251421269937976\n"
     ]
    }
   ],
   "source": [
    "predict(\"Texas\", \"Northern Iowa\")"
   ]
  },
  {
   "cell_type": "code",
   "execution_count": 86,
   "metadata": {
    "collapsed": false
   },
   "outputs": [
    {
     "name": "stdout",
     "output_type": "stream",
     "text": [
      "Prob Texas A&M wins = 0.8311984611886011\n"
     ]
    }
   ],
   "source": [
    "predict(\"Texas A&M\", \"WI Green Bay\")"
   ]
  },
  {
   "cell_type": "code",
   "execution_count": 89,
   "metadata": {
    "collapsed": false
   },
   "outputs": [
    {
     "name": "stdout",
     "output_type": "stream",
     "text": [
      "Prob Oregon St wins = 0.3792934340372269\n"
     ]
    }
   ],
   "source": [
    "predict(\"Oregon St\", \"VA Commonwealth\")"
   ]
  },
  {
   "cell_type": "code",
   "execution_count": 91,
   "metadata": {
    "collapsed": false
   },
   "outputs": [
    {
     "name": "stdout",
     "output_type": "stream",
     "text": [
      "Prob CS Bakersfield wins = 0.1734832407772047\n"
     ]
    }
   ],
   "source": [
    "predict(\"Oklahoma\", \"CS Bakersfield\")"
   ]
  },
  {
   "cell_type": "code",
   "execution_count": 93,
   "metadata": {
    "collapsed": false
   },
   "outputs": [
    {
     "name": "stdout",
     "output_type": "stream",
     "text": [
      "Prob FL Gulf Coast wins = 0.0712605749939159\n"
     ]
    }
   ],
   "source": [
    "predict(\"North Carolina\", \"FL Gulf Coast\")"
   ]
  },
  {
   "cell_type": "code",
   "execution_count": 94,
   "metadata": {
    "collapsed": false
   },
   "outputs": [
    {
     "name": "stdout",
     "output_type": "stream",
     "text": [
      "Prob Providence wins = 0.4486417828068277\n"
     ]
    }
   ],
   "source": [
    "predict(\"USC\", \"Providence\")"
   ]
  },
  {
   "cell_type": "code",
   "execution_count": 95,
   "metadata": {
    "collapsed": false
   },
   "outputs": [
    {
     "name": "stdout",
     "output_type": "stream",
     "text": [
      "Prob Chattanooga wins = 0.2674771813960147\n"
     ]
    }
   ],
   "source": [
    "predict(\"Indiana\", \"Chattanooga\")"
   ]
  },
  {
   "cell_type": "code",
   "execution_count": 96,
   "metadata": {
    "collapsed": false
   },
   "outputs": [
    {
     "name": "stdout",
     "output_type": "stream",
     "text": [
      "Prob Kentucky wins = 0.7375711631338883\n"
     ]
    }
   ],
   "source": [
    "predict(\"Kentucky\", \"Stony Brook\")"
   ]
  },
  {
   "cell_type": "code",
   "execution_count": 97,
   "metadata": {
    "collapsed": false
   },
   "outputs": [
    {
     "name": "stdout",
     "output_type": "stream",
     "text": [
      "Prob Michigan wins = 0.4110640588992481\n"
     ]
    }
   ],
   "source": [
    "predict(\"Notre Dame\", \"Michigan\")"
   ]
  },
  {
   "cell_type": "code",
   "execution_count": 98,
   "metadata": {
    "collapsed": false
   },
   "outputs": [
    {
     "name": "stdout",
     "output_type": "stream",
     "text": [
      "Prob Notre Dame wins = 0.6052660549384017\n"
     ]
    }
   ],
   "source": [
    "predict(\"Notre Dame\", \"Tulsa\")"
   ]
  },
  {
   "cell_type": "code",
   "execution_count": 99,
   "metadata": {
    "collapsed": false
   },
   "outputs": [
    {
     "name": "stdout",
     "output_type": "stream",
     "text": [
      "Prob Michigan wins = 0.5273746022585616\n"
     ]
    }
   ],
   "source": [
    "predict(\"Michigan\", \"Tulsa\")"
   ]
  },
  {
   "cell_type": "code",
   "execution_count": 101,
   "metadata": {
    "collapsed": false
   },
   "outputs": [
    {
     "name": "stdout",
     "output_type": "stream",
     "text": [
      "Prob SF Austin wins = 0.31874224187356354\n"
     ]
    }
   ],
   "source": [
    "predict(\"West Virginia\", \"SF Austin\")"
   ]
  },
  {
   "cell_type": "code",
   "execution_count": 102,
   "metadata": {
    "collapsed": false
   },
   "outputs": [
    {
     "name": "stdout",
     "output_type": "stream",
     "text": [
      "Prob Pittsburgh wins = 0.4293205466723489\n"
     ]
    }
   ],
   "source": [
    "predict(\"Wisconsin\", \"Pittsburgh\")"
   ]
  },
  {
   "cell_type": "code",
   "execution_count": 103,
   "metadata": {
    "collapsed": false
   },
   "outputs": [
    {
     "name": "stdout",
     "output_type": "stream",
     "text": [
      "Prob Weber St wins = 0.15215948093159012\n"
     ]
    }
   ],
   "source": [
    "predict(\"Xavier\", \"Weber St\")"
   ]
  },
  {
   "cell_type": "code",
   "execution_count": 104,
   "metadata": {
    "collapsed": false
   },
   "outputs": [
    {
     "name": "stdout",
     "output_type": "stream",
     "text": [
      "Prob Hampton wins = 0.09835147346506797\n"
     ]
    }
   ],
   "source": [
    "predict(\"Virginia\", \"Hampton\")"
   ]
  },
  {
   "cell_type": "code",
   "execution_count": 105,
   "metadata": {
    "collapsed": false
   },
   "outputs": [
    {
     "name": "stdout",
     "output_type": "stream",
     "text": [
      "Prob Butler wins = 0.5148837635091303\n"
     ]
    }
   ],
   "source": [
    "predict(\"Texas Tech\", \"Butler\")"
   ]
  },
  {
   "cell_type": "code",
   "execution_count": 107,
   "metadata": {
    "collapsed": false
   },
   "outputs": [
    {
     "name": "stdout",
     "output_type": "stream",
     "text": [
      "Prob Ark Little Rock wins = 0.29929034051140696\n"
     ]
    }
   ],
   "source": [
    "predict(\"Purdue\", \"Ark Little Rock\")"
   ]
  },
  {
   "cell_type": "code",
   "execution_count": 108,
   "metadata": {
    "collapsed": false
   },
   "outputs": [
    {
     "name": "stdout",
     "output_type": "stream",
     "text": [
      "Prob Iona wins = 0.2962629297480097\n"
     ]
    }
   ],
   "source": [
    "predict(\"Iowa St\", \"Iona\")"
   ]
  },
  {
   "cell_type": "code",
   "execution_count": 109,
   "metadata": {
    "collapsed": false
   },
   "outputs": [
    {
     "name": "stdout",
     "output_type": "stream",
     "text": [
      "Prob Gonzaga wins = 0.5382027003768602\n"
     ]
    }
   ],
   "source": [
    "predict(\"Seton Hall\", \"Gonzaga\")"
   ]
  },
  {
   "cell_type": "code",
   "execution_count": 111,
   "metadata": {
    "collapsed": false
   },
   "outputs": [
    {
     "name": "stdout",
     "output_type": "stream",
     "text": [
      "Prob Fresno St wins = 0.2491151705359578\n"
     ]
    }
   ],
   "source": [
    "predict(\"Utah\", \"Fresno St\")"
   ]
  },
  {
   "cell_type": "code",
   "execution_count": 112,
   "metadata": {
    "collapsed": false
   },
   "outputs": [
    {
     "name": "stdout",
     "output_type": "stream",
     "text": [
      "Prob Dayton wins = 0.4463938535072273\n"
     ]
    }
   ],
   "source": [
    "predict(\"Dayton\", \"Syracuse\")"
   ]
  },
  {
   "cell_type": "code",
   "execution_count": 122,
   "metadata": {
    "collapsed": false
   },
   "outputs": [
    {
     "name": "stdout",
     "output_type": "stream",
     "text": [
      "Prob Michigan St wins = 0.8790165062496355\n"
     ]
    }
   ],
   "source": [
    "predict(\"Michigan St\", \"MTSU\")"
   ]
  },
  {
   "cell_type": "markdown",
   "metadata": {},
   "source": [
    "# Round 2"
   ]
  },
  {
   "cell_type": "code",
   "execution_count": 126,
   "metadata": {
    "collapsed": false
   },
   "outputs": [
    {
     "name": "stdout",
     "output_type": "stream",
     "text": [
      "Prob Connecticut wins = 0.35599300014726604\n"
     ]
    }
   ],
   "source": [
    "predict(\"Kansas\", \"Connecticut\")"
   ]
  },
  {
   "cell_type": "code",
   "execution_count": 127,
   "metadata": {
    "collapsed": false
   },
   "outputs": [
    {
     "name": "stdout",
     "output_type": "stream",
     "text": [
      "Prob California wins = 0.4627936162597808\n"
     ]
    }
   ],
   "source": [
    "predict(\"Maryland\", \"California\")"
   ]
  },
  {
   "cell_type": "code",
   "execution_count": 129,
   "metadata": {
    "collapsed": false
   },
   "outputs": [
    {
     "name": "stdout",
     "output_type": "stream",
     "text": [
      "Prob Arizona wins = 0.5218626448346296\n"
     ]
    }
   ],
   "source": [
    "predict(\"Arizona\", \"Miami FL\")"
   ]
  },
  {
   "cell_type": "code",
   "execution_count": 130,
   "metadata": {
    "collapsed": false
   },
   "outputs": [
    {
     "name": "stdout",
     "output_type": "stream",
     "text": [
      "Prob Iowa wins = 0.3591633532861341\n"
     ]
    }
   ],
   "source": [
    "predict(\"Iowa\", \"Villanova\")"
   ]
  },
  {
   "cell_type": "code",
   "execution_count": 131,
   "metadata": {
    "collapsed": false
   },
   "outputs": [
    {
     "name": "stdout",
     "output_type": "stream",
     "text": [
      "Prob Oregon wins = 0.6653740366508829\n"
     ]
    }
   ],
   "source": [
    "predict(\"Oregon\", \"St Joseph's PA\")"
   ]
  },
  {
   "cell_type": "code",
   "execution_count": 132,
   "metadata": {
    "collapsed": false
   },
   "outputs": [
    {
     "name": "stdout",
     "output_type": "stream",
     "text": [
      "Prob Baylor wins = 0.426122745096762\n"
     ]
    }
   ],
   "source": [
    "predict(\"Baylor\", \"Duke\")"
   ]
  },
  {
   "cell_type": "code",
   "execution_count": 133,
   "metadata": {
    "collapsed": false
   },
   "outputs": [
    {
     "name": "stdout",
     "output_type": "stream",
     "text": [
      "Prob Texas wins = 0.3850465119471871\n"
     ]
    }
   ],
   "source": [
    "predict(\"Texas\", \"Texas A&M\")"
   ]
  },
  {
   "cell_type": "code",
   "execution_count": 134,
   "metadata": {
    "collapsed": false
   },
   "outputs": [
    {
     "name": "stdout",
     "output_type": "stream",
     "text": [
      "Prob Oklahoma wins = 0.6700460024292609\n"
     ]
    }
   ],
   "source": [
    "predict(\"VA Commonwealth\", \"Oklahoma\")"
   ]
  },
  {
   "cell_type": "code",
   "execution_count": 135,
   "metadata": {
    "collapsed": false
   },
   "outputs": [
    {
     "name": "stdout",
     "output_type": "stream",
     "text": [
      "Prob North Carolina wins = 0.788655232713093\n"
     ]
    }
   ],
   "source": [
    "predict(\"North Carolina\", \"USC\")"
   ]
  },
  {
   "cell_type": "code",
   "execution_count": 136,
   "metadata": {
    "collapsed": false
   },
   "outputs": [
    {
     "name": "stdout",
     "output_type": "stream",
     "text": [
      "Prob Indiana wins = 0.4836631444604916\n"
     ]
    }
   ],
   "source": [
    "predict(\"Indiana\", \"Kentucky\")"
   ]
  },
  {
   "cell_type": "code",
   "execution_count": 137,
   "metadata": {
    "collapsed": false
   },
   "outputs": [
    {
     "name": "stdout",
     "output_type": "stream",
     "text": [
      "Prob Notre Dame wins = 0.35472187261864324\n"
     ]
    }
   ],
   "source": [
    "predict(\"Notre Dame\", \"West Virginia\")"
   ]
  },
  {
   "cell_type": "code",
   "execution_count": 138,
   "metadata": {
    "collapsed": false
   },
   "outputs": [
    {
     "name": "stdout",
     "output_type": "stream",
     "text": [
      "Prob Wisconsin wins = 0.3676225944490881\n"
     ]
    }
   ],
   "source": [
    "predict(\"Wisconsin\", \"Xavier\")"
   ]
  },
  {
   "cell_type": "code",
   "execution_count": 139,
   "metadata": {
    "collapsed": false
   },
   "outputs": [
    {
     "name": "stdout",
     "output_type": "stream",
     "text": [
      "Prob Butler wins = 0.2940420499881084\n"
     ]
    }
   ],
   "source": [
    "predict(\"Virginia\", \"Butler\")"
   ]
  },
  {
   "cell_type": "code",
   "execution_count": 140,
   "metadata": {
    "collapsed": false
   },
   "outputs": [
    {
     "name": "stdout",
     "output_type": "stream",
     "text": [
      "Prob Iowa St wins = 0.4214912091285552\n"
     ]
    }
   ],
   "source": [
    "predict(\"Purdue\", \"Iowa St\")"
   ]
  },
  {
   "cell_type": "code",
   "execution_count": 141,
   "metadata": {
    "collapsed": false
   },
   "outputs": [
    {
     "name": "stdout",
     "output_type": "stream",
     "text": [
      "Prob Gonzaga wins = 0.4898563879414022\n"
     ]
    }
   ],
   "source": [
    "predict(\"Gonzaga\", \"Utah\")"
   ]
  },
  {
   "cell_type": "code",
   "execution_count": 142,
   "metadata": {
    "collapsed": false
   },
   "outputs": [
    {
     "name": "stdout",
     "output_type": "stream",
     "text": [
      "Prob Michigan St wins = 0.7180125658084807\n"
     ]
    }
   ],
   "source": [
    "predict(\"Syracuse\", \"Michigan St\")"
   ]
  },
  {
   "cell_type": "markdown",
   "metadata": {},
   "source": [
    "# Sweet 16"
   ]
  },
  {
   "cell_type": "code",
   "execution_count": 143,
   "metadata": {
    "collapsed": false
   },
   "outputs": [
    {
     "name": "stdout",
     "output_type": "stream",
     "text": [
      "Prob Kansas wins = 0.6226520819221649\n"
     ]
    }
   ],
   "source": [
    "predict(\"Kansas\", \"Maryland\")"
   ]
  },
  {
   "cell_type": "code",
   "execution_count": 144,
   "metadata": {
    "collapsed": false
   },
   "outputs": [
    {
     "name": "stdout",
     "output_type": "stream",
     "text": [
      "Prob Arizona wins = 0.4656446545645611\n"
     ]
    }
   ],
   "source": [
    "predict(\"Arizona\", \"Villanova\")"
   ]
  },
  {
   "cell_type": "code",
   "execution_count": 145,
   "metadata": {
    "collapsed": false
   },
   "outputs": [
    {
     "name": "stdout",
     "output_type": "stream",
     "text": [
      "Prob Duke wins = 0.4501281402998669\n"
     ]
    }
   ],
   "source": [
    "predict(\"Oregon\", \"Duke\")"
   ]
  },
  {
   "cell_type": "code",
   "execution_count": 146,
   "metadata": {
    "collapsed": false
   },
   "outputs": [
    {
     "name": "stdout",
     "output_type": "stream",
     "text": [
      "Prob Oklahoma wins = 0.5477797346501568\n"
     ]
    }
   ],
   "source": [
    "predict(\"Texas A&M\", \"Oklahoma\")"
   ]
  },
  {
   "cell_type": "code",
   "execution_count": 147,
   "metadata": {
    "collapsed": false
   },
   "outputs": [
    {
     "name": "stdout",
     "output_type": "stream",
     "text": [
      "Prob Kentucky wins = 0.44303447681993\n"
     ]
    }
   ],
   "source": [
    "predict(\"North Carolina\", \"Kentucky\")"
   ]
  },
  {
   "cell_type": "code",
   "execution_count": 148,
   "metadata": {
    "collapsed": false
   },
   "outputs": [
    {
     "name": "stdout",
     "output_type": "stream",
     "text": [
      "Prob West Virginia wins = 0.5137450785309433\n"
     ]
    }
   ],
   "source": [
    "predict(\"West Virginia\", \"Xavier\")"
   ]
  },
  {
   "cell_type": "code",
   "execution_count": 149,
   "metadata": {
    "collapsed": false
   },
   "outputs": [
    {
     "name": "stdout",
     "output_type": "stream",
     "text": [
      "Prob Purdue wins = 0.452807516573599\n"
     ]
    }
   ],
   "source": [
    "predict(\"Virginia\", \"Purdue\")"
   ]
  },
  {
   "cell_type": "code",
   "execution_count": 150,
   "metadata": {
    "collapsed": false
   },
   "outputs": [
    {
     "name": "stdout",
     "output_type": "stream",
     "text": [
      "Prob Michigan St wins = 0.5678446133991769\n"
     ]
    }
   ],
   "source": [
    "predict(\"Utah\", \"Michigan St\")"
   ]
  },
  {
   "cell_type": "markdown",
   "metadata": {},
   "source": [
    "# Elite Eight"
   ]
  },
  {
   "cell_type": "code",
   "execution_count": 151,
   "metadata": {
    "collapsed": false
   },
   "outputs": [
    {
     "name": "stdout",
     "output_type": "stream",
     "text": [
      "Prob Kansas wins = 0.5538326732127122\n"
     ]
    }
   ],
   "source": [
    "predict(\"Kansas\", \"Villanova\")"
   ]
  },
  {
   "cell_type": "code",
   "execution_count": 152,
   "metadata": {
    "collapsed": false
   },
   "outputs": [
    {
     "name": "stdout",
     "output_type": "stream",
     "text": [
      "Prob Oklahoma wins = 0.5033412128941851\n"
     ]
    }
   ],
   "source": [
    "predict(\"Oregon\", \"Oklahoma\")"
   ]
  },
  {
   "cell_type": "code",
   "execution_count": 153,
   "metadata": {
    "collapsed": false
   },
   "outputs": [
    {
     "name": "stdout",
     "output_type": "stream",
     "text": [
      "Prob North Carolina wins = 0.5440385208533702\n"
     ]
    }
   ],
   "source": [
    "predict(\"North Carolina\", \"West Virginia\")"
   ]
  },
  {
   "cell_type": "code",
   "execution_count": 154,
   "metadata": {
    "collapsed": false
   },
   "outputs": [
    {
     "name": "stdout",
     "output_type": "stream",
     "text": [
      "Prob Michigan St wins = 0.5016470116954636\n"
     ]
    }
   ],
   "source": [
    "predict(\"Virginia\", \"Michigan St\")"
   ]
  },
  {
   "cell_type": "markdown",
   "metadata": {},
   "source": [
    "# Final Four"
   ]
  },
  {
   "cell_type": "code",
   "execution_count": 156,
   "metadata": {
    "collapsed": false
   },
   "outputs": [
    {
     "name": "stdout",
     "output_type": "stream",
     "text": [
      "Prob Kansas wins = 0.5343875185030055\n"
     ]
    }
   ],
   "source": [
    "predict(\"Kansas\", \"Oklahoma\")"
   ]
  },
  {
   "cell_type": "code",
   "execution_count": 157,
   "metadata": {
    "collapsed": false
   },
   "outputs": [
    {
     "name": "stdout",
     "output_type": "stream",
     "text": [
      "Prob Michigan St wins = 0.4819507474098079\n"
     ]
    }
   ],
   "source": [
    "predict(\"North Carolina\", \"Michigan St\")"
   ]
  },
  {
   "cell_type": "markdown",
   "metadata": {},
   "source": [
    "# Final"
   ]
  },
  {
   "cell_type": "code",
   "execution_count": 158,
   "metadata": {
    "collapsed": false
   },
   "outputs": [
    {
     "name": "stdout",
     "output_type": "stream",
     "text": [
      "Prob Kansas wins = 0.4755766266486044\n"
     ]
    }
   ],
   "source": [
    "predict(\"Kansas\", \"North Carolina\")"
   ]
  },
  {
   "cell_type": "code",
   "execution_count": null,
   "metadata": {
    "collapsed": true
   },
   "outputs": [],
   "source": []
  }
 ],
 "metadata": {
  "kernelspec": {
   "display_name": "Python 3",
   "language": "python",
   "name": "python3"
  },
  "language_info": {
   "codemirror_mode": {
    "name": "ipython",
    "version": 3
   },
   "file_extension": ".py",
   "mimetype": "text/x-python",
   "name": "python",
   "nbconvert_exporter": "python",
   "pygments_lexer": "ipython3",
   "version": "3.5.1"
  }
 },
 "nbformat": 4,
 "nbformat_minor": 0
}
