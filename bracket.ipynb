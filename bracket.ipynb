{
 "cells": [
  {
   "cell_type": "code",
   "execution_count": 2,
   "metadata": {
    "collapsed": false
   },
   "outputs": [],
   "source": [
    "import pandas as pd\n",
    "import numpy as np\n",
    "\n",
    "teams_df = pd.read_csv('data/Teams.csv')\n",
    "team_name = dict(zip(teams_df['Team_Id'].values, teams_df['Team_Name'].values))\n",
    "team_id = dict(zip(teams_df['Team_Name'].values, teams_df['Team_Id'].values))\n",
    "\n",
    "df = pd.read_csv('data/ensemble6000.csv')\n",
    "df_small = pd.read_csv('data/ensemble.csv')"
   ]
  },
  {
   "cell_type": "code",
   "execution_count": 37,
   "metadata": {
    "collapsed": false
   },
   "outputs": [],
   "source": [
    "# teams_df['Team_Name'][0:60]"
   ]
  },
  {
   "cell_type": "code",
   "execution_count": 38,
   "metadata": {
    "collapsed": false
   },
   "outputs": [],
   "source": [
    "# teams_df['Team_Name'][60:120]"
   ]
  },
  {
   "cell_type": "code",
   "execution_count": 39,
   "metadata": {
    "collapsed": false
   },
   "outputs": [],
   "source": [
    "# teams_df['Team_Name'][120:180]"
   ]
  },
  {
   "cell_type": "code",
   "execution_count": 40,
   "metadata": {
    "collapsed": false
   },
   "outputs": [],
   "source": [
    "# teams_df['Team_Name'][180:240]"
   ]
  },
  {
   "cell_type": "code",
   "execution_count": 41,
   "metadata": {
    "collapsed": false
   },
   "outputs": [],
   "source": [
    "# teams_df['Team_Name'][240:300]"
   ]
  },
  {
   "cell_type": "code",
   "execution_count": 42,
   "metadata": {
    "collapsed": false
   },
   "outputs": [],
   "source": [
    "# teams_df['Team_Name'][300:360]"
   ]
  },
  {
   "cell_type": "code",
   "execution_count": 43,
   "metadata": {
    "collapsed": false
   },
   "outputs": [],
   "source": [
    "# teams_df['Team_Name'][360:]"
   ]
  },
  {
   "cell_type": "code",
   "execution_count": 44,
   "metadata": {
    "collapsed": false
   },
   "outputs": [],
   "source": [
    "# teams_df['Team_Id'][276]"
   ]
  },
  {
   "cell_type": "code",
   "execution_count": 45,
   "metadata": {
    "collapsed": false
   },
   "outputs": [],
   "source": [
    "# df.columns"
   ]
  },
  {
   "cell_type": "code",
   "execution_count": 12,
   "metadata": {
    "collapsed": false
   },
   "outputs": [],
   "source": [
    "def get_season(Id):\n",
    "    return np.int64(Id.split(\"_\")[0])\n",
    "def get_team0(Id):\n",
    "    return np.int64(Id.split(\"_\")[1])\n",
    "def get_team1(Id):\n",
    "    return np.int64(Id.split(\"_\")[2])\n",
    "\n",
    "# UNCOMMENT THESE LINES IF YOU WANT TO REGENERATE THE SUBMISSION FEATURES FROM SCRATCH\n",
    "df['team0'] = df['Id'].apply(get_team0)\n",
    "df['team1'] = df['Id'].apply(get_team1)\n",
    "df_small['team0'] = df_small['Id'].apply(get_team0)\n",
    "df_small['team1'] = df_small['Id'].apply(get_team1)"
   ]
  },
  {
   "cell_type": "code",
   "execution_count": 13,
   "metadata": {
    "collapsed": true
   },
   "outputs": [],
   "source": [
    "def predict(team0, team1):\n",
    "    id0 = team_id[team0]\n",
    "    id1 = team_id[team1]\n",
    "    t0 = min(id0, id1)\n",
    "    t1 = max(id0, id1)\n",
    "    game = df[(df['team0']==t0)  & (df['team1']==t1)]\n",
    "    game_small = df_small[(df_small['team0']==t0)  & (df_small['team1']==t1)]\n",
    "    print(\"1) Prob {0} wins = {1}\".format(team_name[t0], game['Pred'].values[0]))\n",
    "    print(\"2) Prob {0} wins = {1}\".format(team_name[t0], game_small['Pred'].values[0]))"
   ]
  },
  {
   "cell_type": "code",
   "execution_count": 46,
   "metadata": {
    "collapsed": false
   },
   "outputs": [],
   "source": [
    "# ids = df['team0'].unique()\n",
    "# [team_name[i] for i in ids]"
   ]
  },
  {
   "cell_type": "markdown",
   "metadata": {},
   "source": [
    "# Round of 32"
   ]
  },
  {
   "cell_type": "code",
   "execution_count": 15,
   "metadata": {
    "collapsed": false
   },
   "outputs": [
    {
     "name": "stdout",
     "output_type": "stream",
     "text": [
      "1) Prob Connecticut wins = 0.355993000147\n",
      "2) Prob Connecticut wins = 0.277422020048\n"
     ]
    }
   ],
   "source": [
    "predict(\"Kansas\", \"Connecticut\")"
   ]
  },
  {
   "cell_type": "code",
   "execution_count": 16,
   "metadata": {
    "collapsed": false
   },
   "outputs": [
    {
     "name": "stdout",
     "output_type": "stream",
     "text": [
      "1) Prob Hawaii wins = 0.280718451768\n",
      "2) Prob Hawaii wins = 0.247351993681\n"
     ]
    }
   ],
   "source": [
    "predict(\"Maryland\", \"Hawaii\")"
   ]
  },
  {
   "cell_type": "code",
   "execution_count": 18,
   "metadata": {
    "collapsed": false
   },
   "outputs": [
    {
     "name": "stdout",
     "output_type": "stream",
     "text": [
      "1) Prob Miami FL wins = 0.614794703316\n",
      "2) Prob Miami FL wins = 0.659821721377\n"
     ]
    }
   ],
   "source": [
    "predict(\"Wichita St\", \"Miami FL\")"
   ]
  },
  {
   "cell_type": "code",
   "execution_count": 19,
   "metadata": {
    "collapsed": false
   },
   "outputs": [
    {
     "name": "stdout",
     "output_type": "stream",
     "text": [
      "1) Prob Iowa wins = 0.359163353286\n",
      "2) Prob Iowa wins = 0.33147082134\n"
     ]
    }
   ],
   "source": [
    "predict(\"Iowa\", \"Villanova\")"
   ]
  },
  {
   "cell_type": "code",
   "execution_count": 20,
   "metadata": {
    "collapsed": false
   },
   "outputs": [
    {
     "name": "stdout",
     "output_type": "stream",
     "text": [
      "1) Prob Oregon wins = 0.665374036651\n",
      "2) Prob Oregon wins = 0.729268504306\n"
     ]
    }
   ],
   "source": [
    "predict(\"Oregon\", \"St Joseph's PA\")"
   ]
  },
  {
   "cell_type": "code",
   "execution_count": 21,
   "metadata": {
    "collapsed": false
   },
   "outputs": [
    {
     "name": "stdout",
     "output_type": "stream",
     "text": [
      "1) Prob Duke wins = 0.635268983134\n",
      "2) Prob Duke wins = 0.744713908673\n"
     ]
    }
   ],
   "source": [
    "predict(\"Yale\", \"Duke\")"
   ]
  },
  {
   "cell_type": "code",
   "execution_count": 23,
   "metadata": {
    "collapsed": false
   },
   "outputs": [
    {
     "name": "stdout",
     "output_type": "stream",
     "text": [
      "1) Prob Northern Iowa wins = 0.300685471713\n",
      "2) Prob Northern Iowa wins = 0.175071612516\n"
     ]
    }
   ],
   "source": [
    "predict(\"Northern Iowa\", \"Texas A&M\")"
   ]
  },
  {
   "cell_type": "code",
   "execution_count": 25,
   "metadata": {
    "collapsed": false
   },
   "outputs": [
    {
     "name": "stdout",
     "output_type": "stream",
     "text": [
      "1) Prob Oklahoma wins = 0.670046002429\n",
      "2) Prob Oklahoma wins = 0.769223533646\n"
     ]
    }
   ],
   "source": [
    "predict(\"VA Commonwealth\", \"Oklahoma\")"
   ]
  },
  {
   "cell_type": "code",
   "execution_count": 26,
   "metadata": {
    "collapsed": false
   },
   "outputs": [
    {
     "name": "stdout",
     "output_type": "stream",
     "text": [
      "1) Prob North Carolina wins = 0.781133059355\n",
      "2) Prob North Carolina wins = 0.857339836132\n"
     ]
    }
   ],
   "source": [
    "predict(\"North Carolina\", \"Providence\")"
   ]
  },
  {
   "cell_type": "code",
   "execution_count": 27,
   "metadata": {
    "collapsed": false
   },
   "outputs": [
    {
     "name": "stdout",
     "output_type": "stream",
     "text": [
      "1) Prob Indiana wins = 0.48366314446\n",
      "2) Prob Indiana wins = 0.466286618123\n"
     ]
    }
   ],
   "source": [
    "predict(\"Indiana\", \"Kentucky\")"
   ]
  },
  {
   "cell_type": "code",
   "execution_count": 29,
   "metadata": {
    "collapsed": false
   },
   "outputs": [
    {
     "name": "stdout",
     "output_type": "stream",
     "text": [
      "1) Prob Notre Dame wins = 0.53141977113\n",
      "2) Prob Notre Dame wins = 0.627965931418\n"
     ]
    }
   ],
   "source": [
    "predict(\"Notre Dame\", \"SF Austin\")"
   ]
  },
  {
   "cell_type": "code",
   "execution_count": 30,
   "metadata": {
    "collapsed": false
   },
   "outputs": [
    {
     "name": "stdout",
     "output_type": "stream",
     "text": [
      "1) Prob Wisconsin wins = 0.367622594449\n",
      "2) Prob Wisconsin wins = 0.342780056948\n"
     ]
    }
   ],
   "source": [
    "predict(\"Wisconsin\", \"Xavier\")"
   ]
  },
  {
   "cell_type": "code",
   "execution_count": 31,
   "metadata": {
    "collapsed": false
   },
   "outputs": [
    {
     "name": "stdout",
     "output_type": "stream",
     "text": [
      "1) Prob Butler wins = 0.294042049988\n",
      "2) Prob Butler wins = 0.2578719419\n"
     ]
    }
   ],
   "source": [
    "predict(\"Virginia\", \"Butler\")"
   ]
  },
  {
   "cell_type": "code",
   "execution_count": 34,
   "metadata": {
    "collapsed": false
   },
   "outputs": [
    {
     "name": "stdout",
     "output_type": "stream",
     "text": [
      "1) Prob Ark Little Rock wins = 0.324851245154\n",
      "2) Prob Ark Little Rock wins = 0.382381453604\n"
     ]
    }
   ],
   "source": [
    "predict(\"Ark Little Rock\", \"Iowa St\")"
   ]
  },
  {
   "cell_type": "code",
   "execution_count": 35,
   "metadata": {
    "collapsed": false
   },
   "outputs": [
    {
     "name": "stdout",
     "output_type": "stream",
     "text": [
      "1) Prob Gonzaga wins = 0.489856387941\n",
      "2) Prob Gonzaga wins = 0.422792639117\n"
     ]
    }
   ],
   "source": [
    "predict(\"Gonzaga\", \"Utah\")"
   ]
  },
  {
   "cell_type": "code",
   "execution_count": 36,
   "metadata": {
    "collapsed": false
   },
   "outputs": [
    {
     "name": "stdout",
     "output_type": "stream",
     "text": [
      "1) Prob MTSU wins = 0.268205355235\n",
      "2) Prob MTSU wins = 0.27067371818\n"
     ]
    }
   ],
   "source": [
    "predict(\"Syracuse\", \"MTSU\")"
   ]
  },
  {
   "cell_type": "markdown",
   "metadata": {},
   "source": [
    "# Sweet 16"
   ]
  },
  {
   "cell_type": "code",
   "execution_count": 172,
   "metadata": {
    "collapsed": false
   },
   "outputs": [
    {
     "name": "stdout",
     "output_type": "stream",
     "text": [
      "1) Prob Kansas wins = 0.622652081922\n",
      "2) Prob Kansas wins = 0.838832376223\n"
     ]
    }
   ],
   "source": [
    "predict(\"Kansas\", \"Maryland\")"
   ]
  },
  {
   "cell_type": "code",
   "execution_count": 173,
   "metadata": {
    "collapsed": false
   },
   "outputs": [
    {
     "name": "stdout",
     "output_type": "stream",
     "text": [
      "1) Prob Arizona wins = 0.465644654565\n",
      "2) Prob Arizona wins = 0.425272442114\n"
     ]
    }
   ],
   "source": [
    "predict(\"Arizona\", \"Villanova\")"
   ]
  },
  {
   "cell_type": "code",
   "execution_count": 174,
   "metadata": {
    "collapsed": false
   },
   "outputs": [
    {
     "name": "stdout",
     "output_type": "stream",
     "text": [
      "1) Prob Duke wins = 0.4501281403\n",
      "2) Prob Duke wins = 0.430293589771\n"
     ]
    }
   ],
   "source": [
    "predict(\"Oregon\", \"Duke\")"
   ]
  },
  {
   "cell_type": "code",
   "execution_count": 175,
   "metadata": {
    "collapsed": false
   },
   "outputs": [
    {
     "name": "stdout",
     "output_type": "stream",
     "text": [
      "1) Prob Oklahoma wins = 0.54777973465\n",
      "2) Prob Oklahoma wins = 0.631932370458\n"
     ]
    }
   ],
   "source": [
    "predict(\"Texas A&M\", \"Oklahoma\")"
   ]
  },
  {
   "cell_type": "code",
   "execution_count": 176,
   "metadata": {
    "collapsed": false
   },
   "outputs": [
    {
     "name": "stdout",
     "output_type": "stream",
     "text": [
      "1) Prob Kentucky wins = 0.44303447682\n",
      "2) Prob Kentucky wins = 0.386650994098\n"
     ]
    }
   ],
   "source": [
    "predict(\"North Carolina\", \"Kentucky\")"
   ]
  },
  {
   "cell_type": "code",
   "execution_count": 177,
   "metadata": {
    "collapsed": false
   },
   "outputs": [
    {
     "name": "stdout",
     "output_type": "stream",
     "text": [
      "1) Prob West Virginia wins = 0.513745078531\n",
      "2) Prob West Virginia wins = 0.574649218253\n"
     ]
    }
   ],
   "source": [
    "predict(\"West Virginia\", \"Xavier\")"
   ]
  },
  {
   "cell_type": "code",
   "execution_count": 178,
   "metadata": {
    "collapsed": false
   },
   "outputs": [
    {
     "name": "stdout",
     "output_type": "stream",
     "text": [
      "1) Prob Purdue wins = 0.452807516574\n",
      "2) Prob Purdue wins = 0.478500773382\n"
     ]
    }
   ],
   "source": [
    "predict(\"Virginia\", \"Purdue\")"
   ]
  },
  {
   "cell_type": "code",
   "execution_count": 179,
   "metadata": {
    "collapsed": false
   },
   "outputs": [
    {
     "name": "stdout",
     "output_type": "stream",
     "text": [
      "1) Prob Michigan St wins = 0.567844613399\n",
      "2) Prob Michigan St wins = 0.728485556684\n"
     ]
    }
   ],
   "source": [
    "predict(\"Utah\", \"Michigan St\")"
   ]
  },
  {
   "cell_type": "markdown",
   "metadata": {},
   "source": [
    "# Elite Eight"
   ]
  },
  {
   "cell_type": "code",
   "execution_count": 180,
   "metadata": {
    "collapsed": false
   },
   "outputs": [
    {
     "name": "stdout",
     "output_type": "stream",
     "text": [
      "1) Prob Kansas wins = 0.553832673213\n",
      "2) Prob Kansas wins = 0.732370805716\n"
     ]
    }
   ],
   "source": [
    "predict(\"Kansas\", \"Villanova\")"
   ]
  },
  {
   "cell_type": "code",
   "execution_count": 181,
   "metadata": {
    "collapsed": false
   },
   "outputs": [
    {
     "name": "stdout",
     "output_type": "stream",
     "text": [
      "1) Prob Oklahoma wins = 0.503341212894\n",
      "2) Prob Oklahoma wins = 0.550643148573\n"
     ]
    }
   ],
   "source": [
    "predict(\"Oregon\", \"Oklahoma\")"
   ]
  },
  {
   "cell_type": "code",
   "execution_count": 182,
   "metadata": {
    "collapsed": false
   },
   "outputs": [
    {
     "name": "stdout",
     "output_type": "stream",
     "text": [
      "1) Prob North Carolina wins = 0.544038520853\n",
      "2) Prob North Carolina wins = 0.655090505584\n"
     ]
    }
   ],
   "source": [
    "predict(\"North Carolina\", \"West Virginia\")"
   ]
  },
  {
   "cell_type": "code",
   "execution_count": 183,
   "metadata": {
    "collapsed": false
   },
   "outputs": [
    {
     "name": "stdout",
     "output_type": "stream",
     "text": [
      "1) Prob Michigan St wins = 0.501647011695\n",
      "2) Prob Michigan St wins = 0.665335403761\n"
     ]
    }
   ],
   "source": [
    "predict(\"Virginia\", \"Michigan St\")"
   ]
  },
  {
   "cell_type": "markdown",
   "metadata": {},
   "source": [
    "# Final Four"
   ]
  },
  {
   "cell_type": "code",
   "execution_count": 184,
   "metadata": {
    "collapsed": false
   },
   "outputs": [
    {
     "name": "stdout",
     "output_type": "stream",
     "text": [
      "1) Prob Kansas wins = 0.534387518503\n",
      "2) Prob Kansas wins = 0.781784580732\n"
     ]
    }
   ],
   "source": [
    "predict(\"Kansas\", \"Oklahoma\")"
   ]
  },
  {
   "cell_type": "code",
   "execution_count": 185,
   "metadata": {
    "collapsed": false
   },
   "outputs": [
    {
     "name": "stdout",
     "output_type": "stream",
     "text": [
      "1) Prob Michigan St wins = 0.48195074741\n",
      "2) Prob Michigan St wins = 0.513776834062\n"
     ]
    }
   ],
   "source": [
    "predict(\"North Carolina\", \"Michigan St\")"
   ]
  },
  {
   "cell_type": "markdown",
   "metadata": {},
   "source": [
    "# Final"
   ]
  },
  {
   "cell_type": "code",
   "execution_count": 186,
   "metadata": {
    "collapsed": false
   },
   "outputs": [
    {
     "name": "stdout",
     "output_type": "stream",
     "text": [
      "1) Prob Kansas wins = 0.475576626649\n",
      "2) Prob Kansas wins = 0.613365847719\n"
     ]
    }
   ],
   "source": [
    "predict(\"Kansas\", \"North Carolina\")"
   ]
  }
 ],
 "metadata": {
  "kernelspec": {
   "display_name": "Python 2",
   "language": "python",
   "name": "python2"
  },
  "language_info": {
   "codemirror_mode": {
    "name": "ipython",
    "version": 2
   },
   "file_extension": ".py",
   "mimetype": "text/x-python",
   "name": "python",
   "nbconvert_exporter": "python",
   "pygments_lexer": "ipython2",
   "version": "2.7.10"
  }
 },
 "nbformat": 4,
 "nbformat_minor": 0
}
